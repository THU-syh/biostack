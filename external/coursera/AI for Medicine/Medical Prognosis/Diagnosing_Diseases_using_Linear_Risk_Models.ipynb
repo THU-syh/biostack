{
  "nbformat": 4,
  "nbformat_minor": 0,
  "metadata": {
    "colab": {
      "name": "Diagnosing Diseases using Linear Risk Models.ipynb",
      "provenance": [],
      "collapsed_sections": [],
      "machine_shape": "hm"
    },
    "kernelspec": {
      "name": "python3",
      "display_name": "Python 3"
    },
    "accelerator": "GPU"
  },
  "cells": [
    {
      "cell_type": "code",
      "metadata": {
        "id": "E2SfKVR8-6Do",
        "colab_type": "code",
        "colab": {}
      },
      "source": [
        "import numpy as np\n",
        "import pandas as pd\n",
        "import matplotlib.pyplot as plt"
      ],
      "execution_count": 0,
      "outputs": []
    },
    {
      "cell_type": "code",
      "metadata": {
        "id": "YkbHywpk_cnB",
        "colab_type": "code",
        "colab": {
          "base_uri": "https://localhost:8080/",
          "height": 228
        },
        "outputId": "4ee1dd6a-0c36-4fa8-e4cc-be76c946a8e6"
      },
      "source": [
        "!wget https://raw.githubusercontent.com/ChanchalKumarMaji/AI-for-Medicine-Specialization-deeplearning.ai/master/AI%20for%20Medical%20Prognosis/Week%201/utils.py"
      ],
      "execution_count": 4,
      "outputs": [
        {
          "output_type": "stream",
          "text": [
            "--2020-06-14 22:45:33--  https://raw.githubusercontent.com/ChanchalKumarMaji/AI-for-Medicine-Specialization-deeplearning.ai/master/AI%20for%20Medical%20Prognosis/Week%201/utils.py\n",
            "Resolving raw.githubusercontent.com (raw.githubusercontent.com)... 151.101.0.133, 151.101.64.133, 151.101.128.133, ...\n",
            "Connecting to raw.githubusercontent.com (raw.githubusercontent.com)|151.101.0.133|:443... connected.\n",
            "HTTP request sent, awaiting response... 200 OK\n",
            "Length: 1214 (1.2K) [text/plain]\n",
            "Saving to: ‘utils.py’\n",
            "\n",
            "\rutils.py              0%[                    ]       0  --.-KB/s               \rutils.py            100%[===================>]   1.19K  --.-KB/s    in 0s      \n",
            "\n",
            "2020-06-14 22:45:33 (97.1 MB/s) - ‘utils.py’ saved [1214/1214]\n",
            "\n"
          ],
          "name": "stdout"
        }
      ]
    },
    {
      "cell_type": "code",
      "metadata": {
        "id": "M4tGNnwpAZtE",
        "colab_type": "code",
        "colab": {}
      },
      "source": [
        "from utils import load_data\n",
        "\n",
        "X, y = load_data(6000)"
      ],
      "execution_count": 0,
      "outputs": []
    },
    {
      "cell_type": "code",
      "metadata": {
        "id": "MBLuj4SWAs1Y",
        "colab_type": "code",
        "colab": {
          "base_uri": "https://localhost:8080/",
          "height": 206
        },
        "outputId": "f3868f55-ebef-4155-ffb6-020cb976d5aa"
      },
      "source": [
        "X.head()"
      ],
      "execution_count": 6,
      "outputs": [
        {
          "output_type": "execute_result",
          "data": {
            "text/html": [
              "<div>\n",
              "<style scoped>\n",
              "    .dataframe tbody tr th:only-of-type {\n",
              "        vertical-align: middle;\n",
              "    }\n",
              "\n",
              "    .dataframe tbody tr th {\n",
              "        vertical-align: top;\n",
              "    }\n",
              "\n",
              "    .dataframe thead th {\n",
              "        text-align: right;\n",
              "    }\n",
              "</style>\n",
              "<table border=\"1\" class=\"dataframe\">\n",
              "  <thead>\n",
              "    <tr style=\"text-align: right;\">\n",
              "      <th></th>\n",
              "      <th>Age</th>\n",
              "      <th>Systolic_BP</th>\n",
              "      <th>Diastolic_BP</th>\n",
              "      <th>Cholesterol</th>\n",
              "    </tr>\n",
              "  </thead>\n",
              "  <tbody>\n",
              "    <tr>\n",
              "      <th>0</th>\n",
              "      <td>77.196340</td>\n",
              "      <td>79.606869</td>\n",
              "      <td>78.027827</td>\n",
              "      <td>87.853178</td>\n",
              "    </tr>\n",
              "    <tr>\n",
              "      <th>1</th>\n",
              "      <td>63.529850</td>\n",
              "      <td>110.766670</td>\n",
              "      <td>88.289254</td>\n",
              "      <td>95.179780</td>\n",
              "    </tr>\n",
              "    <tr>\n",
              "      <th>2</th>\n",
              "      <td>69.003986</td>\n",
              "      <td>99.472460</td>\n",
              "      <td>105.407777</td>\n",
              "      <td>117.624365</td>\n",
              "    </tr>\n",
              "    <tr>\n",
              "      <th>3</th>\n",
              "      <td>82.638210</td>\n",
              "      <td>89.290826</td>\n",
              "      <td>77.863073</td>\n",
              "      <td>94.835185</td>\n",
              "    </tr>\n",
              "    <tr>\n",
              "      <th>4</th>\n",
              "      <td>78.346286</td>\n",
              "      <td>95.732701</td>\n",
              "      <td>86.459722</td>\n",
              "      <td>110.671407</td>\n",
              "    </tr>\n",
              "  </tbody>\n",
              "</table>\n",
              "</div>"
            ],
            "text/plain": [
              "         Age  Systolic_BP  Diastolic_BP  Cholesterol\n",
              "0  77.196340    79.606869     78.027827    87.853178\n",
              "1  63.529850   110.766670     88.289254    95.179780\n",
              "2  69.003986    99.472460    105.407777   117.624365\n",
              "3  82.638210    89.290826     77.863073    94.835185\n",
              "4  78.346286    95.732701     86.459722   110.671407"
            ]
          },
          "metadata": {
            "tags": []
          },
          "execution_count": 6
        }
      ]
    },
    {
      "cell_type": "code",
      "metadata": {
        "id": "3RY0LvxoA7Wk",
        "colab_type": "code",
        "colab": {
          "base_uri": "https://localhost:8080/",
          "height": 121
        },
        "outputId": "a379d66d-85bf-470e-a35e-8022b885bacf"
      },
      "source": [
        "y.head()"
      ],
      "execution_count": 7,
      "outputs": [
        {
          "output_type": "execute_result",
          "data": {
            "text/plain": [
              "0    1.0\n",
              "1    1.0\n",
              "2    1.0\n",
              "3    1.0\n",
              "4    1.0\n",
              "Name: y, dtype: float64"
            ]
          },
          "metadata": {
            "tags": []
          },
          "execution_count": 7
        }
      ]
    },
    {
      "cell_type": "code",
      "metadata": {
        "id": "CwfTSayTA-Zy",
        "colab_type": "code",
        "colab": {}
      },
      "source": [
        "from sklearn.model_selection import train_test_split"
      ],
      "execution_count": 0,
      "outputs": []
    },
    {
      "cell_type": "code",
      "metadata": {
        "id": "ceDW6mVtBDzi",
        "colab_type": "code",
        "colab": {}
      },
      "source": [
        "X_train_raw, X_test_raw, y_train, y_test = train_test_split(X, y, train_size=0.75)"
      ],
      "execution_count": 0,
      "outputs": []
    },
    {
      "cell_type": "code",
      "metadata": {
        "id": "7ZCqAh_RBKd7",
        "colab_type": "code",
        "colab": {
          "base_uri": "https://localhost:8080/",
          "height": 1000
        },
        "outputId": "f1b1bcbc-01a1-46ed-83c5-bccfc59bc945"
      },
      "source": [
        "for col in X.columns:\n",
        "    X_train_raw.loc[:, col].hist()\n",
        "    plt.title(col)\n",
        "    plt.show()"
      ],
      "execution_count": 10,
      "outputs": [
        {
          "output_type": "display_data",
          "data": {
            "image/png": "[encoded data removed]",
            "text/plain": [
              "<Figure size 432x288 with 1 Axes>"
            ]
          },
          "metadata": {
            "tags": [],
            "needs_background": "light"
          }
        },
        {
          "output_type": "display_data",
          "data": {
            "image/png": "[encoded data removed]",
            "text/plain": [
              "<Figure size 432x288 with 1 Axes>"
            ]
          },
          "metadata": {
            "tags": [],
            "needs_background": "light"
          }
        },
        {
          "output_type": "display_data",
          "data": {
            "image/png": "[encoded data removed]",
            "text/plain": [
              "<Figure size 432x288 with 1 Axes>"
            ]
          },
          "metadata": {
            "tags": [],
            "needs_background": "light"
          }
        },
        {
          "output_type": "display_data",
          "data": {
            "image/png": "[encoded data removed]",
            "text/plain": [
              "<Figure size 432x288 with 1 Axes>"
            ]
          },
          "metadata": {
            "tags": [],
            "needs_background": "light"
          }
        }
      ]
    },
    {
      "cell_type": "code",
      "metadata": {
        "id": "gEAP-9CaBRzr",
        "colab_type": "code",
        "colab": {
          "base_uri": "https://localhost:8080/",
          "height": 281
        },
        "outputId": "8ae777ec-9367-4c06-fd5f-ce6e258c2a67"
      },
      "source": [
        "from scipy.stats import norm\n",
        "\n",
        "data = np.random.normal(50, 12, 5000)\n",
        "fitting_params = norm.fit(data)\n",
        "\n",
        "norm_dist_fitted = norm(*fitting_params)\n",
        "t = np.linspace(0, 100, 100)\n",
        "\n",
        "plt.hist(data, bins=60, density=True)\n",
        "plt.plot(t, norm_dist_fitted.pdf(t))\n",
        "plt.title('Example of Normally Distributed Data')\n",
        "plt.show()"
      ],
      "execution_count": 11,
      "outputs": [
        {
          "output_type": "display_data",
          "data": {
            "image/png": "[encoded data removed]",
            "text/plain": [
              "<Figure size 432x288 with 1 Axes>"
            ]
          },
          "metadata": {
            "tags": [],
            "needs_background": "light"
          }
        }
      ]
    },
    {
      "cell_type": "code",
      "metadata": {
        "id": "HrYmhvMVB1fs",
        "colab_type": "code",
        "colab": {
          "base_uri": "https://localhost:8080/",
          "height": 1000
        },
        "outputId": "a747822f-35e9-4c20-cee1-0e1c4577e377"
      },
      "source": [
        "for col in X_train_raw.columns:\n",
        "    np.log(X_train_raw.loc[:, col]).hist()\n",
        "    plt.title(col)\n",
        "    plt.show()"
      ],
      "execution_count": 12,
      "outputs": [
        {
          "output_type": "display_data",
          "data": {
            "image/png": "[encoded data removed]",
            "text/plain": [
              "<Figure size 432x288 with 1 Axes>"
            ]
          },
          "metadata": {
            "tags": [],
            "needs_background": "light"
          }
        },
        {
          "output_type": "display_data",
          "data": {
            "image/png": "[encoded data removed]",
            "text/plain": [
              "<Figure size 432x288 with 1 Axes>"
            ]
          },
          "metadata": {
            "tags": [],
            "needs_background": "light"
          }
        },
        {
          "output_type": "display_data",
          "data": {
            "image/png": "[encoded data removed]",
            "text/plain": [
              "<Figure size 432x288 with 1 Axes>"
            ]
          },
          "metadata": {
            "tags": [],
            "needs_background": "light"
          }
        },
        {
          "output_type": "display_data",
          "data": {
            "image/png": "[encoded data removed]",
            "text/plain": [
              "<Figure size 432x288 with 1 Axes>"
            ]
          },
          "metadata": {
            "tags": [],
            "needs_background": "light"
          }
        }
      ]
    },
    {
      "cell_type": "code",
      "metadata": {
        "id": "BB5E1nYqCDZE",
        "colab_type": "code",
        "colab": {}
      },
      "source": [
        "def make_standard_normal(df_train, df_test):\n",
        "    # Remove skew by applying the log function to the train set, and to the test set\n",
        "    df_train_unskewed = np.log(df_train)\n",
        "    df_test_unskewed = np.log(df_test)\n",
        "\n",
        "    # calculate the mean and standard deviation of the training set\n",
        "    mean = df_train_unskewed.mean(axis=0)\n",
        "    stdev = df_train_unskewed.std(axis=0)\n",
        "\n",
        "    # standardize the training set\n",
        "    df_train_standardized = (df_train_unskewed - mean) / stdev\n",
        "\n",
        "    # standardize the test set\n",
        "    df_test_standardized = (df_test_unskewed - mean) / stdev\n",
        "\n",
        "    return df_train_standardized, df_test_standardized"
      ],
      "execution_count": 0,
      "outputs": []
    },
    {
      "cell_type": "code",
      "metadata": {
        "id": "lXvnLDnnC5_b",
        "colab_type": "code",
        "colab": {
          "base_uri": "https://localhost:8080/",
          "height": 121
        },
        "outputId": "e76d01d2-4a6f-4244-eb2f-fc9ab951b4e9"
      },
      "source": [
        "# test \n",
        "tmp_train = pd.DataFrame({'field1': [1,2,10], 'field2': [4,5,11]})\n",
        "tmp_test = pd.DataFrame({'field1': [1,3,10], 'field2': [4,6,11]})\n",
        "tmp_train_transformed, tmp_test_transformed = make_standard_normal(tmp_train, tmp_test)\n",
        "\n",
        "print(f\"Training set transformed field1 has mean {tmp_train_transformed['field1'].mean(axis=0):.4f} and standard deviation {tmp_train_transformed['field1'].std(axis=0):.4f} \")\n",
        "print(f\"Test set transformed, field1 has mean {tmp_test_transformed['field1'].mean(axis=0):.4f} and standard deviation {tmp_test_transformed['field1'].std(axis=0):.4f}\")\n",
        "print(f\"Skew of training set field1 before transformation: {tmp_train['field1'].skew(axis=0):.4f}\")\n",
        "print(f\"Skew of training set field1 after transformation: {tmp_train_transformed['field1'].skew(axis=0):.4f}\")\n",
        "print(f\"Skew of test set field1 before transformation: {tmp_test['field1'].skew(axis=0):.4f}\")\n",
        "print(f\"Skew of test set field1 after transformation: {tmp_test_transformed['field1'].skew(axis=0):.4f}\")"
      ],
      "execution_count": 14,
      "outputs": [
        {
          "output_type": "stream",
          "text": [
            "Training set transformed field1 has mean -0.0000 and standard deviation 1.0000 \n",
            "Test set transformed, field1 has mean 0.1144 and standard deviation 0.9749\n",
            "Skew of training set field1 before transformation: 1.6523\n",
            "Skew of training set field1 after transformation: 1.0857\n",
            "Skew of test set field1 before transformation: 1.3896\n",
            "Skew of test set field1 after transformation: 0.1371\n"
          ],
          "name": "stdout"
        }
      ]
    },
    {
      "cell_type": "code",
      "metadata": {
        "id": "BeTlCgY4DgCg",
        "colab_type": "code",
        "colab": {}
      },
      "source": [
        "X_train, X_test = make_standard_normal(X_train_raw, X_test_raw)"
      ],
      "execution_count": 0,
      "outputs": []
    },
    {
      "cell_type": "code",
      "metadata": {
        "id": "2w02kYrDDpJK",
        "colab_type": "code",
        "colab": {
          "base_uri": "https://localhost:8080/",
          "height": 1000
        },
        "outputId": "015172c1-52b2-458a-8faf-cbdb1c22ff81"
      },
      "source": [
        "for col in X_train.columns:\n",
        "    X_train[col].hist()\n",
        "    plt.title(col)\n",
        "    plt.show()"
      ],
      "execution_count": 17,
      "outputs": [
        {
          "output_type": "display_data",
          "data": {
            "image/png": "[encoded data removed]",
            "text/plain": [
              "<Figure size 432x288 with 1 Axes>"
            ]
          },
          "metadata": {
            "tags": [],
            "needs_background": "light"
          }
        },
        {
          "output_type": "display_data",
          "data": {
            "image/png": "[encoded data removed]",
            "text/plain": [
              "<Figure size 432x288 with 1 Axes>"
            ]
          },
          "metadata": {
            "tags": [],
            "needs_background": "light"
          }
        },
        {
          "output_type": "display_data",
          "data": {
            "image/png": "[encoded data removed]",
            "text/plain": [
              "<Figure size 432x288 with 1 Axes>"
            ]
          },
          "metadata": {
            "tags": [],
            "needs_background": "light"
          }
        },
        {
          "output_type": "display_data",
          "data": {
            "image/png": "[encoded data removed]",
            "text/plain": [
              "<Figure size 432x288 with 1 Axes>"
            ]
          },
          "metadata": {
            "tags": [],
            "needs_background": "light"
          }
        }
      ]
    },
    {
      "cell_type": "code",
      "metadata": {
        "id": "s7c5GZuyDyW-",
        "colab_type": "code",
        "colab": {}
      },
      "source": [
        "def lr_model(X_train, y_train):\n",
        "\n",
        "    # import the LogisticRegression class\n",
        "    from sklearn.linear_model import LogisticRegression\n",
        "\n",
        "    # create the model object\n",
        "    model = LogisticRegression()\n",
        "\n",
        "    # fit the model to the training data\n",
        "    model.fit(X_train, y_train)\n",
        "\n",
        "    # return the fitted model\n",
        "    return model"
      ],
      "execution_count": 0,
      "outputs": []
    },
    {
      "cell_type": "code",
      "metadata": {
        "id": "F3O-lpKNEPoR",
        "colab_type": "code",
        "colab": {
          "base_uri": "https://localhost:8080/",
          "height": 52
        },
        "outputId": "fa96dff3-4495-4ff0-e852-49d2c8f4408f"
      },
      "source": [
        "# Test\n",
        "tmp_model = lr_model(X_train[0:3], y_train[0:3])\n",
        "\n",
        "print(tmp_model.predict(X_train[4:5]))\n",
        "print(tmp_model.predict(X_train[5:6]))"
      ],
      "execution_count": 19,
      "outputs": [
        {
          "output_type": "stream",
          "text": [
            "[1.]\n",
            "[0.]\n"
          ],
          "name": "stdout"
        }
      ]
    },
    {
      "cell_type": "code",
      "metadata": {
        "id": "vVzDxJ7qEeWC",
        "colab_type": "code",
        "colab": {
          "base_uri": "https://localhost:8080/",
          "height": 104
        },
        "outputId": "3408ef0e-7400-444d-dded-8f72fbd8d693"
      },
      "source": [
        "model_X = lr_model(X_train, y_train)\n",
        "model_X"
      ],
      "execution_count": 22,
      "outputs": [
        {
          "output_type": "execute_result",
          "data": {
            "text/plain": [
              "LogisticRegression(C=1.0, class_weight=None, dual=False, fit_intercept=True,\n",
              "                   intercept_scaling=1, l1_ratio=None, max_iter=100,\n",
              "                   multi_class='auto', n_jobs=None, penalty='l2',\n",
              "                   random_state=None, solver='lbfgs', tol=0.0001, verbose=0,\n",
              "                   warm_start=False)"
            ]
          },
          "metadata": {
            "tags": []
          },
          "execution_count": 22
        }
      ]
    },
    {
      "cell_type": "code",
      "metadata": {
        "id": "5FfE8PC1Ess0",
        "colab_type": "code",
        "colab": {}
      },
      "source": [
        "def cindex(y_true, scores):\n",
        "\n",
        "    n = len(y_true)\n",
        "    assert len(scores) == n\n",
        "\n",
        "    concordant = 0\n",
        "    permissible = 0\n",
        "    ties = 0\n",
        "\n",
        "    # use two nested for loops to go through all unique pairs of patients\n",
        "    for i in range(n):\n",
        "        for j in range(i+1, n):\n",
        "\n",
        "            # Check if the pair is permissible (the patient outcomes are different)\n",
        "            if y_true[i] != y_true[j]:\n",
        "                # Count the pair if it's permissible\n",
        "                permissible += 1\n",
        "\n",
        "                # For permissible pairs, check if they are concordant or are ties\n",
        "\n",
        "                # check for ties in the scores\n",
        "                if scores[i] == scores[j]:\n",
        "                    # count the tie\n",
        "                    ties += 1\n",
        "                    # if it's a tie, we don't need to check patient outcomes, continue to the top of the for loop\n",
        "                    continue\n",
        "                \n",
        "                # case 1: patient i doesn't get the disease, patient j does\n",
        "                if y_true[i] == 0 and y_true[j] == 1:\n",
        "                    # Check if patient i has a lower score than patient j\n",
        "                    if scores[i] < scores[j]:\n",
        "                        # count the concordant pair\n",
        "                        concordant += 1\n",
        "                    # Otherwise if patient i has a higher risk score, it's not a concordant pair\n",
        "                    # We already checked for ties earlier\n",
        "\n",
        "                # case 2: patient i gets the disease, patient j does not\n",
        "                if y_true[i] == 1 and y_true[j] == 0:\n",
        "                    # Check if patient i has a higher risk score than patient j\n",
        "                    if scores[i] > scores[j]:\n",
        "                        # count the concordant pair\n",
        "                        concordant += 1\n",
        "                    # Otherwise if patient i has a lower risk score, it's not a concordant pair\n",
        "                    # We already checked for ties earlier\n",
        "    \n",
        "    # calculate the c-index using the count of permissible pairs, concordant pairs, and tied pairs\n",
        "    c_index = (concordant + 0.5* ties) / permissible\n",
        "\n",
        "    return c_index"
      ],
      "execution_count": 0,
      "outputs": []
    },
    {
      "cell_type": "code",
      "metadata": {
        "id": "CXVkjqXeEts8",
        "colab_type": "code",
        "colab": {
          "base_uri": "https://localhost:8080/",
          "height": 86
        },
        "outputId": "e4b70c3e-15eb-417b-9e13-fe9864b147ee"
      },
      "source": [
        "# test \n",
        "y_true = np.array([1.0, 0.0, 0.0, 1.0])\n",
        "\n",
        "# Case 1\n",
        "scores = np.array([0, 1, 1, 0])\n",
        "print('Case 1 Output: {}'.format(cindex(y_true, scores)))\n",
        "\n",
        "# Case 2\n",
        "scores = np.array([1, 0, 0, 1])\n",
        "print('Case 2 Output: {}'.format(cindex(y_true, scores)))\n",
        "\n",
        "# Case 3\n",
        "scores = np.array([0.5, 0.5, 0.0, 1.0])\n",
        "print('Case 3 Output: {}'.format(cindex(y_true, scores)))\n",
        "\n",
        "cindex(y_true, scores)"
      ],
      "execution_count": 26,
      "outputs": [
        {
          "output_type": "stream",
          "text": [
            "Case 1 Output: 0.0\n",
            "Case 2 Output: 1.0\n",
            "Case 3 Output: 0.875\n"
          ],
          "name": "stdout"
        },
        {
          "output_type": "execute_result",
          "data": {
            "text/plain": [
              "0.875"
            ]
          },
          "metadata": {
            "tags": []
          },
          "execution_count": 26
        }
      ]
    },
    {
      "cell_type": "code",
      "metadata": {
        "id": "tU3l7edFHW60",
        "colab_type": "code",
        "colab": {
          "base_uri": "https://localhost:8080/",
          "height": 34
        },
        "outputId": "4b7227fd-2dd2-49c5-a507-0cd7eadd5384"
      },
      "source": [
        "scores = model_X.predict_proba(X_test)[:, 1]\n",
        "c_index_X_test = cindex(y_test.values, scores)\n",
        "\n",
        "print(f\"c-index on test set is {c_index_X_test:.4f}\")"
      ],
      "execution_count": 27,
      "outputs": [
        {
          "output_type": "stream",
          "text": [
            "c-index on test set is 0.8146\n"
          ],
          "name": "stdout"
        }
      ]
    },
    {
      "cell_type": "code",
      "metadata": {
        "id": "wrF20fyhIfRu",
        "colab_type": "code",
        "colab": {
          "base_uri": "https://localhost:8080/",
          "height": 333
        },
        "outputId": "c8cce42e-b20d-44ce-bb07-923444ebb2ef"
      },
      "source": [
        "coeffs = pd.DataFrame(data = model_X.coef_, columns = X_train.columns)\n",
        "coeffs.T.plot.bar(legend=None)"
      ],
      "execution_count": 29,
      "outputs": [
        {
          "output_type": "execute_result",
          "data": {
            "text/plain": [
              "<matplotlib.axes._subplots.AxesSubplot at 0x7ff575c3b0f0>"
            ]
          },
          "metadata": {
            "tags": []
          },
          "execution_count": 29
        },
        {
          "output_type": "display_data",
          "data": {
            "image/png": "[encoded data removed]",
            "text/plain": [
              "<Figure size 432x288 with 1 Axes>"
            ]
          },
          "metadata": {
            "tags": [],
            "needs_background": "light"
          }
        }
      ]
    },
    {
      "cell_type": "code",
      "metadata": {
        "id": "8fYGPRBiI06J",
        "colab_type": "code",
        "colab": {}
      },
      "source": [
        "def add_interactions(X):\n",
        "    \n",
        "    features = X.columns\n",
        "    m = len(features)\n",
        "    X_int = X.copy(deep=True)\n",
        "\n",
        "    # 'i' loops through all features in the original dataframe X\n",
        "    for i in range(m):\n",
        "\n",
        "        # get the name of feature 'i'\n",
        "        feature_i_name = features[i]\n",
        "\n",
        "        # get the data for feature 'i'\n",
        "        feature_i_data = X[feature_i_name]\n",
        "\n",
        "        # choose the index of column 'j' to be greater than columns i\n",
        "        for j in range(i+1, m):\n",
        "\n",
        "            # get the name of feature 'j'\n",
        "            feature_j_name = features[j]\n",
        "\n",
        "            # get the data for feature 'j'\n",
        "            feature_j_data = X[feature_j_name]\n",
        "\n",
        "            # create the name of the interaction feature by combining both names\n",
        "            # example: \"apple\" and \"orange\" are combined to be \"apple_x_orange\"\n",
        "            feature_i_j_name = f\"{feature_i_name}_x_{feature_j_name}\"\n",
        "\n",
        "            # Multiply the data for feature 'i' and feature 'j'\n",
        "            # store the result as a column in dataframe X_int\n",
        "            X_int[feature_i_j_name] = feature_i_data * feature_j_data\n",
        "    \n",
        "    return X_int"
      ],
      "execution_count": 0,
      "outputs": []
    },
    {
      "cell_type": "code",
      "metadata": {
        "id": "YT9MqtrIKCvi",
        "colab_type": "code",
        "colab": {
          "base_uri": "https://localhost:8080/",
          "height": 260
        },
        "outputId": "30eed84f-70da-4e35-e06a-5683e1a40b7b"
      },
      "source": [
        "print(\"Original Data\")\n",
        "print(X_train.loc[:, ['Age', 'Systolic_BP']].head())\n",
        "\n",
        "print(\"Data w/ Interactions\")\n",
        "print(add_interactions(X_train.loc[:, ['Age', 'Systolic_BP']].head()))"
      ],
      "execution_count": 31,
      "outputs": [
        {
          "output_type": "stream",
          "text": [
            "Original Data\n",
            "           Age  Systolic_BP\n",
            "2472 -2.340711     0.040890\n",
            "4496  0.009916    -1.150687\n",
            "2243  0.927302     0.190153\n",
            "4311 -0.087282     0.814256\n",
            "843   2.204586    -0.058141\n",
            "Data w/ Interactions\n",
            "           Age  Systolic_BP  Age_x_Systolic_BP\n",
            "2472 -2.340711     0.040890          -0.095712\n",
            "4496  0.009916    -1.150687          -0.011410\n",
            "2243  0.927302     0.190153           0.176329\n",
            "4311 -0.087282     0.814256          -0.071070\n",
            "843   2.204586    -0.058141          -0.128177\n"
          ],
          "name": "stdout"
        }
      ]
    },
    {
      "cell_type": "code",
      "metadata": {
        "id": "vz2T1uVAKO8G",
        "colab_type": "code",
        "colab": {}
      },
      "source": [
        "X_train_int = add_interactions(X_train)\n",
        "X_test_int = add_interactions(X_test)"
      ],
      "execution_count": 0,
      "outputs": []
    },
    {
      "cell_type": "code",
      "metadata": {
        "id": "8wqPuyBuKmU0",
        "colab_type": "code",
        "colab": {}
      },
      "source": [
        "model_X_int = lr_model(X_train_int, y_train)"
      ],
      "execution_count": 0,
      "outputs": []
    },
    {
      "cell_type": "code",
      "metadata": {
        "id": "EeWa1tHRKsSF",
        "colab_type": "code",
        "colab": {
          "base_uri": "https://localhost:8080/",
          "height": 52
        },
        "outputId": "29f5a33b-525f-407b-e26b-fc5bb6e8378a"
      },
      "source": [
        "scores_X = model_X.predict_proba(X_test)[:, 1]\n",
        "c_index_X_int_test = cindex(y_test.values, scores_X)\n",
        "\n",
        "scores_X_int = model_X_int.predict_proba(X_test_int)[:, 1]\n",
        "c_index_X_int_test = cindex(y_test.values, scores_X_int)\n",
        "\n",
        "print(f\"c-index on test set without interactions is {c_index_X_test:.4f}\")\n",
        "print(f\"c-index on test set with interactions is {c_index_X_int_test:.4f}\")"
      ],
      "execution_count": 34,
      "outputs": [
        {
          "output_type": "stream",
          "text": [
            "c-index on test set without interactions is 0.8146\n",
            "c-index on test set with interactions is 0.8303\n"
          ],
          "name": "stdout"
        }
      ]
    },
    {
      "cell_type": "code",
      "metadata": {
        "id": "YQ2oK1whLH3a",
        "colab_type": "code",
        "colab": {
          "base_uri": "https://localhost:8080/",
          "height": 389
        },
        "outputId": "eca8ed11-8b69-4d90-ee08-bba1c1577de2"
      },
      "source": [
        "int_coeffs = pd.DataFrame(data = model_X_int.coef_, columns = X_train_int.columns)\n",
        "int_coeffs.T.plot.bar();"
      ],
      "execution_count": 35,
      "outputs": [
        {
          "output_type": "display_data",
          "data": {
            "image/png": "[encoded data removed]",
            "text/plain": [
              "<Figure size 432x288 with 1 Axes>"
            ]
          },
          "metadata": {
            "tags": [],
            "needs_background": "light"
          }
        }
      ]
    },
    {
      "cell_type": "code",
      "metadata": {
        "id": "HMMyMhmYLVCW",
        "colab_type": "code",
        "colab": {
          "base_uri": "https://localhost:8080/",
          "height": 208
        },
        "outputId": "6b428e98-175f-4d04-84ad-f738b65f18b0"
      },
      "source": [
        "index = 350\n",
        "case = X_train_int.iloc[index, :]\n",
        "print(case)"
      ],
      "execution_count": 36,
      "outputs": [
        {
          "output_type": "stream",
          "text": [
            "Age                           0.556615\n",
            "Systolic_BP                  -1.059570\n",
            "Diastolic_BP                 -0.877230\n",
            "Cholesterol                   0.487496\n",
            "Age_x_Systolic_BP            -0.589772\n",
            "Age_x_Diastolic_BP           -0.488279\n",
            "Age_x_Cholesterol             0.271347\n",
            "Systolic_BP_x_Diastolic_BP    0.929487\n",
            "Systolic_BP_x_Cholesterol    -0.516536\n",
            "Diastolic_BP_x_Cholesterol   -0.427646\n",
            "Name: 781, dtype: float64\n"
          ],
          "name": "stdout"
        }
      ]
    },
    {
      "cell_type": "code",
      "metadata": {
        "id": "XDzuMgXnLksv",
        "colab_type": "code",
        "colab": {
          "base_uri": "https://localhost:8080/",
          "height": 208
        },
        "outputId": "4add11f1-de3b-4773-bca0-27e7b5b2e036"
      },
      "source": [
        "new_case = case.copy(deep=True)\n",
        "new_case.loc[\"Age_x_Cholesterol\"] = 0\n",
        "new_case"
      ],
      "execution_count": 37,
      "outputs": [
        {
          "output_type": "execute_result",
          "data": {
            "text/plain": [
              "Age                           0.556615\n",
              "Systolic_BP                  -1.059570\n",
              "Diastolic_BP                 -0.877230\n",
              "Cholesterol                   0.487496\n",
              "Age_x_Systolic_BP            -0.589772\n",
              "Age_x_Diastolic_BP           -0.488279\n",
              "Age_x_Cholesterol             0.000000\n",
              "Systolic_BP_x_Diastolic_BP    0.929487\n",
              "Systolic_BP_x_Cholesterol    -0.516536\n",
              "Diastolic_BP_x_Cholesterol   -0.427646\n",
              "Name: 781, dtype: float64"
            ]
          },
          "metadata": {
            "tags": []
          },
          "execution_count": 37
        }
      ]
    },
    {
      "cell_type": "code",
      "metadata": {
        "id": "pOUu-LkzLuZ4",
        "colab_type": "code",
        "colab": {
          "base_uri": "https://localhost:8080/",
          "height": 52
        },
        "outputId": "e24da907-8d1f-4e96-e329-6a91241e62b3"
      },
      "source": [
        "print(\"Output with interaction: {}\".format(model_X_int.predict_proba([case.values])[:, 1]))\n",
        "print(\"Output without interaction: {}\".format(model_X_int.predict_proba([new_case.values])[:, 1]))"
      ],
      "execution_count": 38,
      "outputs": [
        {
          "output_type": "stream",
          "text": [
            "Output with interaction: [0.50741471]\n",
            "Output without interaction: [0.54730115]\n"
          ],
          "name": "stdout"
        }
      ]
    },
    {
      "cell_type": "code",
      "metadata": {
        "id": "EhMPkL5gL8nJ",
        "colab_type": "code",
        "colab": {}
      },
      "source": [
        ""
      ],
      "execution_count": 0,
      "outputs": []
    }
  ]
}