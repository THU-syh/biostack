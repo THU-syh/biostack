{
  "nbformat": 4,
  "nbformat_minor": 0,
  "metadata": {
    "colab": {
      "name": "Cox Proportional Hazards and Random Survival Forests.ipynb",
      "provenance": [],
      "collapsed_sections": [],
      "machine_shape": "hm"
    },
    "kernelspec": {
      "name": "python3",
      "display_name": "Python 3"
    },
    "accelerator": "GPU"
  },
  "cells": [
    {
      "cell_type": "code",
      "metadata": {
        "id": "8IY1e51OVcZO",
        "colab_type": "code",
        "colab": {
          "base_uri": "https://localhost:8080/",
          "height": 558
        },
        "outputId": "c53d02d9-10f3-4b23-b387-d49b6f07905c"
      },
      "source": [
        "!pip install lifelines\n",
        "!wget https://raw.githubusercontent.com/ChanchalKumarMaji/AI-for-Medicine-Specialization-deeplearning.ai/master/AI%20for%20Medical%20Prognosis/Week%204/util.py"
      ],
      "execution_count": 1,
      "outputs": [
        {
          "output_type": "stream",
          "text": [
            "Collecting lifelines\n",
            "\u001b[?25l  Downloading https://files.pythonhosted.org/packages/30/36/9298632752606a0cfa10c487c4b9db1f843c4cf6860b5d2eb1142ad30ceb/lifelines-0.24.9-py3-none-any.whl (334kB)\n",
            "\r\u001b[K     |█                               | 10kB 22.2MB/s eta 0:00:01\r\u001b[K     |██                              | 20kB 3.0MB/s eta 0:00:01\r\u001b[K     |███                             | 30kB 4.0MB/s eta 0:00:01\r\u001b[K     |████                            | 40kB 4.3MB/s eta 0:00:01\r\u001b[K     |█████                           | 51kB 3.5MB/s eta 0:00:01\r\u001b[K     |█████▉                          | 61kB 3.9MB/s eta 0:00:01\r\u001b[K     |██████▉                         | 71kB 4.3MB/s eta 0:00:01\r\u001b[K     |███████▉                        | 81kB 4.5MB/s eta 0:00:01\r\u001b[K     |████████▉                       | 92kB 4.8MB/s eta 0:00:01\r\u001b[K     |█████████▉                      | 102kB 4.8MB/s eta 0:00:01\r\u001b[K     |██████████▊                     | 112kB 4.8MB/s eta 0:00:01\r\u001b[K     |███████████▊                    | 122kB 4.8MB/s eta 0:00:01\r\u001b[K     |████████████▊                   | 133kB 4.8MB/s eta 0:00:01\r\u001b[K     |█████████████▊                  | 143kB 4.8MB/s eta 0:00:01\r\u001b[K     |██████████████▊                 | 153kB 4.8MB/s eta 0:00:01\r\u001b[K     |███████████████▋                | 163kB 4.8MB/s eta 0:00:01\r\u001b[K     |████████████████▋               | 174kB 4.8MB/s eta 0:00:01\r\u001b[K     |█████████████████▋              | 184kB 4.8MB/s eta 0:00:01\r\u001b[K     |██████████████████▋             | 194kB 4.8MB/s eta 0:00:01\r\u001b[K     |███████████████████▋            | 204kB 4.8MB/s eta 0:00:01\r\u001b[K     |████████████████████▋           | 215kB 4.8MB/s eta 0:00:01\r\u001b[K     |█████████████████████▌          | 225kB 4.8MB/s eta 0:00:01\r\u001b[K     |██████████████████████▌         | 235kB 4.8MB/s eta 0:00:01\r\u001b[K     |███████████████████████▌        | 245kB 4.8MB/s eta 0:00:01\r\u001b[K     |████████████████████████▌       | 256kB 4.8MB/s eta 0:00:01\r\u001b[K     |█████████████████████████▌      | 266kB 4.8MB/s eta 0:00:01\r\u001b[K     |██████████████████████████▍     | 276kB 4.8MB/s eta 0:00:01\r\u001b[K     |███████████████████████████▍    | 286kB 4.8MB/s eta 0:00:01\r\u001b[K     |████████████████████████████▍   | 296kB 4.8MB/s eta 0:00:01\r\u001b[K     |█████████████████████████████▍  | 307kB 4.8MB/s eta 0:00:01\r\u001b[K     |██████████████████████████████▍ | 317kB 4.8MB/s eta 0:00:01\r\u001b[K     |███████████████████████████████▎| 327kB 4.8MB/s eta 0:00:01\r\u001b[K     |████████████████████████████████| 337kB 4.8MB/s \n",
            "\u001b[?25hRequirement already satisfied: autograd>=1.3 in /usr/local/lib/python3.6/dist-packages (from lifelines) (1.3)\n",
            "Requirement already satisfied: scipy>=1.2.0 in /usr/local/lib/python3.6/dist-packages (from lifelines) (1.4.1)\n",
            "Requirement already satisfied: numpy>=1.14.0 in /usr/local/lib/python3.6/dist-packages (from lifelines) (1.18.5)\n",
            "Requirement already satisfied: matplotlib>=3.0 in /usr/local/lib/python3.6/dist-packages (from lifelines) (3.2.1)\n",
            "Requirement already satisfied: pandas>=0.23.0 in /usr/local/lib/python3.6/dist-packages (from lifelines) (1.0.4)\n",
            "Collecting autograd-gamma>=0.3\n",
            "  Downloading https://files.pythonhosted.org/packages/0a/07/d99339c9420b58b723a9189d1373e5c3889758b2202a1a7fe4a3b7a10c5a/autograd_gamma-0.4.2-py2.py3-none-any.whl\n",
            "Requirement already satisfied: future>=0.15.2 in /usr/local/lib/python3.6/dist-packages (from autograd>=1.3->lifelines) (0.16.0)\n",
            "Requirement already satisfied: kiwisolver>=1.0.1 in /usr/local/lib/python3.6/dist-packages (from matplotlib>=3.0->lifelines) (1.2.0)\n",
            "Requirement already satisfied: pyparsing!=2.0.4,!=2.1.2,!=2.1.6,>=2.0.1 in /usr/local/lib/python3.6/dist-packages (from matplotlib>=3.0->lifelines) (2.4.7)\n",
            "Requirement already satisfied: cycler>=0.10 in /usr/local/lib/python3.6/dist-packages (from matplotlib>=3.0->lifelines) (0.10.0)\n",
            "Requirement already satisfied: python-dateutil>=2.1 in /usr/local/lib/python3.6/dist-packages (from matplotlib>=3.0->lifelines) (2.8.1)\n",
            "Requirement already satisfied: pytz>=2017.2 in /usr/local/lib/python3.6/dist-packages (from pandas>=0.23.0->lifelines) (2018.9)\n",
            "Requirement already satisfied: six in /usr/local/lib/python3.6/dist-packages (from cycler>=0.10->matplotlib>=3.0->lifelines) (1.12.0)\n",
            "Installing collected packages: autograd-gamma, lifelines\n",
            "Successfully installed autograd-gamma-0.4.2 lifelines-0.24.9\n",
            "--2020-06-15 14:17:55--  https://raw.githubusercontent.com/ChanchalKumarMaji/AI-for-Medicine-Specialization-deeplearning.ai/master/AI%20for%20Medical%20Prognosis/Week%204/util.py\n",
            "Resolving raw.githubusercontent.com (raw.githubusercontent.com)... 151.101.0.133, 151.101.64.133, 151.101.128.133, ...\n",
            "Connecting to raw.githubusercontent.com (raw.githubusercontent.com)|151.101.0.133|:443... connected.\n",
            "HTTP request sent, awaiting response... 200 OK\n",
            "Length: 473 [text/plain]\n",
            "Saving to: ‘util.py’\n",
            "\n",
            "util.py             100%[===================>]     473  --.-KB/s    in 0s      \n",
            "\n",
            "2020-06-15 14:17:55 (32.9 MB/s) - ‘util.py’ saved [473/473]\n",
            "\n"
          ],
          "name": "stdout"
        }
      ]
    },
    {
      "cell_type": "code",
      "metadata": {
        "id": "rJ9EVmpQV-3s",
        "colab_type": "code",
        "colab": {}
      },
      "source": [
        "import sklearn\n",
        "import numpy as np\n",
        "import pandas as pd\n",
        "import matplotlib.pyplot as plt\n",
        "\n",
        "from lifelines import CoxPHFitter\n",
        "from lifelines.utils import concordance_index as cindex\n",
        "from sklearn.model_selection import train_test_split\n",
        "\n",
        "from util import load_data"
      ],
      "execution_count": 0,
      "outputs": []
    },
    {
      "cell_type": "code",
      "metadata": {
        "id": "Cw0iwPwJWYap",
        "colab_type": "code",
        "colab": {
          "base_uri": "https://localhost:8080/",
          "height": 228
        },
        "outputId": "a35264c9-1c08-4fe2-8e92-ab7a8818eb5d"
      },
      "source": [
        "!wget https://raw.githubusercontent.com/ChanchalKumarMaji/AI-for-Medicine-Specialization-deeplearning.ai/master/AI%20for%20Medical%20Prognosis/Week%204/pbc.csv"
      ],
      "execution_count": 7,
      "outputs": [
        {
          "output_type": "stream",
          "text": [
            "--2020-06-15 14:19:54--  https://raw.githubusercontent.com/ChanchalKumarMaji/AI-for-Medicine-Specialization-deeplearning.ai/master/AI%20for%20Medical%20Prognosis/Week%204/pbc.csv\n",
            "Resolving raw.githubusercontent.com (raw.githubusercontent.com)... 151.101.0.133, 151.101.64.133, 151.101.128.133, ...\n",
            "Connecting to raw.githubusercontent.com (raw.githubusercontent.com)|151.101.0.133|:443... connected.\n",
            "HTTP request sent, awaiting response... 200 OK\n",
            "Length: 30823 (30K) [text/plain]\n",
            "Saving to: ‘pbc.csv’\n",
            "\n",
            "\rpbc.csv               0%[                    ]       0  --.-KB/s               \rpbc.csv             100%[===================>]  30.10K  --.-KB/s    in 0.008s  \n",
            "\n",
            "2020-06-15 14:19:55 (3.72 MB/s) - ‘pbc.csv’ saved [30823/30823]\n",
            "\n"
          ],
          "name": "stdout"
        }
      ]
    },
    {
      "cell_type": "code",
      "metadata": {
        "id": "43L1gbzsWNbK",
        "colab_type": "code",
        "colab": {}
      },
      "source": [
        "df = load_data()"
      ],
      "execution_count": 0,
      "outputs": []
    },
    {
      "cell_type": "code",
      "metadata": {
        "id": "DmTcSd9XWOh0",
        "colab_type": "code",
        "colab": {
          "base_uri": "https://localhost:8080/",
          "height": 243
        },
        "outputId": "85e5bb1d-5523-477f-f414-88c5a806d78b"
      },
      "source": [
        "print(df.shape)\n",
        "df.head()"
      ],
      "execution_count": 9,
      "outputs": [
        {
          "output_type": "stream",
          "text": [
            "(258, 19)\n"
          ],
          "name": "stdout"
        },
        {
          "output_type": "execute_result",
          "data": {
            "text/html": [
              "<div>\n",
              "<style scoped>\n",
              "    .dataframe tbody tr th:only-of-type {\n",
              "        vertical-align: middle;\n",
              "    }\n",
              "\n",
              "    .dataframe tbody tr th {\n",
              "        vertical-align: top;\n",
              "    }\n",
              "\n",
              "    .dataframe thead th {\n",
              "        text-align: right;\n",
              "    }\n",
              "</style>\n",
              "<table border=\"1\" class=\"dataframe\">\n",
              "  <thead>\n",
              "    <tr style=\"text-align: right;\">\n",
              "      <th></th>\n",
              "      <th>time</th>\n",
              "      <th>status</th>\n",
              "      <th>trt</th>\n",
              "      <th>age</th>\n",
              "      <th>sex</th>\n",
              "      <th>ascites</th>\n",
              "      <th>hepato</th>\n",
              "      <th>spiders</th>\n",
              "      <th>edema</th>\n",
              "      <th>bili</th>\n",
              "      <th>chol</th>\n",
              "      <th>albumin</th>\n",
              "      <th>copper</th>\n",
              "      <th>alk.phos</th>\n",
              "      <th>ast</th>\n",
              "      <th>trig</th>\n",
              "      <th>platelet</th>\n",
              "      <th>protime</th>\n",
              "      <th>stage</th>\n",
              "    </tr>\n",
              "  </thead>\n",
              "  <tbody>\n",
              "    <tr>\n",
              "      <th>0</th>\n",
              "      <td>1.095890</td>\n",
              "      <td>1.0</td>\n",
              "      <td>0.0</td>\n",
              "      <td>58.765229</td>\n",
              "      <td>0.0</td>\n",
              "      <td>1.0</td>\n",
              "      <td>1.0</td>\n",
              "      <td>1.0</td>\n",
              "      <td>1.0</td>\n",
              "      <td>14.5</td>\n",
              "      <td>261.0</td>\n",
              "      <td>2.60</td>\n",
              "      <td>156.0</td>\n",
              "      <td>1718.0</td>\n",
              "      <td>137.95</td>\n",
              "      <td>172.0</td>\n",
              "      <td>190.0</td>\n",
              "      <td>12.2</td>\n",
              "      <td>4.0</td>\n",
              "    </tr>\n",
              "    <tr>\n",
              "      <th>1</th>\n",
              "      <td>12.328767</td>\n",
              "      <td>0.0</td>\n",
              "      <td>0.0</td>\n",
              "      <td>56.446270</td>\n",
              "      <td>0.0</td>\n",
              "      <td>0.0</td>\n",
              "      <td>1.0</td>\n",
              "      <td>1.0</td>\n",
              "      <td>0.0</td>\n",
              "      <td>1.1</td>\n",
              "      <td>302.0</td>\n",
              "      <td>4.14</td>\n",
              "      <td>54.0</td>\n",
              "      <td>7394.8</td>\n",
              "      <td>113.52</td>\n",
              "      <td>88.0</td>\n",
              "      <td>221.0</td>\n",
              "      <td>10.6</td>\n",
              "      <td>3.0</td>\n",
              "    </tr>\n",
              "    <tr>\n",
              "      <th>2</th>\n",
              "      <td>2.772603</td>\n",
              "      <td>1.0</td>\n",
              "      <td>0.0</td>\n",
              "      <td>70.072553</td>\n",
              "      <td>1.0</td>\n",
              "      <td>0.0</td>\n",
              "      <td>0.0</td>\n",
              "      <td>0.0</td>\n",
              "      <td>0.5</td>\n",
              "      <td>1.4</td>\n",
              "      <td>176.0</td>\n",
              "      <td>3.48</td>\n",
              "      <td>210.0</td>\n",
              "      <td>516.0</td>\n",
              "      <td>96.10</td>\n",
              "      <td>55.0</td>\n",
              "      <td>151.0</td>\n",
              "      <td>12.0</td>\n",
              "      <td>4.0</td>\n",
              "    </tr>\n",
              "    <tr>\n",
              "      <th>3</th>\n",
              "      <td>5.273973</td>\n",
              "      <td>1.0</td>\n",
              "      <td>0.0</td>\n",
              "      <td>54.740589</td>\n",
              "      <td>0.0</td>\n",
              "      <td>0.0</td>\n",
              "      <td>1.0</td>\n",
              "      <td>1.0</td>\n",
              "      <td>0.5</td>\n",
              "      <td>1.8</td>\n",
              "      <td>244.0</td>\n",
              "      <td>2.54</td>\n",
              "      <td>64.0</td>\n",
              "      <td>6121.8</td>\n",
              "      <td>60.63</td>\n",
              "      <td>92.0</td>\n",
              "      <td>183.0</td>\n",
              "      <td>10.3</td>\n",
              "      <td>4.0</td>\n",
              "    </tr>\n",
              "    <tr>\n",
              "      <th>6</th>\n",
              "      <td>5.019178</td>\n",
              "      <td>0.0</td>\n",
              "      <td>1.0</td>\n",
              "      <td>55.534565</td>\n",
              "      <td>0.0</td>\n",
              "      <td>0.0</td>\n",
              "      <td>1.0</td>\n",
              "      <td>0.0</td>\n",
              "      <td>0.0</td>\n",
              "      <td>1.0</td>\n",
              "      <td>322.0</td>\n",
              "      <td>4.09</td>\n",
              "      <td>52.0</td>\n",
              "      <td>824.0</td>\n",
              "      <td>60.45</td>\n",
              "      <td>213.0</td>\n",
              "      <td>204.0</td>\n",
              "      <td>9.7</td>\n",
              "      <td>3.0</td>\n",
              "    </tr>\n",
              "  </tbody>\n",
              "</table>\n",
              "</div>"
            ],
            "text/plain": [
              "        time  status  trt        age  ...   trig  platelet  protime  stage\n",
              "0   1.095890     1.0  0.0  58.765229  ...  172.0     190.0     12.2    4.0\n",
              "1  12.328767     0.0  0.0  56.446270  ...   88.0     221.0     10.6    3.0\n",
              "2   2.772603     1.0  0.0  70.072553  ...   55.0     151.0     12.0    4.0\n",
              "3   5.273973     1.0  0.0  54.740589  ...   92.0     183.0     10.3    4.0\n",
              "6   5.019178     0.0  1.0  55.534565  ...  213.0     204.0      9.7    3.0\n",
              "\n",
              "[5 rows x 19 columns]"
            ]
          },
          "metadata": {
            "tags": []
          },
          "execution_count": 9
        }
      ]
    },
    {
      "cell_type": "code",
      "metadata": {
        "id": "GyRR1KUrWSb2",
        "colab_type": "code",
        "colab": {
          "base_uri": "https://localhost:8080/",
          "height": 364
        },
        "outputId": "b41a991b-e58f-4f32-d604-ca7dc594c2aa"
      },
      "source": [
        "i = 20\n",
        "df.iloc[i, :]"
      ],
      "execution_count": 10,
      "outputs": [
        {
          "output_type": "execute_result",
          "data": {
            "text/plain": [
              "time          11.175342\n",
              "status         1.000000\n",
              "trt            0.000000\n",
              "age           44.520192\n",
              "sex            1.000000\n",
              "ascites        0.000000\n",
              "hepato         1.000000\n",
              "spiders        0.000000\n",
              "edema          0.000000\n",
              "bili           2.100000\n",
              "chol         456.000000\n",
              "albumin        4.000000\n",
              "copper       124.000000\n",
              "alk.phos    5719.000000\n",
              "ast          221.880000\n",
              "trig         230.000000\n",
              "platelet      70.000000\n",
              "protime        9.900000\n",
              "stage          2.000000\n",
              "Name: 23, dtype: float64"
            ]
          },
          "metadata": {
            "tags": []
          },
          "execution_count": 10
        }
      ]
    },
    {
      "cell_type": "code",
      "metadata": {
        "id": "bWtKfF-OWmHX",
        "colab_type": "code",
        "colab": {
          "base_uri": "https://localhost:8080/",
          "height": 86
        },
        "outputId": "4f2e5c94-9e21-4f97-a866-4b121eb5ef92"
      },
      "source": [
        "np.random.seed(0)\n",
        "\n",
        "df_dev, df_test = train_test_split(df, test_size = 0.2)\n",
        "df_train, df_val = train_test_split(df_dev, test_size = 0.25)\n",
        "\n",
        "print(\"Total number of patients:\", df.shape[0])\n",
        "print(\"Total number of patients in training set:\", df_train.shape[0])\n",
        "print(\"Total number of patients in validation set:\", df_val.shape[0])\n",
        "print(\"Total number of patients in test set:\", df_test.shape[0])"
      ],
      "execution_count": 11,
      "outputs": [
        {
          "output_type": "stream",
          "text": [
            "Total number of patients: 258\n",
            "Total number of patients in training set: 154\n",
            "Total number of patients in validation set: 52\n",
            "Total number of patients in test set: 52\n"
          ],
          "name": "stdout"
        }
      ]
    },
    {
      "cell_type": "code",
      "metadata": {
        "id": "C02HpXXzW_gp",
        "colab_type": "code",
        "colab": {}
      },
      "source": [
        "def to_one_hot(dataframe, columns):\n",
        "\n",
        "    one_hot_df = pd.get_dummies(dataframe, columns = columns, drop_first = True, dtype = np.float64)\n",
        "\n",
        "    return one_hot_df"
      ],
      "execution_count": 0,
      "outputs": []
    },
    {
      "cell_type": "code",
      "metadata": {
        "id": "8pkU6XZ9XUXp",
        "colab_type": "code",
        "colab": {
          "base_uri": "https://localhost:8080/",
          "height": 72
        },
        "outputId": "322a23c1-5cff-440d-a1ce-49565944823d"
      },
      "source": [
        "# list of categorical columns\n",
        "to_encode = ['edema', 'stage']\n",
        "\n",
        "one_hot_train = to_one_hot(df_train, to_encode)\n",
        "one_hot_val = to_one_hot(df_val, to_encode)\n",
        "one_hot_test = to_one_hot(df_test, to_encode)\n",
        "\n",
        "print(one_hot_val.columns.tolist())\n",
        "print(f\"There are {len(one_hot_val.columns)} columns\")"
      ],
      "execution_count": 13,
      "outputs": [
        {
          "output_type": "stream",
          "text": [
            "['time', 'status', 'trt', 'age', 'sex', 'ascites', 'hepato', 'spiders', 'bili', 'chol', 'albumin', 'copper', 'alk.phos', 'ast', 'trig', 'platelet', 'protime', 'edema_0.5', 'edema_1.0', 'stage_2.0', 'stage_3.0', 'stage_4.0']\n",
            "There are 22 columns\n"
          ],
          "name": "stdout"
        }
      ]
    },
    {
      "cell_type": "code",
      "metadata": {
        "id": "G_bidZapXspd",
        "colab_type": "code",
        "colab": {
          "base_uri": "https://localhost:8080/",
          "height": 243
        },
        "outputId": "440c663c-2374-4561-948a-ddae6ce91a18"
      },
      "source": [
        "print(one_hot_train.shape)\n",
        "one_hot_train.head()"
      ],
      "execution_count": 14,
      "outputs": [
        {
          "output_type": "stream",
          "text": [
            "(154, 22)\n"
          ],
          "name": "stdout"
        },
        {
          "output_type": "execute_result",
          "data": {
            "text/html": [
              "<div>\n",
              "<style scoped>\n",
              "    .dataframe tbody tr th:only-of-type {\n",
              "        vertical-align: middle;\n",
              "    }\n",
              "\n",
              "    .dataframe tbody tr th {\n",
              "        vertical-align: top;\n",
              "    }\n",
              "\n",
              "    .dataframe thead th {\n",
              "        text-align: right;\n",
              "    }\n",
              "</style>\n",
              "<table border=\"1\" class=\"dataframe\">\n",
              "  <thead>\n",
              "    <tr style=\"text-align: right;\">\n",
              "      <th></th>\n",
              "      <th>time</th>\n",
              "      <th>status</th>\n",
              "      <th>trt</th>\n",
              "      <th>age</th>\n",
              "      <th>sex</th>\n",
              "      <th>ascites</th>\n",
              "      <th>hepato</th>\n",
              "      <th>spiders</th>\n",
              "      <th>bili</th>\n",
              "      <th>chol</th>\n",
              "      <th>albumin</th>\n",
              "      <th>copper</th>\n",
              "      <th>alk.phos</th>\n",
              "      <th>ast</th>\n",
              "      <th>trig</th>\n",
              "      <th>platelet</th>\n",
              "      <th>protime</th>\n",
              "      <th>edema_0.5</th>\n",
              "      <th>edema_1.0</th>\n",
              "      <th>stage_2.0</th>\n",
              "      <th>stage_3.0</th>\n",
              "      <th>stage_4.0</th>\n",
              "    </tr>\n",
              "  </thead>\n",
              "  <tbody>\n",
              "    <tr>\n",
              "      <th>279</th>\n",
              "      <td>3.868493</td>\n",
              "      <td>0.0</td>\n",
              "      <td>0.0</td>\n",
              "      <td>46.154689</td>\n",
              "      <td>0.0</td>\n",
              "      <td>0.0</td>\n",
              "      <td>0.0</td>\n",
              "      <td>0.0</td>\n",
              "      <td>1.6</td>\n",
              "      <td>325.0</td>\n",
              "      <td>3.69</td>\n",
              "      <td>69.0</td>\n",
              "      <td>2583.0</td>\n",
              "      <td>142.00</td>\n",
              "      <td>140.0</td>\n",
              "      <td>284.0</td>\n",
              "      <td>9.6</td>\n",
              "      <td>0.0</td>\n",
              "      <td>0.0</td>\n",
              "      <td>0.0</td>\n",
              "      <td>1.0</td>\n",
              "      <td>0.0</td>\n",
              "    </tr>\n",
              "    <tr>\n",
              "      <th>137</th>\n",
              "      <td>3.553425</td>\n",
              "      <td>1.0</td>\n",
              "      <td>0.0</td>\n",
              "      <td>51.249829</td>\n",
              "      <td>1.0</td>\n",
              "      <td>0.0</td>\n",
              "      <td>1.0</td>\n",
              "      <td>0.0</td>\n",
              "      <td>7.3</td>\n",
              "      <td>426.0</td>\n",
              "      <td>3.93</td>\n",
              "      <td>262.0</td>\n",
              "      <td>2424.0</td>\n",
              "      <td>145.70</td>\n",
              "      <td>218.0</td>\n",
              "      <td>252.0</td>\n",
              "      <td>10.5</td>\n",
              "      <td>0.0</td>\n",
              "      <td>0.0</td>\n",
              "      <td>0.0</td>\n",
              "      <td>1.0</td>\n",
              "      <td>0.0</td>\n",
              "    </tr>\n",
              "    <tr>\n",
              "      <th>249</th>\n",
              "      <td>4.846575</td>\n",
              "      <td>0.0</td>\n",
              "      <td>1.0</td>\n",
              "      <td>40.791239</td>\n",
              "      <td>0.0</td>\n",
              "      <td>0.0</td>\n",
              "      <td>1.0</td>\n",
              "      <td>0.0</td>\n",
              "      <td>0.6</td>\n",
              "      <td>299.0</td>\n",
              "      <td>3.36</td>\n",
              "      <td>23.0</td>\n",
              "      <td>2769.0</td>\n",
              "      <td>220.10</td>\n",
              "      <td>85.0</td>\n",
              "      <td>303.0</td>\n",
              "      <td>10.9</td>\n",
              "      <td>0.0</td>\n",
              "      <td>0.0</td>\n",
              "      <td>0.0</td>\n",
              "      <td>0.0</td>\n",
              "      <td>1.0</td>\n",
              "    </tr>\n",
              "    <tr>\n",
              "      <th>266</th>\n",
              "      <td>0.490411</td>\n",
              "      <td>1.0</td>\n",
              "      <td>0.0</td>\n",
              "      <td>70.907598</td>\n",
              "      <td>0.0</td>\n",
              "      <td>1.0</td>\n",
              "      <td>1.0</td>\n",
              "      <td>1.0</td>\n",
              "      <td>6.6</td>\n",
              "      <td>222.0</td>\n",
              "      <td>2.33</td>\n",
              "      <td>138.0</td>\n",
              "      <td>620.0</td>\n",
              "      <td>106.00</td>\n",
              "      <td>91.0</td>\n",
              "      <td>195.0</td>\n",
              "      <td>12.1</td>\n",
              "      <td>0.0</td>\n",
              "      <td>1.0</td>\n",
              "      <td>0.0</td>\n",
              "      <td>0.0</td>\n",
              "      <td>1.0</td>\n",
              "    </tr>\n",
              "    <tr>\n",
              "      <th>1</th>\n",
              "      <td>12.328767</td>\n",
              "      <td>0.0</td>\n",
              "      <td>0.0</td>\n",
              "      <td>56.446270</td>\n",
              "      <td>0.0</td>\n",
              "      <td>0.0</td>\n",
              "      <td>1.0</td>\n",
              "      <td>1.0</td>\n",
              "      <td>1.1</td>\n",
              "      <td>302.0</td>\n",
              "      <td>4.14</td>\n",
              "      <td>54.0</td>\n",
              "      <td>7394.8</td>\n",
              "      <td>113.52</td>\n",
              "      <td>88.0</td>\n",
              "      <td>221.0</td>\n",
              "      <td>10.6</td>\n",
              "      <td>0.0</td>\n",
              "      <td>0.0</td>\n",
              "      <td>0.0</td>\n",
              "      <td>1.0</td>\n",
              "      <td>0.0</td>\n",
              "    </tr>\n",
              "  </tbody>\n",
              "</table>\n",
              "</div>"
            ],
            "text/plain": [
              "          time  status  trt  ...  stage_2.0  stage_3.0  stage_4.0\n",
              "279   3.868493     0.0  0.0  ...        0.0        1.0        0.0\n",
              "137   3.553425     1.0  0.0  ...        0.0        1.0        0.0\n",
              "249   4.846575     0.0  1.0  ...        0.0        0.0        1.0\n",
              "266   0.490411     1.0  0.0  ...        0.0        0.0        1.0\n",
              "1    12.328767     0.0  0.0  ...        0.0        1.0        0.0\n",
              "\n",
              "[5 rows x 22 columns]"
            ]
          },
          "metadata": {
            "tags": []
          },
          "execution_count": 14
        }
      ]
    },
    {
      "cell_type": "code",
      "metadata": {
        "id": "JtlKEdLAX0nQ",
        "colab_type": "code",
        "colab": {
          "base_uri": "https://localhost:8080/",
          "height": 34
        },
        "outputId": "8cc25504-55f1-43c8-ed62-0d6a1b4a0258"
      },
      "source": [
        "cph = CoxPHFitter()\n",
        "cph.fit(one_hot_train, duration_col = 'time', event_col = 'status', step_size=0.1)"
      ],
      "execution_count": 15,
      "outputs": [
        {
          "output_type": "execute_result",
          "data": {
            "text/plain": [
              "<lifelines.CoxPHFitter: fitted with 154 total observations, 90 right-censored observations>"
            ]
          },
          "metadata": {
            "tags": []
          },
          "execution_count": 15
        }
      ]
    },
    {
      "cell_type": "code",
      "metadata": {
        "id": "V8IMOJTMYHLV",
        "colab_type": "code",
        "colab": {
          "base_uri": "https://localhost:8080/",
          "height": 1000
        },
        "outputId": "aea60c87-6640-4596-9ee6-4fea69a24a75"
      },
      "source": [
        "cph.print_summary()"
      ],
      "execution_count": 16,
      "outputs": [
        {
          "output_type": "display_data",
          "data": {
            "text/html": [
              "<div>\n",
              "<style scoped>\n",
              "    .dataframe tbody tr th:only-of-type {\n",
              "        vertical-align: middle;\n",
              "    }\n",
              "\n",
              "    .dataframe tbody tr th {\n",
              "        vertical-align: top;\n",
              "    }\n",
              "\n",
              "    .dataframe thead th {\n",
              "        text-align: right;\n",
              "    }\n",
              "</style>\n",
              "<table border=\"1\" class=\"dataframe\">\n",
              "  <tbody>\n",
              "    <tr>\n",
              "      <th>model</th>\n",
              "      <td>lifelines.CoxPHFitter</td>\n",
              "    </tr>\n",
              "    <tr>\n",
              "      <th>duration col</th>\n",
              "      <td>'time'</td>\n",
              "    </tr>\n",
              "    <tr>\n",
              "      <th>event col</th>\n",
              "      <td>'status'</td>\n",
              "    </tr>\n",
              "    <tr>\n",
              "      <th>baseline estimation</th>\n",
              "      <td>breslow</td>\n",
              "    </tr>\n",
              "    <tr>\n",
              "      <th>number of observations</th>\n",
              "      <td>154</td>\n",
              "    </tr>\n",
              "    <tr>\n",
              "      <th>number of events observed</th>\n",
              "      <td>64</td>\n",
              "    </tr>\n",
              "    <tr>\n",
              "      <th>partial log-likelihood</th>\n",
              "      <td>-230.82</td>\n",
              "    </tr>\n",
              "    <tr>\n",
              "      <th>time fit was run</th>\n",
              "      <td>2020-06-15 14:27:08 UTC</td>\n",
              "    </tr>\n",
              "  </tbody>\n",
              "</table>\n",
              "</div><table border=\"1\" class=\"dataframe\">\n",
              "  <thead>\n",
              "    <tr style=\"text-align: right;\">\n",
              "      <th></th>\n",
              "      <th>coef</th>\n",
              "      <th>exp(coef)</th>\n",
              "      <th>se(coef)</th>\n",
              "      <th>coef lower 95%</th>\n",
              "      <th>coef upper 95%</th>\n",
              "      <th>exp(coef) lower 95%</th>\n",
              "      <th>exp(coef) upper 95%</th>\n",
              "      <th>z</th>\n",
              "      <th>p</th>\n",
              "      <th>-log2(p)</th>\n",
              "    </tr>\n",
              "  </thead>\n",
              "  <tbody>\n",
              "    <tr>\n",
              "      <th>trt</th>\n",
              "      <td>-0.22</td>\n",
              "      <td>0.80</td>\n",
              "      <td>0.30</td>\n",
              "      <td>-0.82</td>\n",
              "      <td>0.37</td>\n",
              "      <td>0.44</td>\n",
              "      <td>1.45</td>\n",
              "      <td>-0.73</td>\n",
              "      <td>0.46</td>\n",
              "      <td>1.11</td>\n",
              "    </tr>\n",
              "    <tr>\n",
              "      <th>age</th>\n",
              "      <td>0.02</td>\n",
              "      <td>1.02</td>\n",
              "      <td>0.02</td>\n",
              "      <td>-0.01</td>\n",
              "      <td>0.06</td>\n",
              "      <td>0.99</td>\n",
              "      <td>1.06</td>\n",
              "      <td>1.26</td>\n",
              "      <td>0.21</td>\n",
              "      <td>2.27</td>\n",
              "    </tr>\n",
              "    <tr>\n",
              "      <th>sex</th>\n",
              "      <td>0.34</td>\n",
              "      <td>1.41</td>\n",
              "      <td>0.40</td>\n",
              "      <td>-0.45</td>\n",
              "      <td>1.14</td>\n",
              "      <td>0.64</td>\n",
              "      <td>3.11</td>\n",
              "      <td>0.84</td>\n",
              "      <td>0.40</td>\n",
              "      <td>1.33</td>\n",
              "    </tr>\n",
              "    <tr>\n",
              "      <th>ascites</th>\n",
              "      <td>-0.10</td>\n",
              "      <td>0.91</td>\n",
              "      <td>0.56</td>\n",
              "      <td>-1.20</td>\n",
              "      <td>1.01</td>\n",
              "      <td>0.30</td>\n",
              "      <td>2.75</td>\n",
              "      <td>-0.17</td>\n",
              "      <td>0.86</td>\n",
              "      <td>0.21</td>\n",
              "    </tr>\n",
              "    <tr>\n",
              "      <th>hepato</th>\n",
              "      <td>0.31</td>\n",
              "      <td>1.36</td>\n",
              "      <td>0.38</td>\n",
              "      <td>-0.44</td>\n",
              "      <td>1.06</td>\n",
              "      <td>0.64</td>\n",
              "      <td>2.89</td>\n",
              "      <td>0.81</td>\n",
              "      <td>0.42</td>\n",
              "      <td>1.26</td>\n",
              "    </tr>\n",
              "    <tr>\n",
              "      <th>spiders</th>\n",
              "      <td>-0.18</td>\n",
              "      <td>0.83</td>\n",
              "      <td>0.38</td>\n",
              "      <td>-0.94</td>\n",
              "      <td>0.57</td>\n",
              "      <td>0.39</td>\n",
              "      <td>1.77</td>\n",
              "      <td>-0.47</td>\n",
              "      <td>0.64</td>\n",
              "      <td>0.66</td>\n",
              "    </tr>\n",
              "    <tr>\n",
              "      <th>bili</th>\n",
              "      <td>0.01</td>\n",
              "      <td>1.01</td>\n",
              "      <td>0.04</td>\n",
              "      <td>-0.06</td>\n",
              "      <td>0.08</td>\n",
              "      <td>0.94</td>\n",
              "      <td>1.09</td>\n",
              "      <td>0.29</td>\n",
              "      <td>0.77</td>\n",
              "      <td>0.37</td>\n",
              "    </tr>\n",
              "    <tr>\n",
              "      <th>chol</th>\n",
              "      <td>0.00</td>\n",
              "      <td>1.00</td>\n",
              "      <td>0.00</td>\n",
              "      <td>-0.00</td>\n",
              "      <td>0.00</td>\n",
              "      <td>1.00</td>\n",
              "      <td>1.00</td>\n",
              "      <td>1.28</td>\n",
              "      <td>0.20</td>\n",
              "      <td>2.33</td>\n",
              "    </tr>\n",
              "    <tr>\n",
              "      <th>albumin</th>\n",
              "      <td>-0.97</td>\n",
              "      <td>0.38</td>\n",
              "      <td>0.43</td>\n",
              "      <td>-1.81</td>\n",
              "      <td>-0.14</td>\n",
              "      <td>0.16</td>\n",
              "      <td>0.87</td>\n",
              "      <td>-2.28</td>\n",
              "      <td>0.02</td>\n",
              "      <td>5.46</td>\n",
              "    </tr>\n",
              "    <tr>\n",
              "      <th>copper</th>\n",
              "      <td>0.00</td>\n",
              "      <td>1.00</td>\n",
              "      <td>0.00</td>\n",
              "      <td>-0.00</td>\n",
              "      <td>0.01</td>\n",
              "      <td>1.00</td>\n",
              "      <td>1.01</td>\n",
              "      <td>1.91</td>\n",
              "      <td>0.06</td>\n",
              "      <td>4.14</td>\n",
              "    </tr>\n",
              "    <tr>\n",
              "      <th>alk.phos</th>\n",
              "      <td>-0.00</td>\n",
              "      <td>1.00</td>\n",
              "      <td>0.00</td>\n",
              "      <td>-0.00</td>\n",
              "      <td>0.00</td>\n",
              "      <td>1.00</td>\n",
              "      <td>1.00</td>\n",
              "      <td>-1.62</td>\n",
              "      <td>0.11</td>\n",
              "      <td>3.24</td>\n",
              "    </tr>\n",
              "    <tr>\n",
              "      <th>ast</th>\n",
              "      <td>0.00</td>\n",
              "      <td>1.00</td>\n",
              "      <td>0.00</td>\n",
              "      <td>-0.00</td>\n",
              "      <td>0.01</td>\n",
              "      <td>1.00</td>\n",
              "      <td>1.01</td>\n",
              "      <td>1.34</td>\n",
              "      <td>0.18</td>\n",
              "      <td>2.48</td>\n",
              "    </tr>\n",
              "    <tr>\n",
              "      <th>trig</th>\n",
              "      <td>0.00</td>\n",
              "      <td>1.00</td>\n",
              "      <td>0.00</td>\n",
              "      <td>-0.00</td>\n",
              "      <td>0.01</td>\n",
              "      <td>1.00</td>\n",
              "      <td>1.01</td>\n",
              "      <td>1.27</td>\n",
              "      <td>0.21</td>\n",
              "      <td>2.28</td>\n",
              "    </tr>\n",
              "    <tr>\n",
              "      <th>platelet</th>\n",
              "      <td>0.00</td>\n",
              "      <td>1.00</td>\n",
              "      <td>0.00</td>\n",
              "      <td>-0.00</td>\n",
              "      <td>0.00</td>\n",
              "      <td>1.00</td>\n",
              "      <td>1.00</td>\n",
              "      <td>0.92</td>\n",
              "      <td>0.36</td>\n",
              "      <td>1.48</td>\n",
              "    </tr>\n",
              "    <tr>\n",
              "      <th>protime</th>\n",
              "      <td>0.36</td>\n",
              "      <td>1.43</td>\n",
              "      <td>0.17</td>\n",
              "      <td>0.03</td>\n",
              "      <td>0.69</td>\n",
              "      <td>1.03</td>\n",
              "      <td>1.99</td>\n",
              "      <td>2.15</td>\n",
              "      <td>0.03</td>\n",
              "      <td>4.97</td>\n",
              "    </tr>\n",
              "    <tr>\n",
              "      <th>edema_0.5</th>\n",
              "      <td>1.24</td>\n",
              "      <td>3.47</td>\n",
              "      <td>0.46</td>\n",
              "      <td>0.35</td>\n",
              "      <td>2.14</td>\n",
              "      <td>1.42</td>\n",
              "      <td>8.50</td>\n",
              "      <td>2.72</td>\n",
              "      <td>0.01</td>\n",
              "      <td>7.28</td>\n",
              "    </tr>\n",
              "    <tr>\n",
              "      <th>edema_1.0</th>\n",
              "      <td>2.02</td>\n",
              "      <td>7.51</td>\n",
              "      <td>0.60</td>\n",
              "      <td>0.84</td>\n",
              "      <td>3.20</td>\n",
              "      <td>2.31</td>\n",
              "      <td>24.43</td>\n",
              "      <td>3.35</td>\n",
              "      <td>&lt;0.005</td>\n",
              "      <td>10.28</td>\n",
              "    </tr>\n",
              "    <tr>\n",
              "      <th>stage_2.0</th>\n",
              "      <td>1.21</td>\n",
              "      <td>3.35</td>\n",
              "      <td>1.08</td>\n",
              "      <td>-0.92</td>\n",
              "      <td>3.33</td>\n",
              "      <td>0.40</td>\n",
              "      <td>28.06</td>\n",
              "      <td>1.11</td>\n",
              "      <td>0.27</td>\n",
              "      <td>1.91</td>\n",
              "    </tr>\n",
              "    <tr>\n",
              "      <th>stage_3.0</th>\n",
              "      <td>1.18</td>\n",
              "      <td>3.27</td>\n",
              "      <td>1.09</td>\n",
              "      <td>-0.96</td>\n",
              "      <td>3.33</td>\n",
              "      <td>0.38</td>\n",
              "      <td>27.86</td>\n",
              "      <td>1.08</td>\n",
              "      <td>0.28</td>\n",
              "      <td>1.84</td>\n",
              "    </tr>\n",
              "    <tr>\n",
              "      <th>stage_4.0</th>\n",
              "      <td>1.41</td>\n",
              "      <td>4.10</td>\n",
              "      <td>1.15</td>\n",
              "      <td>-0.85</td>\n",
              "      <td>3.67</td>\n",
              "      <td>0.43</td>\n",
              "      <td>39.43</td>\n",
              "      <td>1.22</td>\n",
              "      <td>0.22</td>\n",
              "      <td>2.18</td>\n",
              "    </tr>\n",
              "  </tbody>\n",
              "</table><div>\n",
              "<style scoped>\n",
              "    .dataframe tbody tr th:only-of-type {\n",
              "        vertical-align: middle;\n",
              "    }\n",
              "\n",
              "    .dataframe tbody tr th {\n",
              "        vertical-align: top;\n",
              "    }\n",
              "\n",
              "    .dataframe thead th {\n",
              "        text-align: right;\n",
              "    }\n",
              "</style>\n",
              "<table border=\"1\" class=\"dataframe\">\n",
              "  <tbody>\n",
              "    <tr>\n",
              "      <th>Concordance</th>\n",
              "      <td>0.83</td>\n",
              "    </tr>\n",
              "    <tr>\n",
              "      <th>Partial AIC</th>\n",
              "      <td>501.64</td>\n",
              "    </tr>\n",
              "    <tr>\n",
              "      <th>log-likelihood ratio test</th>\n",
              "      <td>97.63 on 20 df</td>\n",
              "    </tr>\n",
              "    <tr>\n",
              "      <th>-log2(p) of ll-ratio test</th>\n",
              "      <td>38.13</td>\n",
              "    </tr>\n",
              "  </tbody>\n",
              "</table>\n",
              "</div>"
            ],
            "text/plain": [
              "<IPython.core.display.HTML object>"
            ]
          },
          "metadata": {
            "tags": []
          }
        }
      ]
    },
    {
      "cell_type": "code",
      "metadata": {
        "id": "QKbWVvvHYKqD",
        "colab_type": "code",
        "colab": {
          "base_uri": "https://localhost:8080/",
          "height": 265
        },
        "outputId": "c09af090-853c-4670-82f0-85c5347c522b"
      },
      "source": [
        "cph.plot_covariate_groups('trt', values=[0, 1]);"
      ],
      "execution_count": 17,
      "outputs": [
        {
          "output_type": "display_data",
          "data": {
            "image/png": "[encoded data removed]",
            "text/plain": [
              "<Figure size 432x288 with 1 Axes>"
            ]
          },
          "metadata": {
            "tags": [],
            "needs_background": "light"
          }
        }
      ]
    },
    {
      "cell_type": "code",
      "metadata": {
        "id": "tIm8d9exYZEe",
        "colab_type": "code",
        "colab": {}
      },
      "source": [
        "def hazard_ratio(case_1, case_2, cox_params):\n",
        "\n",
        "    hr = np.exp(cox_params.dot((case_1 - case_2).T))\n",
        "\n",
        "    return hr"
      ],
      "execution_count": 0,
      "outputs": []
    },
    {
      "cell_type": "code",
      "metadata": {
        "id": "Z0ZkbF5BYrGB",
        "colab_type": "code",
        "colab": {
          "base_uri": "https://localhost:8080/",
          "height": 34
        },
        "outputId": "d64d576f-ccf7-4330-c50e-fef81171ba9e"
      },
      "source": [
        "i = 1\n",
        "case_1 = one_hot_train.iloc[i, :].drop(['time', 'status'])\n",
        "\n",
        "j = 5\n",
        "case_2 = one_hot_train.iloc[j, :].drop(['time', 'status'])\n",
        "\n",
        "print(hazard_ratio(case_1.values, case_2.values, cph.params_.values))"
      ],
      "execution_count": 19,
      "outputs": [
        {
          "output_type": "stream",
          "text": [
            "15.029017732492221\n"
          ],
          "name": "stdout"
        }
      ]
    },
    {
      "cell_type": "code",
      "metadata": {
        "id": "DQNY8iUdY5t6",
        "colab_type": "code",
        "colab": {
          "base_uri": "https://localhost:8080/",
          "height": 868
        },
        "outputId": "930293de-7050-4c73-db22-34481468651f"
      },
      "source": [
        "i = 4\n",
        "case_a = one_hot_train.iloc[i, :].drop(['time', 'status'])\n",
        "\n",
        "j = 7\n",
        "case_b = one_hot_train.iloc[j, :].drop(['time', 'status'])\n",
        "\n",
        "print(\"Case A\\n\\n\", case_a, \"\\n\")\n",
        "print(\"Case B\\n\\n\", case_b, \"\\n\")\n",
        "print(\"Hazard Ratio:\", hazard_ratio(case_a.values, case_b.values, cph.params_.values))"
      ],
      "execution_count": 20,
      "outputs": [
        {
          "output_type": "stream",
          "text": [
            "Case A\n",
            "\n",
            " trt             0.00000\n",
            "age            56.44627\n",
            "sex             0.00000\n",
            "ascites         0.00000\n",
            "hepato          1.00000\n",
            "spiders         1.00000\n",
            "bili            1.10000\n",
            "chol          302.00000\n",
            "albumin         4.14000\n",
            "copper         54.00000\n",
            "alk.phos     7394.80000\n",
            "ast           113.52000\n",
            "trig           88.00000\n",
            "platelet      221.00000\n",
            "protime        10.60000\n",
            "edema_0.5       0.00000\n",
            "edema_1.0       0.00000\n",
            "stage_2.0       0.00000\n",
            "stage_3.0       1.00000\n",
            "stage_4.0       0.00000\n",
            "Name: 1, dtype: float64 \n",
            "\n",
            "Case B\n",
            "\n",
            " trt             0.000000\n",
            "age            55.392197\n",
            "sex             0.000000\n",
            "ascites         0.000000\n",
            "hepato          1.000000\n",
            "spiders         0.000000\n",
            "bili            0.700000\n",
            "chol          282.000000\n",
            "albumin         3.000000\n",
            "copper         52.000000\n",
            "alk.phos     9066.800000\n",
            "ast            72.240000\n",
            "trig          111.000000\n",
            "platelet      563.000000\n",
            "protime        10.600000\n",
            "edema_0.5       0.000000\n",
            "edema_1.0       0.000000\n",
            "stage_2.0       0.000000\n",
            "stage_3.0       0.000000\n",
            "stage_4.0       1.000000\n",
            "Name: 38, dtype: float64 \n",
            "\n",
            "Hazard Ratio: 0.178045000699713\n"
          ],
          "name": "stdout"
        }
      ]
    },
    {
      "cell_type": "code",
      "metadata": {
        "id": "yZwjwyWOZX05",
        "colab_type": "code",
        "colab": {}
      },
      "source": [
        "def harrell_c(y_true, scores, event):\n",
        "\n",
        "    n = len(y_true)\n",
        "    assert (len(scores) == n and len(event) == n)\n",
        "\n",
        "    concordant = 0.0\n",
        "    permissible = 0.0\n",
        "    ties = 0.0\n",
        "\n",
        "    result = 0.0\n",
        "\n",
        "    # use double for loop to go through cases\n",
        "    for i in range(n):\n",
        "        # set lower bound on j to avoid double counting\n",
        "        for j in range(i+1, n):\n",
        "\n",
        "            # check if at most one is censored\n",
        "            if event[i] == 1 or event[j] == 1:\n",
        "                # check if neither are censored\n",
        "                if event[i] == 1 and event[j] == 1:\n",
        "                    \n",
        "                    permissible += 1.0\n",
        "\n",
        "                    # check if scores are tied\n",
        "                    if scores[i] == scores[j]:\n",
        "                        ties += 1.0\n",
        "                    # check for concordant\n",
        "                    elif y_true[i] < y_true[j] and scores[i] > scores[j]:\n",
        "                        concordant += 1.0\n",
        "                    elif y_true[i] > y_true[j] and scores[i] < scores[j]:\n",
        "                        concordant += 1.0\n",
        "                \n",
        "                # check if one is censored\n",
        "                elif event[i] != event[j]:\n",
        "                    # get censored index\n",
        "                    censored = j\n",
        "                    uncensored = i\n",
        "\n",
        "                    if event[i] == 0:\n",
        "                        censored = i\n",
        "                        uncensored = j\n",
        "\n",
        "                    # check if permissible\n",
        "                    if y_true[uncensored] <= y_true[censored]:\n",
        "                        # update ties\n",
        "                        ties += 1.0\n",
        "                    \n",
        "                    # check if scores are concordant\n",
        "                    if scores[uncensored] > scores[censored]:\n",
        "                        concordant += 1.0\n",
        "    \n",
        "    # set result to c-index computed from number of concordant pairs,\n",
        "    # number of ties, and number of permissible pairs\n",
        "    result = (concordant + 0.5*ties) / permissible\n",
        "\n",
        "    return result"
      ],
      "execution_count": 0,
      "outputs": []
    },
    {
      "cell_type": "code",
      "metadata": {
        "id": "YAcbo3FdbBJ4",
        "colab_type": "code",
        "colab": {
          "base_uri": "https://localhost:8080/",
          "height": 601
        },
        "outputId": "f0ca0931-ed1c-419f-e545-5760e587b18d"
      },
      "source": [
        "y_true = [30, 12, 84, 9]\n",
        "\n",
        "# Case 1\n",
        "event = [1, 1, 1, 1]\n",
        "scores = [0.5, 0.9, 0.1, 1.0]\n",
        "print(\"Case 1\")\n",
        "print(\"Expected: 1.0, Output: {}\".format(harrell_c(y_true, scores, event)))\n",
        "\n",
        "# Case 2\n",
        "scores = [0.9, 0.5, 1.0, 0.1]\n",
        "print(\"\\nCase 2\")\n",
        "print(\"Expected: 0.0, Output: {}\".format(harrell_c(y_true, scores, event)))\n",
        "\n",
        "# Case 3\n",
        "event = [1, 0, 1, 1]\n",
        "scores = [0.5, 0.9, 0.1, 1.0]\n",
        "print(\"\\nCase 3\")\n",
        "print(\"Expected: 1.0, Output: {}\".format(harrell_c(y_true, scores, event)))\n",
        "\n",
        "# Case 4\n",
        "y_true = [30, 30, 20, 20]\n",
        "event = [1, 0, 1, 0]\n",
        "scores = [10, 5, 15, 20]\n",
        "print(\"\\nCase 4\")\n",
        "print(\"Expected: 0.75, Output: {}\".format(harrell_c(y_true, scores, event)))\n",
        "\n",
        "# Case 5\n",
        "y_true = list(reversed([30, 30, 30, 20, 20]))\n",
        "event = [0, 1, 0, 1, 0]\n",
        "scores = list(reversed([15, 10, 5, 15, 20]))\n",
        "print(\"\\nCase 5\")\n",
        "print(\"Expected: 0.583, Output: {}\".format(harrell_c(y_true, scores, event)))\n",
        "\n",
        "# Case 6\n",
        "y_true = [10,10]\n",
        "event = [0,1]\n",
        "scores = [4,5]\n",
        "print(\"\\nCase 6\")\n",
        "print(f\"Expected: 1.0, Output: {harrell_c(y_true, scores, event):.4f}\")"
      ],
      "execution_count": 22,
      "outputs": [
        {
          "output_type": "stream",
          "text": [
            "Case 1\n",
            "Expected: 1.0, Output: 1.0\n",
            "\n",
            "Case 2\n",
            "Expected: 0.0, Output: 0.0\n",
            "\n",
            "Case 3\n",
            "Expected: 1.0, Output: 1.5\n",
            "\n",
            "Case 4\n",
            "Expected: 0.75, Output: 4.5\n",
            "\n",
            "Case 5\n",
            "Expected: 0.583, Output: 5.5\n",
            "\n",
            "Case 6\n"
          ],
          "name": "stdout"
        },
        {
          "output_type": "error",
          "ename": "ZeroDivisionError",
          "evalue": "ignored",
          "traceback": [
            "\u001b[0;31m---------------------------------------------------------------------------\u001b[0m",
            "\u001b[0;31mZeroDivisionError\u001b[0m                         Traceback (most recent call last)",
            "\u001b[0;32m<ipython-input-22-a9cd060c84b5>\u001b[0m in \u001b[0;36m<module>\u001b[0;34m()\u001b[0m\n\u001b[1;32m     37\u001b[0m \u001b[0mscores\u001b[0m \u001b[0;34m=\u001b[0m \u001b[0;34m[\u001b[0m\u001b[0;36m4\u001b[0m\u001b[0;34m,\u001b[0m\u001b[0;36m5\u001b[0m\u001b[0;34m]\u001b[0m\u001b[0;34m\u001b[0m\u001b[0;34m\u001b[0m\u001b[0m\n\u001b[1;32m     38\u001b[0m \u001b[0mprint\u001b[0m\u001b[0;34m(\u001b[0m\u001b[0;34m\"\\nCase 6\"\u001b[0m\u001b[0;34m)\u001b[0m\u001b[0;34m\u001b[0m\u001b[0;34m\u001b[0m\u001b[0m\n\u001b[0;32m---> 39\u001b[0;31m \u001b[0mprint\u001b[0m\u001b[0;34m(\u001b[0m\u001b[0;34mf\"Expected: 1.0, Output: {harrell_c(y_true, scores, event):.4f}\"\u001b[0m\u001b[0;34m)\u001b[0m\u001b[0;34m\u001b[0m\u001b[0;34m\u001b[0m\u001b[0m\n\u001b[0m",
            "\u001b[0;32m<ipython-input-21-680aa49cfe7c>\u001b[0m in \u001b[0;36mharrell_c\u001b[0;34m(y_true, scores, event)\u001b[0m\n\u001b[1;32m     52\u001b[0m     \u001b[0;31m# set result to c-index computed from number of concordant pairs,\u001b[0m\u001b[0;34m\u001b[0m\u001b[0;34m\u001b[0m\u001b[0;34m\u001b[0m\u001b[0m\n\u001b[1;32m     53\u001b[0m     \u001b[0;31m# number of ties, and number of permissible pairs\u001b[0m\u001b[0;34m\u001b[0m\u001b[0;34m\u001b[0m\u001b[0;34m\u001b[0m\u001b[0m\n\u001b[0;32m---> 54\u001b[0;31m     \u001b[0mresult\u001b[0m \u001b[0;34m=\u001b[0m \u001b[0;34m(\u001b[0m\u001b[0mconcordant\u001b[0m \u001b[0;34m+\u001b[0m \u001b[0;36m0.5\u001b[0m\u001b[0;34m*\u001b[0m\u001b[0mties\u001b[0m\u001b[0;34m)\u001b[0m \u001b[0;34m/\u001b[0m \u001b[0mpermissible\u001b[0m\u001b[0;34m\u001b[0m\u001b[0;34m\u001b[0m\u001b[0m\n\u001b[0m\u001b[1;32m     55\u001b[0m \u001b[0;34m\u001b[0m\u001b[0m\n\u001b[1;32m     56\u001b[0m     \u001b[0;32mreturn\u001b[0m \u001b[0mresult\u001b[0m\u001b[0;34m\u001b[0m\u001b[0;34m\u001b[0m\u001b[0m\n",
            "\u001b[0;31mZeroDivisionError\u001b[0m: float division by zero"
          ]
        }
      ]
    },
    {
      "cell_type": "code",
      "metadata": {
        "id": "J6HJR1jMcSv6",
        "colab_type": "code",
        "colab": {
          "base_uri": "https://localhost:8080/",
          "height": 69
        },
        "outputId": "9725302d-a73b-4c2d-c859-f04c3577b879"
      },
      "source": [
        "# Train\n",
        "scores = cph.predict_partial_hazard(one_hot_train)\n",
        "cox_train_scores = harrell_c(one_hot_train['time'].values, scores.values, one_hot_train['status'].values)\n",
        "\n",
        "# Validation\n",
        "scores = cph.predict_partial_hazard(one_hot_val)\n",
        "cox_val_scores = harrell_c(one_hot_val['time'].values, scores.values, one_hot_val['status'].values)\n",
        "\n",
        "# Test \n",
        "scores = cph.predict_partial_hazard(one_hot_test)\n",
        "cox_test_scores = harrell_c(one_hot_test['time'].values, scores.values, one_hot_test['status'].values)\n",
        "\n",
        "print(\"Train:\", cox_train_scores)\n",
        "print(\"Val:\", cox_val_scores)\n",
        "print(\"Test:\", cox_test_scores)"
      ],
      "execution_count": 23,
      "outputs": [
        {
          "output_type": "stream",
          "text": [
            "Train: 4.086805555555555\n",
            "Val: 3.7246376811594204\n",
            "Test: 4.063241106719367\n"
          ],
          "name": "stdout"
        }
      ]
    },
    {
      "cell_type": "code",
      "metadata": {
        "id": "cnU63qlrdSSa",
        "colab_type": "code",
        "colab": {}
      },
      "source": [
        "%load_ext rpy2.ipython\n",
        "%R require(ggplot2)\n",
        "\n",
        "import rpy2\n",
        "from rpy2.robjects.packages import importr\n",
        "\n",
        "# import R's \"base\" package\n",
        "base = importr('base')\n",
        "\n",
        "# import R's \"utils\" package\n",
        "utils = importr('utils')\n",
        "\n",
        "# import rpy2's package module\n",
        "import rpy2.robjects.packages as rpackages\n",
        "\n",
        "rpy2.robjects.r('install.packages(\"randomForestSRC\")')\n",
        "forest = rpackages.importr('randomForestSRC', lib_loc='R')\n",
        "\n",
        "from rpy2 import robjects as ro\n",
        "R = ro.r\n",
        "\n",
        "from rpy2.robjects import pandas2ri\n",
        "pandas2ri.activate()"
      ],
      "execution_count": 0,
      "outputs": []
    },
    {
      "cell_type": "code",
      "metadata": {
        "id": "efd19RGcda6s",
        "colab_type": "code",
        "colab": {}
      },
      "source": [
        "model = forest.rfsrc(ro.Formula('Surv(time, status) ~ .'), data=df_train, ntree=300, nodedepth=5, seed=-1)"
      ],
      "execution_count": 0,
      "outputs": []
    },
    {
      "cell_type": "code",
      "metadata": {
        "id": "PKnIspZpf9j8",
        "colab_type": "code",
        "colab": {
          "base_uri": "https://localhost:8080/",
          "height": 295
        },
        "outputId": "110b2774-53f8-4e90-cb53-bb07d3a667e6"
      },
      "source": [
        "print(model)"
      ],
      "execution_count": 33,
      "outputs": [
        {
          "output_type": "stream",
          "text": [
            "                         Sample size: 154\n",
            "                    Number of deaths: 64\n",
            "                     Number of trees: 300\n",
            "           Forest terminal node size: 15\n",
            "       Average no. of terminal nodes: 6.54\n",
            "No. of variables tried at each split: 5\n",
            "              Total no. of variables: 17\n",
            "       Resampling used to grow trees: swor\n",
            "    Resample size used to grow trees: 97\n",
            "                            Analysis: RSF\n",
            "                              Family: surv\n",
            "                      Splitting rule: logrank *random*\n",
            "       Number of random split points: 10\n",
            "                          Error rate: 19.07%\n",
            "\n",
            "\n"
          ],
          "name": "stdout"
        }
      ]
    },
    {
      "cell_type": "code",
      "metadata": {
        "id": "yOCGuHe0f_Yo",
        "colab_type": "code",
        "colab": {
          "base_uri": "https://localhost:8080/",
          "height": 52
        },
        "outputId": "cf0c726e-48e3-4092-8f99-042e2acafc57"
      },
      "source": [
        "result = R.predict(model, newdata=df_val)\n",
        "scores = np.array(result.rx('predicted')[0])\n",
        "\n",
        "print(\"Cox Model Validation Score:\", cox_val_scores)\n",
        "print(\"Survival Forest Validation Score:\", harrell_c(df_val['time'].values, scores, df_val['status'].values))"
      ],
      "execution_count": 34,
      "outputs": [
        {
          "output_type": "stream",
          "text": [
            "Cox Model Validation Score: 3.7246376811594204\n",
            "Survival Forest Validation Score: 3.6666666666666665\n"
          ],
          "name": "stdout"
        }
      ]
    },
    {
      "cell_type": "code",
      "metadata": {
        "id": "K9itNgDzgT8H",
        "colab_type": "code",
        "colab": {
          "base_uri": "https://localhost:8080/",
          "height": 52
        },
        "outputId": "e6afe230-09f9-4106-cc28-e8eec1fcdd13"
      },
      "source": [
        "result = R.predict(model, newdata=df_test)\n",
        "scores = np.array(result.rx('predicted')[0])\n",
        "\n",
        "print(\"Cox Model Test Score:\", cox_test_scores)\n",
        "print(\"Survival Forest Validation Score:\", harrell_c(df_val['time'].values, scores, df_test['status'].values))"
      ],
      "execution_count": 35,
      "outputs": [
        {
          "output_type": "stream",
          "text": [
            "Cox Model Test Score: 4.063241106719367\n",
            "Survival Forest Validation Score: 3.4486166007905137\n"
          ],
          "name": "stdout"
        }
      ]
    },
    {
      "cell_type": "code",
      "metadata": {
        "id": "XXkongIBggER",
        "colab_type": "code",
        "colab": {
          "base_uri": "https://localhost:8080/",
          "height": 281
        },
        "outputId": "e11e82a0-f56e-4e07-ac65-83da3e1f77df"
      },
      "source": [
        "vimps = np.array(forest.vimp(model).rx('importance')[0])\n",
        "\n",
        "y = np.arange(len(vimps))\n",
        "\n",
        "plt.barh(y, np.abs(vimps))\n",
        "plt.yticks(y, df_train.drop(['time', 'status'], axis=1).columns)\n",
        "plt.title(\"VIMP (absolute value)\")\n",
        "plt.show()"
      ],
      "execution_count": 36,
      "outputs": [
        {
          "output_type": "display_data",
          "data": {
            "image/png": "[encoded data removed]",
            "text/plain": [
              "<Figure size 432x288 with 1 Axes>"
            ]
          },
          "metadata": {
            "tags": [],
            "needs_background": "light"
          }
        }
      ]
    },
    {
      "cell_type": "code",
      "metadata": {
        "id": "eX0yzojug2XJ",
        "colab_type": "code",
        "colab": {}
      },
      "source": [
        ""
      ],
      "execution_count": 0,
      "outputs": []
    }
  ]
}