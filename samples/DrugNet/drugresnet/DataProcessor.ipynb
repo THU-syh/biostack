{
 "cells": [
  {
   "cell_type": "code",
   "execution_count": 2,
   "metadata": {},
   "outputs": [],
   "source": [
    "import os\n",
    "import math\n",
    "import pandas as pd\n",
    "import numpy as np\n",
    "import matplotlib.pyplot as plt\n",
    "from sklearn.preprocessing import normalize, MinMaxScaler\n",
    "import matplotlib.pyplot as plt\n",
    "import seaborn as sns"
   ]
  },
  {
   "cell_type": "code",
   "execution_count": 39,
   "metadata": {},
   "outputs": [],
   "source": [
    "def processRegressionData(drug_names=None, path=\"../Data/Drugs_data/Regression/\"):\n",
    "    if not drug_names:\n",
    "        drug_names = os.listdir(path)\n",
    "        drug_names = [drug_names[i] for i in range(len(drug_names)) if drug_names[i].endswith(\".csv\") and not drug_names[i].__contains__(\"_preprocessed\")]\n",
    "    for drug_name in drug_names:\n",
    "        print(drug_name, end=\"\\t\")\n",
    "        data = pd.read_csv(path + drug_name, index_col=\"Unnamed: 0\")\n",
    "        data.drop([\"Primary Cell Line Name\",\n",
    "                   \"Target\", \"Doses (uM)\",\n",
    "                   \"Activity Data (median)\",\n",
    "                   \"Activity SD\",\n",
    "                   \"Num Data\",\n",
    "                   \"FitType\",\n",
    "                   \"EC50 (uM)\", \n",
    "                   \"Compound\", \n",
    "                   \"Amax\", \n",
    "                   \"ActArea\"], axis=1, inplace=True)\n",
    "        data.dropna(axis=0, how=\"any\", inplace=True)\n",
    "        data.to_csv(path + drug_name.split(\".\")[0] + \"_preprocessed.csv\", index_label=\"Cell Line\")\n",
    "        print(\"is finished!\")"
   ]
  },
  {
   "cell_type": "code",
   "execution_count": 40,
   "metadata": {},
   "outputs": [
    {
     "name": "stdout",
     "output_type": "stream",
     "text": [
      "TAE684.csv\tis finished!\n",
      "PHA-665752.csv\tis finished!\n",
      "AZD6244.csv\tis finished!\n",
      "AZD6244.csv\tis finished!\n",
      "RAF265.csv\tis finished!\n",
      "Sorafenib.csv\tis finished!\n",
      "Topotecan.csv\tis finished!\n"
     ]
    }
   ],
   "source": [
    "files = ['TAE684.csv',\n",
    "         'PHA-665752.csv', \n",
    "         'AZD6244.csv',\n",
    "         'AZD6244.csv',\n",
    "         'RAF265.csv',\n",
    "         'Sorafenib.csv',\n",
    "         'Topotecan.csv']\n",
    "processRegressionData(drug_names=files)"
   ]
  },
  {
   "cell_type": "code",
   "execution_count": 36,
   "metadata": {},
   "outputs": [],
   "source": [
    "y_data = data['IC50 (uM)']\n",
    "x_data = data.drop(['IC50 (uM)'], axis=1)"
   ]
  },
  {
   "cell_type": "code",
   "execution_count": 33,
   "metadata": {},
   "outputs": [
    {
     "name": "stderr",
     "output_type": "stream",
     "text": [
      "/Users/Future/anaconda/lib/python3.6/site-packages/ipykernel/__main__.py:1: FutureWarning: Method .as_matrix will be removed in a future version. Use .values instead.\n",
      "  if __name__ == '__main__':\n",
      "/Users/Future/anaconda/lib/python3.6/site-packages/ipykernel/__main__.py:2: FutureWarning: Method .as_matrix will be removed in a future version. Use .values instead.\n",
      "  from ipykernel import kernelapp as app\n"
     ]
    }
   ],
   "source": [
    "y_data = pd.DataFrame(np.reshape(y_data.as_matrix(), (-1, 1)))\n",
    "y_data = pd.DataFrame(normalize(y_data.as_matrix(), axis=0, norm='max'))"
   ]
  },
  {
   "cell_type": "code",
   "execution_count": 37,
   "metadata": {},
   "outputs": [
    {
     "name": "stderr",
     "output_type": "stream",
     "text": [
      "/Users/Future/anaconda/lib/python3.6/site-packages/matplotlib/axes/_axes.py:6462: UserWarning: The 'normed' kwarg is deprecated, and has been replaced by the 'density' kwarg.\n",
      "  warnings.warn(\"The 'normed' kwarg is deprecated, and has been \"\n"
     ]
    },
    {
     "data": {
      "image/png": "[encoded data removed]",
      "text/plain": [
       "<Figure size 432x288 with 1 Axes>"
      ]
     },
     "metadata": {},
     "output_type": "display_data"
    }
   ],
   "source": [
    "import seaborn as sns\n",
    "sns.distplot(y_data)\n",
    "plt.show()"
   ]
  },
  {
   "cell_type": "code",
   "execution_count": 21,
   "metadata": {},
   "outputs": [
    {
     "name": "stdout",
     "output_type": "stream",
     "text": [
      "TAE684_preprocessed.csv\tis finished!\n",
      "PHA-665752_preprocessed.csv\tis finished!\n",
      "AZD6244_preprocessed.csv\tis finished!\n",
      "RAF265_preprocessed.csv\tis finished!\n",
      "Sorafenib_preprocessed.csv\tis finished!\n",
      "Topotecan_preprocessed.csv\tis finished!\n",
      "PF2341066_preprocessed.csv\tis finished!\n",
      "PD-0325901_preprocessed.csv\tis finished!\n",
      "L-685458_preprocessed.csv\tis finished!\n",
      "Nutlin-3_preprocessed.csv\tis finished!\n",
      "17-AAG_preprocessed.csv\tis finished!\n",
      "ZD-6474_preprocessed.csv\tis finished!\n",
      "LBW242_preprocessed.csv\tis finished!\n",
      "PLX4720_preprocessed.csv\tis finished!\n",
      "AEW541_preprocessed.csv\tis finished!\n",
      "Erlotinib_preprocessed.csv\tis finished!\n",
      "PD-0332991_preprocessed.csv\tis finished!\n",
      "Panobinostat_preprocessed.csv\tis finished!\n",
      "AZD0530_preprocessed.csv\tis finished!\n",
      "Nilotinib_preprocessed.csv\tis finished!\n",
      "TKI258_preprocessed.csv\tis finished!\n",
      "Paclitaxel_preprocessed.csv\tis finished!\n",
      "Lapatinib_preprocessed.csv\tis finished!\n",
      "Irinotecan_preprocessed.csv\tis finished!\n"
     ]
    }
   ],
   "source": [
    "import os\n",
    "import pandas as pd\n",
    "import numpy as np\n",
    "path = \"../Data/CCLE/Regression/\"\n",
    "new_path = \"../Data/CCLE/Classification/\"\n",
    "files = os.listdir(\"../Data/CCLE/Regression/\")\n",
    "os.makedirs(\"../Results/CCLE/Drug Plots\", exist_ok=True)\n",
    "for file in files:\n",
    "    if file.endswith(\"_preprocessed.csv\"):\n",
    "        print(file, end=\"\\t\")\n",
    "        drug_name = file.split(\".\")[0].split(\"_\")[0]\n",
    "        data = pd.read_csv(path + file, index_col=\"Cell Line\")\n",
    "#         print(data)\n",
    "        data['class'] = np.nan\n",
    "#         sd = data['IC50 (uM)'].std()\n",
    "#         mean = data['IC50 (uM)'].mean()\n",
    "#         k = 0.25\n",
    "#         upper_threshold = mean + k * sd\n",
    "#         lower_threshold = mean - k * sd\n",
    "#         plt.close(\"all\")\n",
    "#         plt.figure(figsize=(15, 10))\n",
    "#         sns.distplot(data[\"IC50 (uM)\"])\n",
    "#         plt.axvline(x=upper_threshold, color='r', linestyle='dashed')\n",
    "#         plt.axvline(x=lower_threshold, color='r', linestyle='dashed')\n",
    "#         plt.ylabel(\"Frequency\")\n",
    "#         plt.xlabel(\"IC50\")\n",
    "#         plt.title(\"%s Distibution (UpperThreshold = %.4f) (LowerThreshold = %.4f)\" % (drug_name, upper_threshold, lower_threshold))\n",
    "#         plt.savefig(\"../Results/CCLE/Drug Plots/\" + drug_name + \".pdf\")\n",
    "#         scaler = MinMaxScaler(feature_range=(-1, 1))\n",
    "#         data[\"IC50 (uM)\"] = scaler.fit_transform(np.reshape(data[\"IC50 (uM)\"].values, newshape=(-1, 1)))\n",
    "#         sd = data['IC50 (uM)'].std()\n",
    "#         mean = data['IC50 (uM)'].mean()\n",
    "#         k = 0.25\n",
    "#         upper_threshold = mean + k * sd\n",
    "#         lower_threshold = mean - k * sd\n",
    "#         plt.close(\"all\")\n",
    "#         plt.figure(figsize=(15, 10))\n",
    "#         sns.distplot(data[\"IC50 (uM)\"])\n",
    "#         plt.axvline(x=upper_threshold, color='r', linestyle='dashed')\n",
    "#         plt.axvline(x=lower_threshold, color='r', linestyle='dashed')\n",
    "#         plt.ylabel(\"Frequency\")\n",
    "#         plt.xlabel(\"Normalized IC50\")\n",
    "#         plt.title(\"%s (Normalized) Distibution (UpperThreshold = %.4f) (LowerThreshold = %.4f)\" % (drug_name, upper_threshold, lower_threshold))\n",
    "#         plt.savefig(\"../Results/CCLE/Drug Plots/\" + drug_name + \"_normalized.pdf\")\n",
    "        data.loc[data['IC50 (uM)'] >= 8, 'class'] = 1 # resistant\n",
    "        data.loc[data['IC50 (uM)'] < 8, 'class'] = 0 # sensitive\n",
    "        data.dropna(how='any', axis=0, inplace=True)\n",
    "        data.drop([\"IC50 (uM)\"], axis=1, inplace=True)\n",
    "        data.to_csv(new_path + file.split(\"_\")[0] + \".csv\", index_label=\"Cell Line\")\n",
    "        print(\"is finished!\")"
   ]
  },
  {
   "cell_type": "code",
   "execution_count": 11,
   "metadata": {},
   "outputs": [],
   "source": [
    "path = \"../Data/CCLE/Regression/\"\n",
    "files = os.listdir(path)\n",
    "files = [files[i] for i in range(len(files)) if files[i].endswith(\"_preprocessed.csv\")]\n",
    "files = sorted(files)"
   ]
  },
  {
   "cell_type": "code",
   "execution_count": null,
   "metadata": {},
   "outputs": [],
   "source": [
    "for file in files:\n",
    "    data = pd.read_csv(path + file, index_col=\"Cell Line\")\n",
    "    cell_lines = data.index.tolist()\n",
    "    ic50_values = data[\"IC50 (uM)\"]\n",
    "    ic50_values_normalized = sorted(ic50_values)\n",
    "    plt.close(\"all\")\n",
    "    plt.figure(figsize=(15, 10))\n",
    "    plt.bar(y_pos, ic50_values_normalized)\n",
    "    plt.xticks(y_pos, cell_lines, rotation=45)\n",
    "    plt.show()\n",
    "    break"
   ]
  },
  {
   "cell_type": "code",
   "execution_count": 52,
   "metadata": {},
   "outputs": [],
   "source": []
  },
  {
   "cell_type": "code",
   "execution_count": null,
   "metadata": {},
   "outputs": [],
   "source": []
  },
  {
   "cell_type": "code",
   "execution_count": 23,
   "metadata": {},
   "outputs": [
    {
     "name": "stdout",
     "output_type": "stream",
     "text": [
      "17-AAG & 8.000 & 26 & 5.53\\%% & 444 & 94.47\\%%\n",
      "AEW541 & 8.000 & 224 & 47.66\\%% & 246 & 52.34\\%%\n",
      "AZD0530 & 8.000 & 321 & 68.15\\%% & 150 & 31.85\\%%\n",
      "AZD6244 & 8.000 & 342 & 72.77\\%% & 128 & 27.23\\%%\n",
      "Erlotinib & 8.000 & 381 & 81.06\\%% & 89 & 18.94\\%%\n",
      "Irinotecan & 8.000 & 1 & 0.34\\%% & 297 & 99.66\\%%\n",
      "L-685458 & 8.000 & 371 & 81.00\\%% & 87 & 19.00\\%%\n",
      "LBW242 & 8.000 & 432 & 91.91\\%% & 38 & 8.09\\%%\n",
      "Lapatinib & 8.000 & 325 & 69.00\\%% & 146 & 31.00\\%%\n",
      "Nilotinib & 8.000 & 266 & 68.03\\%% & 125 & 31.97\\%%\n",
      "Nutlin-3 & 8.000 & 442 & 93.84\\%% & 29 & 6.16\\%%\n",
      "PD-0325901 & 8.000 & 256 & 54.35\\%% & 215 & 45.65\\%%\n",
      "PD-0332991 & 8.000 & 327 & 80.94\\%% & 77 & 19.06\\%%\n",
      "PF2341066 & 8.000 & 280 & 59.45\\%% & 191 & 40.55\\%%\n",
      "PHA-665752 & 8.000 & 423 & 90.00\\%% & 47 & 10.00\\%%\n",
      "PLX4720 & 8.000 & 400 & 86.39\\%% & 63 & 13.61\\%%\n",
      "Paclitaxel & 8.000 & 32 & 6.81\\%% & 438 & 93.19\\%%\n",
      "Panobinostat & 8.000 & 0 & 0.00\\%% & 467 & 100.00\\%%\n",
      "RAF265 & 8.000 & 109 & 25.47\\%% & 319 & 74.53\\%%\n",
      "Sorafenib & 8.000 & 344 & 73.19\\%% & 126 & 26.81\\%%\n",
      "TAE684 & 8.000 & 136 & 28.87\\%% & 335 & 71.13\\%%\n",
      "TKI258 & 8.000 & 227 & 48.20\\%% & 244 & 51.80\\%%\n",
      "Topotecan & 8.000 & 31 & 6.58\\%% & 440 & 93.42\\%%\n",
      "ZD-6474 & 8.000 & 287 & 61.99\\%% & 176 & 38.01\\%%\n"
     ]
    }
   ],
   "source": [
    "compounds = os.listdir(\"../Data/CCLE/Classification/\")\n",
    "compounds = [compounds[i] for i in range(len(compounds)) if compounds[i].endswith(\".csv\") ]\n",
    "compounds = sorted(compounds)\n",
    "for compound in compounds:\n",
    "    data = pd.read_csv(\"../Data/CCLE/Classification/\" + compound)\n",
    "    n_resistant = len(data[data['class'] == 1])\n",
    "    n_sensitive = len(data[data['class'] == 0])\n",
    "    n_total = n_resistant + n_sensitive\n",
    "    p_resistant = float(n_resistant / n_total) * 100.0\n",
    "    p_sensitive = float(n_sensitive / n_total) * 100.0\n",
    "    print(\"%s & 8.000 & %d & %.2f\\\\\" % (compound.split(\".\")[0], n_resistant, p_resistant) + \"%\" + \" & %d & %.2f\" % (n_sensitive, p_sensitive) + \"\\\\%\\\\\\\\\")"
   ]
  }
 ],
 "metadata": {
  "kernelspec": {
   "display_name": "Python 3",
   "language": "python",
   "name": "python3"
  },
  "language_info": {
   "codemirror_mode": {
    "name": "ipython",
    "version": 3
   },
   "file_extension": ".py",
   "mimetype": "text/x-python",
   "name": "python",
   "nbconvert_exporter": "python",
   "pygments_lexer": "ipython3",
   "version": "3.6.4"
  }
 },
 "nbformat": 4,
 "nbformat_minor": 2
}
