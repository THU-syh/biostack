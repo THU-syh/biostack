{
 "cells": [
  {
   "cell_type": "markdown",
   "metadata": {
    "colab_type": "text",
    "id": "view-in-github"
   },
   "source": [
    "<a href=\"https://colab.research.google.com/github/totti0223/deep_learning_for_biologists_with_keras/blob/master/notebooks/demo_VGG16.ipynb\" target=\"_parent\"><img src=\"https://colab.research.google.com/assets/colab-badge.svg\" alt=\"Open In Colab\"/></a>"
   ]
  },
  {
   "cell_type": "code",
   "execution_count": null,
   "metadata": {
    "ExecuteTime": {
     "end_time": "2019-05-19T03:23:13.724270Z",
     "start_time": "2019-05-19T03:21:42.111505Z"
    },
    "colab": {},
    "colab_type": "code",
    "id": "6tvbkTq0p4Iy"
   },
   "outputs": [],
   "source": [
    "import keras\n",
    "from keras.applications import VGG19\n",
    "import keras.backend as K\n",
    "from keras.preprocessing.image import load_img, img_to_array\n",
    "from keras.applications.imagenet_utils import decode_predictions, preprocess_input\n",
    "import matplotlib.pyplot as plt\n",
    "plt.style.use('default')\n",
    "import numpy as np\n",
    "#モデルを読み込む\n",
    "K.clear_session()\n",
    "model = VGG19(weights=\"imagenet\")\n",
    "\n",
    "def predict(image,model):\n",
    "    img= preprocess_input(image)\n",
    "    #CNNによる推定\n",
    "    results = model.predict(img[np.newaxis,...])\n",
    "    result = results[0]\n",
    "    print(\"output shape:\",result.shape)\n",
    "    print(\"_______________\")\n",
    "    print(\"the first 10 raw result\")\n",
    "    print(result[:10])\n",
    "    print(\"_______________\")\n",
    "    print(\"the index of most highest probability and its value is...\")\n",
    "    print(\"index:\",np.argmax(result))\n",
    "    print(\"percentage (1/100):\",result[np.argmax(result)])\n",
    "    print(\"_______________\")\n",
    "    labels = decode_predictions(result[np.newaxis,...],top=3)\n",
    "    print(labels)\n"
   ]
  },
  {
   "cell_type": "markdown",
   "metadata": {
    "colab_type": "text",
    "id": "ImfbspO64sx8"
   },
   "source": [
    "# 実行例"
   ]
  },
  {
   "cell_type": "code",
   "execution_count": null,
   "metadata": {
    "ExecuteTime": {
     "end_time": "2019-05-19T03:24:20.973714Z",
     "start_time": "2019-05-19T03:24:20.864954Z"
    },
    "colab": {
     "base_uri": "https://localhost:8080/",
     "height": 450
    },
    "colab_type": "code",
    "id": "eggSOZrAqMoO",
    "outputId": "3b12df13-85ba-45ff-8f4d-c48c7ab78361"
   },
   "outputs": [],
   "source": [
    "#画像取得\n",
    "url = \"https://raw.githubusercontent.com/totti0223/deep_learning_for_biologists_with_keras/master/assets/dog.jpg\"\n",
    "!wget $url -q\n",
    "\n",
    "#画像を表示\n",
    "path = \"dog.jpg\"\n",
    "img = load_img(path, grayscale=False, color_mode='rgb', target_size=(224,224), interpolation='nearest')\n",
    "img = img_to_array(img)\n",
    "plt.imshow(img/255.)"
   ]
  },
  {
   "cell_type": "code",
   "execution_count": null,
   "metadata": {
    "colab": {
     "base_uri": "https://localhost:8080/",
     "height": 200
    },
    "colab_type": "code",
    "id": "L8EC4uVFrncj",
    "outputId": "f65ca511-ba00-4b4a-be24-d8883d223df6"
   },
   "outputs": [],
   "source": [
    "#推論する\n",
    "predict(img,model)"
   ]
  },
  {
   "cell_type": "markdown",
   "metadata": {
    "colab_type": "text",
    "id": "kKZRdmAA4nZX"
   },
   "source": [
    "# 自分のデータで推論してみましょう"
   ]
  },
  {
   "cell_type": "markdown",
   "metadata": {
    "colab": {
     "base_uri": "https://localhost:8080/",
     "height": 132
    },
    "colab_type": "code",
    "id": "GC98Trh9PTDE",
    "outputId": "c571ffa8-1189-4e09-ca7b-61962b47309e"
   },
   "source": [
    "自分のパソコンにあるファイルで推論をかけてみましょう。\n",
    "\n",
    "画面左（上ではない）のメニューからファイル→アップロード\n",
    "\n",
    "保存する際に名前をa.jpgに変えておくと下のコードがそのまま実行できます"
   ]
  },
  {
   "cell_type": "code",
   "execution_count": null,
   "metadata": {
    "ExecuteTime": {
     "end_time": "2019-05-19T03:03:10.590141Z",
     "start_time": "2019-05-19T03:03:09.762Z"
    },
    "colab": {
     "base_uri": "https://localhost:8080/",
     "height": 465
    },
    "colab_type": "code",
    "id": "vbHMCc3fOl5g",
    "outputId": "dd0c3171-a928-4f33-b2ef-12254abc430d"
   },
   "outputs": [],
   "source": [
    "path = \"a.jpg\" #アップロードしたファイル名。\n",
    "\n",
    "img = load_img(path, grayscale=False, color_mode='rgb', target_size=(224,224), interpolation='nearest')\n",
    "img = img_to_array(img)\n",
    "plt.imshow(img/255.)"
   ]
  },
  {
   "cell_type": "code",
   "execution_count": null,
   "metadata": {
    "colab": {
     "base_uri": "https://localhost:8080/",
     "height": 200
    },
    "colab_type": "code",
    "id": "Q9V2TfR8406g",
    "outputId": "d6c24d13-0dcf-42a3-8096-441fe21c0660"
   },
   "outputs": [],
   "source": [
    "predict(img,model)"
   ]
  }
 ],
 "metadata": {
  "accelerator": "GPU",
  "colab": {
   "collapsed_sections": [],
   "include_colab_link": true,
   "name": "demo_VGG16.ipynb",
   "provenance": [],
   "version": "0.3.2"
  },
  "kernelspec": {
   "display_name": "Environment (conda_keras)",
   "language": "python",
   "name": "conda_keras"
  },
  "language_info": {
   "codemirror_mode": {
    "name": "ipython",
    "version": 3
   },
   "file_extension": ".py",
   "mimetype": "text/x-python",
   "name": "python",
   "nbconvert_exporter": "python",
   "pygments_lexer": "ipython3",
   "version": "3.6.8"
  },
  "toc": {
   "base_numbering": 1,
   "nav_menu": {},
   "number_sections": true,
   "sideBar": true,
   "skip_h1_title": false,
   "title_cell": "Table of Contents",
   "title_sidebar": "Contents",
   "toc_cell": false,
   "toc_position": {},
   "toc_section_display": true,
   "toc_window_display": false
  }
 },
 "nbformat": 4,
 "nbformat_minor": 1
}
