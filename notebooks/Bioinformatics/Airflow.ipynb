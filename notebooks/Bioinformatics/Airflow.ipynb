{
 "cells": [
  {
   "cell_type": "code",
   "execution_count": 4,
   "metadata": {},
   "outputs": [],
   "source": [
    "from datetime import datetime, timedelta\n",
    "import os\n",
    "from os.path import isfile\n",
    "\n",
    "from airflow import DAG\n",
    "from airflow.operators.python_operator import PythonOperator\n",
    "from airflow.contrib.hooks.ftp_hook import FTPHook\n",
    "from airflow.contrib.hooks.fs_hook import FSHook\n",
    "from airflow.contrib.sensors.file_sensor import FileSensor"
   ]
  },
  {
   "cell_type": "code",
   "execution_count": 5,
   "metadata": {},
   "outputs": [],
   "source": [
    "dag_args = {\n",
    "    'owner': 'airflow',\n",
    "    'description': 'Bioinformatics with Python Cookbook pipeline',\n",
    "    'depends_on_past': False,\n",
    "    'start_date': datetime(2016, 1, 18),\n",
    "    'email': ['mahjouri.saamahn@gmail.com'],\n",
    "    'email_on_failure': False,\n",
    "    'email_on_retry': False,\n",
    "    'retries': 1,\n",
    "    'retry_delay': timedelta(minutes=1)\n",
    "}\n",
    "\n",
    "dag = DAG('bioinf', default_args=dag_args, schedule_interval=None)"
   ]
  },
  {
   "cell_type": "code",
   "execution_count": 6,
   "metadata": {},
   "outputs": [],
   "source": [
    "ftp_directory = '/hapmap/genotypes/hapmap3/plink_format/draft_2/'\n",
    "ftp_files = {\n",
    "    'hapmap3_r2_b36_fwd.consensus.qc.poly.map.bz2': 'hapmap.map.bz2',\n",
    "    'hapmap3_r2_b36_fwd.consensus.qc.poly.ped.bz2': 'hapmap.ped.bz2',\n",
    "    'relationships_w_pops_121708.txt': 'relationships.txt',\n",
    "}\n",
    "\n",
    "def download_files(ds, **kwargs):\n",
    "    fs = FSHook('fs_bioinf')\n",
    "    force = kwargs['params'].get('force', 'false') == 'true'\n",
    "    with FTPHook('ftp_ncbi') as ftp:\n",
    "        for ftp_name, local_name in ftp_files.items():\n",
    "            local_path = fs.get_path() + '/' + local_name\n",
    "            uncompressed_local_path = local_path[:-4]\n",
    "            if (isfile(local_path) or isfile(uncompressed_local_path)) and not force:\n",
    "                continue\n",
    "            if not isfile(local_name):\n",
    "                ftp.retrieve_file(ftp_directory + ftp_name, local_path)\n",
    "    open(fs.get_path() + '/done.txt', 'wb')\n",
    "    return True"
   ]
  },
  {
   "cell_type": "code",
   "execution_count": 7,
   "metadata": {},
   "outputs": [],
   "source": [
    "s_fs_sensor = FileSensor(\n",
    "    task_id='download_sensor',\n",
    "    fs_conn_id='fs_bioinf',\n",
    "    filepath='done.txt',\n",
    "    dag=dag)"
   ]
  },
  {
   "cell_type": "code",
   "execution_count": 8,
   "metadata": {},
   "outputs": [],
   "source": [
    "def uncompress_files(ds, **kwargs):\n",
    "    fs = FSHook('fs_bioinf')\n",
    "    if isfile(fs.get_path() + '/hapmap.ped'):\n",
    "        return True\n",
    "    os.system('bzip2 -d {fs_path}/hapmap.map.bz2'.format(fs_path=fs.get_path()))\n",
    "    os.system('bzip2 -d {fs_path}/hapmap.ped.bz2'.format(fs_path=fs.get_path()))\n",
    "    return True"
   ]
  },
  {
   "cell_type": "code",
   "execution_count": 9,
   "metadata": {},
   "outputs": [],
   "source": [
    "def subsample_10p(ds, **kwargs):\n",
    "    fs = FSHook('fs_bioinf')\n",
    "    os.system('/home/saams4u/anaconda3/bin/plink --recode --file {fs_path}/hapmap --noweb --out {fs_path}/hapmap10 --thin 0.1 --geno 0.1'.format(fs_path=fs.get_path()))\n",
    "    \n",
    "def subsample_1p(ds, **kwargs):\n",
    "    fs = FSHook('fs_bioinf')\n",
    "    os.system('/home/saams4u/anaconda3/bin/plink --recode --file {fs_path}/hapmap --noweb --out {fs_path}/hapmap1 --thin 0.01 --geno 0.1'.format(fs_path=fs.get_path()))"
   ]
  },
  {
   "cell_type": "code",
   "execution_count": 10,
   "metadata": {},
   "outputs": [],
   "source": [
    "def compute_pca(ds, **kwargs):\n",
    "    fs = FSHook('fs_bioinf')\n",
    "    os.system('/home/saams4u/anaconda3/bin/plink --pca --file {fs_path}/hapmap1 -out {fs_path}/pca'.format(fs_path=fs.get_path()))"
   ]
  },
  {
   "cell_type": "code",
   "execution_count": 11,
   "metadata": {},
   "outputs": [],
   "source": [
    "import matplotlib\n",
    "import pandas as pd\n",
    "\n",
    "def plot_pca(ds, **kwargs):\n",
    "    matplotlib.use('svg')\n",
    "    fs = FSHook('fs_bioinf')\n",
    "    pca_df = pd.read_csv(fs.get_path() + '/pca.eigenvec', sep=' ', header=None)\n",
    "    ax = pca_df.plot.scatter(x=2, y=3)\n",
    "    ax.figure.savefig(fs.get_path() + '/pca.png')"
   ]
  },
  {
   "cell_type": "code",
   "execution_count": 12,
   "metadata": {},
   "outputs": [],
   "source": [
    "t_download_files = PythonOperator(\n",
    "    task_id='download_files',\n",
    "    provide_context=True,\n",
    "    python_callable=download_files,\n",
    "    params={'force': 'Force download (boolean)'},\n",
    "    dag=dag)"
   ]
  },
  {
   "cell_type": "code",
   "execution_count": 13,
   "metadata": {},
   "outputs": [],
   "source": [
    "t_uncompress_files = PythonOperator(\n",
    "    task_id='uncompress_files',\n",
    "    provide_context=True,\n",
    "    python_callable=uncompress_files,\n",
    "    dag=dag)\n",
    "t_uncompress_files.set_upstream(s_fs_sensor)"
   ]
  },
  {
   "cell_type": "code",
   "execution_count": 14,
   "metadata": {},
   "outputs": [],
   "source": [
    "t_subsample_10p = PythonOperator(\n",
    "    task_id='subsample_10p',\n",
    "    provide_context=True,\n",
    "    python_callable=subsample_10p,\n",
    "    dag=dag)\n",
    "t_subsample_10p.set_upstream(t_uncompress_files)\n",
    "\n",
    "t_subsample_1p = PythonOperator(\n",
    "    task_id='subsample_1p',\n",
    "    provide_context=True,\n",
    "    python_callable=subsample_1p,\n",
    "    dag=dag)\n",
    "t_subsample_1p.set_upstream(t_uncompress_files)"
   ]
  },
  {
   "cell_type": "code",
   "execution_count": 16,
   "metadata": {},
   "outputs": [],
   "source": [
    "t_compute_pca = PythonOperator(\n",
    "    task_id='compute_pca',\n",
    "    provide_context=True,\n",
    "    python_callable=compute_pca,\n",
    "    dag=dag)\n",
    "t_compute_pca.set_upstream(t_subsample_1p)"
   ]
  },
  {
   "cell_type": "code",
   "execution_count": 17,
   "metadata": {},
   "outputs": [],
   "source": [
    "t_plot_pca = PythonOperator(\n",
    "    task_id='plot_pca',\n",
    "    provide_context=True,\n",
    "    python_callable=plot_pca,\n",
    "    dag=dag)\n",
    "t_plot_pca.set_upstream(t_compute_pca)"
   ]
  },
  {
   "cell_type": "code",
   "execution_count": 19,
   "metadata": {},
   "outputs": [],
   "source": [
    "s_fs_sensor.set_upstream(t_download_files)"
   ]
  },
  {
   "cell_type": "code",
   "execution_count": null,
   "metadata": {},
   "outputs": [],
   "source": []
  }
 ],
 "metadata": {
  "kernelspec": {
   "display_name": "Python 3",
   "language": "python",
   "name": "python3"
  },
  "language_info": {
   "codemirror_mode": {
    "name": "ipython",
    "version": 3
   },
   "file_extension": ".py",
   "mimetype": "text/x-python",
   "name": "python",
   "nbconvert_exporter": "python",
   "pygments_lexer": "ipython3",
   "version": "3.8.2"
  }
 },
 "nbformat": 4,
 "nbformat_minor": 4
}
