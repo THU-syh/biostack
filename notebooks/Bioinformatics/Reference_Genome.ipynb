{
 "cells": [
  {
   "cell_type": "code",
   "execution_count": 2,
   "metadata": {},
   "outputs": [],
   "source": [
    "from IPython.core.display import Image\n",
    "\n",
    "from reportlab.lib import colors\n",
    "from reportlab.lib.units import cm\n",
    "from Bio import SeqIO\n",
    "from Bio.Graphics import BasicChromosome"
   ]
  },
  {
   "cell_type": "code",
   "execution_count": 4,
   "metadata": {},
   "outputs": [
    {
     "name": "stdout",
     "output_type": "stream",
     "text": [
      "--2020-05-22 15:54:36--  http://plasmodb.org/common/downloads/release-9.3/Pfalciparum3D7/fasta/data/PlasmoDB-9.3_Pfalciparum3D7_Genome.fasta\n",
      "Resolving plasmodb.org (plasmodb.org)... 128.192.75.73\n",
      "Connecting to plasmodb.org (plasmodb.org)|128.192.75.73|:80... connected.\n",
      "HTTP request sent, awaiting response... 301 Moved Permanently\n",
      "Location: https://plasmodb.org/common/downloads/release-9.3/Pfalciparum3D7/fasta/data/PlasmoDB-9.3_Pfalciparum3D7_Genome.fasta [following]\n",
      "--2020-05-22 15:54:36--  https://plasmodb.org/common/downloads/release-9.3/Pfalciparum3D7/fasta/data/PlasmoDB-9.3_Pfalciparum3D7_Genome.fasta\n",
      "Connecting to plasmodb.org (plasmodb.org)|128.192.75.73|:443... connected.\n",
      "HTTP request sent, awaiting response... 200 OK\n",
      "Length: 23723399 (23M) [application/x-fasta]\n",
      "Saving to: ‘PlasmoDB-9.3_Pfalciparum3D7_Genome.fasta’\n",
      "\n",
      "PlasmoDB-9.3_Pfalci 100%[===================>]  22.62M  20.6MB/s    in 1.1s    \n",
      "\n",
      "2020-05-22 15:54:38 (20.6 MB/s) - ‘PlasmoDB-9.3_Pfalciparum3D7_Genome.fasta’ saved [23723399/23723399]\n",
      "\n"
     ]
    }
   ],
   "source": [
    "!wget http://plasmodb.org/common/downloads/release-9.3/Pfalciparum3D7/fasta/data/PlasmoDB-9.3_Pfalciparum3D7_Genome.fasta"
   ]
  },
  {
   "cell_type": "code",
   "execution_count": 3,
   "metadata": {},
   "outputs": [],
   "source": [
    "genome_name = 'PlasmoDB-9.3_Pfalciparum3D7_Genome.fasta'"
   ]
  },
  {
   "cell_type": "code",
   "execution_count": 4,
   "metadata": {},
   "outputs": [
    {
     "name": "stdout",
     "output_type": "stream",
     "text": [
      "Pf3D7_05_v3 | organism=Plasmodium_falciparum_3D7 | version=2012-02-01 | length=1343557 | SO=chromosome\n",
      "Pf3D7_10_v3 | organism=Plasmodium_falciparum_3D7 | version=2012-02-01 | length=1687656 | SO=chromosome\n",
      "Pf3D7_07_v3 | organism=Plasmodium_falciparum_3D7 | version=2012-02-01 | length=1445207 | SO=chromosome\n",
      "Pf3D7_03_v3 | organism=Plasmodium_falciparum_3D7 | version=2012-02-01 | length=1067971 | SO=chromosome\n",
      "Pf3D7_13_v3 | organism=Plasmodium_falciparum_3D7 | version=2012-02-01 | length=2925236 | SO=chromosome\n",
      "Pf3D7_11_v3 | organism=Plasmodium_falciparum_3D7 | version=2012-02-01 | length=2038340 | SO=chromosome\n",
      "Pf3D7_14_v3 | organism=Plasmodium_falciparum_3D7 | version=2012-02-01 | length=3291936 | SO=chromosome\n",
      "Pf3D7_09_v3 | organism=Plasmodium_falciparum_3D7 | version=2012-02-01 | length=1541735 | SO=chromosome\n",
      "Pf3D7_01_v3 | organism=Plasmodium_falciparum_3D7 | version=2012-02-01 | length=640851 | SO=chromosome\n",
      "Pf3D7_12_v3 | organism=Plasmodium_falciparum_3D7 | version=2012-02-01 | length=2271494 | SO=chromosome\n",
      "Pf3D7_08_v3 | organism=Plasmodium_falciparum_3D7 | version=2012-02-01 | length=1472805 | SO=chromosome\n",
      "Pf3D7_06_v3 | organism=Plasmodium_falciparum_3D7 | version=2012-02-01 | length=1418242 | SO=chromosome\n",
      "Pf3D7_04_v3 | organism=Plasmodium_falciparum_3D7 | version=2012-02-01 | length=1200490 | SO=chromosome\n",
      "Pf3D7_02_v3 | organism=Plasmodium_falciparum_3D7 | version=2012-02-01 | length=947102 | SO=chromosome\n",
      "M76611 | organism=Plasmodium_falciparum_3D7 | version=2012-02-01 | length=5967 | SO=mitochondrial_chromosome\n",
      "PFC10_API_IRAB | organism=Plasmodium_falciparum_3D7 | version=2012-02-01 | length=34242 | SO=apicoplast_chromosome\n"
     ]
    }
   ],
   "source": [
    "recs = SeqIO.parse(genome_name, 'fasta')\n",
    "chroms = {}\n",
    "\n",
    "for rec in recs:\n",
    "    print(rec.description)"
   ]
  },
  {
   "cell_type": "code",
   "execution_count": 5,
   "metadata": {},
   "outputs": [
    {
     "name": "stdout",
     "output_type": "stream",
     "text": [
      "16.14167716645667 43.673469387755105\n"
     ]
    }
   ],
   "source": [
    "from Bio import SeqUtils\n",
    "\n",
    "chrom_sizes = {}\n",
    "chrom_GC = {}\n",
    "\n",
    "recs = SeqIO.parse(genome_name, 'fasta')\n",
    "block_size = 50000\n",
    "\n",
    "min_GC = 100.0\n",
    "max_GC = 0.0\n",
    "\n",
    "for rec in recs:\n",
    "    if rec.description.find('SO=chromosome') == -1:\n",
    "        continue\n",
    "    chrom = int(rec.description.split('_')[1])\n",
    "    chrom_GC[chrom] = []\n",
    "    size = len(rec.seq)\n",
    "    chrom_sizes[chrom] = size\n",
    "    num_blocks = size // block_size + 1\n",
    "    \n",
    "    for block in range(num_blocks):\n",
    "        start = block_size * block\n",
    "        if block == num_blocks - 1:\n",
    "            end = size\n",
    "        else:\n",
    "            end = block_size + start + 1\n",
    "        block_seq = rec.seq[start:end]\n",
    "        block_GC = SeqUtils.GC(block_seq)\n",
    "        if block_GC < min_GC:\n",
    "            min_GC = block_GC\n",
    "        if block_GC > max_GC:\n",
    "            max_GC = block_GC\n",
    "        chrom_GC[chrom].append(block_GC)\n",
    "        \n",
    "print(min_GC, max_GC)"
   ]
  },
  {
   "cell_type": "code",
   "execution_count": 9,
   "metadata": {},
   "outputs": [],
   "source": [
    "# chroms = list(chrom_sizes.keys())\n",
    "# chroms.sort()\n",
    "\n",
    "# biggest_chrom = max(chrom_sizes.values())\n",
    "\n",
    "# my_genome = BasicChromosome.Organism(output_format=\"png\")\n",
    "\n",
    "# my_genome.page_size = (29.7*cm, 21*cm) # check\n",
    "# telomere_length = 10\n",
    "\n",
    "# bottom_GC = 17.5\n",
    "# top_GC = 22.0\n",
    "\n",
    "# for chrom in chroms:\n",
    "#     chrom_size = chrom_sizes[chrom]\n",
    "#     chrom_representation = BasicChromosome.Chromosome('Cr %d' % chrom)\n",
    "#     chrom_representation.scale_num = biggest_chrom\n",
    "\n",
    "#     tel = BasicChromosome.TelomereSegment()\n",
    "#     tel.scale = telomere_length\n",
    "#     chrom_representation.add(tel)\n",
    "\n",
    "#     num_blocks = len(chrom_GC[chrom])\n",
    "#     for block, gc in enumerate(chrom_GC[chrom]):\n",
    "#         my_GC = chrom_GC[chrom][block]\n",
    "#         body = BasicChromosome.ChromosomeSegment()\n",
    "#         if my_GC > top_GC:\n",
    "#             body.fill_color = colors.Color(1, 0, 0)\n",
    "#         elif my_GC < bottom_GC:\n",
    "#             body.fill_color = colors.Color(1, 1, 0)\n",
    "#         else:\n",
    "#             my_color = (my_GC - bottom_GC) / (top_GC - bottom_GC)\n",
    "#             body.fill_color = colors.Color(my_color, my_color, 1)\n",
    "#         if block < num_blocks - 1:\n",
    "#             body.scale = block_size\n",
    "#         else:\n",
    "#             body.scale = chrom_size % block_size\n",
    "#         chrom_representation.add(body)\n",
    "\n",
    "#     tel = BasicChromosome.TelomereSegment(inverted=True)\n",
    "#     tel.scale = telomere_length\n",
    "#     chrom_representation.add(tel)\n",
    "\n",
    "#     my_genome.add(chrom_representation)\n",
    "\n",
    "# my_genome.draw(\"falciparum.png\", \"Plasmodium falciparum\")\n",
    "# Image(\"falciparum.png\")"
   ]
  }
 ],
 "metadata": {
  "kernelspec": {
   "display_name": "Python 3",
   "language": "python",
   "name": "python3"
  },
  "language_info": {
   "codemirror_mode": {
    "name": "ipython",
    "version": 3
   },
   "file_extension": ".py",
   "mimetype": "text/x-python",
   "name": "python",
   "nbconvert_exporter": "python",
   "pygments_lexer": "ipython3",
   "version": "3.8.2"
  }
 },
 "nbformat": 4,
 "nbformat_minor": 4
}
