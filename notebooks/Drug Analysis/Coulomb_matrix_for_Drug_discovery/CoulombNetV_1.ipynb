{
  "nbformat": 4,
  "nbformat_minor": 0,
  "metadata": {
    "colab": {
      "name": "DeepDrugDiscoveryExpt1.ipynb",
      "version": "0.3.2",
      "provenance": [],
      "toc_visible": true,
      "machine_shape": "hm",
      "include_colab_link": true
    },
    "kernelspec": {
      "name": "python3",
      "display_name": "Python 3"
    },
    "accelerator": "GPU"
  },
  "cells": [
    {
      "cell_type": "markdown",
      "metadata": {
        "id": "view-in-github",
        "colab_type": "text"
      },
      "source": [
        "<a href=\"https://colab.research.google.com/github/aced125/Coulomb_matrix_for_Drug_discovery/blob/master/CoulombNetV_1.ipynb\" target=\"_parent\"><img src=\"https://colab.research.google.com/assets/colab-badge.svg\" alt=\"Open In Colab\"/></a>"
      ]
    },
    {
      "cell_type": "markdown",
      "metadata": {
        "id": "By328x-7JXS6",
        "colab_type": "text"
      },
      "source": [
        "![coulombnet](https://i.ibb.co/zbhw5L7/Coulomb-Net-slides-2.png)"
      ]
    },
    {
      "cell_type": "markdown",
      "metadata": {
        "id": "WskrCDqpVsNz",
        "colab_type": "text"
      },
      "source": [
        "## The Coulomb matrix is defined as:\n",
        "\n",
        "![eqn](http://latex2png.com/pngs/68fefc085c044ab6583b1f44e53de78e.png)\n",
        "\n",
        "### where $Z_i$ is the nuclear charge of atom $i$ and $r_{ij}$ is the scalar distance between the 3D coordinaters of atom $i$ and atom $j$.\n",
        "\n",
        "By encoding a molecule in this sort of representation, we encode **all the information necessary to solve the Schrodinger Equation** for this molecule, from which we can determine **all** properties of the molecule: atomisation energy, dipole moment, you name it...\n",
        "\n",
        "### Coulomb matrices have been used to successfully construct a map onto atomization energies in the past, which otherwise would be very computationally costly to calculate (using DFT calculations).\n",
        "\n",
        "### See for example: [Montavan et al 2012](https://pdfs.semanticscholar.org/5761/d22bb67798167a832879a473e0ece867df04.pdf)\n",
        "\n",
        "\n"
      ]
    },
    {
      "cell_type": "markdown",
      "metadata": {
        "id": "dpTZCtlOCz64",
        "colab_type": "text"
      },
      "source": [
        "![Coulomb_slide_1](https://i.ibb.co/KD2yFc3/Coulomb-Net-slides-5.png)"
      ]
    },
    {
      "cell_type": "markdown",
      "metadata": {
        "id": "TxDJk4-6im6W",
        "colab_type": "text"
      },
      "source": [
        "## In this notebook we attempt to construct a map from the Coulomb matrix onto the chemical binding of a drug to a particular target.\n",
        "\n",
        "### We find that the model predicts binding well, about as well as current state of the art models like the Random Forest classifier. \n",
        "\n",
        "### More testing shall elucidate whether this type of regressor/classifier can predict binding affinity well of very dissimilar molecules (out-of-domain applicability)"
      ]
    },
    {
      "cell_type": "markdown",
      "metadata": {
        "id": "GKUFB4jMDzk-",
        "colab_type": "text"
      },
      "source": [
        "![Coulomb_slide_2](https://i.ibb.co/SNFmL4Z/Coulomb-Net-slides-1.png)"
      ]
    },
    {
      "cell_type": "markdown",
      "metadata": {
        "id": "NotuJ1vBEl5N",
        "colab_type": "text"
      },
      "source": [
        "## The process is as follows:\n",
        "\n",
        "1. Generate the Coulomb matrix for each molecule\n",
        "2. Convert to a binary input for the neural network\n",
        "3. Train the neural network"
      ]
    },
    {
      "cell_type": "markdown",
      "metadata": {
        "id": "cAAoUDP7cyJN",
        "colab_type": "text"
      },
      "source": [
        "![Coulomb matrix](https://i.ibb.co/ZLyDvFd/Screenshot-2019-08-05-at-12-04-25.png)"
      ]
    },
    {
      "cell_type": "markdown",
      "metadata": {
        "id": "45rUo6xwe3Yd",
        "colab_type": "text"
      },
      "source": [
        "Source:  ['Montavon, G 2012, 'Learning Invariant Representations of Molecules for\n",
        "Atomization Energy Prediction', NIPS](https://pdfs.semanticscholar.org/5761/d22bb67798167a832879a473e0ece867df04.pdf)"
      ]
    },
    {
      "cell_type": "markdown",
      "metadata": {
        "id": "qX_B0AeXWmvP",
        "colab_type": "text"
      },
      "source": [
        "## Download RDKit into Google Colab"
      ]
    },
    {
      "cell_type": "code",
      "metadata": {
        "id": "rvSucSqsMXs9",
        "colab_type": "code",
        "outputId": "e7c6684d-ae7d-43d5-ea5e-d039ae85fa5e",
        "colab": {
          "base_uri": "https://localhost:8080/",
          "height": 1000
        }
      },
      "source": [
        "# Download RDKit\n",
        "!wget -c https://repo.continuum.io/miniconda/Miniconda3-latest-Linux-x86_64.sh\n",
        "!chmod +x Miniconda3-latest-Linux-x86_64.sh\n",
        "!time bash ./Miniconda3-latest-Linux-x86_64.sh -b -f -p /usr/local\n",
        "!time conda install -q -y -c conda-forge rdkit"
      ],
      "execution_count": 0,
      "outputs": [
        {
          "output_type": "stream",
          "text": [
            "--2019-08-05 15:13:16--  https://repo.continuum.io/miniconda/Miniconda3-latest-Linux-x86_64.sh\n",
            "Resolving repo.continuum.io (repo.continuum.io)... 104.18.201.79, 104.18.200.79, 2606:4700::6812:c94f, ...\n",
            "Connecting to repo.continuum.io (repo.continuum.io)|104.18.201.79|:443... connected.\n",
            "HTTP request sent, awaiting response... 416 Requested Range Not Satisfiable\n",
            "\n",
            "    The file is already fully retrieved; nothing to do.\n",
            "\n",
            "PREFIX=/usr/local\n",
            "Unpacking payload ...\n",
            "Collecting package metadata (current_repodata.json): - \b\b\\ \b\b| \b\b/ \b\b- \b\b\\ \b\b| \b\b/ \b\b- \b\b\\ \b\b| \b\b/ \b\b- \b\b\\ \b\b| \b\bdone\n",
            "Solving environment: - \b\b\\ \b\b| \b\b/ \b\b- \b\b\\ \b\b| \b\b/ \b\b- \b\b\\ \b\b| \b\b/ \b\b- \b\b\\ \b\b| \b\b/ \b\b- \b\b\\ \b\b| \b\b/ \b\b- \b\b\\ \b\b| \b\b/ \b\b- \b\b\\ \b\b| \b\b/ \b\b- \b\b\\ \b\b| \b\b/ \b\b- \b\b\\ \b\b| \b\b/ \b\b- \b\b\\ \b\b| \b\b/ \b\b- \b\b\\ \b\b| \b\b/ \b\b- \b\b\\ \b\b| \b\b/ \b\b- \b\b\\ \b\b| \b\b/ \b\b- \b\b\\ \b\b| \b\b/ \b\b- \b\b\\ \b\b| \b\b/ \b\b- \b\b\\ \b\b| \b\b/ \b\b- \b\b\\ \b\b| \b\b/ \b\b- \b\b\\ \b\b| \b\b/ \b\b- \b\b\\ \b\b| \b\b/ \b\b- \b\b\\ \b\b| \b\b/ \b\b- \b\b\\ \b\b| \b\b/ \b\b- \b\b\\ \b\b| \b\b/ \b\b- \b\b\\ \b\b| \b\b/ \b\b- \b\b\\ \b\b| \b\b/ \b\b- \b\b\\ \b\b| \b\b/ \b\b- \b\b\\ \b\b| \b\b/ \b\b- \b\b\\ \b\b| \b\b/ \b\b- \b\b\\ \b\b| \b\b/ \b\b- \b\b\\ \b\b| \b\b/ \b\b- \b\b\\ \b\b| \b\b/ \b\b- \b\b\\ \b\b| \b\b/ \b\b- \b\b\\ \b\b| \b\b/ \b\b- \b\b\\ \b\b| \b\b/ \b\b- \b\b\\ \b\b| \b\b/ \b\b- \b\b\\ \b\b| \b\b/ \b\b- \b\b\\ \b\b| \b\b/ \b\b- \b\b\\ \b\b| \b\b/ \b\b- \b\b\\ \b\b| \b\b/ \b\b- \b\b\\ \b\b| \b\b/ \b\b- \b\b\\ \b\b| \b\b/ \b\b- \b\b\\ \b\b| \b\b/ \b\b- \b\b\\ \b\b| \b\b/ \b\bdone\n",
            "\n",
            "## Package Plan ##\n",
            "\n",
            "  environment location: /usr/local\n",
            "\n",
            "  added / updated specs:\n",
            "    - _libgcc_mutex==0.1=main\n",
            "    - asn1crypto==0.24.0=py37_0\n",
            "    - bzip2==1.0.8=h7b6447c_0\n",
            "    - ca-certificates==2019.5.15=0\n",
            "    - certifi==2019.6.16=py37_0\n",
            "    - cffi==1.12.3=py37h2e261b9_0\n",
            "    - chardet==3.0.4=py37_1\n",
            "    - conda-package-handling==1.3.11=py37_0\n",
            "    - conda==4.7.10=py37_0\n",
            "    - cryptography==2.7=py37h1ba5d50_0\n",
            "    - idna==2.8=py37_0\n",
            "    - libarchive==3.3.3=h5d8350f_5\n",
            "    - libedit==3.1.20181209=hc058e9b_0\n",
            "    - libffi==3.2.1=hd88cf55_4\n",
            "    - libgcc-ng==9.1.0=hdf63c60_0\n",
            "    - libstdcxx-ng==9.1.0=hdf63c60_0\n",
            "    - libxml2==2.9.9=hea5a465_1\n",
            "    - lz4-c==1.8.1.2=h14c3975_0\n",
            "    - lzo==2.10=h49e0be7_2\n",
            "    - ncurses==6.1=he6710b0_1\n",
            "    - openssl==1.1.1c=h7b6447c_1\n",
            "    - pip==19.1.1=py37_0\n",
            "    - pycosat==0.6.3=py37h14c3975_0\n",
            "    - pycparser==2.19=py37_0\n",
            "    - pyopenssl==19.0.0=py37_0\n",
            "    - pysocks==1.7.0=py37_0\n",
            "    - python-libarchive-c==2.8=py37_11\n",
            "    - python==3.7.3=h0371630_0\n",
            "    - readline==7.0=h7b6447c_5\n",
            "    - requests==2.22.0=py37_0\n",
            "    - ruamel_yaml==0.15.46=py37h14c3975_0\n",
            "    - setuptools==41.0.1=py37_0\n",
            "    - six==1.12.0=py37_0\n",
            "    - sqlite==3.29.0=h7b6447c_0\n",
            "    - tk==8.6.8=hbc83047_0\n",
            "    - tqdm==4.32.1=py_0\n",
            "    - urllib3==1.24.2=py37_0\n",
            "    - wheel==0.33.4=py37_0\n",
            "    - xz==5.2.4=h14c3975_4\n",
            "    - yaml==0.1.7=had09818_2\n",
            "    - zlib==1.2.11=h7b6447c_3\n",
            "    - zstd==1.3.7=h0b5b093_0\n",
            "\n",
            "\n",
            "The following packages will be UPDATED:\n",
            "\n",
            "  openssl            conda-forge::openssl-1.1.1c-h516909a_0 --> pkgs/main::openssl-1.1.1c-h7b6447c_1\n",
            "\n",
            "The following packages will be SUPERSEDED by a higher-priority channel:\n",
            "\n",
            "  ca-certificates    conda-forge::ca-certificates-2019.6.1~ --> pkgs/main::ca-certificates-2019.5.15-0\n",
            "  certifi             conda-forge::certifi-2019.6.16-py37_1 --> pkgs/main::certifi-2019.6.16-py37_0\n",
            "  conda                                         conda-forge --> pkgs/main\n",
            "  lz4-c              conda-forge::lz4-c-1.8.3-he1b5a44_1001 --> pkgs/main::lz4-c-1.8.1.2-h14c3975_0\n",
            "\n",
            "\n",
            "Preparing transaction: \\ \b\bdone\n",
            "Executing transaction: / \b\b- \b\bdone\n",
            "installation finished.\n",
            "WARNING:\n",
            "    You currently have a PYTHONPATH environment variable set. This may cause\n",
            "    unexpected behavior when running the Python interpreter in Miniconda3.\n",
            "    For best results, please verify that your PYTHONPATH only points to\n",
            "    directories of packages that are compatible with the Python interpreter\n",
            "    in Miniconda3: /usr/local\n",
            "\n",
            "real\t0m41.010s\n",
            "user\t0m55.144s\n",
            "sys\t0m7.886s\n",
            "Collecting package metadata (current_repodata.json): ...working... done\n",
            "Solving environment: ...working... done\n",
            "\n",
            "## Package Plan ##\n",
            "\n",
            "  environment location: /usr/local\n",
            "\n",
            "  added / updated specs:\n",
            "    - rdkit\n",
            "\n",
            "\n",
            "The following packages will be downloaded:\n",
            "\n",
            "    package                    |            build\n",
            "    ---------------------------|-----------------\n",
            "    conda-4.7.10               |           py37_0         3.0 MB  conda-forge\n",
            "    ------------------------------------------------------------\n",
            "                                           Total:         3.0 MB\n",
            "\n",
            "The following packages will be UPDATED:\n",
            "\n",
            "  ca-certificates    pkgs/main::ca-certificates-2019.5.15-0 --> conda-forge::ca-certificates-2019.6.16-hecc5488_0\n",
            "  certifi               pkgs/main::certifi-2019.6.16-py37_0 --> conda-forge::certifi-2019.6.16-py37_1\n",
            "  lz4-c                 pkgs/main::lz4-c-1.8.1.2-h14c3975_0 --> conda-forge::lz4-c-1.8.3-he1b5a44_1001\n",
            "\n",
            "The following packages will be SUPERSEDED by a higher-priority channel:\n",
            "\n",
            "  conda                                           pkgs/main --> conda-forge\n",
            "  openssl              pkgs/main::openssl-1.1.1c-h7b6447c_1 --> conda-forge::openssl-1.1.1c-h516909a_0\n",
            "\n",
            "\n",
            "Preparing transaction: ...working... done\n",
            "Verifying transaction: ...working... done\n",
            "Executing transaction: ...working... done\n",
            "\n",
            "real\t0m11.073s\n",
            "user\t0m9.515s\n",
            "sys\t0m1.324s\n"
          ],
          "name": "stdout"
        }
      ]
    },
    {
      "cell_type": "markdown",
      "metadata": {
        "id": "iKjivByX72bC",
        "colab_type": "text"
      },
      "source": [
        "## Imports"
      ]
    },
    {
      "cell_type": "code",
      "metadata": {
        "id": "SmMQogveNEfW",
        "colab_type": "code",
        "outputId": "7f5db215-0b92-4296-e732-755643349bcb",
        "colab": {
          "base_uri": "https://localhost:8080/",
          "height": 34
        }
      },
      "source": [
        "# Append RDKit to system variables\n",
        "import sys\n",
        "import os\n",
        "sys.path.append('/usr/local/lib/python3.7/site-packages/')\n",
        "\n",
        "# Clone this repo to get the data (ADR1B strong and weak ligands)\n",
        "!git clone https://github.com/aced125/RandomMatrixDiscriminant\n",
        "  \n",
        "# Imports\n",
        "import os\n",
        "\n",
        "# RDkit, a chemoinformatics library\n",
        "import rdkit\n",
        "from rdkit import Chem\n",
        "from rdkit.Chem import AllChem as Chem\n",
        "from rdkit.Chem.Draw import IPythonConsole\n",
        "from rdkit.Chem import PandasTools\n",
        "\n",
        "# Numpy, a quintessential library\n",
        "import numpy as np\n",
        "np.random.seed(42)\n",
        "\n",
        "# Pandas\n",
        "import pandas as pd\n",
        "import matplotlib.pyplot as plt\n",
        "%matplotlib inline\n",
        "\n",
        "import functools\n",
        "\n",
        "# Sklearn imports \n",
        "from sklearn.model_selection import train_test_split\n",
        "\n",
        "from sklearn.metrics import confusion_matrix\n",
        "from sklearn.metrics import classification_report\n",
        "\n",
        "from sklearn.decomposition import PCA\n",
        "from sklearn.preprocessing import StandardScaler\n",
        "\n",
        "from tqdm import tqdm\n",
        "from tqdm import trange\n",
        "\n",
        "import warnings\n",
        "warnings.filterwarnings('ignore')"
      ],
      "execution_count": 0,
      "outputs": [
        {
          "output_type": "stream",
          "text": [
            "fatal: destination path 'RandomMatrixDiscriminant' already exists and is not an empty directory.\n"
          ],
          "name": "stdout"
        }
      ]
    },
    {
      "cell_type": "code",
      "metadata": {
        "id": "FTcuH0oPuujj",
        "colab_type": "code",
        "colab": {}
      },
      "source": [
        "def load_dataset(file_name, drop_non_binders = True):\n",
        "    '''\n",
        "    Function to load in the csv dataset from ChEMBL\n",
        "    '''\n",
        "    df = pd.read_csv(file_name, encoding = \"ISO-8859-1\")\n",
        "    \n",
        "    # Converting strings to floats, also set all non-numbers to NaN\n",
        "    df['Standard Vaue'] = pd.to_numeric(df['Standard Value'],errors = 'coerce')\n",
        "\n",
        "    # Drop Nans in affinity column\n",
        "    df.dropna(subset = ['Standard Value'], inplace = True)\n",
        "    df.reset_index(inplace = True)\n",
        "    df = df.drop('index',axis = 1)\n",
        "    \n",
        "    # Filtering for only activities recorded in nanomolar affinity\n",
        "    df = df[df['Standard Units'] == 'nM']    \n",
        "\n",
        "    # Dropping any molecules that don't have a SMILES\n",
        "    df = df.dropna(subset = ['Canonical Smiles'])\n",
        "    \n",
        "    # Considering only the binders (compounds with affinities of less than 1000nM)\n",
        "    if drop_non_binders:\n",
        "        df = df[df['Standard Value'] < 1000]\n",
        "    \n",
        "    # Dropping duplicate molecules\n",
        "    df = df.drop_duplicates(subset = 'Canonical Smiles', keep = 'first')\n",
        "    \n",
        "    return df"
      ],
      "execution_count": 0,
      "outputs": []
    },
    {
      "cell_type": "code",
      "metadata": {
        "id": "kK62T7ubs00G",
        "colab_type": "code",
        "colab": {}
      },
      "source": [
        "df_train_test = load_dataset('/content/RandomMatrixDiscriminant/adr1b_chembl.csv', False)"
      ],
      "execution_count": 0,
      "outputs": []
    },
    {
      "cell_type": "markdown",
      "metadata": {
        "id": "YBB_AVHbXcMN",
        "colab_type": "text"
      },
      "source": [
        "## The dataframe has the standard value (binding affinity in nM) of the drug, as well as its SMILES string, which we will use to get a view of the molecule, and eventually encode it into its Coulomb matrix"
      ]
    },
    {
      "cell_type": "code",
      "metadata": {
        "id": "6CDN-WC5QD5-",
        "colab_type": "code",
        "outputId": "bef92dad-7955-4c3a-f478-7d364314400a",
        "colab": {
          "base_uri": "https://localhost:8080/",
          "height": 1000
        }
      },
      "source": [
        "df_train_test[['Standard Value','Canonical Smiles']]"
      ],
      "execution_count": 0,
      "outputs": [
        {
          "output_type": "execute_result",
          "data": {
            "text/html": [
              "<div>\n",
              "<style scoped>\n",
              "    .dataframe tbody tr th:only-of-type {\n",
              "        vertical-align: middle;\n",
              "    }\n",
              "\n",
              "    .dataframe tbody tr th {\n",
              "        vertical-align: top;\n",
              "    }\n",
              "\n",
              "    .dataframe thead th {\n",
              "        text-align: right;\n",
              "    }\n",
              "</style>\n",
              "<table border=\"1\" class=\"dataframe\">\n",
              "  <thead>\n",
              "    <tr style=\"text-align: right;\">\n",
              "      <th></th>\n",
              "      <th>Standard Value</th>\n",
              "      <th>Canonical Smiles</th>\n",
              "    </tr>\n",
              "  </thead>\n",
              "  <tbody>\n",
              "    <tr>\n",
              "      <th>0</th>\n",
              "      <td>1000.00</td>\n",
              "      <td>CCCCCCCCNC(=O)N1CCc2cc(ccc12)S(=O)(=O)Nc3ccccc3</td>\n",
              "    </tr>\n",
              "    <tr>\n",
              "      <th>1</th>\n",
              "      <td>10000.00</td>\n",
              "      <td>COc1ccc(cc1OC)[C@@H](Cc2ccccc2)NC[C@H](O)Cc3cc...</td>\n",
              "    </tr>\n",
              "    <tr>\n",
              "      <th>2</th>\n",
              "      <td>6000.00</td>\n",
              "      <td>COc1ccc(cc1)[C@@H](Cc2ccccc2)NC[C@@H](O)Cc3ccc...</td>\n",
              "    </tr>\n",
              "    <tr>\n",
              "      <th>3</th>\n",
              "      <td>730.00</td>\n",
              "      <td>COc1ccc(cc1)[C@H](CCc2ccccc2)NC[C@H](O)Cc3ccc(...</td>\n",
              "    </tr>\n",
              "    <tr>\n",
              "      <th>4</th>\n",
              "      <td>3981.07</td>\n",
              "      <td>O[C@@H](CNCCNc1cccc(c1)c2sccc2C(=O)O)c3cccc(Cl)c3</td>\n",
              "    </tr>\n",
              "    <tr>\n",
              "      <th>5</th>\n",
              "      <td>19.95</td>\n",
              "      <td>C[C@H](CNc1ccc(cc1)c2nc(cs2)C(=O)O)NC[C@H](O)c...</td>\n",
              "    </tr>\n",
              "    <tr>\n",
              "      <th>8</th>\n",
              "      <td>111000.00</td>\n",
              "      <td>[Na+].[Na+].C[C@H](Cc1ccc2OC(Oc2c1)(C(=O)[O-])...</td>\n",
              "    </tr>\n",
              "    <tr>\n",
              "      <th>9</th>\n",
              "      <td>186.00</td>\n",
              "      <td>CC(C)NCC(O)COc1ccc(C)c2CCCc12</td>\n",
              "    </tr>\n",
              "    <tr>\n",
              "      <th>11</th>\n",
              "      <td>310.00</td>\n",
              "      <td>C[C@H](Cc1ccc(OCC(=O)NO)cc1)NC[C@H](O)c2cccc(C...</td>\n",
              "    </tr>\n",
              "    <tr>\n",
              "      <th>14</th>\n",
              "      <td>580.00</td>\n",
              "      <td>CCCCCCCCc1onc(n1)N2CCc3cc(ccc23)S(=O)(=O)Nc4cc...</td>\n",
              "    </tr>\n",
              "    <tr>\n",
              "      <th>15</th>\n",
              "      <td>1800.00</td>\n",
              "      <td>CCCCCCc1ccc(nc1)N2CCc3cc(ccc23)S(=O)(=O)Nc4ccccc4</td>\n",
              "    </tr>\n",
              "    <tr>\n",
              "      <th>17</th>\n",
              "      <td>100000.00</td>\n",
              "      <td>COc1ccc(cc1)S(=O)(=O)N2CCC(CC2)NC[C@H](O)COc3c...</td>\n",
              "    </tr>\n",
              "    <tr>\n",
              "      <th>18</th>\n",
              "      <td>794.33</td>\n",
              "      <td>C[C@H](CNc1cccc(CCS(=O)(=O)NS(=O)(=O)c2ccccc2)...</td>\n",
              "    </tr>\n",
              "    <tr>\n",
              "      <th>19</th>\n",
              "      <td>2000.00</td>\n",
              "      <td>O[C@@H](CNCCc1ccc(NS(=O)(=O)c2ccc(cc2)c3oc(Cc4...</td>\n",
              "    </tr>\n",
              "    <tr>\n",
              "      <th>20</th>\n",
              "      <td>1200.00</td>\n",
              "      <td>O[C@@H](CNCCc1ccc(NS(=O)(=O)c2ccc(cc2)c3coc(Cc...</td>\n",
              "    </tr>\n",
              "    <tr>\n",
              "      <th>21</th>\n",
              "      <td>1000.00</td>\n",
              "      <td>O[C@@H](CNCCc1ccc(NS(=O)(=O)c2ccc(cc2)c3oc(CCC...</td>\n",
              "    </tr>\n",
              "    <tr>\n",
              "      <th>22</th>\n",
              "      <td>2000.00</td>\n",
              "      <td>Nc1ccc(OC[C@@H](O)CNCCc2ccc(NS(=O)(=O)c3ccc(Cl...</td>\n",
              "    </tr>\n",
              "    <tr>\n",
              "      <th>23</th>\n",
              "      <td>2400.00</td>\n",
              "      <td>O[C@@H](CNCCc1ccc(NS(=O)(=O)c2ccc(cc2)c3coc(Cc...</td>\n",
              "    </tr>\n",
              "    <tr>\n",
              "      <th>26</th>\n",
              "      <td>1500.00</td>\n",
              "      <td>CS(=O)(=O)Nc1cc(C[C@H](O)CN[C@H](Cc2ccccc2)c3c...</td>\n",
              "    </tr>\n",
              "    <tr>\n",
              "      <th>27</th>\n",
              "      <td>800.00</td>\n",
              "      <td>Cc1cc(ccc1c2ccc3CC[C@@H](Cc3c2)NC[C@H](O)c4ccc...</td>\n",
              "    </tr>\n",
              "    <tr>\n",
              "      <th>28</th>\n",
              "      <td>620.00</td>\n",
              "      <td>O[C@@H](CN[C@H]1CCc2ccc(cc2C1)c3ccc(cc3)C(=O)O...</td>\n",
              "    </tr>\n",
              "    <tr>\n",
              "      <th>29</th>\n",
              "      <td>1500.00</td>\n",
              "      <td>O[C@@H](CN[C@H]1CCc2ccc(OCC(=O)O)cc2C1)c3cccc(...</td>\n",
              "    </tr>\n",
              "    <tr>\n",
              "      <th>30</th>\n",
              "      <td>97.00</td>\n",
              "      <td>O[C@@H](CNCCOc1ccc(cc1)c2csc(n2)c3ccncc3)c4cccnc4</td>\n",
              "    </tr>\n",
              "    <tr>\n",
              "      <th>31</th>\n",
              "      <td>100.00</td>\n",
              "      <td>C[C@H](CNc1ccc(cc1)c2sccc2C(=O)O)NC[C@H](O)c3c...</td>\n",
              "    </tr>\n",
              "    <tr>\n",
              "      <th>32</th>\n",
              "      <td>100.00</td>\n",
              "      <td>C[C@H](CNc1cccc(c1)c2occc2C(=O)O)NC[C@H](O)c3c...</td>\n",
              "    </tr>\n",
              "    <tr>\n",
              "      <th>33</th>\n",
              "      <td>12.02</td>\n",
              "      <td>C[C@H](CNc1ccc(cc1)c2csc(n2)C(=O)O)NC[C@H](O)c...</td>\n",
              "    </tr>\n",
              "    <tr>\n",
              "      <th>34</th>\n",
              "      <td>12.59</td>\n",
              "      <td>C[C@H](CNc1ccc(cc1)c2occ(n2)C(=O)O)NC[C@H](O)c...</td>\n",
              "    </tr>\n",
              "    <tr>\n",
              "      <th>35</th>\n",
              "      <td>10000.00</td>\n",
              "      <td>COc1cccc(c1)[C@@H](Cc2ccccc2)NC[C@H](O)Cc3ccc(...</td>\n",
              "    </tr>\n",
              "    <tr>\n",
              "      <th>36</th>\n",
              "      <td>1000.00</td>\n",
              "      <td>Cc1ccc(Oc2ccc3CC[C@@H](Cc3c2)NC[C@H](O)c4cccc(...</td>\n",
              "    </tr>\n",
              "    <tr>\n",
              "      <th>40</th>\n",
              "      <td>3500.00</td>\n",
              "      <td>O[C@@H](CNCCc1ccc(NS(=O)(=O)c2ccc(cc2)c3onc(CO...</td>\n",
              "    </tr>\n",
              "    <tr>\n",
              "      <th>...</th>\n",
              "      <td>...</td>\n",
              "      <td>...</td>\n",
              "    </tr>\n",
              "    <tr>\n",
              "      <th>2619</th>\n",
              "      <td>630.96</td>\n",
              "      <td>CB1Nc2c(OCC(O)CN(C)C)cccc2C=C1</td>\n",
              "    </tr>\n",
              "    <tr>\n",
              "      <th>2622</th>\n",
              "      <td>33.00</td>\n",
              "      <td>CCc1cccc(c1)[C@H]2CCC[C@H]2NC[C@H](O)c3ccc(O)c...</td>\n",
              "    </tr>\n",
              "    <tr>\n",
              "      <th>2623</th>\n",
              "      <td>40.00</td>\n",
              "      <td>O[C@@H](CN[C@@H]1CCC[C@@H]1C2CCCCC2)c3ccc(O)c4...</td>\n",
              "    </tr>\n",
              "    <tr>\n",
              "      <th>2626</th>\n",
              "      <td>20000.00</td>\n",
              "      <td>O[C@@H]([C@H]1CC[C@@H](Cc2ccc(cc2)C(=O)N3CCN(C...</td>\n",
              "    </tr>\n",
              "    <tr>\n",
              "      <th>2627</th>\n",
              "      <td>13803.84</td>\n",
              "      <td>C[n+]1c(\\C=C\\c2ccccc2Cl)sc3ccccc13</td>\n",
              "    </tr>\n",
              "    <tr>\n",
              "      <th>2629</th>\n",
              "      <td>10000.00</td>\n",
              "      <td>Cc1cc(C)c(NC(=O)OC2CCN(CCCCCCCCCNC[C@H](O)c3cc...</td>\n",
              "    </tr>\n",
              "    <tr>\n",
              "      <th>2630</th>\n",
              "      <td>47863.01</td>\n",
              "      <td>CCCCC1CCN(CCCN2C(=O)CCc3ccccc23)CC1</td>\n",
              "    </tr>\n",
              "    <tr>\n",
              "      <th>2631</th>\n",
              "      <td>21.00</td>\n",
              "      <td>Cc1ccc(CCNC[C@H](O)c2ccc(O)c3NC(=O)Sc23)cc1C</td>\n",
              "    </tr>\n",
              "    <tr>\n",
              "      <th>2632</th>\n",
              "      <td>10000.00</td>\n",
              "      <td>CS(=O)(=O)Nc1cc(ccc1O)[C@@H](O)CNCCCCCCCCCN2CC...</td>\n",
              "    </tr>\n",
              "    <tr>\n",
              "      <th>2633</th>\n",
              "      <td>20000.00</td>\n",
              "      <td>Nc1nc2[C@@H](CCCCc2s1)C(=O)Nc3ccc(C[C@@H]4CC[C...</td>\n",
              "    </tr>\n",
              "    <tr>\n",
              "      <th>2634</th>\n",
              "      <td>10000.00</td>\n",
              "      <td>CS(=O)(=O)Nc1cc(ccc1O)[C@@H](O)CNCCCCCCCCCN2CC...</td>\n",
              "    </tr>\n",
              "    <tr>\n",
              "      <th>2635</th>\n",
              "      <td>10000.00</td>\n",
              "      <td>Cc1ccc(NC(=O)OC2CCN(CCCCCCCCCNC[C@H](O)c3ccc(O...</td>\n",
              "    </tr>\n",
              "    <tr>\n",
              "      <th>2636</th>\n",
              "      <td>10000.00</td>\n",
              "      <td>CS(=O)(=O)Nc1cc(ccc1O)[C@@H](O)CNCCCCCCCCCN2CC...</td>\n",
              "    </tr>\n",
              "    <tr>\n",
              "      <th>2637</th>\n",
              "      <td>10000.00</td>\n",
              "      <td>CS(=O)(=O)Nc1cc(ccc1O)[C@@H](O)CNCCCCCCCCCCCN2...</td>\n",
              "    </tr>\n",
              "    <tr>\n",
              "      <th>2640</th>\n",
              "      <td>10000.00</td>\n",
              "      <td>CS(=O)(=O)Nc1cc(ccc1O)[C@@H](O)CNCCCCCCCCCN2CC...</td>\n",
              "    </tr>\n",
              "    <tr>\n",
              "      <th>2642</th>\n",
              "      <td>227.00</td>\n",
              "      <td>CCc1cc2CC(Cc2cc1CC)NCC(O)c3ccc(O)c4NC(=O)C(=Cc...</td>\n",
              "    </tr>\n",
              "    <tr>\n",
              "      <th>2646</th>\n",
              "      <td>10000.00</td>\n",
              "      <td>Cc1n[nH]c2cc(OCCNC[C@H](O)c3cccc(NS(=O)(=O)C)c...</td>\n",
              "    </tr>\n",
              "    <tr>\n",
              "      <th>2656</th>\n",
              "      <td>0.11</td>\n",
              "      <td>COc1ccc(NC(=O)NCCNC[C@H](O)COc2ccccc2C#N)cc1</td>\n",
              "    </tr>\n",
              "    <tr>\n",
              "      <th>2660</th>\n",
              "      <td>20000.00</td>\n",
              "      <td>O[C@@H]([C@H]1CC[C@@H](Cc2ccc(cc2)C(=O)N3CCN(C...</td>\n",
              "    </tr>\n",
              "    <tr>\n",
              "      <th>2679</th>\n",
              "      <td>20000.00</td>\n",
              "      <td>O[C@@H]([C@H]1CC[C@@H](Cc2ccc(cc2)C(=O)N3CCN(C...</td>\n",
              "    </tr>\n",
              "    <tr>\n",
              "      <th>2680</th>\n",
              "      <td>257039.58</td>\n",
              "      <td>C[n+]1c(\\C=C\\Nc2ccccc2)sc3ccccc13</td>\n",
              "    </tr>\n",
              "    <tr>\n",
              "      <th>2681</th>\n",
              "      <td>6513.00</td>\n",
              "      <td>Clc1ccccc1C(c2ccccc2)(c3ccccc3)n4ccnc4</td>\n",
              "    </tr>\n",
              "    <tr>\n",
              "      <th>2682</th>\n",
              "      <td>10000.00</td>\n",
              "      <td>COc1cc(N)c(Cl)cc1C(=O)NC[C@@H]2CCN3CCC[C@@H]23</td>\n",
              "    </tr>\n",
              "    <tr>\n",
              "      <th>2688</th>\n",
              "      <td>239.88</td>\n",
              "      <td>CC(C)NC(C)C(O)COc1ccc(C)c2CCCc12</td>\n",
              "    </tr>\n",
              "    <tr>\n",
              "      <th>2694</th>\n",
              "      <td>10000.00</td>\n",
              "      <td>COC1CN(CCCOc2ccc(F)cc2)CCC1NC(=O)c3cc(Cl)c(N)c...</td>\n",
              "    </tr>\n",
              "    <tr>\n",
              "      <th>2709</th>\n",
              "      <td>10037.00</td>\n",
              "      <td>COc1ccc(CCN2CCC(CC2)Nc3nc4ccccc4n3Cc5ccc(F)cc5...</td>\n",
              "    </tr>\n",
              "    <tr>\n",
              "      <th>2725</th>\n",
              "      <td>1500.00</td>\n",
              "      <td>Oc1cc2CC[C@H]3NCc4ccccc4[C@@H]3c2cc1O</td>\n",
              "    </tr>\n",
              "    <tr>\n",
              "      <th>2727</th>\n",
              "      <td>2000.00</td>\n",
              "      <td>Clc1cccc(c1)N2CCNCC2</td>\n",
              "    </tr>\n",
              "    <tr>\n",
              "      <th>2729</th>\n",
              "      <td>370.00</td>\n",
              "      <td>CC(C)NC[C@@H](O)COc1cccc2ccccc12</td>\n",
              "    </tr>\n",
              "    <tr>\n",
              "      <th>2734</th>\n",
              "      <td>10000.00</td>\n",
              "      <td>COc1ccc2c(c1)[nH]c3c(C)nccc23</td>\n",
              "    </tr>\n",
              "  </tbody>\n",
              "</table>\n",
              "<p>1617 rows × 2 columns</p>\n",
              "</div>"
            ],
            "text/plain": [
              "      Standard Value                                   Canonical Smiles\n",
              "0            1000.00    CCCCCCCCNC(=O)N1CCc2cc(ccc12)S(=O)(=O)Nc3ccccc3\n",
              "1           10000.00  COc1ccc(cc1OC)[C@@H](Cc2ccccc2)NC[C@H](O)Cc3cc...\n",
              "2            6000.00  COc1ccc(cc1)[C@@H](Cc2ccccc2)NC[C@@H](O)Cc3ccc...\n",
              "3             730.00  COc1ccc(cc1)[C@H](CCc2ccccc2)NC[C@H](O)Cc3ccc(...\n",
              "4            3981.07  O[C@@H](CNCCNc1cccc(c1)c2sccc2C(=O)O)c3cccc(Cl)c3\n",
              "5              19.95  C[C@H](CNc1ccc(cc1)c2nc(cs2)C(=O)O)NC[C@H](O)c...\n",
              "8          111000.00  [Na+].[Na+].C[C@H](Cc1ccc2OC(Oc2c1)(C(=O)[O-])...\n",
              "9             186.00                      CC(C)NCC(O)COc1ccc(C)c2CCCc12\n",
              "11            310.00  C[C@H](Cc1ccc(OCC(=O)NO)cc1)NC[C@H](O)c2cccc(C...\n",
              "14            580.00  CCCCCCCCc1onc(n1)N2CCc3cc(ccc23)S(=O)(=O)Nc4cc...\n",
              "15           1800.00  CCCCCCc1ccc(nc1)N2CCc3cc(ccc23)S(=O)(=O)Nc4ccccc4\n",
              "17         100000.00  COc1ccc(cc1)S(=O)(=O)N2CCC(CC2)NC[C@H](O)COc3c...\n",
              "18            794.33  C[C@H](CNc1cccc(CCS(=O)(=O)NS(=O)(=O)c2ccccc2)...\n",
              "19           2000.00  O[C@@H](CNCCc1ccc(NS(=O)(=O)c2ccc(cc2)c3oc(Cc4...\n",
              "20           1200.00  O[C@@H](CNCCc1ccc(NS(=O)(=O)c2ccc(cc2)c3coc(Cc...\n",
              "21           1000.00  O[C@@H](CNCCc1ccc(NS(=O)(=O)c2ccc(cc2)c3oc(CCC...\n",
              "22           2000.00  Nc1ccc(OC[C@@H](O)CNCCc2ccc(NS(=O)(=O)c3ccc(Cl...\n",
              "23           2400.00  O[C@@H](CNCCc1ccc(NS(=O)(=O)c2ccc(cc2)c3coc(Cc...\n",
              "26           1500.00  CS(=O)(=O)Nc1cc(C[C@H](O)CN[C@H](Cc2ccccc2)c3c...\n",
              "27            800.00  Cc1cc(ccc1c2ccc3CC[C@@H](Cc3c2)NC[C@H](O)c4ccc...\n",
              "28            620.00  O[C@@H](CN[C@H]1CCc2ccc(cc2C1)c3ccc(cc3)C(=O)O...\n",
              "29           1500.00  O[C@@H](CN[C@H]1CCc2ccc(OCC(=O)O)cc2C1)c3cccc(...\n",
              "30             97.00  O[C@@H](CNCCOc1ccc(cc1)c2csc(n2)c3ccncc3)c4cccnc4\n",
              "31            100.00  C[C@H](CNc1ccc(cc1)c2sccc2C(=O)O)NC[C@H](O)c3c...\n",
              "32            100.00  C[C@H](CNc1cccc(c1)c2occc2C(=O)O)NC[C@H](O)c3c...\n",
              "33             12.02  C[C@H](CNc1ccc(cc1)c2csc(n2)C(=O)O)NC[C@H](O)c...\n",
              "34             12.59  C[C@H](CNc1ccc(cc1)c2occ(n2)C(=O)O)NC[C@H](O)c...\n",
              "35          10000.00  COc1cccc(c1)[C@@H](Cc2ccccc2)NC[C@H](O)Cc3ccc(...\n",
              "36           1000.00  Cc1ccc(Oc2ccc3CC[C@@H](Cc3c2)NC[C@H](O)c4cccc(...\n",
              "40           3500.00  O[C@@H](CNCCc1ccc(NS(=O)(=O)c2ccc(cc2)c3onc(CO...\n",
              "...              ...                                                ...\n",
              "2619          630.96                     CB1Nc2c(OCC(O)CN(C)C)cccc2C=C1\n",
              "2622           33.00  CCc1cccc(c1)[C@H]2CCC[C@H]2NC[C@H](O)c3ccc(O)c...\n",
              "2623           40.00  O[C@@H](CN[C@@H]1CCC[C@@H]1C2CCCCC2)c3ccc(O)c4...\n",
              "2626        20000.00  O[C@@H]([C@H]1CC[C@@H](Cc2ccc(cc2)C(=O)N3CCN(C...\n",
              "2627        13803.84                 C[n+]1c(\\C=C\\c2ccccc2Cl)sc3ccccc13\n",
              "2629        10000.00  Cc1cc(C)c(NC(=O)OC2CCN(CCCCCCCCCNC[C@H](O)c3cc...\n",
              "2630        47863.01                CCCCC1CCN(CCCN2C(=O)CCc3ccccc23)CC1\n",
              "2631           21.00       Cc1ccc(CCNC[C@H](O)c2ccc(O)c3NC(=O)Sc23)cc1C\n",
              "2632        10000.00  CS(=O)(=O)Nc1cc(ccc1O)[C@@H](O)CNCCCCCCCCCN2CC...\n",
              "2633        20000.00  Nc1nc2[C@@H](CCCCc2s1)C(=O)Nc3ccc(C[C@@H]4CC[C...\n",
              "2634        10000.00  CS(=O)(=O)Nc1cc(ccc1O)[C@@H](O)CNCCCCCCCCCN2CC...\n",
              "2635        10000.00  Cc1ccc(NC(=O)OC2CCN(CCCCCCCCCNC[C@H](O)c3ccc(O...\n",
              "2636        10000.00  CS(=O)(=O)Nc1cc(ccc1O)[C@@H](O)CNCCCCCCCCCN2CC...\n",
              "2637        10000.00  CS(=O)(=O)Nc1cc(ccc1O)[C@@H](O)CNCCCCCCCCCCCN2...\n",
              "2640        10000.00  CS(=O)(=O)Nc1cc(ccc1O)[C@@H](O)CNCCCCCCCCCN2CC...\n",
              "2642          227.00  CCc1cc2CC(Cc2cc1CC)NCC(O)c3ccc(O)c4NC(=O)C(=Cc...\n",
              "2646        10000.00  Cc1n[nH]c2cc(OCCNC[C@H](O)c3cccc(NS(=O)(=O)C)c...\n",
              "2656            0.11       COc1ccc(NC(=O)NCCNC[C@H](O)COc2ccccc2C#N)cc1\n",
              "2660        20000.00  O[C@@H]([C@H]1CC[C@@H](Cc2ccc(cc2)C(=O)N3CCN(C...\n",
              "2679        20000.00  O[C@@H]([C@H]1CC[C@@H](Cc2ccc(cc2)C(=O)N3CCN(C...\n",
              "2680       257039.58                  C[n+]1c(\\C=C\\Nc2ccccc2)sc3ccccc13\n",
              "2681         6513.00             Clc1ccccc1C(c2ccccc2)(c3ccccc3)n4ccnc4\n",
              "2682        10000.00     COc1cc(N)c(Cl)cc1C(=O)NC[C@@H]2CCN3CCC[C@@H]23\n",
              "2688          239.88                   CC(C)NC(C)C(O)COc1ccc(C)c2CCCc12\n",
              "2694        10000.00  COC1CN(CCCOc2ccc(F)cc2)CCC1NC(=O)c3cc(Cl)c(N)c...\n",
              "2709        10037.00  COc1ccc(CCN2CCC(CC2)Nc3nc4ccccc4n3Cc5ccc(F)cc5...\n",
              "2725         1500.00              Oc1cc2CC[C@H]3NCc4ccccc4[C@@H]3c2cc1O\n",
              "2727         2000.00                               Clc1cccc(c1)N2CCNCC2\n",
              "2729          370.00                   CC(C)NC[C@@H](O)COc1cccc2ccccc12\n",
              "2734        10000.00                      COc1ccc2c(c1)[nH]c3c(C)nccc23\n",
              "\n",
              "[1617 rows x 2 columns]"
            ]
          },
          "metadata": {
            "tags": []
          },
          "execution_count": 5
        }
      ]
    },
    {
      "cell_type": "markdown",
      "metadata": {
        "id": "b3kVC_1SX6Yp",
        "colab_type": "text"
      },
      "source": [
        "## Select the relevant part of the dataframe, to generate our training and testing data"
      ]
    },
    {
      "cell_type": "code",
      "metadata": {
        "id": "_mkItiJBJW4f",
        "colab_type": "code",
        "colab": {}
      },
      "source": [
        "# Get the SMILES strings\n",
        "smiles_train_test = df_train_test['Canonical Smiles']\n",
        "smiles_train_test = smiles_train_test.reset_index()['Canonical Smiles']\n",
        "\n",
        "# Get their respective binding affinities, the quantity we are\n",
        "# trying to predict.\n",
        "affinity_train_test = df_train_test['Standard Value']"
      ],
      "execution_count": 0,
      "outputs": []
    },
    {
      "cell_type": "markdown",
      "metadata": {
        "id": "_-9UlqnIYtOS",
        "colab_type": "text"
      },
      "source": [
        "## Define functions to generate the Coulomb matrix"
      ]
    },
    {
      "cell_type": "code",
      "metadata": {
        "id": "eSl896mSxbd_",
        "colab_type": "code",
        "colab": {}
      },
      "source": [
        "from scipy.spatial.distance import cdist\n",
        "def get_coulomb_matrix(numbers, coords):\n",
        "    \"\"\"\n",
        "    Generates the unsorted Coulomb-matrix, given an array of\n",
        "    atom atomic numbers, and atom coordinates in space (these\n",
        "    coordinates must be found through minimization of the\n",
        "    atomic structure)\n",
        "    \"\"\"\n",
        "    top = np.outer(numbers, numbers).astype(np.float64)\n",
        "    r = cdist(coords, coords)\n",
        "\n",
        "    with np.errstate(divide='ignore', invalid='ignore'):\n",
        "        np.divide(top, r, top)\n",
        "    np.fill_diagonal(top, 0.5 * np.array(numbers) ** 2.4)\n",
        "    top[top == np.Infinity] = 0\n",
        "    top[np.isnan(top)] = 0\n",
        "    return top"
      ],
      "execution_count": 0,
      "outputs": []
    },
    {
      "cell_type": "code",
      "metadata": {
        "id": "bV7ZzIqdhZ67",
        "colab_type": "code",
        "colab": {}
      },
      "source": [
        "def coulomb_generator(smiles):\n",
        "    '''\n",
        "    Given a list of SMILES strings, this function\n",
        "    will return the Coulomb matrices,\n",
        "    as well as the indices of the SMILES list of\n",
        "    molecules that failed to be minimized by MM94 force field\n",
        "    implemented in RDKit.\n",
        "    '''\n",
        "    matrices = []\n",
        "    failed_indices = []\n",
        "    max_el = 0\n",
        "    for idx,smile in tqdm(enumerate(smiles)):\n",
        "        mol = Chem.MolFromSmiles(smile)\n",
        "        mol = Chem.AddHs(mol)\n",
        "        try:\n",
        "          Chem.EmbedMolecule(mol)\n",
        "          #print('pass enbed')\n",
        "          Chem.MMFFOptimizeMolecule(mol)\n",
        "          conf = mol.GetConformer()\n",
        "          n_atoms = mol.GetNumAtoms()\n",
        "          z = np.array([atom.GetAtomicNum() for atom in mol.GetAtoms()])\n",
        "          xyz = conf.GetPositions()\n",
        "          m = get_coulomb_matrix(z,xyz)\n",
        "          \n",
        "          matrices.append(m)\n",
        "          max_el = max(max_el, m.max())\n",
        "        except:\n",
        "          print('failed_idx:',idx)\n",
        "          failed_indices.append(idx)\n",
        "    \n",
        "    max_atoms = max([m[0].shape[0] for m in matrices])\n",
        "    for index, matrix in enumerate(matrices):\n",
        "        n_atoms = matrix[0].shape[0]\n",
        "        m = np.zeros((max_atoms, max_atoms))\n",
        "        m[:n_atoms, :n_atoms] = matrix\n",
        "        matrices[index] = m\n",
        "        \n",
        "    return matrices, failed_indices"
      ],
      "execution_count": 0,
      "outputs": []
    },
    {
      "cell_type": "markdown",
      "metadata": {
        "id": "JMDlkDehWSNx",
        "colab_type": "text"
      },
      "source": [
        "## Generate the Coulomb matrices from the SMILES strings of molecules - one Coulomb matrix per molecule"
      ]
    },
    {
      "cell_type": "code",
      "metadata": {
        "id": "-CYDhIUHkWfO",
        "colab_type": "code",
        "outputId": "245fc7bf-bcf9-40a3-8664-b49d29b0d0c3",
        "colab": {
          "base_uri": "https://localhost:8080/",
          "height": 68
        }
      },
      "source": [
        "cmatrices, failed_indices = coulomb_generator(np.array(smiles_train_test))"
      ],
      "execution_count": 0,
      "outputs": [
        {
          "output_type": "stream",
          "text": [
            "560it [03:29,  4.57s/it]"
          ],
          "name": "stderr"
        },
        {
          "output_type": "stream",
          "text": [
            "failed_idx: 559\n"
          ],
          "name": "stdout"
        },
        {
          "output_type": "stream",
          "text": [
            "1034it [05:59,  4.48it/s]RDKit ERROR: [15:20:21] UFFTYPER: Unrecognized charge state for atom: 6\n",
            "1617it [09:27,  2.85it/s]\n"
          ],
          "name": "stderr"
        }
      ]
    },
    {
      "cell_type": "code",
      "metadata": {
        "id": "JivWKbnZHY1D",
        "colab_type": "code",
        "colab": {}
      },
      "source": [
        "# Make a copy of the matrix to use in this notebook\n",
        "cmatrices = np.array(cmatrices)\n",
        "cmatrices_copy = cmatrices.copy()"
      ],
      "execution_count": 0,
      "outputs": []
    },
    {
      "cell_type": "markdown",
      "metadata": {
        "id": "pai4-hPKH_9i",
        "colab_type": "text"
      },
      "source": [
        "## Find the indices of datapoints which have a Coulomb element of more than 1000 (probably due to a glitch in the MM94 optimization) and remove these from our dataset. Also, remove datapoints which have binding affinity of 0 (log of 0= -infinity, not good...)"
      ]
    },
    {
      "cell_type": "code",
      "metadata": {
        "id": "g0Dq01VkF1iC",
        "colab_type": "code",
        "colab": {}
      },
      "source": [
        "idx_to_remove = np.where(cmatrices_copy > 1000)[0]"
      ],
      "execution_count": 0,
      "outputs": []
    },
    {
      "cell_type": "code",
      "metadata": {
        "id": "sHwvmf7kF1mx",
        "colab_type": "code",
        "outputId": "1ec96340-4b77-4df2-8dbe-fc53271bfd28",
        "colab": {
          "base_uri": "https://localhost:8080/",
          "height": 153
        }
      },
      "source": [
        "idx_to_remove"
      ],
      "execution_count": 0,
      "outputs": [
        {
          "output_type": "execute_result",
          "data": {
            "text/plain": [
              "array([  80,  133,  133,  147,  147,  148,  148,  151,  151,  156,  188,\n",
              "        252,  265,  265,  284,  300,  393,  393,  401,  401,  402,  402,\n",
              "        403,  425,  438,  484,  548,  548,  562,  562,  562,  562,  562,\n",
              "        562,  562,  562,  562,  562,  562,  562,  563,  563,  613,  643,\n",
              "        643,  643,  643,  679,  679,  680,  680,  707,  716,  789,  861,\n",
              "        862,  894,  894,  917,  975,  994,  994,  994,  994,  994,  994,\n",
              "       1074, 1209, 1224, 1257, 1292, 1321, 1323, 1324, 1346, 1347, 1352,\n",
              "       1392, 1392, 1504, 1512, 1545, 1548, 1548])"
            ]
          },
          "metadata": {
            "tags": []
          },
          "execution_count": 13
        }
      ]
    },
    {
      "cell_type": "code",
      "metadata": {
        "id": "2J1lVFHQF1qL",
        "colab_type": "code",
        "outputId": "f8186ee2-ed13-4d2a-cc4a-a3c4ba8c246c",
        "colab": {
          "base_uri": "https://localhost:8080/",
          "height": 34
        }
      },
      "source": [
        "## Remove these glitchy datapoints\n",
        "cmatrices_copy = np.delete(cmatrices_copy, idx_to_remove, axis = 0); cmatrices_copy.shape"
      ],
      "execution_count": 0,
      "outputs": [
        {
          "output_type": "execute_result",
          "data": {
            "text/plain": [
              "(1566, 122, 122)"
            ]
          },
          "metadata": {
            "tags": []
          },
          "execution_count": 14
        }
      ]
    },
    {
      "cell_type": "code",
      "metadata": {
        "id": "HN5peLjAIk2V",
        "colab_type": "code",
        "outputId": "439748ff-cff5-4272-efbd-e67e68442977",
        "colab": {
          "base_uri": "https://localhost:8080/",
          "height": 34
        }
      },
      "source": [
        "# Check where our MM94 optimization completely failed\n",
        "# to even generate a conformer\n",
        "\n",
        "failed_indices"
      ],
      "execution_count": 0,
      "outputs": [
        {
          "output_type": "execute_result",
          "data": {
            "text/plain": [
              "[559]"
            ]
          },
          "metadata": {
            "tags": []
          },
          "execution_count": 15
        }
      ]
    },
    {
      "cell_type": "code",
      "metadata": {
        "id": "aZlGhDwMIn2m",
        "colab_type": "code",
        "colab": {}
      },
      "source": [
        "# Dropping these failed indices\n",
        "\n",
        "affinity_train_test = affinity_train_test.drop(affinity_train_test.index[failed_indices])"
      ],
      "execution_count": 0,
      "outputs": []
    },
    {
      "cell_type": "code",
      "metadata": {
        "id": "-xZfjV80Iq28",
        "colab_type": "code",
        "colab": {}
      },
      "source": [
        "# Dropping datapoints that had too large Coulomb values\n",
        "\n",
        "affinity_train_test = affinity_train_test.drop(affinity_train_test.index[idx_to_remove])"
      ],
      "execution_count": 0,
      "outputs": []
    },
    {
      "cell_type": "code",
      "metadata": {
        "id": "0yL-vulPJha4",
        "colab_type": "code",
        "outputId": "12d52b24-ad54-4b3f-9df7-1c2007464d35",
        "colab": {
          "base_uri": "https://localhost:8080/",
          "height": 34
        }
      },
      "source": [
        "affinity_train_test.shape"
      ],
      "execution_count": 0,
      "outputs": [
        {
          "output_type": "execute_result",
          "data": {
            "text/plain": [
              "(1566,)"
            ]
          },
          "metadata": {
            "tags": []
          },
          "execution_count": 18
        }
      ]
    },
    {
      "cell_type": "code",
      "metadata": {
        "id": "Une1ZfRQIF2k",
        "colab_type": "code",
        "outputId": "b7eeb33b-5117-4d74-c3b6-4a0a41fcf6f8",
        "colab": {
          "base_uri": "https://localhost:8080/",
          "height": 34
        }
      },
      "source": [
        "# Check shape of our data matrix\n",
        "cmatrices_copy.shape"
      ],
      "execution_count": 0,
      "outputs": [
        {
          "output_type": "execute_result",
          "data": {
            "text/plain": [
              "(1566, 122, 122)"
            ]
          },
          "metadata": {
            "tags": []
          },
          "execution_count": 19
        }
      ]
    },
    {
      "cell_type": "code",
      "metadata": {
        "id": "R0ijz_0uuke2",
        "colab_type": "code",
        "outputId": "ed9d9616-24cb-4713-d5c1-3ce2efbe7a3b",
        "colab": {
          "base_uri": "https://localhost:8080/",
          "height": 102
        }
      },
      "source": [
        "# Checking that there are no 0 values in our\n",
        "# y_labels series\n",
        "\n",
        "# Need to remove this value!!\n",
        "\n",
        "affinity_train_test[affinity_train_test < 0.1]\n",
        "\n"
      ],
      "execution_count": 0,
      "outputs": [
        {
          "output_type": "execute_result",
          "data": {
            "text/plain": [
              "885     0.000\n",
              "1831    0.023\n",
              "2209    0.080\n",
              "2511    0.040\n",
              "Name: Standard Value, dtype: float64"
            ]
          },
          "metadata": {
            "tags": []
          },
          "execution_count": 20
        }
      ]
    },
    {
      "cell_type": "code",
      "metadata": {
        "id": "IlmykAH2uki6",
        "colab_type": "code",
        "outputId": "c7cba33f-112a-4b65-ef2c-3282ba63185d",
        "colab": {
          "base_uri": "https://localhost:8080/",
          "height": 34
        }
      },
      "source": [
        "# Some (sort of) hacky code to get rid of the weird drug from our dataset\n",
        "idx_to_drop = np.where(affinity_train_test.index==885)[0]; idx_to_drop\n",
        "affinity_train_test = affinity_train_test.drop(885)\n",
        "cmatrices_copy = np.delete(cmatrices_copy, idx_to_drop, axis = 0)\n",
        "cmatrices_copy.shape"
      ],
      "execution_count": 0,
      "outputs": [
        {
          "output_type": "execute_result",
          "data": {
            "text/plain": [
              "(1565, 122, 122)"
            ]
          },
          "metadata": {
            "tags": []
          },
          "execution_count": 21
        }
      ]
    },
    {
      "cell_type": "code",
      "metadata": {
        "id": "6edhXmCa8T1w",
        "colab_type": "code",
        "outputId": "10fa3f1a-cb98-4440-9ca6-847aabe9656a",
        "colab": {
          "base_uri": "https://localhost:8080/",
          "height": 34
        }
      },
      "source": [
        "affinity_train_test.shape"
      ],
      "execution_count": 0,
      "outputs": [
        {
          "output_type": "execute_result",
          "data": {
            "text/plain": [
              "(1565,)"
            ]
          },
          "metadata": {
            "tags": []
          },
          "execution_count": 22
        }
      ]
    },
    {
      "cell_type": "markdown",
      "metadata": {
        "id": "vnRA-GMQU-pk",
        "colab_type": "text"
      },
      "source": [
        "## Convert binding affinity to the natural logarithm of binding affinity"
      ]
    },
    {
      "cell_type": "code",
      "metadata": {
        "id": "Wo0o3Xkqsc6q",
        "colab_type": "code",
        "colab": {}
      },
      "source": [
        "# We will try to predict the log binding affinity.\n",
        "# This is more natural to do in the context of drug binding.\n",
        "\n",
        "log_affinity_train_test = np.log(affinity_train_test)"
      ],
      "execution_count": 0,
      "outputs": []
    },
    {
      "cell_type": "markdown",
      "metadata": {
        "id": "HiXrWllwVPnA",
        "colab_type": "text"
      },
      "source": [
        "## Have a look at our final datasets"
      ]
    },
    {
      "cell_type": "code",
      "metadata": {
        "id": "NbNtMB8dVQGJ",
        "colab_type": "code",
        "outputId": "49bb51d2-160d-4d26-f7ca-a05296f6b87f",
        "colab": {
          "base_uri": "https://localhost:8080/",
          "height": 34
        }
      },
      "source": [
        "# X data is cmatrices_copy\n",
        "# y data is log_affinity_train_test\n",
        "cmatrices_copy.shape, log_affinity_train_test.shape"
      ],
      "execution_count": 0,
      "outputs": [
        {
          "output_type": "execute_result",
          "data": {
            "text/plain": [
              "((1565, 122, 122), (1565,))"
            ]
          },
          "metadata": {
            "tags": []
          },
          "execution_count": 24
        }
      ]
    },
    {
      "cell_type": "markdown",
      "metadata": {
        "id": "vLZx_BItWyQF",
        "colab_type": "text"
      },
      "source": [
        "## Let's look at the distribution of log(binding affinities) for the drugs in this dataset"
      ]
    },
    {
      "cell_type": "code",
      "metadata": {
        "id": "bpE9nW-3ucVt",
        "colab_type": "code",
        "outputId": "d9996ee9-c4cc-4181-f3ed-cd62a575849f",
        "colab": {
          "base_uri": "https://localhost:8080/",
          "height": 354
        }
      },
      "source": [
        "# Let's take a look at our distribution of \n",
        "import matplotlib.pyplot as plt\n",
        "plt.hist(log_affinity_train_test)"
      ],
      "execution_count": 0,
      "outputs": [
        {
          "output_type": "execute_result",
          "data": {
            "text/plain": [
              "(array([  8.,  10.,  35., 135., 161., 298., 356., 355., 152.,  55.]),\n",
              " array([-3.77226106, -2.14933642, -0.52641178,  1.09651286,  2.71943751,\n",
              "         4.34236215,  5.96528679,  7.58821143,  9.21113608, 10.83406072,\n",
              "        12.45698536]),\n",
              " <a list of 10 Patch objects>)"
            ]
          },
          "metadata": {
            "tags": []
          },
          "execution_count": 25
        },
        {
          "output_type": "display_data",
          "data": {
            "image/png": "[encoded data removed]",
            "text/plain": [
              "<Figure size 432x288 with 1 Axes>"
            ]
          },
          "metadata": {
            "tags": []
          }
        }
      ]
    },
    {
      "cell_type": "markdown",
      "metadata": {
        "id": "xEjtl7-iYNRa",
        "colab_type": "text"
      },
      "source": [
        "## This looks like it's going to be a fairly hard dataset to separate..."
      ]
    },
    {
      "cell_type": "markdown",
      "metadata": {
        "id": "kTdbFa4JMXFN",
        "colab_type": "text"
      },
      "source": [
        "## Split the dataset into training and testing sets"
      ]
    },
    {
      "cell_type": "code",
      "metadata": {
        "colab_type": "code",
        "id": "V6IwdJ97YwkH",
        "colab": {}
      },
      "source": [
        "X_train, X_test, y_train, y_test = train_test_split(cmatrices_copy, np.array(log_affinity_train_test), random_state = 101)"
      ],
      "execution_count": 0,
      "outputs": []
    },
    {
      "cell_type": "code",
      "metadata": {
        "id": "bnLTc_ytbFFb",
        "colab_type": "code",
        "colab": {}
      },
      "source": [
        "X_train = X_train.astype('float32')\n",
        "X_test = X_test.astype('float32')"
      ],
      "execution_count": 0,
      "outputs": []
    },
    {
      "cell_type": "code",
      "metadata": {
        "id": "p8gaCOjfx5Dw",
        "colab_type": "code",
        "outputId": "62964055-d398-48ae-f726-486284322618",
        "colab": {
          "base_uri": "https://localhost:8080/",
          "height": 34
        }
      },
      "source": [
        "X_train.shape, X_test.shape, y_train.shape, y_test.shape"
      ],
      "execution_count": 0,
      "outputs": [
        {
          "output_type": "execute_result",
          "data": {
            "text/plain": [
              "((1173, 122, 122), (392, 122, 122), (1173,), (392,))"
            ]
          },
          "metadata": {
            "tags": []
          },
          "execution_count": 28
        }
      ]
    },
    {
      "cell_type": "markdown",
      "metadata": {
        "id": "hKmHTA7zgPKZ",
        "colab_type": "text"
      },
      "source": [
        "# Converting the Coulomb matrix into a more suitable input for a neural network"
      ]
    },
    {
      "cell_type": "markdown",
      "metadata": {
        "id": "2kafb2LogbBW",
        "colab_type": "text"
      },
      "source": [
        "##Three problems with the Coulomb matrix are the follows:\n",
        "1. The size of the Coulomb matrix is equal to the number of atoms in the molecule. Therefore different molecules will have differently sized Coulomb matrices, which is a less-than-ideal data input.\n",
        "2.  For one molecule with N atoms, there exists N! possible valid Coulomb matrices, as the molecule is invariant to atom index labelling, but each different set of labels (for which there are N! of them) correspond to a different Coulomb matrix.\n",
        "3.  A lot of label-relevant information is contained in the ordering"
      ]
    },
    {
      "cell_type": "markdown",
      "metadata": {
        "id": "dyyVOrlQhgBO",
        "colab_type": "text"
      },
      "source": [
        "##1.  The first of these issues can be sorted with ***padding***"
      ]
    },
    {
      "cell_type": "markdown",
      "metadata": {
        "id": "SkJzBvZzhpqF",
        "colab_type": "text"
      },
      "source": [
        "We take the biggest molecule in our dataset (the one with the most atoms) and simply set the size of all our matrices to that atom. Then, we fill in the matrices of the smaller molecules in the upper left of the big matrix - the rest of the entries are padded with zeros."
      ]
    },
    {
      "cell_type": "markdown",
      "metadata": {
        "id": "5WckN465Ly4A",
        "colab_type": "text"
      },
      "source": [
        "![padding_method](https://i.ibb.co/TLTWR1Q/Coulomb-Net-slides-4.png)"
      ]
    },
    {
      "cell_type": "markdown",
      "metadata": {
        "id": "uVTEMyJ2PCxy",
        "colab_type": "text"
      },
      "source": [
        "##2. The *second* of these issues can be partly negated by sorting the Coulomb matrix essentially by atom weights (in fact, we sort by the row-norm of the matrix, but it's close enough to sorting by atom weights).\n",
        "\n",
        "## However, there is a catch - when we sort, we add some noise to the matrix, so that the order of each matrix is not exactly the same. This exposes the neural network to slight variations of the Coulomb matrix in each training batch."
      ]
    },
    {
      "cell_type": "markdown",
      "metadata": {
        "id": "8AbJA1n1QEhK",
        "colab_type": "text"
      },
      "source": [
        "![sorting_algo](https://i.ibb.co/zFCLQF9/Screenshot-2019-08-05-at-15-47-39.png)"
      ]
    },
    {
      "cell_type": "markdown",
      "metadata": {
        "id": "RAVbUldyQown",
        "colab_type": "text"
      },
      "source": [
        "##3. To work around this problem, we encode the Coulomb matrix at the end into a binary input, the code of which is below. Here is an extract from the original paper for how it is done:"
      ]
    },
    {
      "cell_type": "markdown",
      "metadata": {
        "id": "WgzsvB47Q20z",
        "colab_type": "text"
      },
      "source": [
        "![tanh_input](https://i.ibb.co/K0RwgBC/Screenshot-2019-08-05-at-15-52-00.png)"
      ]
    },
    {
      "cell_type": "markdown",
      "metadata": {
        "id": "Vmsj0CVBL-D0",
        "colab_type": "text"
      },
      "source": [
        "## Define some input preprocessing functions to tackle the above problems"
      ]
    },
    {
      "cell_type": "code",
      "metadata": {
        "id": "KJQIhxEHME3Z",
        "colab_type": "code",
        "colab": {}
      },
      "source": [
        "class Module:\n",
        "  def update(self, lr):pass\n",
        "  def average(self,nn,a):pass\n",
        "  def backward(self,DY):pass\n",
        "  def forward(self,X):pass"
      ],
      "execution_count": 0,
      "outputs": []
    },
    {
      "cell_type": "code",
      "metadata": {
        "id": "PCR1FJCaNUfC",
        "colab_type": "code",
        "colab": {}
      },
      "source": [
        "class Input(Module):\n",
        "  \n",
        "  def __init__(self,X):\n",
        "    self.step=1.0\n",
        "    self.noise=1.0\n",
        "    \n",
        "    # Boolean array to select for only the upper triangular half of the matrix.\n",
        "    # Since the matrix is symmetric, the lower triangular half is exactly the same\n",
        "    # as the upper triangular half, hence redundant information.\n",
        "    \n",
        "    self.triuind = (np.arange(122)[:,np.newaxis] <= np.arange(122)[np.newaxis,:]).flatten()\n",
        "    \n",
        "    # Get the maximum value of the X array - this will be required to generate\n",
        "    # the binary inputs to our neural network\n",
        "    self.max = 0\n",
        "    for _ in range(10): \n",
        "      self.max=np.maximum(self.max,self.realize(X).max(axis=0))\n",
        "      \n",
        "    # Obtain some normalization metrics about the dataset\n",
        "    X = self.expand(self.realize(X))\n",
        "    self.nbout = X.shape[1]\n",
        "    self.mean = X.mean(axis=0)\n",
        "    self.std = (X - self.mean).std()\n",
        "    \n",
        "    \n",
        "    \n",
        "    \n",
        "  def realize(self,X):\n",
        "    '''\n",
        "    Function to sort the Coulomb matrix (with some random noise)\n",
        "    '''\n",
        "    def _realize_(x):\n",
        "      inds = np.argsort(-(x**2).sum(axis=0)**.5+np.random.normal(0,self.noise,x[0].shape))\n",
        "      x = x[inds,:][:,inds]*1\n",
        "      x = x.flatten()[self.triuind]\n",
        "      return x\n",
        "    return np.array([_realize_(z) for z in X])\n",
        "      \n",
        "    \n",
        "  def expand(self,X):\n",
        "    '''\n",
        "    Function to expand the Coulomb matrix into a set of (essentially) binary inputs\n",
        "    '''\n",
        "    Xexp = []\n",
        "    for i in range(X.shape[1]):\n",
        "      for k in np.arange(0,self.max[i]+self.step,self.step):\n",
        "        Xexp += [np.tanh((X[:,i]-k)/self.step)]\n",
        "    return np.array(Xexp).T\n",
        "  \n",
        "  \n",
        "  def normalize(self,X): return (X-self.mean)/self.std\n",
        "  \n",
        "  def forward(self,X): return self.normalize(self.expand(self.realize(X))).astype('float32')\n",
        "\n",
        "  \n",
        "  \n",
        "class Output(Module):\n",
        "  \n",
        "  def __init__(self,T):\n",
        "    self.tmean = T.mean()\n",
        "    self.tstd = T.std()\n",
        "    self.nbinp = 1\n",
        "    \n",
        "  def forward(self,X):\n",
        "    return X*self.tstd + self.tmean"
      ],
      "execution_count": 0,
      "outputs": []
    },
    {
      "cell_type": "markdown",
      "metadata": {
        "id": "Ck9_9EWFZAoR",
        "colab_type": "text"
      },
      "source": [
        "# Tensorflow time..."
      ]
    },
    {
      "cell_type": "code",
      "metadata": {
        "id": "xdPtjWwuRQgY",
        "colab_type": "code",
        "colab": {}
      },
      "source": [
        "import tensorflow as tf"
      ],
      "execution_count": 0,
      "outputs": []
    },
    {
      "cell_type": "markdown",
      "metadata": {
        "id": "7W89y1XgY_zA",
        "colab_type": "text"
      },
      "source": [
        "## Define some helper functions to shuffle the training data, as well as get the next batch of training data"
      ]
    },
    {
      "cell_type": "code",
      "metadata": {
        "id": "1Q8UggBbbMoO",
        "colab_type": "code",
        "colab": {}
      },
      "source": [
        "def randomize(x,y):\n",
        "  '''\n",
        "  Randomizes the order of data samples and corresponding labels\n",
        "  '''\n",
        "  perm = np.random.permutation(y.shape[0])\n",
        "  shuffled_x = x[perm]\n",
        "  shuffled_y = y[perm]\n",
        "  return shuffled_x, shuffled_y\n",
        "def get_next_batch(x,y,start,end):\n",
        "  '''\n",
        "  Gets the next batch of training data\n",
        "  '''\n",
        "  x_batch = x[start:end]\n",
        "  y_batch = y[start:end]\n",
        "  return x_batch, y_batch"
      ],
      "execution_count": 0,
      "outputs": []
    },
    {
      "cell_type": "markdown",
      "metadata": {
        "id": "bsLNeL15ZNrq",
        "colab_type": "text"
      },
      "source": [
        "## Define two helper functions to help us initalize the weights with [Xavier initialization](http://proceedings.mlr.press/v9/glorot10a/glorot10a.pdf)"
      ]
    },
    {
      "cell_type": "code",
      "metadata": {
        "id": "u2j_XSv1Y9KD",
        "colab_type": "code",
        "colab": {}
      },
      "source": [
        "def weight_variable(name, shape):\n",
        "  initer = tf.truncated_normal_initializer(stddev=(1/(shape[0])**.5))\n",
        "  return tf.get_variable('W_'+name,\n",
        "                        dtype=tf.float32,\n",
        "                        shape=shape,\n",
        "                        initializer=initer)\n",
        "\n",
        "def bias_variable(name,shape):\n",
        "  initial = tf.constant(0.,shape=shape,dtype=tf.float32)\n",
        "  return tf.get_variable('b_'+name,\n",
        "                        dtype=tf.float32,\n",
        "                        initializer=initial)"
      ],
      "execution_count": 0,
      "outputs": []
    },
    {
      "cell_type": "markdown",
      "metadata": {
        "id": "DbvGFOsAZVQ1",
        "colab_type": "text"
      },
      "source": [
        "## Define a helper function to forward propogate an input through a fully connected neural network layer"
      ]
    },
    {
      "cell_type": "code",
      "metadata": {
        "id": "CvGgO99hZTcB",
        "colab_type": "code",
        "colab": {}
      },
      "source": [
        "def fc_layer(x,num_units,name,use_sigmoid=True):\n",
        "  in_dim=x.get_shape().as_list()[1]\n",
        "  W=weight_variable(name,shape=[in_dim,num_units])\n",
        "  b=bias_variable(name,[num_units])\n",
        "  layer=tf.matmul(x,W)\n",
        "  layer+=b\n",
        "  if use_sigmoid:\n",
        "    layer=tf.nn.tanh(layer)\n",
        "  return layer"
      ],
      "execution_count": 0,
      "outputs": []
    },
    {
      "cell_type": "markdown",
      "metadata": {
        "id": "652fRTAPNYWW",
        "colab_type": "text"
      },
      "source": [
        "## Apply the preprocessing to the training set"
      ]
    },
    {
      "cell_type": "code",
      "metadata": {
        "id": "jpii4x38Zgdb",
        "colab_type": "code",
        "colab": {}
      },
      "source": [
        "I,O = Input(X_train),Output(y_train)"
      ],
      "execution_count": 0,
      "outputs": []
    },
    {
      "cell_type": "code",
      "metadata": {
        "id": "yF3apttWZj-P",
        "colab_type": "code",
        "outputId": "20274cc8-0118-455f-e928-7f022fc3f7db",
        "colab": {
          "base_uri": "https://localhost:8080/",
          "height": 34
        }
      },
      "source": [
        "# The dimensionality of our flattened, binarized Coulomb matrix\n",
        "I.nbout"
      ],
      "execution_count": 0,
      "outputs": [
        {
          "output_type": "execute_result",
          "data": {
            "text/plain": [
              "95314"
            ]
          },
          "metadata": {
            "tags": []
          },
          "execution_count": 36
        }
      ]
    },
    {
      "cell_type": "markdown",
      "metadata": {
        "id": "CtsrBFTZNlp3",
        "colab_type": "text"
      },
      "source": [
        "## Hyperparameters of the NN (lots of untested scope for improvement here)"
      ]
    },
    {
      "cell_type": "code",
      "metadata": {
        "id": "MVJ5HBl1Nnu8",
        "colab_type": "code",
        "colab": {}
      },
      "source": [
        "# Hyper-parameters\n",
        "epochs = 1000             # Total number of training epochs\n",
        "batch_size = 25        # Training batch size\n",
        "display_freq = 20      # Frequency of displaying the training results\n",
        "learning_rate = 0.0001   # The optimization initial learning rate\n",
        " \n",
        "  \n",
        "flattened_input_size = I.nbout\n",
        "n_classes = 1"
      ],
      "execution_count": 0,
      "outputs": []
    },
    {
      "cell_type": "markdown",
      "metadata": {
        "id": "BYtA15ZTSsYj",
        "colab_type": "text"
      },
      "source": [
        "## Architecture: ***2 hidden layers, 100 nodes in each layer*** (pretty simple architechture, but does a good job. Need to experiment with this a bit more)\n",
        "\n",
        "![arch](https://cdn.semrush.com/blog/static/media/11/25/112519bb26b32f29644e30123d8525f5/neural-network.png)"
      ]
    },
    {
      "cell_type": "markdown",
      "metadata": {
        "id": "iTIflIvLNs9b",
        "colab_type": "text"
      },
      "source": [
        "## Reset the graph, define variables and the computational graph"
      ]
    },
    {
      "cell_type": "code",
      "metadata": {
        "id": "TOs52gwnbMyV",
        "colab_type": "code",
        "colab": {}
      },
      "source": [
        "tf.reset_default_graph()"
      ],
      "execution_count": 0,
      "outputs": []
    },
    {
      "cell_type": "code",
      "metadata": {
        "id": "EXLJ7YzbVRJB",
        "colab_type": "code",
        "colab": {}
      },
      "source": [
        "x = tf.placeholder(tf.float32,shape=[None,flattened_input_size],name='X')\n",
        "y = tf.placeholder(tf.float32,shape=[None,n_classes],name='Y')"
      ],
      "execution_count": 0,
      "outputs": []
    },
    {
      "cell_type": "code",
      "metadata": {
        "id": "U_jK2USiVozy",
        "colab_type": "code",
        "colab": {}
      },
      "source": [
        "# Computational Graph\n",
        "\n",
        "fc1 = fc_layer(x,400,'FC1',use_sigmoid=True)\n",
        "fc2 = fc_layer(fc1,100,'FC2',use_sigmoid=True)\n",
        "pre_preds = fc_layer(fc2,n_classes,'OUT',use_sigmoid=False)\n",
        "preds = O.forward(pre_preds)"
      ],
      "execution_count": 0,
      "outputs": []
    },
    {
      "cell_type": "markdown",
      "metadata": {
        "id": "rLWL1DlhNy2q",
        "colab_type": "text"
      },
      "source": [
        "## Define the loss function and optimizer"
      ]
    },
    {
      "cell_type": "code",
      "metadata": {
        "id": "N0p6gvUkWfxk",
        "colab_type": "code",
        "outputId": "8f5e172f-0765-470d-8b4b-2d80667c5413",
        "colab": {
          "base_uri": "https://localhost:8080/",
          "height": 105
        }
      },
      "source": [
        "# Loss function and optimizer\n",
        "\n",
        "loss = tf.losses.mean_squared_error(labels=y,predictions=preds)\n",
        "\n",
        "optimizer = tf.train.AdamOptimizer(learning_rate=learning_rate,name='Adam-op').minimize(loss)"
      ],
      "execution_count": 0,
      "outputs": [
        {
          "output_type": "stream",
          "text": [
            "WARNING: Logging before flag parsing goes to stderr.\n",
            "W0805 15:23:59.234003 139938476636032 deprecation.py:323] From /usr/local/lib/python3.6/dist-packages/tensorflow/python/ops/losses/losses_impl.py:121: add_dispatch_support.<locals>.wrapper (from tensorflow.python.ops.array_ops) is deprecated and will be removed in a future version.\n",
            "Instructions for updating:\n",
            "Use tf.where in 2.0, which has the same broadcast rule as np.where\n"
          ],
          "name": "stderr"
        }
      ]
    },
    {
      "cell_type": "markdown",
      "metadata": {
        "id": "IQELScUROBQH",
        "colab_type": "text"
      },
      "source": [
        "## Make a new folder to store the model weights"
      ]
    },
    {
      "cell_type": "code",
      "metadata": {
        "id": "YF5V2K7MYpgH",
        "colab_type": "code",
        "colab": {}
      },
      "source": [
        "!rm -rf /content/tmp"
      ],
      "execution_count": 0,
      "outputs": []
    },
    {
      "cell_type": "code",
      "metadata": {
        "id": "-XBEcZPfOD76",
        "colab_type": "code",
        "colab": {}
      },
      "source": [
        "!mkdir /content/tmp"
      ],
      "execution_count": 0,
      "outputs": []
    },
    {
      "cell_type": "markdown",
      "metadata": {
        "id": "U2gQ2AxaOLrx",
        "colab_type": "text"
      },
      "source": [
        "## Initialize the variables, the saver, and GPU options"
      ]
    },
    {
      "cell_type": "code",
      "metadata": {
        "id": "xw3sdg6eXEYl",
        "colab_type": "code",
        "colab": {}
      },
      "source": [
        "init=tf.global_variables_initializer()"
      ],
      "execution_count": 0,
      "outputs": []
    },
    {
      "cell_type": "code",
      "metadata": {
        "id": "VlhCCsaxB-sw",
        "colab_type": "code",
        "colab": {}
      },
      "source": [
        "saver = tf.train.Saver()"
      ],
      "execution_count": 0,
      "outputs": []
    },
    {
      "cell_type": "code",
      "metadata": {
        "id": "FKf_sudpLAzr",
        "colab_type": "code",
        "colab": {}
      },
      "source": [
        "config = tf.ConfigProto()\n",
        "config.gpu_options.allow_growth = True"
      ],
      "execution_count": 0,
      "outputs": []
    },
    {
      "cell_type": "markdown",
      "metadata": {
        "id": "khrs72N-OUIH",
        "colab_type": "text"
      },
      "source": [
        "# Start training the model!"
      ]
    },
    {
      "cell_type": "code",
      "metadata": {
        "id": "2AhwcyQ3YfSc",
        "colab_type": "code",
        "outputId": "cbc42e4f-751d-40e7-871f-7752b7ac4ba1",
        "colab": {
          "base_uri": "https://localhost:8080/",
          "height": 1000
        }
      },
      "source": [
        "sess = tf.InteractiveSession(config = config)\n",
        "sess.run(init)\n",
        "global_step=0\n",
        "\n",
        "if os.path.exists('/content/tmp/checkpoint'):\n",
        "  print('\\nRestoring model...\\n')\n",
        "  saver.restore(sess, '/content/tmp/model.ckpt')\n",
        "else:\n",
        "  print('\\nCreating a saver to save the model weights\\n')\n",
        "  saver = tf.train.Saver()\n",
        "\n",
        "num_tr_iter = int(len(X_test) / batch_size)\n",
        "\n",
        "\n",
        "for epoch in range(epochs):\n",
        "  print('Training epoch:{}'.format(epoch+1))\n",
        "  \n",
        "  X_train, y_train = randomize(X_train,y_train)\n",
        "  \n",
        "  for iteration in trange(num_tr_iter):\n",
        "    global_step+=1\n",
        "    \n",
        "    start = iteration*batch_size\n",
        "    end = (iteration+1)*batch_size\n",
        "    \n",
        "    x_batch, y_batch = get_next_batch(X_train,y_train,start,end)\n",
        "    \n",
        "    x_batch = I.forward(x_batch)\n",
        "    \n",
        "    y_batch = y_batch[:,np.newaxis]\n",
        "    \n",
        "    # Run optimization operation\n",
        "    feed_dict_batch = {x:x_batch, y:y_batch}\n",
        "    sess.run(optimizer,feed_dict=feed_dict_batch)\n",
        "    \n",
        "\n",
        "  # Calc and display batch loss\n",
        "  loss_batch = sess.run(loss,feed_dict={x:x_batch,y:y_batch})\n",
        "  print(\"iter {0:3d}:\\t Training Loss={1:.2f}\".\n",
        "        format(iteration, loss_batch))\n",
        "            \n",
        "  # Calc and display validation loss \n",
        "  test_input = I.forward(X_test)\n",
        "  val_loss_batch = sess.run(loss, feed_dict={x:test_input, y:y_test[:,np.newaxis]})\n",
        "  print(\"iter {0:3d}:\\t Validation loss={1:.2f}\".format(iteration,\n",
        "                                                       val_loss_batch))\n",
        "      \n",
        "  # Save the model every epoch\n",
        "  save_path = saver.save(sess, \"/content/tmp/model.ckpt\")\n",
        "  print(\"Model saved in path: %s\" % save_path)"
      ],
      "execution_count": 0,
      "outputs": [
        {
          "output_type": "stream",
          "text": [
            "\r  0%|          | 0/15 [00:00<?, ?it/s]"
          ],
          "name": "stderr"
        },
        {
          "output_type": "stream",
          "text": [
            "\n",
            "Creating a saver to save the model weights\n",
            "\n",
            "Training epoch:1\n"
          ],
          "name": "stdout"
        },
        {
          "output_type": "stream",
          "text": [
            "100%|██████████| 15/15 [00:10<00:00,  1.45it/s]\n"
          ],
          "name": "stderr"
        },
        {
          "output_type": "stream",
          "text": [
            "iter  14:\t Training Loss=6.04\n",
            "iter  14:\t Validation loss=8.55\n"
          ],
          "name": "stdout"
        },
        {
          "output_type": "stream",
          "text": [
            "\r  0%|          | 0/15 [00:00<?, ?it/s]"
          ],
          "name": "stderr"
        },
        {
          "output_type": "stream",
          "text": [
            "Model saved in path: /content/tmp/model.ckpt\n",
            "Training epoch:2\n"
          ],
          "name": "stdout"
        },
        {
          "output_type": "stream",
          "text": [
            "100%|██████████| 15/15 [00:10<00:00,  1.44it/s]\n"
          ],
          "name": "stderr"
        },
        {
          "output_type": "stream",
          "text": [
            "iter  14:\t Training Loss=3.22\n",
            "iter  14:\t Validation loss=6.52\n"
          ],
          "name": "stdout"
        },
        {
          "output_type": "stream",
          "text": [
            "\r  0%|          | 0/15 [00:00<?, ?it/s]"
          ],
          "name": "stderr"
        },
        {
          "output_type": "stream",
          "text": [
            "Model saved in path: /content/tmp/model.ckpt\n",
            "Training epoch:3\n"
          ],
          "name": "stdout"
        },
        {
          "output_type": "stream",
          "text": [
            "100%|██████████| 15/15 [00:10<00:00,  1.48it/s]\n"
          ],
          "name": "stderr"
        },
        {
          "output_type": "stream",
          "text": [
            "iter  14:\t Training Loss=5.55\n",
            "iter  14:\t Validation loss=6.99\n"
          ],
          "name": "stdout"
        },
        {
          "output_type": "stream",
          "text": [
            "\r  0%|          | 0/15 [00:00<?, ?it/s]"
          ],
          "name": "stderr"
        },
        {
          "output_type": "stream",
          "text": [
            "Model saved in path: /content/tmp/model.ckpt\n",
            "Training epoch:4\n"
          ],
          "name": "stdout"
        },
        {
          "output_type": "stream",
          "text": [
            "100%|██████████| 15/15 [00:10<00:00,  1.47it/s]\n"
          ],
          "name": "stderr"
        },
        {
          "output_type": "stream",
          "text": [
            "iter  14:\t Training Loss=3.24\n",
            "iter  14:\t Validation loss=6.32\n"
          ],
          "name": "stdout"
        },
        {
          "output_type": "stream",
          "text": [
            "\r  0%|          | 0/15 [00:00<?, ?it/s]"
          ],
          "name": "stderr"
        },
        {
          "output_type": "stream",
          "text": [
            "Model saved in path: /content/tmp/model.ckpt\n",
            "Training epoch:5\n"
          ],
          "name": "stdout"
        },
        {
          "output_type": "stream",
          "text": [
            "100%|██████████| 15/15 [00:10<00:00,  1.47it/s]\n"
          ],
          "name": "stderr"
        },
        {
          "output_type": "stream",
          "text": [
            "iter  14:\t Training Loss=3.29\n",
            "iter  14:\t Validation loss=6.02\n"
          ],
          "name": "stdout"
        },
        {
          "output_type": "stream",
          "text": [
            "\r  0%|          | 0/15 [00:00<?, ?it/s]"
          ],
          "name": "stderr"
        },
        {
          "output_type": "stream",
          "text": [
            "Model saved in path: /content/tmp/model.ckpt\n",
            "Training epoch:6\n"
          ],
          "name": "stdout"
        },
        {
          "output_type": "stream",
          "text": [
            "100%|██████████| 15/15 [00:09<00:00,  1.54it/s]\n"
          ],
          "name": "stderr"
        },
        {
          "output_type": "stream",
          "text": [
            "iter  14:\t Training Loss=5.40\n",
            "iter  14:\t Validation loss=6.01\n"
          ],
          "name": "stdout"
        },
        {
          "output_type": "stream",
          "text": [
            "\r  0%|          | 0/15 [00:00<?, ?it/s]"
          ],
          "name": "stderr"
        },
        {
          "output_type": "stream",
          "text": [
            "Model saved in path: /content/tmp/model.ckpt\n",
            "Training epoch:7\n"
          ],
          "name": "stdout"
        },
        {
          "output_type": "stream",
          "text": [
            "100%|██████████| 15/15 [00:09<00:00,  1.53it/s]\n"
          ],
          "name": "stderr"
        },
        {
          "output_type": "stream",
          "text": [
            "iter  14:\t Training Loss=2.01\n",
            "iter  14:\t Validation loss=5.72\n"
          ],
          "name": "stdout"
        },
        {
          "output_type": "stream",
          "text": [
            "\r  0%|          | 0/15 [00:00<?, ?it/s]"
          ],
          "name": "stderr"
        },
        {
          "output_type": "stream",
          "text": [
            "Model saved in path: /content/tmp/model.ckpt\n",
            "Training epoch:8\n"
          ],
          "name": "stdout"
        },
        {
          "output_type": "stream",
          "text": [
            "100%|██████████| 15/15 [00:10<00:00,  1.52it/s]\n"
          ],
          "name": "stderr"
        },
        {
          "output_type": "stream",
          "text": [
            "iter  14:\t Training Loss=2.75\n",
            "iter  14:\t Validation loss=6.04\n"
          ],
          "name": "stdout"
        },
        {
          "output_type": "stream",
          "text": [
            "\r  0%|          | 0/15 [00:00<?, ?it/s]"
          ],
          "name": "stderr"
        },
        {
          "output_type": "stream",
          "text": [
            "Model saved in path: /content/tmp/model.ckpt\n",
            "Training epoch:9\n"
          ],
          "name": "stdout"
        },
        {
          "output_type": "stream",
          "text": [
            "100%|██████████| 15/15 [00:10<00:00,  1.51it/s]\n"
          ],
          "name": "stderr"
        },
        {
          "output_type": "stream",
          "text": [
            "iter  14:\t Training Loss=4.91\n",
            "iter  14:\t Validation loss=5.43\n"
          ],
          "name": "stdout"
        },
        {
          "output_type": "stream",
          "text": [
            "\r  0%|          | 0/15 [00:00<?, ?it/s]"
          ],
          "name": "stderr"
        },
        {
          "output_type": "stream",
          "text": [
            "Model saved in path: /content/tmp/model.ckpt\n",
            "Training epoch:10\n"
          ],
          "name": "stdout"
        },
        {
          "output_type": "stream",
          "text": [
            "100%|██████████| 15/15 [00:09<00:00,  1.51it/s]\n"
          ],
          "name": "stderr"
        },
        {
          "output_type": "stream",
          "text": [
            "iter  14:\t Training Loss=5.80\n",
            "iter  14:\t Validation loss=5.36\n"
          ],
          "name": "stdout"
        },
        {
          "output_type": "stream",
          "text": [
            "\r  0%|          | 0/15 [00:00<?, ?it/s]"
          ],
          "name": "stderr"
        },
        {
          "output_type": "stream",
          "text": [
            "Model saved in path: /content/tmp/model.ckpt\n",
            "Training epoch:11\n"
          ],
          "name": "stdout"
        },
        {
          "output_type": "stream",
          "text": [
            "100%|██████████| 15/15 [00:09<00:00,  1.53it/s]\n"
          ],
          "name": "stderr"
        },
        {
          "output_type": "stream",
          "text": [
            "iter  14:\t Training Loss=2.78\n",
            "iter  14:\t Validation loss=5.10\n"
          ],
          "name": "stdout"
        },
        {
          "output_type": "stream",
          "text": [
            "\r  0%|          | 0/15 [00:00<?, ?it/s]"
          ],
          "name": "stderr"
        },
        {
          "output_type": "stream",
          "text": [
            "Model saved in path: /content/tmp/model.ckpt\n",
            "Training epoch:12\n"
          ],
          "name": "stdout"
        },
        {
          "output_type": "stream",
          "text": [
            "100%|██████████| 15/15 [00:09<00:00,  1.49it/s]\n"
          ],
          "name": "stderr"
        },
        {
          "output_type": "stream",
          "text": [
            "iter  14:\t Training Loss=2.67\n",
            "iter  14:\t Validation loss=5.16\n"
          ],
          "name": "stdout"
        },
        {
          "output_type": "stream",
          "text": [
            "\r  0%|          | 0/15 [00:00<?, ?it/s]"
          ],
          "name": "stderr"
        },
        {
          "output_type": "stream",
          "text": [
            "Model saved in path: /content/tmp/model.ckpt\n",
            "Training epoch:13\n"
          ],
          "name": "stdout"
        },
        {
          "output_type": "stream",
          "text": [
            "100%|██████████| 15/15 [00:10<00:00,  1.52it/s]\n"
          ],
          "name": "stderr"
        },
        {
          "output_type": "stream",
          "text": [
            "iter  14:\t Training Loss=3.56\n",
            "iter  14:\t Validation loss=5.34\n"
          ],
          "name": "stdout"
        },
        {
          "output_type": "stream",
          "text": [
            "\r  0%|          | 0/15 [00:00<?, ?it/s]"
          ],
          "name": "stderr"
        },
        {
          "output_type": "stream",
          "text": [
            "Model saved in path: /content/tmp/model.ckpt\n",
            "Training epoch:14\n"
          ],
          "name": "stdout"
        },
        {
          "output_type": "stream",
          "text": [
            "100%|██████████| 15/15 [00:10<00:00,  1.49it/s]\n"
          ],
          "name": "stderr"
        },
        {
          "output_type": "stream",
          "text": [
            "iter  14:\t Training Loss=2.59\n",
            "iter  14:\t Validation loss=5.46\n"
          ],
          "name": "stdout"
        },
        {
          "output_type": "stream",
          "text": [
            "\r  0%|          | 0/15 [00:00<?, ?it/s]"
          ],
          "name": "stderr"
        },
        {
          "output_type": "stream",
          "text": [
            "Model saved in path: /content/tmp/model.ckpt\n",
            "Training epoch:15\n"
          ],
          "name": "stdout"
        },
        {
          "output_type": "stream",
          "text": [
            "100%|██████████| 15/15 [00:10<00:00,  1.52it/s]\n"
          ],
          "name": "stderr"
        },
        {
          "output_type": "stream",
          "text": [
            "iter  14:\t Training Loss=2.03\n",
            "iter  14:\t Validation loss=5.22\n"
          ],
          "name": "stdout"
        },
        {
          "output_type": "stream",
          "text": [
            "\r  0%|          | 0/15 [00:00<?, ?it/s]"
          ],
          "name": "stderr"
        },
        {
          "output_type": "stream",
          "text": [
            "Model saved in path: /content/tmp/model.ckpt\n",
            "Training epoch:16\n"
          ],
          "name": "stdout"
        },
        {
          "output_type": "stream",
          "text": [
            "100%|██████████| 15/15 [00:10<00:00,  1.51it/s]\n"
          ],
          "name": "stderr"
        },
        {
          "output_type": "stream",
          "text": [
            "iter  14:\t Training Loss=1.32\n",
            "iter  14:\t Validation loss=5.19\n"
          ],
          "name": "stdout"
        },
        {
          "output_type": "stream",
          "text": [
            "\r  0%|          | 0/15 [00:00<?, ?it/s]"
          ],
          "name": "stderr"
        },
        {
          "output_type": "stream",
          "text": [
            "Model saved in path: /content/tmp/model.ckpt\n",
            "Training epoch:17\n"
          ],
          "name": "stdout"
        },
        {
          "output_type": "stream",
          "text": [
            "100%|██████████| 15/15 [00:09<00:00,  1.49it/s]\n"
          ],
          "name": "stderr"
        },
        {
          "output_type": "stream",
          "text": [
            "iter  14:\t Training Loss=2.78\n",
            "iter  14:\t Validation loss=5.17\n"
          ],
          "name": "stdout"
        },
        {
          "output_type": "stream",
          "text": [
            "\r  0%|          | 0/15 [00:00<?, ?it/s]"
          ],
          "name": "stderr"
        },
        {
          "output_type": "stream",
          "text": [
            "Model saved in path: /content/tmp/model.ckpt\n",
            "Training epoch:18\n"
          ],
          "name": "stdout"
        },
        {
          "output_type": "stream",
          "text": [
            "100%|██████████| 15/15 [00:09<00:00,  1.52it/s]\n"
          ],
          "name": "stderr"
        },
        {
          "output_type": "stream",
          "text": [
            "iter  14:\t Training Loss=1.28\n",
            "iter  14:\t Validation loss=4.97\n"
          ],
          "name": "stdout"
        },
        {
          "output_type": "stream",
          "text": [
            "\r  0%|          | 0/15 [00:00<?, ?it/s]"
          ],
          "name": "stderr"
        },
        {
          "output_type": "stream",
          "text": [
            "Model saved in path: /content/tmp/model.ckpt\n",
            "Training epoch:19\n"
          ],
          "name": "stdout"
        },
        {
          "output_type": "stream",
          "text": [
            "100%|██████████| 15/15 [00:10<00:00,  1.49it/s]\n"
          ],
          "name": "stderr"
        },
        {
          "output_type": "stream",
          "text": [
            "iter  14:\t Training Loss=4.73\n",
            "iter  14:\t Validation loss=5.17\n"
          ],
          "name": "stdout"
        },
        {
          "output_type": "stream",
          "text": [
            "\r  0%|          | 0/15 [00:00<?, ?it/s]"
          ],
          "name": "stderr"
        },
        {
          "output_type": "stream",
          "text": [
            "Model saved in path: /content/tmp/model.ckpt\n",
            "Training epoch:20\n"
          ],
          "name": "stdout"
        },
        {
          "output_type": "stream",
          "text": [
            "100%|██████████| 15/15 [00:10<00:00,  1.49it/s]\n"
          ],
          "name": "stderr"
        },
        {
          "output_type": "stream",
          "text": [
            "iter  14:\t Training Loss=1.40\n",
            "iter  14:\t Validation loss=5.60\n"
          ],
          "name": "stdout"
        },
        {
          "output_type": "stream",
          "text": [
            "\r  0%|          | 0/15 [00:00<?, ?it/s]"
          ],
          "name": "stderr"
        },
        {
          "output_type": "stream",
          "text": [
            "Model saved in path: /content/tmp/model.ckpt\n",
            "Training epoch:21\n"
          ],
          "name": "stdout"
        },
        {
          "output_type": "stream",
          "text": [
            "100%|██████████| 15/15 [00:10<00:00,  1.48it/s]\n"
          ],
          "name": "stderr"
        },
        {
          "output_type": "stream",
          "text": [
            "iter  14:\t Training Loss=3.13\n",
            "iter  14:\t Validation loss=5.12\n"
          ],
          "name": "stdout"
        },
        {
          "output_type": "stream",
          "text": [
            "\r  0%|          | 0/15 [00:00<?, ?it/s]"
          ],
          "name": "stderr"
        },
        {
          "output_type": "stream",
          "text": [
            "Model saved in path: /content/tmp/model.ckpt\n",
            "Training epoch:22\n"
          ],
          "name": "stdout"
        },
        {
          "output_type": "stream",
          "text": [
            "100%|██████████| 15/15 [00:10<00:00,  1.47it/s]\n"
          ],
          "name": "stderr"
        },
        {
          "output_type": "stream",
          "text": [
            "iter  14:\t Training Loss=2.48\n",
            "iter  14:\t Validation loss=5.23\n"
          ],
          "name": "stdout"
        },
        {
          "output_type": "stream",
          "text": [
            "\r  0%|          | 0/15 [00:00<?, ?it/s]"
          ],
          "name": "stderr"
        },
        {
          "output_type": "stream",
          "text": [
            "Model saved in path: /content/tmp/model.ckpt\n",
            "Training epoch:23\n"
          ],
          "name": "stdout"
        },
        {
          "output_type": "stream",
          "text": [
            "100%|██████████| 15/15 [00:10<00:00,  1.48it/s]\n"
          ],
          "name": "stderr"
        },
        {
          "output_type": "stream",
          "text": [
            "iter  14:\t Training Loss=1.72\n",
            "iter  14:\t Validation loss=5.28\n"
          ],
          "name": "stdout"
        },
        {
          "output_type": "stream",
          "text": [
            "\r  0%|          | 0/15 [00:00<?, ?it/s]"
          ],
          "name": "stderr"
        },
        {
          "output_type": "stream",
          "text": [
            "Model saved in path: /content/tmp/model.ckpt\n",
            "Training epoch:24\n"
          ],
          "name": "stdout"
        },
        {
          "output_type": "stream",
          "text": [
            "100%|██████████| 15/15 [00:10<00:00,  1.45it/s]\n"
          ],
          "name": "stderr"
        },
        {
          "output_type": "stream",
          "text": [
            "iter  14:\t Training Loss=1.62\n",
            "iter  14:\t Validation loss=5.36\n"
          ],
          "name": "stdout"
        },
        {
          "output_type": "stream",
          "text": [
            "\r  0%|          | 0/15 [00:00<?, ?it/s]"
          ],
          "name": "stderr"
        },
        {
          "output_type": "stream",
          "text": [
            "Model saved in path: /content/tmp/model.ckpt\n",
            "Training epoch:25\n"
          ],
          "name": "stdout"
        },
        {
          "output_type": "stream",
          "text": [
            "100%|██████████| 15/15 [00:10<00:00,  1.51it/s]\n"
          ],
          "name": "stderr"
        },
        {
          "output_type": "stream",
          "text": [
            "iter  14:\t Training Loss=3.28\n",
            "iter  14:\t Validation loss=5.01\n"
          ],
          "name": "stdout"
        },
        {
          "output_type": "stream",
          "text": [
            "\r  0%|          | 0/15 [00:00<?, ?it/s]"
          ],
          "name": "stderr"
        },
        {
          "output_type": "stream",
          "text": [
            "Model saved in path: /content/tmp/model.ckpt\n",
            "Training epoch:26\n"
          ],
          "name": "stdout"
        },
        {
          "output_type": "stream",
          "text": [
            "100%|██████████| 15/15 [00:10<00:00,  1.44it/s]\n"
          ],
          "name": "stderr"
        },
        {
          "output_type": "stream",
          "text": [
            "iter  14:\t Training Loss=2.38\n",
            "iter  14:\t Validation loss=5.03\n"
          ],
          "name": "stdout"
        },
        {
          "output_type": "stream",
          "text": [
            "\r  0%|          | 0/15 [00:00<?, ?it/s]"
          ],
          "name": "stderr"
        },
        {
          "output_type": "stream",
          "text": [
            "Model saved in path: /content/tmp/model.ckpt\n",
            "Training epoch:27\n"
          ],
          "name": "stdout"
        },
        {
          "output_type": "stream",
          "text": [
            "100%|██████████| 15/15 [00:09<00:00,  1.54it/s]\n"
          ],
          "name": "stderr"
        },
        {
          "output_type": "stream",
          "text": [
            "iter  14:\t Training Loss=2.17\n",
            "iter  14:\t Validation loss=5.46\n"
          ],
          "name": "stdout"
        },
        {
          "output_type": "stream",
          "text": [
            "\r  0%|          | 0/15 [00:00<?, ?it/s]"
          ],
          "name": "stderr"
        },
        {
          "output_type": "stream",
          "text": [
            "Model saved in path: /content/tmp/model.ckpt\n",
            "Training epoch:28\n"
          ],
          "name": "stdout"
        },
        {
          "output_type": "stream",
          "text": [
            "100%|██████████| 15/15 [00:10<00:00,  1.49it/s]\n"
          ],
          "name": "stderr"
        },
        {
          "output_type": "stream",
          "text": [
            "iter  14:\t Training Loss=1.88\n",
            "iter  14:\t Validation loss=4.86\n"
          ],
          "name": "stdout"
        },
        {
          "output_type": "stream",
          "text": [
            "\r  0%|          | 0/15 [00:00<?, ?it/s]"
          ],
          "name": "stderr"
        },
        {
          "output_type": "stream",
          "text": [
            "Model saved in path: /content/tmp/model.ckpt\n",
            "Training epoch:29\n"
          ],
          "name": "stdout"
        },
        {
          "output_type": "stream",
          "text": [
            "100%|██████████| 15/15 [00:10<00:00,  1.46it/s]\n"
          ],
          "name": "stderr"
        },
        {
          "output_type": "stream",
          "text": [
            "iter  14:\t Training Loss=2.50\n",
            "iter  14:\t Validation loss=5.05\n"
          ],
          "name": "stdout"
        },
        {
          "output_type": "stream",
          "text": [
            "\r  0%|          | 0/15 [00:00<?, ?it/s]"
          ],
          "name": "stderr"
        },
        {
          "output_type": "stream",
          "text": [
            "Model saved in path: /content/tmp/model.ckpt\n",
            "Training epoch:30\n"
          ],
          "name": "stdout"
        },
        {
          "output_type": "stream",
          "text": [
            "100%|██████████| 15/15 [00:10<00:00,  1.51it/s]\n"
          ],
          "name": "stderr"
        },
        {
          "output_type": "stream",
          "text": [
            "iter  14:\t Training Loss=2.71\n",
            "iter  14:\t Validation loss=5.74\n"
          ],
          "name": "stdout"
        },
        {
          "output_type": "stream",
          "text": [
            "\r  0%|          | 0/15 [00:00<?, ?it/s]"
          ],
          "name": "stderr"
        },
        {
          "output_type": "stream",
          "text": [
            "Model saved in path: /content/tmp/model.ckpt\n",
            "Training epoch:31\n"
          ],
          "name": "stdout"
        },
        {
          "output_type": "stream",
          "text": [
            "100%|██████████| 15/15 [00:10<00:00,  1.50it/s]\n"
          ],
          "name": "stderr"
        },
        {
          "output_type": "stream",
          "text": [
            "iter  14:\t Training Loss=1.41\n",
            "iter  14:\t Validation loss=5.09\n"
          ],
          "name": "stdout"
        },
        {
          "output_type": "stream",
          "text": [
            "\r  0%|          | 0/15 [00:00<?, ?it/s]"
          ],
          "name": "stderr"
        },
        {
          "output_type": "stream",
          "text": [
            "Model saved in path: /content/tmp/model.ckpt\n",
            "Training epoch:32\n"
          ],
          "name": "stdout"
        },
        {
          "output_type": "stream",
          "text": [
            "100%|██████████| 15/15 [00:10<00:00,  1.50it/s]\n"
          ],
          "name": "stderr"
        },
        {
          "output_type": "stream",
          "text": [
            "iter  14:\t Training Loss=2.44\n",
            "iter  14:\t Validation loss=5.37\n"
          ],
          "name": "stdout"
        },
        {
          "output_type": "stream",
          "text": [
            "\r  0%|          | 0/15 [00:00<?, ?it/s]"
          ],
          "name": "stderr"
        },
        {
          "output_type": "stream",
          "text": [
            "Model saved in path: /content/tmp/model.ckpt\n",
            "Training epoch:33\n"
          ],
          "name": "stdout"
        },
        {
          "output_type": "stream",
          "text": [
            "100%|██████████| 15/15 [00:09<00:00,  1.51it/s]\n"
          ],
          "name": "stderr"
        },
        {
          "output_type": "stream",
          "text": [
            "iter  14:\t Training Loss=1.22\n",
            "iter  14:\t Validation loss=5.26\n"
          ],
          "name": "stdout"
        },
        {
          "output_type": "stream",
          "text": [
            "\r  0%|          | 0/15 [00:00<?, ?it/s]"
          ],
          "name": "stderr"
        },
        {
          "output_type": "stream",
          "text": [
            "Model saved in path: /content/tmp/model.ckpt\n",
            "Training epoch:34\n"
          ],
          "name": "stdout"
        },
        {
          "output_type": "stream",
          "text": [
            "100%|██████████| 15/15 [00:10<00:00,  1.49it/s]\n"
          ],
          "name": "stderr"
        },
        {
          "output_type": "stream",
          "text": [
            "iter  14:\t Training Loss=1.89\n",
            "iter  14:\t Validation loss=4.97\n"
          ],
          "name": "stdout"
        },
        {
          "output_type": "stream",
          "text": [
            "\r  0%|          | 0/15 [00:00<?, ?it/s]"
          ],
          "name": "stderr"
        },
        {
          "output_type": "stream",
          "text": [
            "Model saved in path: /content/tmp/model.ckpt\n",
            "Training epoch:35\n"
          ],
          "name": "stdout"
        },
        {
          "output_type": "stream",
          "text": [
            "100%|██████████| 15/15 [00:10<00:00,  1.52it/s]\n"
          ],
          "name": "stderr"
        },
        {
          "output_type": "stream",
          "text": [
            "iter  14:\t Training Loss=0.70\n",
            "iter  14:\t Validation loss=4.89\n"
          ],
          "name": "stdout"
        },
        {
          "output_type": "stream",
          "text": [
            "\r  0%|          | 0/15 [00:00<?, ?it/s]"
          ],
          "name": "stderr"
        },
        {
          "output_type": "stream",
          "text": [
            "Model saved in path: /content/tmp/model.ckpt\n",
            "Training epoch:36\n"
          ],
          "name": "stdout"
        },
        {
          "output_type": "stream",
          "text": [
            "100%|██████████| 15/15 [00:10<00:00,  1.50it/s]\n"
          ],
          "name": "stderr"
        },
        {
          "output_type": "stream",
          "text": [
            "iter  14:\t Training Loss=2.10\n",
            "iter  14:\t Validation loss=4.98\n"
          ],
          "name": "stdout"
        },
        {
          "output_type": "stream",
          "text": [
            "\r  0%|          | 0/15 [00:00<?, ?it/s]"
          ],
          "name": "stderr"
        },
        {
          "output_type": "stream",
          "text": [
            "Model saved in path: /content/tmp/model.ckpt\n",
            "Training epoch:37\n"
          ],
          "name": "stdout"
        },
        {
          "output_type": "stream",
          "text": [
            "100%|██████████| 15/15 [00:09<00:00,  1.54it/s]\n"
          ],
          "name": "stderr"
        },
        {
          "output_type": "stream",
          "text": [
            "iter  14:\t Training Loss=1.86\n",
            "iter  14:\t Validation loss=4.93\n"
          ],
          "name": "stdout"
        },
        {
          "output_type": "stream",
          "text": [
            "\r  0%|          | 0/15 [00:00<?, ?it/s]"
          ],
          "name": "stderr"
        },
        {
          "output_type": "stream",
          "text": [
            "Model saved in path: /content/tmp/model.ckpt\n",
            "Training epoch:38\n"
          ],
          "name": "stdout"
        },
        {
          "output_type": "stream",
          "text": [
            "100%|██████████| 15/15 [00:09<00:00,  1.49it/s]\n"
          ],
          "name": "stderr"
        },
        {
          "output_type": "stream",
          "text": [
            "iter  14:\t Training Loss=0.98\n",
            "iter  14:\t Validation loss=5.01\n"
          ],
          "name": "stdout"
        },
        {
          "output_type": "stream",
          "text": [
            "\r  0%|          | 0/15 [00:00<?, ?it/s]"
          ],
          "name": "stderr"
        },
        {
          "output_type": "stream",
          "text": [
            "Model saved in path: /content/tmp/model.ckpt\n",
            "Training epoch:39\n"
          ],
          "name": "stdout"
        },
        {
          "output_type": "stream",
          "text": [
            "100%|██████████| 15/15 [00:09<00:00,  1.50it/s]\n"
          ],
          "name": "stderr"
        },
        {
          "output_type": "stream",
          "text": [
            "iter  14:\t Training Loss=0.99\n",
            "iter  14:\t Validation loss=4.87\n"
          ],
          "name": "stdout"
        },
        {
          "output_type": "stream",
          "text": [
            "\r  0%|          | 0/15 [00:00<?, ?it/s]"
          ],
          "name": "stderr"
        },
        {
          "output_type": "stream",
          "text": [
            "Model saved in path: /content/tmp/model.ckpt\n",
            "Training epoch:40\n"
          ],
          "name": "stdout"
        },
        {
          "output_type": "stream",
          "text": [
            "100%|██████████| 15/15 [00:09<00:00,  1.55it/s]\n"
          ],
          "name": "stderr"
        },
        {
          "output_type": "stream",
          "text": [
            "iter  14:\t Training Loss=0.52\n",
            "iter  14:\t Validation loss=4.91\n"
          ],
          "name": "stdout"
        },
        {
          "output_type": "stream",
          "text": [
            "\r  0%|          | 0/15 [00:00<?, ?it/s]"
          ],
          "name": "stderr"
        },
        {
          "output_type": "stream",
          "text": [
            "Model saved in path: /content/tmp/model.ckpt\n",
            "Training epoch:41\n"
          ],
          "name": "stdout"
        },
        {
          "output_type": "stream",
          "text": [
            "100%|██████████| 15/15 [00:09<00:00,  1.55it/s]\n"
          ],
          "name": "stderr"
        },
        {
          "output_type": "stream",
          "text": [
            "iter  14:\t Training Loss=0.86\n",
            "iter  14:\t Validation loss=4.95\n"
          ],
          "name": "stdout"
        },
        {
          "output_type": "stream",
          "text": [
            "\r  0%|          | 0/15 [00:00<?, ?it/s]"
          ],
          "name": "stderr"
        },
        {
          "output_type": "stream",
          "text": [
            "Model saved in path: /content/tmp/model.ckpt\n",
            "Training epoch:42\n"
          ],
          "name": "stdout"
        },
        {
          "output_type": "stream",
          "text": [
            "100%|██████████| 15/15 [00:09<00:00,  1.54it/s]\n"
          ],
          "name": "stderr"
        },
        {
          "output_type": "stream",
          "text": [
            "iter  14:\t Training Loss=1.28\n",
            "iter  14:\t Validation loss=5.40\n"
          ],
          "name": "stdout"
        },
        {
          "output_type": "stream",
          "text": [
            "\r  0%|          | 0/15 [00:00<?, ?it/s]"
          ],
          "name": "stderr"
        },
        {
          "output_type": "stream",
          "text": [
            "Model saved in path: /content/tmp/model.ckpt\n",
            "Training epoch:43\n"
          ],
          "name": "stdout"
        },
        {
          "output_type": "stream",
          "text": [
            "100%|██████████| 15/15 [00:09<00:00,  1.52it/s]\n"
          ],
          "name": "stderr"
        },
        {
          "output_type": "stream",
          "text": [
            "iter  14:\t Training Loss=0.70\n",
            "iter  14:\t Validation loss=5.39\n"
          ],
          "name": "stdout"
        },
        {
          "output_type": "stream",
          "text": [
            "\r  0%|          | 0/15 [00:00<?, ?it/s]"
          ],
          "name": "stderr"
        },
        {
          "output_type": "stream",
          "text": [
            "Model saved in path: /content/tmp/model.ckpt\n",
            "Training epoch:44\n"
          ],
          "name": "stdout"
        },
        {
          "output_type": "stream",
          "text": [
            "100%|██████████| 15/15 [00:09<00:00,  1.52it/s]\n"
          ],
          "name": "stderr"
        },
        {
          "output_type": "stream",
          "text": [
            "iter  14:\t Training Loss=0.39\n",
            "iter  14:\t Validation loss=5.45\n"
          ],
          "name": "stdout"
        },
        {
          "output_type": "stream",
          "text": [
            "\r  0%|          | 0/15 [00:00<?, ?it/s]"
          ],
          "name": "stderr"
        },
        {
          "output_type": "stream",
          "text": [
            "Model saved in path: /content/tmp/model.ckpt\n",
            "Training epoch:45\n"
          ],
          "name": "stdout"
        },
        {
          "output_type": "stream",
          "text": [
            "100%|██████████| 15/15 [00:09<00:00,  1.53it/s]\n"
          ],
          "name": "stderr"
        },
        {
          "output_type": "stream",
          "text": [
            "iter  14:\t Training Loss=0.71\n",
            "iter  14:\t Validation loss=5.04\n"
          ],
          "name": "stdout"
        },
        {
          "output_type": "stream",
          "text": [
            "\r  0%|          | 0/15 [00:00<?, ?it/s]"
          ],
          "name": "stderr"
        },
        {
          "output_type": "stream",
          "text": [
            "Model saved in path: /content/tmp/model.ckpt\n",
            "Training epoch:46\n"
          ],
          "name": "stdout"
        },
        {
          "output_type": "stream",
          "text": [
            "100%|██████████| 15/15 [00:10<00:00,  1.49it/s]\n"
          ],
          "name": "stderr"
        },
        {
          "output_type": "stream",
          "text": [
            "iter  14:\t Training Loss=0.65\n",
            "iter  14:\t Validation loss=5.47\n"
          ],
          "name": "stdout"
        },
        {
          "output_type": "stream",
          "text": [
            "\r  0%|          | 0/15 [00:00<?, ?it/s]"
          ],
          "name": "stderr"
        },
        {
          "output_type": "stream",
          "text": [
            "Model saved in path: /content/tmp/model.ckpt\n",
            "Training epoch:47\n"
          ],
          "name": "stdout"
        },
        {
          "output_type": "stream",
          "text": [
            "100%|██████████| 15/15 [00:10<00:00,  1.51it/s]\n"
          ],
          "name": "stderr"
        },
        {
          "output_type": "stream",
          "text": [
            "iter  14:\t Training Loss=0.63\n",
            "iter  14:\t Validation loss=5.13\n"
          ],
          "name": "stdout"
        },
        {
          "output_type": "stream",
          "text": [
            "\r  0%|          | 0/15 [00:00<?, ?it/s]"
          ],
          "name": "stderr"
        },
        {
          "output_type": "stream",
          "text": [
            "Model saved in path: /content/tmp/model.ckpt\n",
            "Training epoch:48\n"
          ],
          "name": "stdout"
        },
        {
          "output_type": "stream",
          "text": [
            "100%|██████████| 15/15 [00:09<00:00,  1.50it/s]\n"
          ],
          "name": "stderr"
        },
        {
          "output_type": "stream",
          "text": [
            "iter  14:\t Training Loss=2.50\n",
            "iter  14:\t Validation loss=5.29\n"
          ],
          "name": "stdout"
        },
        {
          "output_type": "stream",
          "text": [
            "\r  0%|          | 0/15 [00:00<?, ?it/s]"
          ],
          "name": "stderr"
        },
        {
          "output_type": "stream",
          "text": [
            "Model saved in path: /content/tmp/model.ckpt\n",
            "Training epoch:49\n"
          ],
          "name": "stdout"
        },
        {
          "output_type": "stream",
          "text": [
            "100%|██████████| 15/15 [00:09<00:00,  1.50it/s]\n"
          ],
          "name": "stderr"
        },
        {
          "output_type": "stream",
          "text": [
            "iter  14:\t Training Loss=2.12\n",
            "iter  14:\t Validation loss=5.15\n"
          ],
          "name": "stdout"
        },
        {
          "output_type": "stream",
          "text": [
            "\r  0%|          | 0/15 [00:00<?, ?it/s]"
          ],
          "name": "stderr"
        },
        {
          "output_type": "stream",
          "text": [
            "Model saved in path: /content/tmp/model.ckpt\n",
            "Training epoch:50\n"
          ],
          "name": "stdout"
        },
        {
          "output_type": "stream",
          "text": [
            "100%|██████████| 15/15 [00:09<00:00,  1.50it/s]\n"
          ],
          "name": "stderr"
        },
        {
          "output_type": "stream",
          "text": [
            "iter  14:\t Training Loss=0.66\n",
            "iter  14:\t Validation loss=5.37\n"
          ],
          "name": "stdout"
        },
        {
          "output_type": "stream",
          "text": [
            "\r  0%|          | 0/15 [00:00<?, ?it/s]"
          ],
          "name": "stderr"
        },
        {
          "output_type": "stream",
          "text": [
            "Model saved in path: /content/tmp/model.ckpt\n",
            "Training epoch:51\n"
          ],
          "name": "stdout"
        },
        {
          "output_type": "stream",
          "text": [
            "100%|██████████| 15/15 [00:10<00:00,  1.50it/s]\n"
          ],
          "name": "stderr"
        },
        {
          "output_type": "stream",
          "text": [
            "iter  14:\t Training Loss=1.25\n",
            "iter  14:\t Validation loss=5.46\n"
          ],
          "name": "stdout"
        },
        {
          "output_type": "stream",
          "text": [
            "\r  0%|          | 0/15 [00:00<?, ?it/s]"
          ],
          "name": "stderr"
        },
        {
          "output_type": "stream",
          "text": [
            "Model saved in path: /content/tmp/model.ckpt\n",
            "Training epoch:52\n"
          ],
          "name": "stdout"
        },
        {
          "output_type": "stream",
          "text": [
            "100%|██████████| 15/15 [00:10<00:00,  1.44it/s]\n"
          ],
          "name": "stderr"
        },
        {
          "output_type": "stream",
          "text": [
            "iter  14:\t Training Loss=1.42\n",
            "iter  14:\t Validation loss=5.37\n"
          ],
          "name": "stdout"
        },
        {
          "output_type": "stream",
          "text": [
            "\r  0%|          | 0/15 [00:00<?, ?it/s]"
          ],
          "name": "stderr"
        },
        {
          "output_type": "stream",
          "text": [
            "Model saved in path: /content/tmp/model.ckpt\n",
            "Training epoch:53\n"
          ],
          "name": "stdout"
        },
        {
          "output_type": "stream",
          "text": [
            "100%|██████████| 15/15 [00:10<00:00,  1.49it/s]\n"
          ],
          "name": "stderr"
        },
        {
          "output_type": "stream",
          "text": [
            "iter  14:\t Training Loss=0.56\n",
            "iter  14:\t Validation loss=5.26\n"
          ],
          "name": "stdout"
        },
        {
          "output_type": "stream",
          "text": [
            "\r  0%|          | 0/15 [00:00<?, ?it/s]"
          ],
          "name": "stderr"
        },
        {
          "output_type": "stream",
          "text": [
            "Model saved in path: /content/tmp/model.ckpt\n",
            "Training epoch:54\n"
          ],
          "name": "stdout"
        },
        {
          "output_type": "stream",
          "text": [
            "100%|██████████| 15/15 [00:09<00:00,  1.52it/s]\n"
          ],
          "name": "stderr"
        },
        {
          "output_type": "stream",
          "text": [
            "iter  14:\t Training Loss=1.98\n",
            "iter  14:\t Validation loss=5.03\n"
          ],
          "name": "stdout"
        },
        {
          "output_type": "stream",
          "text": [
            "\r  0%|          | 0/15 [00:00<?, ?it/s]"
          ],
          "name": "stderr"
        },
        {
          "output_type": "stream",
          "text": [
            "Model saved in path: /content/tmp/model.ckpt\n",
            "Training epoch:55\n"
          ],
          "name": "stdout"
        },
        {
          "output_type": "stream",
          "text": [
            "100%|██████████| 15/15 [00:10<00:00,  1.47it/s]\n"
          ],
          "name": "stderr"
        },
        {
          "output_type": "stream",
          "text": [
            "iter  14:\t Training Loss=1.12\n",
            "iter  14:\t Validation loss=5.44\n"
          ],
          "name": "stdout"
        },
        {
          "output_type": "stream",
          "text": [
            "\r  0%|          | 0/15 [00:00<?, ?it/s]"
          ],
          "name": "stderr"
        },
        {
          "output_type": "stream",
          "text": [
            "Model saved in path: /content/tmp/model.ckpt\n",
            "Training epoch:56\n"
          ],
          "name": "stdout"
        },
        {
          "output_type": "stream",
          "text": [
            "100%|██████████| 15/15 [00:10<00:00,  1.49it/s]\n"
          ],
          "name": "stderr"
        },
        {
          "output_type": "stream",
          "text": [
            "iter  14:\t Training Loss=0.64\n",
            "iter  14:\t Validation loss=5.27\n"
          ],
          "name": "stdout"
        },
        {
          "output_type": "stream",
          "text": [
            "\r  0%|          | 0/15 [00:00<?, ?it/s]"
          ],
          "name": "stderr"
        },
        {
          "output_type": "stream",
          "text": [
            "Model saved in path: /content/tmp/model.ckpt\n",
            "Training epoch:57\n"
          ],
          "name": "stdout"
        },
        {
          "output_type": "stream",
          "text": [
            "100%|██████████| 15/15 [00:10<00:00,  1.53it/s]\n"
          ],
          "name": "stderr"
        },
        {
          "output_type": "stream",
          "text": [
            "iter  14:\t Training Loss=1.41\n",
            "iter  14:\t Validation loss=5.17\n"
          ],
          "name": "stdout"
        },
        {
          "output_type": "stream",
          "text": [
            "\r  0%|          | 0/15 [00:00<?, ?it/s]"
          ],
          "name": "stderr"
        },
        {
          "output_type": "stream",
          "text": [
            "Model saved in path: /content/tmp/model.ckpt\n",
            "Training epoch:58\n"
          ],
          "name": "stdout"
        },
        {
          "output_type": "stream",
          "text": [
            "100%|██████████| 15/15 [00:10<00:00,  1.48it/s]\n"
          ],
          "name": "stderr"
        },
        {
          "output_type": "stream",
          "text": [
            "iter  14:\t Training Loss=0.88\n",
            "iter  14:\t Validation loss=5.35\n"
          ],
          "name": "stdout"
        },
        {
          "output_type": "stream",
          "text": [
            "\r  0%|          | 0/15 [00:00<?, ?it/s]"
          ],
          "name": "stderr"
        },
        {
          "output_type": "stream",
          "text": [
            "Model saved in path: /content/tmp/model.ckpt\n",
            "Training epoch:59\n"
          ],
          "name": "stdout"
        },
        {
          "output_type": "stream",
          "text": [
            "100%|██████████| 15/15 [00:09<00:00,  1.54it/s]\n"
          ],
          "name": "stderr"
        },
        {
          "output_type": "stream",
          "text": [
            "iter  14:\t Training Loss=0.95\n",
            "iter  14:\t Validation loss=5.01\n"
          ],
          "name": "stdout"
        },
        {
          "output_type": "stream",
          "text": [
            "\r  0%|          | 0/15 [00:00<?, ?it/s]"
          ],
          "name": "stderr"
        },
        {
          "output_type": "stream",
          "text": [
            "Model saved in path: /content/tmp/model.ckpt\n",
            "Training epoch:60\n"
          ],
          "name": "stdout"
        },
        {
          "output_type": "stream",
          "text": [
            "100%|██████████| 15/15 [00:10<00:00,  1.51it/s]\n"
          ],
          "name": "stderr"
        },
        {
          "output_type": "stream",
          "text": [
            "iter  14:\t Training Loss=0.39\n",
            "iter  14:\t Validation loss=5.26\n"
          ],
          "name": "stdout"
        },
        {
          "output_type": "stream",
          "text": [
            "\r  0%|          | 0/15 [00:00<?, ?it/s]"
          ],
          "name": "stderr"
        },
        {
          "output_type": "stream",
          "text": [
            "Model saved in path: /content/tmp/model.ckpt\n",
            "Training epoch:61\n"
          ],
          "name": "stdout"
        },
        {
          "output_type": "stream",
          "text": [
            " 53%|█████▎    | 8/15 [00:05<00:04,  1.52it/s]\n"
          ],
          "name": "stderr"
        },
        {
          "output_type": "error",
          "ename": "KeyboardInterrupt",
          "evalue": "ignored",
          "traceback": [
            "\u001b[0;31m---------------------------------------------------------------------------\u001b[0m",
            "\u001b[0;31mKeyboardInterrupt\u001b[0m                         Traceback (most recent call last)",
            "\u001b[0;32m<ipython-input-49-37c2eb52f3cc>\u001b[0m in \u001b[0;36m<module>\u001b[0;34m()\u001b[0m\n\u001b[1;32m     26\u001b[0m     \u001b[0mx_batch\u001b[0m\u001b[0;34m,\u001b[0m \u001b[0my_batch\u001b[0m \u001b[0;34m=\u001b[0m \u001b[0mget_next_batch\u001b[0m\u001b[0;34m(\u001b[0m\u001b[0mX_train\u001b[0m\u001b[0;34m,\u001b[0m\u001b[0my_train\u001b[0m\u001b[0;34m,\u001b[0m\u001b[0mstart\u001b[0m\u001b[0;34m,\u001b[0m\u001b[0mend\u001b[0m\u001b[0;34m)\u001b[0m\u001b[0;34m\u001b[0m\u001b[0;34m\u001b[0m\u001b[0m\n\u001b[1;32m     27\u001b[0m \u001b[0;34m\u001b[0m\u001b[0m\n\u001b[0;32m---> 28\u001b[0;31m     \u001b[0mx_batch\u001b[0m \u001b[0;34m=\u001b[0m \u001b[0mI\u001b[0m\u001b[0;34m.\u001b[0m\u001b[0mforward\u001b[0m\u001b[0;34m(\u001b[0m\u001b[0mx_batch\u001b[0m\u001b[0;34m)\u001b[0m\u001b[0;34m\u001b[0m\u001b[0;34m\u001b[0m\u001b[0m\n\u001b[0m\u001b[1;32m     29\u001b[0m \u001b[0;34m\u001b[0m\u001b[0m\n\u001b[1;32m     30\u001b[0m     \u001b[0my_batch\u001b[0m \u001b[0;34m=\u001b[0m \u001b[0my_batch\u001b[0m\u001b[0;34m[\u001b[0m\u001b[0;34m:\u001b[0m\u001b[0;34m,\u001b[0m\u001b[0mnp\u001b[0m\u001b[0;34m.\u001b[0m\u001b[0mnewaxis\u001b[0m\u001b[0;34m]\u001b[0m\u001b[0;34m\u001b[0m\u001b[0;34m\u001b[0m\u001b[0m\n",
            "\u001b[0;32m<ipython-input-30-5039b56e5eba>\u001b[0m in \u001b[0;36mforward\u001b[0;34m(self, X)\u001b[0m\n\u001b[1;32m     51\u001b[0m   \u001b[0;32mdef\u001b[0m \u001b[0mnormalize\u001b[0m\u001b[0;34m(\u001b[0m\u001b[0mself\u001b[0m\u001b[0;34m,\u001b[0m\u001b[0mX\u001b[0m\u001b[0;34m)\u001b[0m\u001b[0;34m:\u001b[0m \u001b[0;32mreturn\u001b[0m \u001b[0;34m(\u001b[0m\u001b[0mX\u001b[0m\u001b[0;34m-\u001b[0m\u001b[0mself\u001b[0m\u001b[0;34m.\u001b[0m\u001b[0mmean\u001b[0m\u001b[0;34m)\u001b[0m\u001b[0;34m/\u001b[0m\u001b[0mself\u001b[0m\u001b[0;34m.\u001b[0m\u001b[0mstd\u001b[0m\u001b[0;34m\u001b[0m\u001b[0;34m\u001b[0m\u001b[0m\n\u001b[1;32m     52\u001b[0m \u001b[0;34m\u001b[0m\u001b[0m\n\u001b[0;32m---> 53\u001b[0;31m   \u001b[0;32mdef\u001b[0m \u001b[0mforward\u001b[0m\u001b[0;34m(\u001b[0m\u001b[0mself\u001b[0m\u001b[0;34m,\u001b[0m\u001b[0mX\u001b[0m\u001b[0;34m)\u001b[0m\u001b[0;34m:\u001b[0m \u001b[0;32mreturn\u001b[0m \u001b[0mself\u001b[0m\u001b[0;34m.\u001b[0m\u001b[0mnormalize\u001b[0m\u001b[0;34m(\u001b[0m\u001b[0mself\u001b[0m\u001b[0;34m.\u001b[0m\u001b[0mexpand\u001b[0m\u001b[0;34m(\u001b[0m\u001b[0mself\u001b[0m\u001b[0;34m.\u001b[0m\u001b[0mrealize\u001b[0m\u001b[0;34m(\u001b[0m\u001b[0mX\u001b[0m\u001b[0;34m)\u001b[0m\u001b[0;34m)\u001b[0m\u001b[0;34m)\u001b[0m\u001b[0;34m.\u001b[0m\u001b[0mastype\u001b[0m\u001b[0;34m(\u001b[0m\u001b[0;34m'float32'\u001b[0m\u001b[0;34m)\u001b[0m\u001b[0;34m\u001b[0m\u001b[0;34m\u001b[0m\u001b[0m\n\u001b[0m\u001b[1;32m     54\u001b[0m \u001b[0;34m\u001b[0m\u001b[0m\n\u001b[1;32m     55\u001b[0m \u001b[0;34m\u001b[0m\u001b[0m\n",
            "\u001b[0;32m<ipython-input-30-5039b56e5eba>\u001b[0m in \u001b[0;36mexpand\u001b[0;34m(self, X)\u001b[0m\n\u001b[1;32m     45\u001b[0m     \u001b[0;32mfor\u001b[0m \u001b[0mi\u001b[0m \u001b[0;32min\u001b[0m \u001b[0mrange\u001b[0m\u001b[0;34m(\u001b[0m\u001b[0mX\u001b[0m\u001b[0;34m.\u001b[0m\u001b[0mshape\u001b[0m\u001b[0;34m[\u001b[0m\u001b[0;36m1\u001b[0m\u001b[0;34m]\u001b[0m\u001b[0;34m)\u001b[0m\u001b[0;34m:\u001b[0m\u001b[0;34m\u001b[0m\u001b[0;34m\u001b[0m\u001b[0m\n\u001b[1;32m     46\u001b[0m       \u001b[0;32mfor\u001b[0m \u001b[0mk\u001b[0m \u001b[0;32min\u001b[0m \u001b[0mnp\u001b[0m\u001b[0;34m.\u001b[0m\u001b[0marange\u001b[0m\u001b[0;34m(\u001b[0m\u001b[0;36m0\u001b[0m\u001b[0;34m,\u001b[0m\u001b[0mself\u001b[0m\u001b[0;34m.\u001b[0m\u001b[0mmax\u001b[0m\u001b[0;34m[\u001b[0m\u001b[0mi\u001b[0m\u001b[0;34m]\u001b[0m\u001b[0;34m+\u001b[0m\u001b[0mself\u001b[0m\u001b[0;34m.\u001b[0m\u001b[0mstep\u001b[0m\u001b[0;34m,\u001b[0m\u001b[0mself\u001b[0m\u001b[0;34m.\u001b[0m\u001b[0mstep\u001b[0m\u001b[0;34m)\u001b[0m\u001b[0;34m:\u001b[0m\u001b[0;34m\u001b[0m\u001b[0;34m\u001b[0m\u001b[0m\n\u001b[0;32m---> 47\u001b[0;31m         \u001b[0mXexp\u001b[0m \u001b[0;34m+=\u001b[0m \u001b[0;34m[\u001b[0m\u001b[0mnp\u001b[0m\u001b[0;34m.\u001b[0m\u001b[0mtanh\u001b[0m\u001b[0;34m(\u001b[0m\u001b[0;34m(\u001b[0m\u001b[0mX\u001b[0m\u001b[0;34m[\u001b[0m\u001b[0;34m:\u001b[0m\u001b[0;34m,\u001b[0m\u001b[0mi\u001b[0m\u001b[0;34m]\u001b[0m\u001b[0;34m-\u001b[0m\u001b[0mk\u001b[0m\u001b[0;34m)\u001b[0m\u001b[0;34m/\u001b[0m\u001b[0mself\u001b[0m\u001b[0;34m.\u001b[0m\u001b[0mstep\u001b[0m\u001b[0;34m)\u001b[0m\u001b[0;34m]\u001b[0m\u001b[0;34m\u001b[0m\u001b[0;34m\u001b[0m\u001b[0m\n\u001b[0m\u001b[1;32m     48\u001b[0m     \u001b[0;32mreturn\u001b[0m \u001b[0mnp\u001b[0m\u001b[0;34m.\u001b[0m\u001b[0marray\u001b[0m\u001b[0;34m(\u001b[0m\u001b[0mXexp\u001b[0m\u001b[0;34m)\u001b[0m\u001b[0;34m.\u001b[0m\u001b[0mT\u001b[0m\u001b[0;34m\u001b[0m\u001b[0;34m\u001b[0m\u001b[0m\n\u001b[1;32m     49\u001b[0m \u001b[0;34m\u001b[0m\u001b[0m\n",
            "\u001b[0;31mKeyboardInterrupt\u001b[0m: "
          ]
        }
      ]
    },
    {
      "cell_type": "markdown",
      "metadata": {
        "id": "hiBZgqtaSx11",
        "colab_type": "text"
      },
      "source": [
        "#See some of the results (didn't train for very long - loss could go down even further with more training)"
      ]
    },
    {
      "cell_type": "code",
      "metadata": {
        "id": "tU2z0ZyAb4Bw",
        "colab_type": "code",
        "outputId": "00ef3b1a-326b-4885-e68c-9419546a8c2c",
        "colab": {
          "base_uri": "https://localhost:8080/",
          "height": 34
        }
      },
      "source": [
        "modxtest = I.forward(X_test)\n",
        "modytest = y_test.copy()[:,np.newaxis]\n",
        "print(modxtest.shape,modytest.shape)\n",
        "feed_dict_test = {x: modxtest, y:modytest}\n",
        "predictions = sess.run(preds, feed_dict = feed_dict_test)"
      ],
      "execution_count": 0,
      "outputs": [
        {
          "output_type": "stream",
          "text": [
            "(392, 95944) (392, 1)\n"
          ],
          "name": "stdout"
        }
      ]
    },
    {
      "cell_type": "code",
      "metadata": {
        "id": "iMSytNAqdhPq",
        "colab_type": "code",
        "outputId": "03f67d58-9283-4414-e02c-bdbf9010dde1",
        "colab": {
          "base_uri": "https://localhost:8080/",
          "height": 1000
        }
      },
      "source": [
        "import pandas as pd\n",
        "results_df = pd.DataFrame(np.array([predictions.reshape(-1),modytest.reshape(-1)]).T, columns = ['predictions','true']); results_df"
      ],
      "execution_count": 0,
      "outputs": [
        {
          "output_type": "execute_result",
          "data": {
            "text/html": [
              "<div>\n",
              "<style scoped>\n",
              "    .dataframe tbody tr th:only-of-type {\n",
              "        vertical-align: middle;\n",
              "    }\n",
              "\n",
              "    .dataframe tbody tr th {\n",
              "        vertical-align: top;\n",
              "    }\n",
              "\n",
              "    .dataframe thead th {\n",
              "        text-align: right;\n",
              "    }\n",
              "</style>\n",
              "<table border=\"1\" class=\"dataframe\">\n",
              "  <thead>\n",
              "    <tr style=\"text-align: right;\">\n",
              "      <th></th>\n",
              "      <th>predictions</th>\n",
              "      <th>true</th>\n",
              "    </tr>\n",
              "  </thead>\n",
              "  <tbody>\n",
              "    <tr>\n",
              "      <th>0</th>\n",
              "      <td>7.307949</td>\n",
              "      <td>4.065602</td>\n",
              "    </tr>\n",
              "    <tr>\n",
              "      <th>1</th>\n",
              "      <td>7.199729</td>\n",
              "      <td>9.239899</td>\n",
              "    </tr>\n",
              "    <tr>\n",
              "      <th>2</th>\n",
              "      <td>6.648564</td>\n",
              "      <td>5.010635</td>\n",
              "    </tr>\n",
              "    <tr>\n",
              "      <th>3</th>\n",
              "      <td>4.925185</td>\n",
              "      <td>2.532903</td>\n",
              "    </tr>\n",
              "    <tr>\n",
              "      <th>4</th>\n",
              "      <td>6.224054</td>\n",
              "      <td>4.143135</td>\n",
              "    </tr>\n",
              "    <tr>\n",
              "      <th>5</th>\n",
              "      <td>5.786320</td>\n",
              "      <td>4.442651</td>\n",
              "    </tr>\n",
              "    <tr>\n",
              "      <th>6</th>\n",
              "      <td>8.735395</td>\n",
              "      <td>9.392662</td>\n",
              "    </tr>\n",
              "    <tr>\n",
              "      <th>7</th>\n",
              "      <td>6.068913</td>\n",
              "      <td>3.850148</td>\n",
              "    </tr>\n",
              "    <tr>\n",
              "      <th>8</th>\n",
              "      <td>6.468623</td>\n",
              "      <td>2.397895</td>\n",
              "    </tr>\n",
              "    <tr>\n",
              "      <th>9</th>\n",
              "      <td>5.163790</td>\n",
              "      <td>8.328934</td>\n",
              "    </tr>\n",
              "    <tr>\n",
              "      <th>10</th>\n",
              "      <td>7.298910</td>\n",
              "      <td>7.863267</td>\n",
              "    </tr>\n",
              "    <tr>\n",
              "      <th>11</th>\n",
              "      <td>7.084153</td>\n",
              "      <td>7.495542</td>\n",
              "    </tr>\n",
              "    <tr>\n",
              "      <th>12</th>\n",
              "      <td>5.460505</td>\n",
              "      <td>5.799093</td>\n",
              "    </tr>\n",
              "    <tr>\n",
              "      <th>13</th>\n",
              "      <td>7.299791</td>\n",
              "      <td>5.010635</td>\n",
              "    </tr>\n",
              "    <tr>\n",
              "      <th>14</th>\n",
              "      <td>6.078752</td>\n",
              "      <td>7.244228</td>\n",
              "    </tr>\n",
              "    <tr>\n",
              "      <th>15</th>\n",
              "      <td>9.640970</td>\n",
              "      <td>6.907755</td>\n",
              "    </tr>\n",
              "    <tr>\n",
              "      <th>16</th>\n",
              "      <td>7.055809</td>\n",
              "      <td>9.210340</td>\n",
              "    </tr>\n",
              "    <tr>\n",
              "      <th>17</th>\n",
              "      <td>8.409899</td>\n",
              "      <td>10.545341</td>\n",
              "    </tr>\n",
              "    <tr>\n",
              "      <th>18</th>\n",
              "      <td>5.236543</td>\n",
              "      <td>6.907755</td>\n",
              "    </tr>\n",
              "    <tr>\n",
              "      <th>19</th>\n",
              "      <td>7.853885</td>\n",
              "      <td>7.691200</td>\n",
              "    </tr>\n",
              "    <tr>\n",
              "      <th>20</th>\n",
              "      <td>6.577185</td>\n",
              "      <td>6.593045</td>\n",
              "    </tr>\n",
              "    <tr>\n",
              "      <th>21</th>\n",
              "      <td>7.740009</td>\n",
              "      <td>5.703782</td>\n",
              "    </tr>\n",
              "    <tr>\n",
              "      <th>22</th>\n",
              "      <td>6.248491</td>\n",
              "      <td>5.828946</td>\n",
              "    </tr>\n",
              "    <tr>\n",
              "      <th>23</th>\n",
              "      <td>9.216809</td>\n",
              "      <td>11.156251</td>\n",
              "    </tr>\n",
              "    <tr>\n",
              "      <th>24</th>\n",
              "      <td>7.669116</td>\n",
              "      <td>4.234107</td>\n",
              "    </tr>\n",
              "    <tr>\n",
              "      <th>25</th>\n",
              "      <td>6.674841</td>\n",
              "      <td>2.532903</td>\n",
              "    </tr>\n",
              "    <tr>\n",
              "      <th>26</th>\n",
              "      <td>7.737313</td>\n",
              "      <td>7.138017</td>\n",
              "    </tr>\n",
              "    <tr>\n",
              "      <th>27</th>\n",
              "      <td>6.932031</td>\n",
              "      <td>5.247024</td>\n",
              "    </tr>\n",
              "    <tr>\n",
              "      <th>28</th>\n",
              "      <td>3.026953</td>\n",
              "      <td>3.258097</td>\n",
              "    </tr>\n",
              "    <tr>\n",
              "      <th>29</th>\n",
              "      <td>7.791214</td>\n",
              "      <td>8.732305</td>\n",
              "    </tr>\n",
              "    <tr>\n",
              "      <th>...</th>\n",
              "      <td>...</td>\n",
              "      <td>...</td>\n",
              "    </tr>\n",
              "    <tr>\n",
              "      <th>362</th>\n",
              "      <td>9.177060</td>\n",
              "      <td>9.392662</td>\n",
              "    </tr>\n",
              "    <tr>\n",
              "      <th>363</th>\n",
              "      <td>4.990319</td>\n",
              "      <td>5.629059</td>\n",
              "    </tr>\n",
              "    <tr>\n",
              "      <th>364</th>\n",
              "      <td>5.757910</td>\n",
              "      <td>9.903488</td>\n",
              "    </tr>\n",
              "    <tr>\n",
              "      <th>365</th>\n",
              "      <td>4.945631</td>\n",
              "      <td>2.564949</td>\n",
              "    </tr>\n",
              "    <tr>\n",
              "      <th>366</th>\n",
              "      <td>5.813056</td>\n",
              "      <td>6.907755</td>\n",
              "    </tr>\n",
              "    <tr>\n",
              "      <th>367</th>\n",
              "      <td>5.494741</td>\n",
              "      <td>7.438384</td>\n",
              "    </tr>\n",
              "    <tr>\n",
              "      <th>368</th>\n",
              "      <td>6.903078</td>\n",
              "      <td>4.867534</td>\n",
              "    </tr>\n",
              "    <tr>\n",
              "      <th>369</th>\n",
              "      <td>7.385701</td>\n",
              "      <td>6.870469</td>\n",
              "    </tr>\n",
              "    <tr>\n",
              "      <th>370</th>\n",
              "      <td>5.972128</td>\n",
              "      <td>6.257668</td>\n",
              "    </tr>\n",
              "    <tr>\n",
              "      <th>371</th>\n",
              "      <td>7.879028</td>\n",
              "      <td>7.170120</td>\n",
              "    </tr>\n",
              "    <tr>\n",
              "      <th>372</th>\n",
              "      <td>5.825750</td>\n",
              "      <td>4.605170</td>\n",
              "    </tr>\n",
              "    <tr>\n",
              "      <th>373</th>\n",
              "      <td>8.979359</td>\n",
              "      <td>9.903488</td>\n",
              "    </tr>\n",
              "    <tr>\n",
              "      <th>374</th>\n",
              "      <td>4.647740</td>\n",
              "      <td>1.740466</td>\n",
              "    </tr>\n",
              "    <tr>\n",
              "      <th>375</th>\n",
              "      <td>5.590145</td>\n",
              "      <td>10.308953</td>\n",
              "    </tr>\n",
              "    <tr>\n",
              "      <th>376</th>\n",
              "      <td>6.214162</td>\n",
              "      <td>12.400817</td>\n",
              "    </tr>\n",
              "    <tr>\n",
              "      <th>377</th>\n",
              "      <td>3.426888</td>\n",
              "      <td>1.808289</td>\n",
              "    </tr>\n",
              "    <tr>\n",
              "      <th>378</th>\n",
              "      <td>5.717722</td>\n",
              "      <td>4.605170</td>\n",
              "    </tr>\n",
              "    <tr>\n",
              "      <th>379</th>\n",
              "      <td>4.866982</td>\n",
              "      <td>2.708050</td>\n",
              "    </tr>\n",
              "    <tr>\n",
              "      <th>380</th>\n",
              "      <td>5.415040</td>\n",
              "      <td>6.907755</td>\n",
              "    </tr>\n",
              "    <tr>\n",
              "      <th>381</th>\n",
              "      <td>6.705650</td>\n",
              "      <td>8.517193</td>\n",
              "    </tr>\n",
              "    <tr>\n",
              "      <th>382</th>\n",
              "      <td>7.995681</td>\n",
              "      <td>8.779557</td>\n",
              "    </tr>\n",
              "    <tr>\n",
              "      <th>383</th>\n",
              "      <td>7.355734</td>\n",
              "      <td>5.828946</td>\n",
              "    </tr>\n",
              "    <tr>\n",
              "      <th>384</th>\n",
              "      <td>9.607982</td>\n",
              "      <td>9.047821</td>\n",
              "    </tr>\n",
              "    <tr>\n",
              "      <th>385</th>\n",
              "      <td>6.521163</td>\n",
              "      <td>7.828791</td>\n",
              "    </tr>\n",
              "    <tr>\n",
              "      <th>386</th>\n",
              "      <td>5.934394</td>\n",
              "      <td>6.821107</td>\n",
              "    </tr>\n",
              "    <tr>\n",
              "      <th>387</th>\n",
              "      <td>7.020532</td>\n",
              "      <td>3.828641</td>\n",
              "    </tr>\n",
              "    <tr>\n",
              "      <th>388</th>\n",
              "      <td>7.882883</td>\n",
              "      <td>7.090077</td>\n",
              "    </tr>\n",
              "    <tr>\n",
              "      <th>389</th>\n",
              "      <td>8.234948</td>\n",
              "      <td>9.903488</td>\n",
              "    </tr>\n",
              "    <tr>\n",
              "      <th>390</th>\n",
              "      <td>8.866275</td>\n",
              "      <td>9.210340</td>\n",
              "    </tr>\n",
              "    <tr>\n",
              "      <th>391</th>\n",
              "      <td>6.762305</td>\n",
              "      <td>3.496508</td>\n",
              "    </tr>\n",
              "  </tbody>\n",
              "</table>\n",
              "<p>392 rows × 2 columns</p>\n",
              "</div>"
            ],
            "text/plain": [
              "     predictions       true\n",
              "0       7.307949   4.065602\n",
              "1       7.199729   9.239899\n",
              "2       6.648564   5.010635\n",
              "3       4.925185   2.532903\n",
              "4       6.224054   4.143135\n",
              "5       5.786320   4.442651\n",
              "6       8.735395   9.392662\n",
              "7       6.068913   3.850148\n",
              "8       6.468623   2.397895\n",
              "9       5.163790   8.328934\n",
              "10      7.298910   7.863267\n",
              "11      7.084153   7.495542\n",
              "12      5.460505   5.799093\n",
              "13      7.299791   5.010635\n",
              "14      6.078752   7.244228\n",
              "15      9.640970   6.907755\n",
              "16      7.055809   9.210340\n",
              "17      8.409899  10.545341\n",
              "18      5.236543   6.907755\n",
              "19      7.853885   7.691200\n",
              "20      6.577185   6.593045\n",
              "21      7.740009   5.703782\n",
              "22      6.248491   5.828946\n",
              "23      9.216809  11.156251\n",
              "24      7.669116   4.234107\n",
              "25      6.674841   2.532903\n",
              "26      7.737313   7.138017\n",
              "27      6.932031   5.247024\n",
              "28      3.026953   3.258097\n",
              "29      7.791214   8.732305\n",
              "..           ...        ...\n",
              "362     9.177060   9.392662\n",
              "363     4.990319   5.629059\n",
              "364     5.757910   9.903488\n",
              "365     4.945631   2.564949\n",
              "366     5.813056   6.907755\n",
              "367     5.494741   7.438384\n",
              "368     6.903078   4.867534\n",
              "369     7.385701   6.870469\n",
              "370     5.972128   6.257668\n",
              "371     7.879028   7.170120\n",
              "372     5.825750   4.605170\n",
              "373     8.979359   9.903488\n",
              "374     4.647740   1.740466\n",
              "375     5.590145  10.308953\n",
              "376     6.214162  12.400817\n",
              "377     3.426888   1.808289\n",
              "378     5.717722   4.605170\n",
              "379     4.866982   2.708050\n",
              "380     5.415040   6.907755\n",
              "381     6.705650   8.517193\n",
              "382     7.995681   8.779557\n",
              "383     7.355734   5.828946\n",
              "384     9.607982   9.047821\n",
              "385     6.521163   7.828791\n",
              "386     5.934394   6.821107\n",
              "387     7.020532   3.828641\n",
              "388     7.882883   7.090077\n",
              "389     8.234948   9.903488\n",
              "390     8.866275   9.210340\n",
              "391     6.762305   3.496508\n",
              "\n",
              "[392 rows x 2 columns]"
            ]
          },
          "metadata": {
            "tags": []
          },
          "execution_count": 221
        }
      ]
    },
    {
      "cell_type": "code",
      "metadata": {
        "id": "-8FQFp4A3E2Q",
        "colab_type": "code",
        "colab": {}
      },
      "source": [
        "preds_array = np.array(results_df['predictions'])\n",
        "true_array = np.array(results_df['true'])"
      ],
      "execution_count": 0,
      "outputs": []
    },
    {
      "cell_type": "markdown",
      "metadata": {
        "id": "KtycavI4S7kd",
        "colab_type": "text"
      },
      "source": [
        "## Convert to binary classification problem - see how it did"
      ]
    },
    {
      "cell_type": "code",
      "metadata": {
        "id": "Tk6Ke6Cb4Z6K",
        "colab_type": "code",
        "outputId": "0e166453-782d-4749-e332-9662b2bb92b4",
        "colab": {
          "base_uri": "https://localhost:8080/",
          "height": 51
        }
      },
      "source": [
        "thresh = 5\n",
        "preds_bin = np.array([1 if x < thresh else 0 for x in preds_array])\n",
        "true_bin = np.array([1 if x < thresh else 0 for x in true_array])\n",
        "from sklearn.metrics import confusion_matrix, classification_report\n",
        "confusion_matrix(true_bin,preds_bin)"
      ],
      "execution_count": 0,
      "outputs": [
        {
          "output_type": "execute_result",
          "data": {
            "text/plain": [
              "array([[256,  10],\n",
              "       [ 86,  40]])"
            ]
          },
          "metadata": {
            "tags": []
          },
          "execution_count": 231
        }
      ]
    },
    {
      "cell_type": "code",
      "metadata": {
        "id": "k-nxX6gz4tKD",
        "colab_type": "code",
        "outputId": "6e266655-e3ce-4969-9497-96266d0ddd7b",
        "colab": {
          "base_uri": "https://localhost:8080/",
          "height": 170
        }
      },
      "source": [
        "print(classification_report(true_bin,preds_bin))"
      ],
      "execution_count": 0,
      "outputs": [
        {
          "output_type": "stream",
          "text": [
            "              precision    recall  f1-score   support\n",
            "\n",
            "           0       0.75      0.96      0.84       266\n",
            "           1       0.80      0.32      0.45       126\n",
            "\n",
            "    accuracy                           0.76       392\n",
            "   macro avg       0.77      0.64      0.65       392\n",
            "weighted avg       0.77      0.76      0.72       392\n",
            "\n"
          ],
          "name": "stdout"
        }
      ]
    },
    {
      "cell_type": "markdown",
      "metadata": {
        "id": "p97Ysn3ESkcv",
        "colab_type": "text"
      },
      "source": [
        "# Not bad at all, about as good as RF, and has the potential to predict out of cluster, on account of the inherent encoding of 3D electrostatic information into the representation."
      ]
    },
    {
      "cell_type": "code",
      "metadata": {
        "id": "pEhOOeYtct-c",
        "colab_type": "code",
        "colab": {}
      },
      "source": [
        ""
      ],
      "execution_count": 0,
      "outputs": []
    }
  ]
}