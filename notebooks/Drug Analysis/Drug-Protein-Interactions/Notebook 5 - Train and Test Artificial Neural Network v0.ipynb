{
 "cells": [
  {
   "cell_type": "code",
   "execution_count": 1,
   "metadata": {},
   "outputs": [
    {
     "name": "stderr",
     "output_type": "stream",
     "text": [
      "Using TensorFlow backend.\n"
     ]
    }
   ],
   "source": [
    "import pandas as pd\n",
    "import numpy as np\n",
    "from matplotlib import pyplot as plt\n",
    "import seaborn as sns\n",
    "from sklearn.model_selection import train_test_split\n",
    "from sklearn.preprocessing import StandardScaler\n",
    "from keras.models import Sequential\n",
    "from keras.layers import Dense\n",
    "from keras.models import load_model\n",
    "%matplotlib inline"
   ]
  },
  {
   "cell_type": "markdown",
   "metadata": {},
   "source": [
    "# Load data"
   ]
  },
  {
   "cell_type": "code",
   "execution_count": 2,
   "metadata": {
    "collapsed": true
   },
   "outputs": [],
   "source": [
    "#Import datasets\n",
    "table_interac = pd.read_csv('Table_E-Final_interaction_pairs.tab',sep='\\t',header=0)\n",
    "\n",
    "#---------------------------------------------------------------------\n",
    "#Pre process data\n",
    "#---------------------------------------------------------------------\n",
    "x = table_interac.iloc[:, 5:].values\n",
    "y = table_interac.iloc[:, 2].values \n",
    "\n",
    "# Replace all NaN values by 0's\n",
    "where_are_nans = np.isnan(x)\n",
    "x[where_are_nans] = 0"
   ]
  },
  {
   "cell_type": "code",
   "execution_count": 3,
   "metadata": {},
   "outputs": [
    {
     "data": {
      "text/html": [
       "<div>\n",
       "<style>\n",
       "    .dataframe thead tr:only-child th {\n",
       "        text-align: right;\n",
       "    }\n",
       "\n",
       "    .dataframe thead th {\n",
       "        text-align: left;\n",
       "    }\n",
       "\n",
       "    .dataframe tbody tr th {\n",
       "        vertical-align: top;\n",
       "    }\n",
       "</style>\n",
       "<table border=\"1\" class=\"dataframe\">\n",
       "  <thead>\n",
       "    <tr style=\"text-align: right;\">\n",
       "      <th></th>\n",
       "      <th>CYP-Isoform</th>\n",
       "      <th>Drug Identifier</th>\n",
       "      <th>Interaction type</th>\n",
       "      <th>CYP</th>\n",
       "      <th>Isoform</th>\n",
       "      <th>[G1.1.1.1]</th>\n",
       "      <th>[G1.1.1.2]</th>\n",
       "      <th>[G1.1.1.3]</th>\n",
       "      <th>[G1.1.1.4]</th>\n",
       "      <th>[G1.1.1.5]</th>\n",
       "      <th>...</th>\n",
       "      <th>EState_VSA10</th>\n",
       "      <th>VSA_EState1</th>\n",
       "      <th>VSA_EState2</th>\n",
       "      <th>VSA_EState3</th>\n",
       "      <th>VSA_EState4</th>\n",
       "      <th>VSA_EState5</th>\n",
       "      <th>VSA_EState6</th>\n",
       "      <th>VSA_EState7</th>\n",
       "      <th>VSA_EState8</th>\n",
       "      <th>VSA_EState9</th>\n",
       "    </tr>\n",
       "  </thead>\n",
       "  <tbody>\n",
       "    <tr>\n",
       "      <th>0</th>\n",
       "      <td>1A2-1</td>\n",
       "      <td>dinoprostone</td>\n",
       "      <td>1.0</td>\n",
       "      <td>1A2</td>\n",
       "      <td>1</td>\n",
       "      <td>6.019417</td>\n",
       "      <td>1.359223</td>\n",
       "      <td>4.466019</td>\n",
       "      <td>5.048544</td>\n",
       "      <td>6.407767</td>\n",
       "      <td>...</td>\n",
       "      <td>19.802129</td>\n",
       "      <td>0.0</td>\n",
       "      <td>0.0</td>\n",
       "      <td>0.0</td>\n",
       "      <td>0.0</td>\n",
       "      <td>0.0</td>\n",
       "      <td>0.0</td>\n",
       "      <td>0.0</td>\n",
       "      <td>0.0</td>\n",
       "      <td>64.166667</td>\n",
       "    </tr>\n",
       "    <tr>\n",
       "      <th>1</th>\n",
       "      <td>1A2-2</td>\n",
       "      <td>dinoprostone</td>\n",
       "      <td>1.0</td>\n",
       "      <td>1A2</td>\n",
       "      <td>2</td>\n",
       "      <td>6.007752</td>\n",
       "      <td>1.356589</td>\n",
       "      <td>4.457364</td>\n",
       "      <td>5.038760</td>\n",
       "      <td>6.395349</td>\n",
       "      <td>...</td>\n",
       "      <td>19.802129</td>\n",
       "      <td>0.0</td>\n",
       "      <td>0.0</td>\n",
       "      <td>0.0</td>\n",
       "      <td>0.0</td>\n",
       "      <td>0.0</td>\n",
       "      <td>0.0</td>\n",
       "      <td>0.0</td>\n",
       "      <td>0.0</td>\n",
       "      <td>64.166667</td>\n",
       "    </tr>\n",
       "    <tr>\n",
       "      <th>2</th>\n",
       "      <td>3A5-2</td>\n",
       "      <td>dinoprostone</td>\n",
       "      <td>0.0</td>\n",
       "      <td>3A5</td>\n",
       "      <td>2</td>\n",
       "      <td>3.571429</td>\n",
       "      <td>2.857143</td>\n",
       "      <td>2.857143</td>\n",
       "      <td>2.857143</td>\n",
       "      <td>2.857143</td>\n",
       "      <td>...</td>\n",
       "      <td>19.802129</td>\n",
       "      <td>0.0</td>\n",
       "      <td>0.0</td>\n",
       "      <td>0.0</td>\n",
       "      <td>0.0</td>\n",
       "      <td>0.0</td>\n",
       "      <td>0.0</td>\n",
       "      <td>0.0</td>\n",
       "      <td>0.0</td>\n",
       "      <td>64.166667</td>\n",
       "    </tr>\n",
       "    <tr>\n",
       "      <th>3</th>\n",
       "      <td>3A7-2</td>\n",
       "      <td>dinoprostone</td>\n",
       "      <td>0.0</td>\n",
       "      <td>3A7</td>\n",
       "      <td>2</td>\n",
       "      <td>3.738318</td>\n",
       "      <td>1.495327</td>\n",
       "      <td>4.859813</td>\n",
       "      <td>5.794393</td>\n",
       "      <td>6.542056</td>\n",
       "      <td>...</td>\n",
       "      <td>19.802129</td>\n",
       "      <td>0.0</td>\n",
       "      <td>0.0</td>\n",
       "      <td>0.0</td>\n",
       "      <td>0.0</td>\n",
       "      <td>0.0</td>\n",
       "      <td>0.0</td>\n",
       "      <td>0.0</td>\n",
       "      <td>0.0</td>\n",
       "      <td>64.166667</td>\n",
       "    </tr>\n",
       "    <tr>\n",
       "      <th>4</th>\n",
       "      <td>2C19-1</td>\n",
       "      <td>dinoprostone</td>\n",
       "      <td>0.0</td>\n",
       "      <td>2C19</td>\n",
       "      <td>1</td>\n",
       "      <td>3.469388</td>\n",
       "      <td>2.653061</td>\n",
       "      <td>4.897959</td>\n",
       "      <td>6.734694</td>\n",
       "      <td>6.734694</td>\n",
       "      <td>...</td>\n",
       "      <td>19.802129</td>\n",
       "      <td>0.0</td>\n",
       "      <td>0.0</td>\n",
       "      <td>0.0</td>\n",
       "      <td>0.0</td>\n",
       "      <td>0.0</td>\n",
       "      <td>0.0</td>\n",
       "      <td>0.0</td>\n",
       "      <td>0.0</td>\n",
       "      <td>64.166667</td>\n",
       "    </tr>\n",
       "  </tbody>\n",
       "</table>\n",
       "<p>5 rows × 3054 columns</p>\n",
       "</div>"
      ],
      "text/plain": [
       "  CYP-Isoform Drug Identifier  Interaction type   CYP  Isoform  [G1.1.1.1]  \\\n",
       "0       1A2-1    dinoprostone               1.0   1A2        1    6.019417   \n",
       "1       1A2-2    dinoprostone               1.0   1A2        2    6.007752   \n",
       "2       3A5-2    dinoprostone               0.0   3A5        2    3.571429   \n",
       "3       3A7-2    dinoprostone               0.0   3A7        2    3.738318   \n",
       "4      2C19-1    dinoprostone               0.0  2C19        1    3.469388   \n",
       "\n",
       "   [G1.1.1.2]  [G1.1.1.3]  [G1.1.1.4]  [G1.1.1.5]     ...       EState_VSA10  \\\n",
       "0    1.359223    4.466019    5.048544    6.407767     ...          19.802129   \n",
       "1    1.356589    4.457364    5.038760    6.395349     ...          19.802129   \n",
       "2    2.857143    2.857143    2.857143    2.857143     ...          19.802129   \n",
       "3    1.495327    4.859813    5.794393    6.542056     ...          19.802129   \n",
       "4    2.653061    4.897959    6.734694    6.734694     ...          19.802129   \n",
       "\n",
       "   VSA_EState1  VSA_EState2  VSA_EState3  VSA_EState4  VSA_EState5  \\\n",
       "0          0.0          0.0          0.0          0.0          0.0   \n",
       "1          0.0          0.0          0.0          0.0          0.0   \n",
       "2          0.0          0.0          0.0          0.0          0.0   \n",
       "3          0.0          0.0          0.0          0.0          0.0   \n",
       "4          0.0          0.0          0.0          0.0          0.0   \n",
       "\n",
       "   VSA_EState6  VSA_EState7  VSA_EState8  VSA_EState9  \n",
       "0          0.0          0.0          0.0    64.166667  \n",
       "1          0.0          0.0          0.0    64.166667  \n",
       "2          0.0          0.0          0.0    64.166667  \n",
       "3          0.0          0.0          0.0    64.166667  \n",
       "4          0.0          0.0          0.0    64.166667  \n",
       "\n",
       "[5 rows x 3054 columns]"
      ]
     },
     "execution_count": 3,
     "metadata": {},
     "output_type": "execute_result"
    }
   ],
   "source": [
    "table_interac.head()"
   ]
  },
  {
   "cell_type": "code",
   "execution_count": 3,
   "metadata": {
    "collapsed": true
   },
   "outputs": [],
   "source": [
    "# Splitting the dataset into 80% for Training and and 20% for Test sets\n",
    "x_train, x_test, y_train, y_test = train_test_split(x,y,test_size= 0.2,random_state=0)"
   ]
  },
  {
   "cell_type": "code",
   "execution_count": 4,
   "metadata": {
    "collapsed": true
   },
   "outputs": [],
   "source": [
    "# Define scaler\n",
    "scaler = StandardScaler().fit(x_train)\n",
    "\n",
    "# Scale the train set\n",
    "x_train = scaler.transform(x_train)\n",
    "\n",
    "# Scale the test set\n",
    "x_test = scaler.transform(x_test)"
   ]
  },
  {
   "cell_type": "code",
   "execution_count": 5,
   "metadata": {},
   "outputs": [
    {
     "data": {
      "text/plain": [
       "(4249, 3049)"
      ]
     },
     "execution_count": 5,
     "metadata": {},
     "output_type": "execute_result"
    }
   ],
   "source": [
    "x_train.shape"
   ]
  },
  {
   "cell_type": "code",
   "execution_count": 6,
   "metadata": {
    "collapsed": true
   },
   "outputs": [],
   "source": [
    "# Initialize network constructor\n",
    "model = Sequential()\n",
    "\n",
    "# Add an input layer\n",
    "model.add(Dense(3050, activation='relu', input_shape=(3049,)))\n",
    "\n",
    "# Add first hidden layer\n",
    "model.add(Dense(2000, activation='relu'))\n",
    "\n",
    "# Add second hidden layer\n",
    "model.add(Dense(2000, activation='relu'))\n",
    "\n",
    "# Add output layer\n",
    "model.add(Dense(1,activation='sigmoid'))"
   ]
  },
  {
   "cell_type": "code",
   "execution_count": 7,
   "metadata": {},
   "outputs": [
    {
     "name": "stdout",
     "output_type": "stream",
     "text": [
      "_________________________________________________________________\n",
      "Layer (type)                 Output Shape              Param #   \n",
      "=================================================================\n",
      "dense_1 (Dense)              (None, 3050)              9302500   \n",
      "_________________________________________________________________\n",
      "dense_2 (Dense)              (None, 2000)              6102000   \n",
      "_________________________________________________________________\n",
      "dense_3 (Dense)              (None, 2000)              4002000   \n",
      "_________________________________________________________________\n",
      "dense_4 (Dense)              (None, 1)                 2001      \n",
      "=================================================================\n",
      "Total params: 19,408,501\n",
      "Trainable params: 19,408,501\n",
      "Non-trainable params: 0\n",
      "_________________________________________________________________\n"
     ]
    }
   ],
   "source": [
    "# Explore the model\n",
    "model.summary()"
   ]
  },
  {
   "cell_type": "code",
   "execution_count": 9,
   "metadata": {
    "scrolled": true
   },
   "outputs": [
    {
     "data": {
      "text/plain": [
       "[{'class_name': 'Dense',\n",
       "  'config': {'activation': 'relu',\n",
       "   'activity_regularizer': None,\n",
       "   'batch_input_shape': (None, 3049),\n",
       "   'bias_constraint': None,\n",
       "   'bias_initializer': {'class_name': 'Zeros', 'config': {}},\n",
       "   'bias_regularizer': None,\n",
       "   'dtype': 'float32',\n",
       "   'kernel_constraint': None,\n",
       "   'kernel_initializer': {'class_name': 'VarianceScaling',\n",
       "    'config': {'distribution': 'uniform',\n",
       "     'mode': 'fan_avg',\n",
       "     'scale': 1.0,\n",
       "     'seed': None}},\n",
       "   'kernel_regularizer': None,\n",
       "   'name': 'dense_1',\n",
       "   'trainable': True,\n",
       "   'units': 3050,\n",
       "   'use_bias': True}},\n",
       " {'class_name': 'Dense',\n",
       "  'config': {'activation': 'relu',\n",
       "   'activity_regularizer': None,\n",
       "   'bias_constraint': None,\n",
       "   'bias_initializer': {'class_name': 'Zeros', 'config': {}},\n",
       "   'bias_regularizer': None,\n",
       "   'kernel_constraint': None,\n",
       "   'kernel_initializer': {'class_name': 'VarianceScaling',\n",
       "    'config': {'distribution': 'uniform',\n",
       "     'mode': 'fan_avg',\n",
       "     'scale': 1.0,\n",
       "     'seed': None}},\n",
       "   'kernel_regularizer': None,\n",
       "   'name': 'dense_2',\n",
       "   'trainable': True,\n",
       "   'units': 2000,\n",
       "   'use_bias': True}},\n",
       " {'class_name': 'Dense',\n",
       "  'config': {'activation': 'relu',\n",
       "   'activity_regularizer': None,\n",
       "   'bias_constraint': None,\n",
       "   'bias_initializer': {'class_name': 'Zeros', 'config': {}},\n",
       "   'bias_regularizer': None,\n",
       "   'kernel_constraint': None,\n",
       "   'kernel_initializer': {'class_name': 'VarianceScaling',\n",
       "    'config': {'distribution': 'uniform',\n",
       "     'mode': 'fan_avg',\n",
       "     'scale': 1.0,\n",
       "     'seed': None}},\n",
       "   'kernel_regularizer': None,\n",
       "   'name': 'dense_3',\n",
       "   'trainable': True,\n",
       "   'units': 2000,\n",
       "   'use_bias': True}},\n",
       " {'class_name': 'Dense',\n",
       "  'config': {'activation': 'sigmoid',\n",
       "   'activity_regularizer': None,\n",
       "   'bias_constraint': None,\n",
       "   'bias_initializer': {'class_name': 'Zeros', 'config': {}},\n",
       "   'bias_regularizer': None,\n",
       "   'kernel_constraint': None,\n",
       "   'kernel_initializer': {'class_name': 'VarianceScaling',\n",
       "    'config': {'distribution': 'uniform',\n",
       "     'mode': 'fan_avg',\n",
       "     'scale': 1.0,\n",
       "     'seed': None}},\n",
       "   'kernel_regularizer': None,\n",
       "   'name': 'dense_4',\n",
       "   'trainable': True,\n",
       "   'units': 1,\n",
       "   'use_bias': True}}]"
      ]
     },
     "execution_count": 9,
     "metadata": {},
     "output_type": "execute_result"
    }
   ],
   "source": [
    "model.get_config()"
   ]
  },
  {
   "cell_type": "code",
   "execution_count": 10,
   "metadata": {
    "scrolled": true
   },
   "outputs": [
    {
     "data": {
      "text/plain": [
       "[array([[-0.02665028, -0.00758465,  0.01898152, ..., -0.00457115,\n",
       "          0.01166644,  0.00961821],\n",
       "        [-0.02621221, -0.00699233,  0.01516869, ..., -0.00778207,\n",
       "          0.0262344 , -0.02447402],\n",
       "        [ 0.00416301,  0.02317069, -0.00880719, ...,  0.01529177,\n",
       "         -0.00230774,  0.02219001],\n",
       "        ..., \n",
       "        [ 0.00478652, -0.00396088,  0.0128891 , ..., -0.00503673,\n",
       "          0.0029055 , -0.02154071],\n",
       "        [-0.01128235, -0.02578451, -0.01863295, ...,  0.00085334,\n",
       "         -0.00806278,  0.02134996],\n",
       "        [-0.01677993, -0.00270708, -0.01669233, ...,  0.01717123,\n",
       "          0.00827562, -0.01564927]], dtype=float32),\n",
       " array([ 0.,  0.,  0., ...,  0.,  0.,  0.], dtype=float32),\n",
       " array([[ 0.01277915, -0.0059301 , -0.026555  , ..., -0.02575341,\n",
       "         -0.00177571,  0.03131654],\n",
       "        [ 0.01108502, -0.00778825, -0.02663662, ...,  0.02008879,\n",
       "          0.01722683,  0.03443526],\n",
       "        [-0.02654164, -0.02589973, -0.00302663, ..., -0.02584199,\n",
       "         -0.00633053, -0.00307798],\n",
       "        ..., \n",
       "        [ 0.03165209,  0.00942499, -0.01352755, ...,  0.03198337,\n",
       "          0.01718381,  0.03408769],\n",
       "        [-0.03279278,  0.01573164,  0.01779206, ...,  0.01974142,\n",
       "         -0.01924164,  0.0027861 ],\n",
       "        [-0.00780778, -0.00613669,  0.02069388, ...,  0.01760283,\n",
       "          0.02479707,  0.00191733]], dtype=float32),\n",
       " array([ 0.,  0.,  0., ...,  0.,  0.,  0.], dtype=float32),\n",
       " array([[-0.00241595, -0.01921791,  0.03865161, ..., -0.02617996,\n",
       "          0.02081715,  0.02113087],\n",
       "        [-0.0342815 ,  0.02858943, -0.00778743, ..., -0.00702058,\n",
       "          0.03701753,  0.03684377],\n",
       "        [ 0.02371197,  0.00806361, -0.01281563, ..., -0.02781308,\n",
       "          0.02060834, -0.00144023],\n",
       "        ..., \n",
       "        [-0.01339535,  0.0064045 , -0.02347305, ..., -0.00516612,\n",
       "         -0.03012238, -0.00875886],\n",
       "        [-0.01258799,  0.02339563,  0.00544037, ..., -0.03094495,\n",
       "          0.02418796, -0.03525008],\n",
       "        [ 0.01676884,  0.03056205,  0.02067004, ..., -0.03630959,\n",
       "         -0.02320561, -0.03427065]], dtype=float32),\n",
       " array([ 0.,  0.,  0., ...,  0.,  0.,  0.], dtype=float32),\n",
       " array([[ 0.03109542],\n",
       "        [-0.00661904],\n",
       "        [-0.03193091],\n",
       "        ..., \n",
       "        [-0.04084327],\n",
       "        [ 0.03293755],\n",
       "        [ 0.04196374]], dtype=float32),\n",
       " array([ 0.], dtype=float32)]"
      ]
     },
     "execution_count": 10,
     "metadata": {},
     "output_type": "execute_result"
    }
   ],
   "source": [
    "model.get_weights()"
   ]
  },
  {
   "cell_type": "markdown",
   "metadata": {},
   "source": [
    "# Compile model and fit"
   ]
  },
  {
   "cell_type": "code",
   "execution_count": 8,
   "metadata": {
    "scrolled": true
   },
   "outputs": [
    {
     "name": "stdout",
     "output_type": "stream",
     "text": [
      "Epoch 1/145\n",
      "4249/4249 [==============================] - 147s - loss: 1.0888 - acc: 0.5674   \n",
      "Epoch 2/145\n",
      "4249/4249 [==============================] - 143s - loss: 0.6432 - acc: 0.6289   \n",
      "Epoch 3/145\n",
      "4249/4249 [==============================] - 145s - loss: 0.6032 - acc: 0.6700   \n",
      "Epoch 4/145\n",
      "4249/4249 [==============================] - 145s - loss: 0.6002 - acc: 0.6771   \n",
      "Epoch 5/145\n",
      "4249/4249 [==============================] - 153s - loss: 0.5572 - acc: 0.7131   \n",
      "Epoch 6/145\n",
      "4249/4249 [==============================] - 144s - loss: 0.5439 - acc: 0.7206   \n",
      "Epoch 7/145\n",
      "4249/4249 [==============================] - 149s - loss: 0.5216 - acc: 0.7402   \n",
      "Epoch 8/145\n",
      "4249/4249 [==============================] - 157s - loss: 0.5011 - acc: 0.7484   \n",
      "Epoch 9/145\n",
      "4249/4249 [==============================] - 149s - loss: 0.4870 - acc: 0.7639   \n",
      "Epoch 10/145\n",
      "4249/4249 [==============================] - 145s - loss: 0.4464 - acc: 0.7774   \n",
      "Epoch 11/145\n",
      "4249/4249 [==============================] - 149s - loss: 0.4329 - acc: 0.7858   \n",
      "Epoch 12/145\n",
      "4249/4249 [==============================] - 149s - loss: 0.4160 - acc: 0.7969   \n",
      "Epoch 13/145\n",
      "4249/4249 [==============================] - 162s - loss: 0.4049 - acc: 0.7971   \n",
      "Epoch 14/145\n",
      "4249/4249 [==============================] - 154s - loss: 0.3905 - acc: 0.8016   \n",
      "Epoch 15/145\n",
      "4249/4249 [==============================] - 149s - loss: 0.3820 - acc: 0.8162   \n",
      "Epoch 16/145\n",
      "4249/4249 [==============================] - 153s - loss: 0.3623 - acc: 0.8280   \n",
      "Epoch 17/145\n",
      "4249/4249 [==============================] - 141s - loss: 0.3487 - acc: 0.8369   \n",
      "Epoch 18/145\n",
      "4249/4249 [==============================] - 134s - loss: 0.3148 - acc: 0.8534   \n",
      "Epoch 19/145\n",
      "4249/4249 [==============================] - 144s - loss: 0.3208 - acc: 0.8458   \n",
      "Epoch 20/145\n",
      "4249/4249 [==============================] - 146s - loss: 0.3150 - acc: 0.8503   \n",
      "Epoch 21/145\n",
      "4249/4249 [==============================] - 145s - loss: 0.3232 - acc: 0.8529   \n",
      "Epoch 22/145\n",
      "4249/4249 [==============================] - 136s - loss: 0.3028 - acc: 0.8600   \n",
      "Epoch 23/145\n",
      "4249/4249 [==============================] - 133s - loss: 0.2677 - acc: 0.8750   \n",
      "Epoch 24/145\n",
      "4249/4249 [==============================] - 134s - loss: 0.2444 - acc: 0.8859   \n",
      "Epoch 25/145\n",
      "4249/4249 [==============================] - 133s - loss: 0.2453 - acc: 0.8840   \n",
      "Epoch 26/145\n",
      "4249/4249 [==============================] - 131s - loss: 0.2628 - acc: 0.8774   \n",
      "Epoch 27/145\n",
      "4249/4249 [==============================] - 131s - loss: 0.2516 - acc: 0.8887   \n",
      "Epoch 28/145\n",
      "4249/4249 [==============================] - 136s - loss: 0.2374 - acc: 0.8830   \n",
      "Epoch 29/145\n",
      "4249/4249 [==============================] - 140s - loss: 0.2353 - acc: 0.8950   \n",
      "Epoch 30/145\n",
      "4249/4249 [==============================] - 139s - loss: 0.2176 - acc: 0.8974   \n",
      "Epoch 31/145\n",
      "4249/4249 [==============================] - 144s - loss: 0.2216 - acc: 0.8967   \n",
      "Epoch 32/145\n",
      "4249/4249 [==============================] - 175s - loss: 0.3604 - acc: 0.8821   \n",
      "Epoch 33/145\n",
      "4249/4249 [==============================] - 181s - loss: 0.2348 - acc: 0.8962   \n",
      "Epoch 34/145\n",
      "4249/4249 [==============================] - 181s - loss: 0.2020 - acc: 0.9120   \n",
      "Epoch 35/145\n",
      "4249/4249 [==============================] - 179s - loss: 0.2031 - acc: 0.9073   \n",
      "Epoch 36/145\n",
      "4249/4249 [==============================] - 184s - loss: 0.2037 - acc: 0.9120   \n",
      "Epoch 37/145\n",
      "4249/4249 [==============================] - 182s - loss: 0.1844 - acc: 0.9132   \n",
      "Epoch 38/145\n",
      "4249/4249 [==============================] - 146s - loss: 0.1889 - acc: 0.9117   \n",
      "Epoch 39/145\n",
      "4249/4249 [==============================] - 148s - loss: 0.2134 - acc: 0.9021   \n",
      "Epoch 40/145\n",
      "4249/4249 [==============================] - 143s - loss: 0.2170 - acc: 0.9113   \n",
      "Epoch 41/145\n",
      "4249/4249 [==============================] - 145s - loss: 0.2025 - acc: 0.9080   \n",
      "Epoch 42/145\n",
      "4249/4249 [==============================] - 146s - loss: 0.1709 - acc: 0.9202   \n",
      "Epoch 43/145\n",
      "4249/4249 [==============================] - 143s - loss: 0.1837 - acc: 0.9249   \n",
      "Epoch 44/145\n",
      "4249/4249 [==============================] - 144s - loss: 0.1826 - acc: 0.9101   \n",
      "Epoch 45/145\n",
      "4249/4249 [==============================] - 143s - loss: 0.1605 - acc: 0.9190   \n",
      "Epoch 46/145\n",
      "4249/4249 [==============================] - 136s - loss: 0.1710 - acc: 0.9202   \n",
      "Epoch 47/145\n",
      "4249/4249 [==============================] - 122s - loss: 0.1947 - acc: 0.9172   \n",
      "Epoch 48/145\n",
      "4249/4249 [==============================] - 123s - loss: 0.1898 - acc: 0.9165   \n",
      "Epoch 49/145\n",
      "4249/4249 [==============================] - 123s - loss: 0.1482 - acc: 0.9268   \n",
      "Epoch 50/145\n",
      "4249/4249 [==============================] - 124s - loss: 0.1557 - acc: 0.9334   \n",
      "Epoch 51/145\n",
      "4249/4249 [==============================] - 123s - loss: 0.1970 - acc: 0.9132   \n",
      "Epoch 52/145\n",
      "4249/4249 [==============================] - 124s - loss: 0.1490 - acc: 0.9287   \n",
      "Epoch 53/145\n",
      "4249/4249 [==============================] - 125s - loss: 0.1487 - acc: 0.9372   \n",
      "Epoch 54/145\n",
      "4249/4249 [==============================] - 125s - loss: 0.1467 - acc: 0.9329   \n",
      "Epoch 55/145\n",
      "4249/4249 [==============================] - 125s - loss: 0.1329 - acc: 0.9353   \n",
      "Epoch 56/145\n",
      "4249/4249 [==============================] - 124s - loss: 0.1748 - acc: 0.9254   \n",
      "Epoch 57/145\n",
      "4249/4249 [==============================] - 126s - loss: 0.1616 - acc: 0.9310   \n",
      "Epoch 58/145\n",
      "4249/4249 [==============================] - 125s - loss: 0.1599 - acc: 0.9245   \n",
      "Epoch 59/145\n",
      "4249/4249 [==============================] - 126s - loss: 0.1457 - acc: 0.9306   \n",
      "Epoch 60/145\n",
      "4249/4249 [==============================] - 127s - loss: 0.2102 - acc: 0.9261   \n",
      "Epoch 61/145\n",
      "4249/4249 [==============================] - 126s - loss: 0.1524 - acc: 0.9223   \n",
      "Epoch 62/145\n",
      "4249/4249 [==============================] - 125s - loss: 0.1536 - acc: 0.9150   \n",
      "Epoch 63/145\n",
      "4249/4249 [==============================] - 125s - loss: 0.1411 - acc: 0.9348   \n",
      "Epoch 64/145\n",
      "4249/4249 [==============================] - 126s - loss: 0.2292 - acc: 0.9186   \n",
      "Epoch 65/145\n",
      "4249/4249 [==============================] - 127s - loss: 0.1493 - acc: 0.9313   \n",
      "Epoch 66/145\n",
      "4249/4249 [==============================] - 125s - loss: 0.1481 - acc: 0.9263   \n",
      "Epoch 67/145\n",
      "4249/4249 [==============================] - 125s - loss: 0.1438 - acc: 0.9381   \n",
      "Epoch 68/145\n",
      "4249/4249 [==============================] - 125s - loss: 0.1386 - acc: 0.9390   \n",
      "Epoch 69/145\n",
      "4249/4249 [==============================] - 125s - loss: 0.1396 - acc: 0.9414   \n",
      "Epoch 70/145\n",
      "4249/4249 [==============================] - 125s - loss: 0.1252 - acc: 0.9365   \n",
      "Epoch 71/145\n",
      "4249/4249 [==============================] - 126s - loss: 0.1339 - acc: 0.9369   \n",
      "Epoch 72/145\n",
      "4249/4249 [==============================] - 126s - loss: 0.1433 - acc: 0.9336   \n",
      "Epoch 73/145\n",
      "4249/4249 [==============================] - 126s - loss: 0.1747 - acc: 0.9254   \n",
      "Epoch 74/145\n",
      "4249/4249 [==============================] - 125s - loss: 0.1262 - acc: 0.9438   \n",
      "Epoch 75/145\n",
      "4249/4249 [==============================] - 124s - loss: 0.1413 - acc: 0.9346   \n",
      "Epoch 76/145\n",
      "4249/4249 [==============================] - 125s - loss: 0.1331 - acc: 0.9400   \n",
      "Epoch 77/145\n",
      "4249/4249 [==============================] - 125s - loss: 0.1307 - acc: 0.9435   \n",
      "Epoch 78/145\n",
      "4249/4249 [==============================] - 126s - loss: 0.2085 - acc: 0.9280   \n",
      "Epoch 79/145\n",
      "4249/4249 [==============================] - 126s - loss: 0.1368 - acc: 0.9341   \n",
      "Epoch 80/145\n",
      "4249/4249 [==============================] - 126s - loss: 0.1415 - acc: 0.9365   \n",
      "Epoch 81/145\n",
      "4249/4249 [==============================] - 126s - loss: 0.1677 - acc: 0.9273   \n",
      "Epoch 82/145\n",
      "4249/4249 [==============================] - 125s - loss: 0.1057 - acc: 0.9473   \n",
      "Epoch 83/145\n",
      "4249/4249 [==============================] - 125s - loss: 0.1171 - acc: 0.9487   \n",
      "Epoch 84/145\n",
      "4249/4249 [==============================] - 124s - loss: 0.1056 - acc: 0.9534   \n",
      "Epoch 85/145\n",
      "4249/4249 [==============================] - 125s - loss: 0.1192 - acc: 0.9449   \n",
      "Epoch 86/145\n",
      "4249/4249 [==============================] - 125s - loss: 0.1263 - acc: 0.9456   \n",
      "Epoch 87/145\n",
      "4249/4249 [==============================] - 123s - loss: 0.1141 - acc: 0.9496   \n",
      "Epoch 88/145\n",
      "4249/4249 [==============================] - 122s - loss: 0.1289 - acc: 0.9414   \n",
      "Epoch 89/145\n",
      "4249/4249 [==============================] - 122s - loss: 0.1235 - acc: 0.9383   \n",
      "Epoch 90/145\n",
      "4249/4249 [==============================] - 125s - loss: 0.1214 - acc: 0.9485   \n",
      "Epoch 91/145\n",
      "4249/4249 [==============================] - 123s - loss: 0.1450 - acc: 0.9442   \n",
      "Epoch 92/145\n",
      "4249/4249 [==============================] - 122s - loss: 0.1304 - acc: 0.9442   \n",
      "Epoch 93/145\n",
      "4249/4249 [==============================] - 123s - loss: 0.0908 - acc: 0.9583   \n",
      "Epoch 94/145\n",
      "4249/4249 [==============================] - 122s - loss: 0.1319 - acc: 0.9426   \n",
      "Epoch 95/145\n",
      "4249/4249 [==============================] - 123s - loss: 0.0986 - acc: 0.9541   \n",
      "Epoch 96/145\n",
      "4249/4249 [==============================] - 122s - loss: 0.0956 - acc: 0.9581   \n",
      "Epoch 97/145\n",
      "4249/4249 [==============================] - 122s - loss: 0.0940 - acc: 0.9602   \n",
      "Epoch 98/145\n",
      "4249/4249 [==============================] - 123s - loss: 0.1455 - acc: 0.9372   \n",
      "Epoch 99/145\n",
      "4249/4249 [==============================] - 122s - loss: 0.2049 - acc: 0.9317   \n",
      "Epoch 100/145\n",
      "4249/4249 [==============================] - 122s - loss: 0.1132 - acc: 0.9466   \n",
      "Epoch 101/145\n",
      "4249/4249 [==============================] - 123s - loss: 0.1062 - acc: 0.9520   \n",
      "Epoch 102/145\n",
      "4249/4249 [==============================] - 123s - loss: 0.1030 - acc: 0.9586   \n",
      "Epoch 103/145\n",
      "4249/4249 [==============================] - 122s - loss: 0.0932 - acc: 0.9562   \n",
      "Epoch 104/145\n",
      "4249/4249 [==============================] - 123s - loss: 0.1154 - acc: 0.9518   \n",
      "Epoch 105/145\n",
      "4249/4249 [==============================] - 123s - loss: 0.1183 - acc: 0.9508   \n",
      "Epoch 106/145\n",
      "4249/4249 [==============================] - 124s - loss: 0.0975 - acc: 0.9581   \n",
      "Epoch 107/145\n",
      "4249/4249 [==============================] - 124s - loss: 0.0904 - acc: 0.9543   \n",
      "Epoch 108/145\n",
      "4249/4249 [==============================] - 125s - loss: 0.1267 - acc: 0.9435   \n",
      "Epoch 109/145\n",
      "4249/4249 [==============================] - 124s - loss: 0.1313 - acc: 0.9430   \n",
      "Epoch 110/145\n",
      "4249/4249 [==============================] - 124s - loss: 0.0982 - acc: 0.9574   \n",
      "Epoch 111/145\n",
      "4249/4249 [==============================] - 124s - loss: 0.1339 - acc: 0.9496   \n",
      "Epoch 112/145\n",
      "4249/4249 [==============================] - 125s - loss: 0.0878 - acc: 0.9590   \n",
      "Epoch 113/145\n",
      "4249/4249 [==============================] - 125s - loss: 0.0870 - acc: 0.9593   \n",
      "Epoch 114/145\n",
      "4249/4249 [==============================] - 124s - loss: 0.0836 - acc: 0.9666   \n",
      "Epoch 115/145\n",
      "4249/4249 [==============================] - 124s - loss: 0.0908 - acc: 0.9605   \n",
      "Epoch 116/145\n",
      "4249/4249 [==============================] - 124s - loss: 0.0920 - acc: 0.9588   \n",
      "Epoch 117/145\n",
      "4249/4249 [==============================] - 124s - loss: 0.0905 - acc: 0.9605   \n",
      "Epoch 118/145\n",
      "4249/4249 [==============================] - 124s - loss: 0.1022 - acc: 0.9583   \n",
      "Epoch 119/145\n",
      "4249/4249 [==============================] - 126s - loss: 0.1340 - acc: 0.9562   \n",
      "Epoch 120/145\n",
      "4249/4249 [==============================] - 125s - loss: 0.1758 - acc: 0.9419   \n",
      "Epoch 121/145\n",
      "4249/4249 [==============================] - 124s - loss: 0.0971 - acc: 0.9602   \n",
      "Epoch 122/145\n",
      "4249/4249 [==============================] - 125s - loss: 0.0774 - acc: 0.9612   \n",
      "Epoch 123/145\n",
      "4249/4249 [==============================] - 124s - loss: 0.1048 - acc: 0.9640   \n",
      "Epoch 124/145\n",
      "4249/4249 [==============================] - 124s - loss: 0.0825 - acc: 0.9635   \n",
      "Epoch 125/145\n",
      "4249/4249 [==============================] - 124s - loss: 0.0791 - acc: 0.9605   \n",
      "Epoch 126/145\n",
      "4249/4249 [==============================] - 124s - loss: 0.1189 - acc: 0.9593   \n",
      "Epoch 127/145\n",
      "4249/4249 [==============================] - 124s - loss: 0.1165 - acc: 0.9572   \n",
      "Epoch 128/145\n",
      "4249/4249 [==============================] - 124s - loss: 0.0876 - acc: 0.9623   \n",
      "Epoch 129/145\n",
      "4249/4249 [==============================] - 124s - loss: 0.0946 - acc: 0.9642   \n",
      "Epoch 130/145\n",
      "4249/4249 [==============================] - 125s - loss: 0.0659 - acc: 0.9675   \n",
      "Epoch 131/145\n",
      "4249/4249 [==============================] - 125s - loss: 0.0775 - acc: 0.9654   \n",
      "Epoch 132/145\n",
      "4249/4249 [==============================] - 125s - loss: 0.1031 - acc: 0.9640   \n",
      "Epoch 133/145\n",
      "4249/4249 [==============================] - 124s - loss: 0.0932 - acc: 0.9631   \n",
      "Epoch 134/145\n",
      "4249/4249 [==============================] - 124s - loss: 0.0593 - acc: 0.9718   \n",
      "Epoch 135/145\n",
      "4249/4249 [==============================] - 125s - loss: 0.0801 - acc: 0.9678   \n",
      "Epoch 136/145\n",
      "4249/4249 [==============================] - 124s - loss: 0.0867 - acc: 0.9668   \n",
      "Epoch 137/145\n",
      "4249/4249 [==============================] - 125s - loss: 0.1144 - acc: 0.9555   \n",
      "Epoch 138/145\n",
      "4249/4249 [==============================] - 125s - loss: 0.0744 - acc: 0.9645   \n",
      "Epoch 139/145\n",
      "4249/4249 [==============================] - 124s - loss: 0.0828 - acc: 0.9633   \n",
      "Epoch 140/145\n",
      "4249/4249 [==============================] - 124s - loss: 0.0842 - acc: 0.9692   \n",
      "Epoch 141/145\n",
      "4249/4249 [==============================] - 124s - loss: 0.0691 - acc: 0.9715   \n",
      "Epoch 142/145\n",
      "4249/4249 [==============================] - 123s - loss: 0.0703 - acc: 0.9720   \n",
      "Epoch 143/145\n",
      "4249/4249 [==============================] - 122s - loss: 0.0936 - acc: 0.9642   \n",
      "Epoch 144/145\n",
      "4249/4249 [==============================] - 122s - loss: 0.1072 - acc: 0.9496   \n",
      "Epoch 145/145\n",
      "4249/4249 [==============================] - 124s - loss: 0.0890 - acc: 0.9543   \n"
     ]
    },
    {
     "data": {
      "text/plain": [
       "<keras.callbacks.History at 0x7f81e7d0d748>"
      ]
     },
     "execution_count": 8,
     "metadata": {},
     "output_type": "execute_result"
    }
   ],
   "source": [
    "model.compile(loss='binary_crossentropy',\n",
    "              optimizer='adam',\n",
    "              metrics=['accuracy'])\n",
    "Nepochs = 145                 \n",
    "model.fit(x_train, y_train,epochs=Nepochs, batch_size=10, verbose=1)"
   ]
  },
  {
   "cell_type": "code",
   "execution_count": 127,
   "metadata": {
    "collapsed": true
   },
   "outputs": [],
   "source": [
    "import h5py"
   ]
  },
  {
   "cell_type": "code",
   "execution_count": 9,
   "metadata": {
    "collapsed": true
   },
   "outputs": [],
   "source": [
    "model.save('SerendipiANN_v0.h5')"
   ]
  },
  {
   "cell_type": "markdown",
   "metadata": {},
   "source": [
    "# Make predictions with test data"
   ]
  },
  {
   "cell_type": "code",
   "execution_count": 10,
   "metadata": {
    "collapsed": true
   },
   "outputs": [],
   "source": [
    "y_pred = model.predict(x_test)"
   ]
  },
  {
   "cell_type": "markdown",
   "metadata": {},
   "source": [
    "# Compare y_pred against y_test to see how well the predictions performed"
   ]
  },
  {
   "cell_type": "code",
   "execution_count": 11,
   "metadata": {},
   "outputs": [
    {
     "name": "stdout",
     "output_type": "stream",
     "text": [
      "1063/1063 [==============================] - 3s     \n"
     ]
    }
   ],
   "source": [
    "score = model.evaluate(x_test,y_test,verbose=1)"
   ]
  },
  {
   "cell_type": "code",
   "execution_count": 13,
   "metadata": {},
   "outputs": [
    {
     "name": "stdout",
     "output_type": "stream",
     "text": [
      "Loss= 1.3969\n",
      "Accuracy= 0.7723\n"
     ]
    }
   ],
   "source": [
    "print(\"Loss=\",round(score[0],4))\n",
    "print(\"Accuracy=\",round(score[1],4))"
   ]
  },
  {
   "cell_type": "markdown",
   "metadata": {},
   "source": [
    "# Test out some basic classification evaluation techniques:\n",
    "\n",
    "- The confusion matrix, which is a breakdown of predictions into a table showing correct predictions and the types of incorrect predictions made. Ideally, you will only see numbers in the diagonal, which means that all your predictions were correct!\n",
    "- Precision is a measure of a classifier’s exactness. The higher the precision, the more accurate the classifier.\n",
    "- Recall is a measure of a classifier’s completeness. The higher the recall, the more cases the classifier covers.\n",
    "- The F1 Score or F-score is a weighted average of precision and recall.\n",
    "- The Kappa or Cohen’s kappa is the classification accuracy normalized by the imbalance of the classes in the data."
   ]
  },
  {
   "cell_type": "code",
   "execution_count": 12,
   "metadata": {},
   "outputs": [
    {
     "name": "stdout",
     "output_type": "stream",
     "text": [
      "Confusion matrix:\n",
      "\n",
      "[[366 165]\n",
      " [ 77 455]]\n",
      "Precision\n",
      "0.733870967742\n",
      "Recall\n",
      "0.855263157895\n",
      "F1 score\n",
      "0.789930555556\n",
      "Cohen's kappa\n",
      "0.544613521781\n"
     ]
    }
   ],
   "source": [
    "# Import the modules from `sklearn.metrics`\n",
    "from sklearn.metrics import confusion_matrix, precision_score, recall_score, f1_score, cohen_kappa_score\n",
    "\n",
    "y_pred = np.round(y_pred)\n",
    "\n",
    "# Confusion matrix\n",
    "print('Confusion matrix:\\n')\n",
    "print(confusion_matrix(y_test, y_pred))\n",
    "       \n",
    "# Precision \n",
    "print('Precision')\n",
    "print(precision_score(y_test, y_pred))\n",
    "\n",
    "# Recall\n",
    "print('Recall')\n",
    "print(recall_score(y_test, y_pred))\n",
    "\n",
    "\n",
    "# F1 score\n",
    "print('F1 score')\n",
    "print(f1_score(y_test,y_pred))\n",
    "\n",
    "\n",
    "# Cohen's kappa\n",
    "print(\"Cohen's kappa\")\n",
    "print(cohen_kappa_score(y_test, y_pred))"
   ]
  },
  {
   "cell_type": "markdown",
   "metadata": {},
   "source": [
    "# Plot the time course of training NEURAL NETWORK"
   ]
  },
  {
   "cell_type": "code",
   "execution_count": 14,
   "metadata": {
    "collapsed": true
   },
   "outputs": [],
   "source": [
    "f = open('ANN_v0_training_145epochs.log','r')\n",
    "log = f.read().splitlines()\n",
    "f.close()"
   ]
  },
  {
   "cell_type": "code",
   "execution_count": 16,
   "metadata": {
    "collapsed": true
   },
   "outputs": [],
   "source": [
    "# Extract accuracies and epoch times from log file\n",
    "training_acc = []\n",
    "epoch_time = []\n",
    "training_loss = []\n",
    "for l in log:\n",
    "    if 'acc:' in l:\n",
    "        acc = float(l[l.index('acc:')+4:].replace(' ',''))\n",
    "        training_acc.append(acc)\n",
    "        start = l.index('] - ')+4\n",
    "        end = l.index('s',start)\n",
    "        et = float(l[start:end])\n",
    "        epoch_time.append(et)\n",
    "        start = l.index('loss: ')+6\n",
    "        end = start + 6\n",
    "        lo = float(l[start:end])\n",
    "        training_loss.append(lo)        \n",
    "    else:\n",
    "        continue"
   ]
  },
  {
   "cell_type": "code",
   "execution_count": 19,
   "metadata": {},
   "outputs": [
    {
     "data": {
      "text/plain": [
       "<matplotlib.legend.Legend at 0x7f81e78b0cf8>"
      ]
     },
     "execution_count": 19,
     "metadata": {},
     "output_type": "execute_result"
    },
    {
     "data": {
      "image/png": "[encoded data removed]",
      "text/plain": [
       "<matplotlib.figure.Figure at 0x7f81e72cf160>"
      ]
     },
     "metadata": {},
     "output_type": "display_data"
    }
   ],
   "source": [
    "# Plot Accuracies\n",
    "plt.figure(figsize=(10,8))\n",
    "plt.plot(range(1,len(training_acc)+1),training_acc,'b-o',label='Accuracy',alpha=0.7)\n",
    "plt.xlabel('Epoch')\n",
    "plt.ylabel('Accuracy (%)')\n",
    "plt.hlines(max(training_acc),1,Nepochs,colors='r',linestyles='dashed',label='Best accuracy ' + str(max(training_acc)))\n",
    "plt.vlines(training_acc.index(max(training_acc))+1,0.5,0.95,colors='r',linestyles='dashed',label='Epoch '+str(training_acc.index(max(training_acc))+1))\n",
    "plt.legend()"
   ]
  },
  {
   "cell_type": "code",
   "execution_count": 20,
   "metadata": {},
   "outputs": [
    {
     "data": {
      "text/plain": [
       "<matplotlib.legend.Legend at 0x7f81e7049f60>"
      ]
     },
     "execution_count": 20,
     "metadata": {},
     "output_type": "execute_result"
    },
    {
     "data": {
      "image/png": "[encoded data removed]",
      "text/plain": [
       "<matplotlib.figure.Figure at 0x7f81e72e8c50>"
      ]
     },
     "metadata": {},
     "output_type": "display_data"
    }
   ],
   "source": [
    "# Plot Loss\n",
    "plt.figure(figsize=(10,8))\n",
    "plt.plot(range(1,len(training_loss)+1),training_loss,'y-o',label='Loss',alpha=0.7)\n",
    "plt.xlabel('Epoch')\n",
    "plt.ylabel('Loss')\n",
    "plt.hlines(min(training_loss),1,Nepochs,colors='r',linestyles='dashed',label='Lowest loss ' + str(min(training_loss)))\n",
    "plt.vlines(training_loss.index(min(training_loss))+1,0.,1.,colors='r',linestyles='dashed',label='Epoch '+str(training_loss.index(min(training_loss))+1))\n",
    "plt.legend()"
   ]
  },
  {
   "cell_type": "code",
   "execution_count": 21,
   "metadata": {},
   "outputs": [
    {
     "data": {
      "text/plain": [
       "<matplotlib.legend.Legend at 0x7f81e786bf28>"
      ]
     },
     "execution_count": 21,
     "metadata": {},
     "output_type": "execute_result"
    },
    {
     "data": {
      "image/png": "[encoded data removed]",
      "text/plain": [
       "<matplotlib.figure.Figure at 0x7f81e78a3ba8>"
      ]
     },
     "metadata": {},
     "output_type": "display_data"
    }
   ],
   "source": [
    "# Plot Epoch times\n",
    "plt.figure(figsize=(10,8))\n",
    "plt.plot(range(1,len(epoch_time)+1),epoch_time,'g-o',label='Epoch time',alpha=0.7)\n",
    "plt.xlabel('Epoch')\n",
    "plt.ylabel('Time (s)')\n",
    "plt.hlines(np.mean(epoch_time),1,Nepochs,colors='r',linestyles='dashed',label='Average time ' + str(np.mean(epoch_time)))\n",
    "plt.legend()"
   ]
  }
 ],
 "metadata": {
  "kernelspec": {
   "display_name": "Python 2",
   "language": "python",
   "name": "python2"
  },
  "language_info": {
   "codemirror_mode": {
    "name": "ipython",
    "version": 2
   },
   "file_extension": ".py",
   "mimetype": "text/x-python",
   "name": "python",
   "nbconvert_exporter": "python",
   "pygments_lexer": "ipython2",
   "version": "2.7.13"
  }
 },
 "nbformat": 4,
 "nbformat_minor": 2
}
