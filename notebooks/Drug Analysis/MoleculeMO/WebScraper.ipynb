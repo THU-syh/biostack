{
 "cells": [
  {
   "cell_type": "code",
   "execution_count": 1,
   "metadata": {},
   "outputs": [],
   "source": [
    "import time\n",
    "import datetime\n",
    "import requests\n",
    "from selenium import webdriver\n",
    "from bs4 import BeautifulSoup"
   ]
  },
  {
   "cell_type": "code",
   "execution_count": null,
   "metadata": {
    "scrolled": true
   },
   "outputs": [
    {
     "name": "stdout",
     "output_type": "stream",
     "text": [
      "Run number:  0  | SMILES saved: 1  | Time elapsed: 0 hours 0 minutes 10 seconds\n",
      "Run number:  1  | SMILES saved: 2  | Time elapsed: 0 hours 0 minutes 12 seconds\n",
      "Run number:  2  | SMILES saved: 3  | Time elapsed: 0 hours 0 minutes 14 seconds\n",
      "Run number:  3  | SMILES saved: 4  | Time elapsed: 0 hours 0 minutes 18 seconds\n"
     ]
    }
   ],
   "source": [
    "#Set start time for tracking\n",
    "start_time = time.time()\n",
    "\n",
    "#URL, numbers appended corresponding to CHEMBLid to go to molecule report card\n",
    "CHEMBL = \"https://www.ebi.ac.uk/chembl/beta/compound_report_card/CHEMBL\"\n",
    "\n",
    "#Chrome set as driver\n",
    "driver = webdriver.Chrome()\n",
    "\n",
    "#List to store SMILES strings into\n",
    "SMILESdata = []\n",
    "\n",
    "#Counter to show number of SMILES strings actually saved: not all CHEMBL ids correspond to a molecule\n",
    "counter = 0\n",
    "#Loop through all CHEMBL ids\n",
    "for i in range(20000):\n",
    "    #Catch error if index error (resulting from server error on website) occurs, continue running\n",
    "    while True: \n",
    "        try:\n",
    "            #Append number to end of URL for webpage of the CHEMBLid\n",
    "            CHEMBL+=str(i+1)\n",
    "    \n",
    "            #Get URL\n",
    "            driver.get(CHEMBL)\n",
    "    \n",
    "            #Allow webpage to load\n",
    "            time.sleep(.25)\n",
    "    \n",
    "            #Encode webpage\n",
    "            content = driver.page_source.encode('utf-8').strip()\n",
    "    \n",
    "            #Parse content \n",
    "            CHEMBLsoup = BeautifulSoup(content, \"html.parser\")\n",
    "    \n",
    "            #Find table, row, and column of SMILES string\n",
    "            table = CHEMBLsoup.find_all(\"table\", class_=\"compact-table hide-on-small-only\")[0]\n",
    "            table_body = table.find(\"tbody\")\n",
    "            row = table_body.find_all('tr')[1]\n",
    "            col = row.find(\"td\", class_=\"BCK-CanonicalSmiles\")\n",
    "    \n",
    "            #Get SMILES string: cutting off characters faster than performing another search for SMILES string in webpage\n",
    "            SMILES = str(col)[140:].split(\">\",1)[0]\n",
    "            length = len(str(col)[140:].split(\">\",1)[0])\n",
    "            SMILES = SMILES[:length-1]\n",
    "    \n",
    "            #Assert a SMILES string exists, append to SMILESdata if it does, and update counter to show molecules saved\n",
    "            if ((len(SMILES))!=0):\n",
    "                SMILESdata.append(SMILES)\n",
    "                counter+=1\n",
    "        \n",
    "            #Display time elapsed from start, SMILES saved, and run number\n",
    "            elapsed = time.time() - start_time\n",
    "            hours = int(elapsed/3600)\n",
    "            minutes = int(int(elapsed/60)%60)\n",
    "            seconds = int(elapsed%60)\n",
    "            print(\"Run number: \", i, \" | SMILES saved:\", counter, \" | Time elapsed:\", hours, \"hours\", minutes, \"minutes\", seconds, \"seconds\")\n",
    "    \n",
    "            #Reset URL to one without CHEMBL id to allow for loop\n",
    "            CHEMBL = \"https://www.ebi.ac.uk/chembl/beta/compound_report_card/CHEMBL\"\n",
    "            \n",
    "            #Save SMILES strings collected to file every 1000 runs\n",
    "            if ((i % 1000) == 0):\n",
    "                #Save SMILES strings to text file\n",
    "                data = open(\"SMILESdata.txt\", \"a\")\n",
    "                for i in SMILESdata:\n",
    "                    data.write(\"%s\\n\" % i)\n",
    "                    data.close()\n",
    "            break\n",
    "        except IndexError:\n",
    "            #Index errors resulted from server errors, catch exception and continue running\n",
    "            print(\"Server error occurred.\")\n",
    "            \n",
    "            #Display time elapsed from start, SMILES saved, and run number\n",
    "            elapsed = time.time() - start_time\n",
    "            hours = int(elapsed/3600)\n",
    "            minutes = int(int(elapsed/60)%60)\n",
    "            seconds = int(elapsed%60)\n",
    "            print(\"Run number: \", i, \" | SMILES saved:\", counter, \" | Time elapsed:\", hours, \"hours\", minutes, \"minutes\", seconds, \"seconds\")\n",
    "            \n",
    "            #Reset URL to one without CHEMBL id to allow for loop\n",
    "            CHEMBL = \"https://www.ebi.ac.uk/chembl/beta/compound_report_card/CHEMBL\"\n",
    "            \n",
    "#Close browser\n",
    "driver.close()\n",
    "\n",
    "#Save SMILES strings to text file\n",
    "data = open(\"SMILESdata.txt\", \"a\")\n",
    "for i in SMILESdata:\n",
    "    data.write(\"%s\\n\" % i)\n",
    "data.close()"
   ]
  },
  {
   "cell_type": "code",
   "execution_count": null,
   "metadata": {},
   "outputs": [],
   "source": []
  }
 ],
 "metadata": {
  "kernelspec": {
   "display_name": "Python 3",
   "language": "python",
   "name": "python3"
  },
  "language_info": {
   "codemirror_mode": {
    "name": "ipython",
    "version": 3
   },
   "file_extension": ".py",
   "mimetype": "text/x-python",
   "name": "python",
   "nbconvert_exporter": "python",
   "pygments_lexer": "ipython3",
   "version": "3.5.6"
  }
 },
 "nbformat": 4,
 "nbformat_minor": 2
}
