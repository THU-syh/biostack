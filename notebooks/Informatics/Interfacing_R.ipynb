{
 "cells": [
  {
   "cell_type": "code",
   "execution_count": 2,
   "metadata": {},
   "outputs": [
    {
     "name": "stdout",
     "output_type": "stream",
     "text": [
      "--2020-05-21 13:24:19--  http://ftp.1000genomes.ebi.ac.uk/vol1/ftp/historical_data/former_toplevel/sequence.index\n",
      "Resolving ftp.1000genomes.ebi.ac.uk (ftp.1000genomes.ebi.ac.uk)... 193.62.197.77\n",
      "Connecting to ftp.1000genomes.ebi.ac.uk (ftp.1000genomes.ebi.ac.uk)|193.62.197.77|:80... connected.\n",
      "HTTP request sent, awaiting response... 200 OK\n",
      "Length: 67069489 (64M) [application/octet-stream]\n",
      "Saving to: ‘sequence.index’\n",
      "\n",
      "sequence.index      100%[===================>]  63.96M   516KB/s    in 4m 11s  \n",
      "\n",
      "2020-05-21 13:28:31 (261 KB/s) - ‘sequence.index’ saved [67069489/67069489]\n",
      "\n"
     ]
    }
   ],
   "source": [
    "!wget ftp.1000genomes.ebi.ac.uk/vol1/ftp/historical_data/former_toplevel/sequence.index"
   ]
  },
  {
   "cell_type": "code",
   "execution_count": 7,
   "metadata": {},
   "outputs": [],
   "source": [
    "import os \n",
    "\n",
    "from IPython.display import Image\n",
    "\n",
    "import rpy2.robjects as robjects\n",
    "import pandas as pd\n",
    "\n",
    "from rpy2.robjects import pandas2ri\n",
    "from rpy2.robjects import default_converter\n",
    "from rpy2.robjects.conversion import localconverter"
   ]
  },
  {
   "cell_type": "code",
   "execution_count": 8,
   "metadata": {},
   "outputs": [],
   "source": [
    "read_delim = robjects.r('read.delim')\n",
    "seq_data = read_delim('sequence.index', header=True, stringsAsFactors=False)"
   ]
  },
  {
   "cell_type": "code",
   "execution_count": 44,
   "metadata": {},
   "outputs": [
    {
     "name": "stdout",
     "output_type": "stream",
     "text": [
      "This data frame has 26 columns and 187720 rows\n",
      " [1] \"FASTQ_FILE\"          \"MD5\"                 \"RUN_ID\"             \n",
      " [4] \"STUDY_ID\"            \"STUDY_NAME\"          \"CENTER_NAME\"        \n",
      " [7] \"SUBMISSION_ID\"       \"SUBMISSION_DATE\"     \"SAMPLE_ID\"          \n",
      "[10] \"SAMPLE_NAME\"         \"POPULATION\"          \"EXPERIMENT_ID\"      \n",
      "[13] \"INSTRUMENT_PLATFORM\" \"INSTRUMENT_MODEL\"    \"LIBRARY_NAME\"       \n",
      "[16] \"RUN_NAME\"            \"RUN_BLOCK_NAME\"      \"INSERT_SIZE\"        \n",
      "[19] \"LIBRARY_LAYOUT\"      \"PAIRED_FASTQ\"        \"WITHDRAWN\"          \n",
      "[22] \"WITHDRAWN_DATE\"      \"COMMENT\"             \"READ_COUNT\"         \n",
      "[25] \"BASE_COUNT\"          \"ANALYSIS_GROUP\"     \n",
      "\n",
      "Columns in Python 26 \n",
      "Type of read count before as.integer: RTYPES.INTSXP\n",
      "Type of read count after as.integer: RTYPES.INTSXP\n",
      " [1] \"Column names in R: \" \"FASTQ_FILE\"          \"MD5\"                \n",
      " [4] \"RUN_ID\"              \"STUDY_ID\"            \"STUDY_NAME\"         \n",
      " [7] \"CENTER_NAME\"         \"SUBMISSION_ID\"       \"SUBMISSION_DATE\"    \n",
      "[10] \"SAMPLE_ID\"           \"SAMPLE_NAME\"         \"POPULATION\"         \n",
      "[13] \"EXPERIMENT_ID\"       \"INSTRUMENT_PLATFORM\" \"INSTRUMENT_MODEL\"   \n",
      "[16] \"LIBRARY_NAME\"        \"RUN_NAME\"            \"RUN_BLOCK_NAME\"     \n",
      "[19] \"INSERT_SIZE\"         \"LIBRARY_LAYOUT\"      \"PAIRED_FASTQ\"       \n",
      "[22] \"WITHDRAWN\"           \"WITHDRAWN_DATE\"      \"COMMENT\"            \n",
      "[25] \"READ_COUNT\"          \"BASE_COUNT\"          \"ANALYSIS_GROUP\"     \n"
     ]
    },
    {
     "data": {
      "text/html": [
       "\n",
       "        <span>FactorVector with 177877 elements.</span>\n",
       "        <table>\n",
       "        <tbody>\n",
       "          <tr>\n",
       "          \n",
       "            <td>\n",
       "            YRI\n",
       "            </td>\n",
       "          \n",
       "            <td>\n",
       "            YRI\n",
       "            </td>\n",
       "          \n",
       "            <td>\n",
       "            YRI\n",
       "            </td>\n",
       "          \n",
       "            <td>\n",
       "            ...\n",
       "            </td>\n",
       "          \n",
       "            <td>\n",
       "            STU\n",
       "            </td>\n",
       "          \n",
       "            <td>\n",
       "            STU\n",
       "            </td>\n",
       "          \n",
       "            <td>\n",
       "            STU\n",
       "            </td>\n",
       "          \n",
       "          </tr>\n",
       "        </tbody>\n",
       "        </table>\n",
       "        "
      ],
      "text/plain": [
       "R object with classes: ('factor',) mapped to:\n",
       "[YRI, YRI, YRI, YRI, ..., STU, STU, STU, STU]"
      ]
     },
     "execution_count": 44,
     "metadata": {},
     "output_type": "execute_result"
    }
   ],
   "source": [
    "print('This data frame has %d columns and %d rows' % (seq_data.ncol, seq_data.nrow))\n",
    "print(seq_data.colnames)\n",
    "#In R:\n",
    "#  print(colnames(seq.data))\n",
    "#  print(nrow(seq.data))\n",
    "#  print(ncol(seq.data))\n",
    "\n",
    "print('Columns in Python %d ' % robjects.r.ncol(seq_data)[0])\n",
    "\n",
    "#access some functions\n",
    "as_integer = robjects.r('as.integer')\n",
    "match = robjects.r.match\n",
    "\n",
    "my_col = match('READ_COUNT', seq_data.colnames)[0] # Vector returned\n",
    "print('Type of read count before as.integer: %s' % seq_data[my_col - 1].rclass[0])\n",
    "seq_data[my_col - 1] = as_integer(seq_data[my_col - 1])\n",
    "print('Type of read count after as.integer: %s' % seq_data[my_col - 1].rclass[0])\n",
    "\n",
    "my_col = match('BASE_COUNT', seq_data.colnames)[0] # Vector returned\n",
    "seq_data[my_col - 1] = as_integer(seq_data[my_col - 1])\n",
    "\n",
    "my_col = match('CENTER_NAME', seq_data.colnames)[0]\n",
    "seq_data[my_col - 1] = robjects.r.toupper(seq_data[my_col - 1])\n",
    "robjects.r.assign('seq.data', seq_data)\n",
    "robjects.r('print(c(\"Column names in R: \",colnames(seq.data)))')\n",
    "\n",
    "robjects.r('seq.data <- seq.data[seq.data$WITHDRAWN==0, ]')\n",
    "#Lets remove all withdrawn sequences\n",
    "\n",
    "robjects.r(\"seq.data <- seq.data[, c('STUDY_ID', 'STUDY_NAME', 'CENTER_NAME', 'SAMPLE_ID', 'SAMPLE_NAME', 'POPULATION', 'INSTRUMENT_PLATFORM', 'LIBRARY_LAYOUT', 'PAIRED_FASTQ', 'READ_COUNT', 'BASE_COUNT', 'ANALYSIS_GROUP')]\")\n",
    "#Lets shorten the dataframe\n",
    "\n",
    "#Population as factor\n",
    "robjects.r('seq.data$POPULATION <- as.factor(seq.data$POPULATION)')"
   ]
  },
  {
   "cell_type": "code",
   "execution_count": 52,
   "metadata": {},
   "outputs": [
    {
     "name": "stdout",
     "output_type": "stream",
     "text": [
      "[1] 26\n",
      "\n"
     ]
    }
   ],
   "source": [
    "my_cols = robjects.r.ncol(seq_data)\n",
    "print(my_cols)"
   ]
  },
  {
   "cell_type": "code",
   "execution_count": 47,
   "metadata": {},
   "outputs": [],
   "source": [
    "import rpy2.robjects.lib.ggplot2 as ggplot2"
   ]
  },
  {
   "cell_type": "code",
   "execution_count": 48,
   "metadata": {},
   "outputs": [
    {
     "data": {
      "text/html": [
       "\n",
       "        <span>IntVector with 1 elements.</span>\n",
       "        <table>\n",
       "        <tbody>\n",
       "          <tr>\n",
       "          \n",
       "            <td>\n",
       "            1\n",
       "            </td>\n",
       "          \n",
       "          </tr>\n",
       "        </tbody>\n",
       "        </table>\n",
       "        "
      ],
      "text/plain": [
       "R object with classes: ('RTYPES.INTSXP',) mapped to:\n",
       "[1]"
      ]
     },
     "execution_count": 48,
     "metadata": {},
     "output_type": "execute_result"
    }
   ],
   "source": [
    "from rpy2.robjects.functions import SignatureTranslatedFunction\n",
    "\n",
    "ggplot2.theme = SignatureTranslatedFunction(ggplot2.theme, init_prm_translate = {'axis_text_x': 'axis.text.x'})\n",
    "\n",
    "bar = ggplot2.ggplot(seq_data) + ggplot2.geom_bar() + ggplot2.aes_string(x='CENTER_NAME') + ggplot2.theme(axis_text_x=ggplot2.element_text(angle=90, hjust=1))\n",
    "robjects.r.png('out.png', type='cairo-png')\n",
    "bar.plot()\n",
    "dev_off = robjects.r('dev.off')\n",
    "dev_off()"
   ]
  },
  {
   "cell_type": "code",
   "execution_count": 50,
   "metadata": {},
   "outputs": [
    {
     "data": {
      "image/png": "[encoded data removed]",
      "text/plain": [
       "<IPython.core.display.Image object>"
      ]
     },
     "execution_count": 50,
     "metadata": {},
     "output_type": "execute_result"
    }
   ],
   "source": [
    "Image(filename='out.png')"
   ]
  },
  {
   "cell_type": "code",
   "execution_count": 55,
   "metadata": {},
   "outputs": [],
   "source": [
    "#Get Yoruba and CEU\n",
    "robjects.r('yri_ceu <- seq.data[seq.data$POPULATION %in% c(\"YRI\", \"CEU\") & seq.data$BASE_COUNT < 2E9 & seq.data$READ_COUNT < 3E6, ]')\n",
    "yri_ceu = robjects.r('yri_ceu')"
   ]
  },
  {
   "cell_type": "code",
   "execution_count": 56,
   "metadata": {},
   "outputs": [
    {
     "data": {
      "image/png": "[encoded data removed]",
      "text/plain": [
       "<IPython.core.display.Image object>"
      ]
     },
     "execution_count": 56,
     "metadata": {},
     "output_type": "execute_result"
    }
   ],
   "source": [
    "scatter = ggplot2.ggplot(yri_ceu) + ggplot2.aes_string(x='BASE_COUNT', y='READ_COUNT', shape='factor(POPULATION)', col='factor(ANALYSIS_GROUP)') + ggplot2.geom_point()\n",
    "robjects.r.png('out.png')\n",
    "scatter.plot()\n",
    "dev_off = robjects.r('dev.off')\n",
    "dev_off()\n",
    "Image(filename='out.png')"
   ]
  },
  {
   "cell_type": "code",
   "execution_count": null,
   "metadata": {},
   "outputs": [],
   "source": []
  }
 ],
 "metadata": {
  "kernelspec": {
   "display_name": "Python 3",
   "language": "python",
   "name": "python3"
  },
  "language_info": {
   "codemirror_mode": {
    "name": "ipython",
    "version": 3
   },
   "file_extension": ".py",
   "mimetype": "text/x-python",
   "name": "python",
   "nbconvert_exporter": "python",
   "pygments_lexer": "ipython3",
   "version": "3.8.2"
  }
 },
 "nbformat": 4,
 "nbformat_minor": 4
}
