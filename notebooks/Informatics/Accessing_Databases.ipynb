{
 "cells": [
  {
   "cell_type": "code",
   "execution_count": 1,
   "metadata": {},
   "outputs": [],
   "source": [
    "from Bio import Entrez, Medline, SeqIO"
   ]
  },
  {
   "cell_type": "code",
   "execution_count": 2,
   "metadata": {},
   "outputs": [],
   "source": [
    "Entrez.email = \"mahjouri.saamahn@gmail.com\""
   ]
  },
  {
   "cell_type": "code",
   "execution_count": 3,
   "metadata": {},
   "outputs": [
    {
     "name": "stdout",
     "output_type": "stream",
     "text": [
      "{'DbList': ['pubmed', 'protein', 'nuccore', 'ipg', 'nucleotide', 'structure', 'sparcle', 'genome', 'annotinfo', 'assembly', 'bioproject', 'biosample', 'blastdbinfo', 'books', 'cdd', 'clinvar', 'gap', 'gapplus', 'grasp', 'dbvar', 'gene', 'gds', 'geoprofiles', 'homologene', 'medgen', 'mesh', 'ncbisearch', 'nlmcatalog', 'omim', 'orgtrack', 'pmc', 'popset', 'probe', 'proteinclusters', 'pcassay', 'biosystems', 'pccompound', 'pcsubstance', 'seqannot', 'snp', 'sra', 'taxonomy', 'biocollections', 'gtr']}\n"
     ]
    }
   ],
   "source": [
    "#This gives you the list of available databases\n",
    "handle = Entrez.einfo()\n",
    "rec = Entrez.read(handle)\n",
    "print(rec)"
   ]
  },
  {
   "cell_type": "code",
   "execution_count": 4,
   "metadata": {},
   "outputs": [],
   "source": [
    "handle = Entrez.esearch(db=\"nucleotide\", term='CRT[Gene Name] AND \"Plasmodium falciparum\"[Organism]')\n",
    "rec_list = Entrez.read(handle)\n",
    "\n",
    "if rec_list['RetMax'] < rec_list['Count']:\n",
    "    handle = Entrez.esearch(db=\"nucleotide\", term='CRT[Gene Name] AND \"Plasmodium falciparum\"[Organism]',\n",
    "                            retmax=rec_list['Count'])\n",
    "    rec_list = Entrez.read(handle)"
   ]
  },
  {
   "cell_type": "code",
   "execution_count": 5,
   "metadata": {},
   "outputs": [],
   "source": [
    "id_list = rec_list['IdList']\n",
    "hdl = Entrez.efetch(db='nucleotide', id=id_list, rettype='gb', retmax=rec_list['Count'])"
   ]
  },
  {
   "cell_type": "code",
   "execution_count": 6,
   "metadata": {},
   "outputs": [],
   "source": [
    "recs = list(SeqIO.parse(hdl, 'gb'))"
   ]
  },
  {
   "cell_type": "code",
   "execution_count": 7,
   "metadata": {},
   "outputs": [
    {
     "name": "stdout",
     "output_type": "stream",
     "text": [
      "MN419875\n",
      "Plasmodium falciparum isolate PA61 chloroquine resistance transporter (crt) gene, partial cds\n"
     ]
    }
   ],
   "source": [
    "for rec in recs:\n",
    "    if rec.name == 'KM288867':\n",
    "        break\n",
    "        \n",
    "print(rec.name)\n",
    "print(rec.description)"
   ]
  },
  {
   "cell_type": "code",
   "execution_count": 8,
   "metadata": {},
   "outputs": [
    {
     "name": "stdout",
     "output_type": "stream",
     "text": [
      "not processed:\n",
      "type: source\n",
      "location: [0:2471](+)\n",
      "qualifiers:\n",
      "    Key: db_xref, Value: ['taxon:5833']\n",
      "    Key: isolate, Value: ['PA61']\n",
      "    Key: mol_type, Value: ['genomic DNA']\n",
      "    Key: organism, Value: ['Plasmodium falciparum']\n",
      "    Key: strain, Value: ['Paletwa']\n",
      "\n",
      "['crt']\n",
      "not processed:\n",
      "type: mRNA\n",
      "location: join{[<0:91](+), [191:460](+), [560:733](+), [833:966](+), [1066:1138](+), [1238:1314](+), [1410:1493](+), [1593:1644](+), [1744:1801](+), [1901:1994](+), [2094:2139](+), [2239:2294](+), [2394:>2471](+)}\n",
      "qualifiers:\n",
      "    Key: gene, Value: ['crt']\n",
      "    Key: locus_tag, Value: ['PF3D7_0709000']\n",
      "    Key: product, Value: ['chloroquine resistance transporter']\n",
      "\n",
      "not processed:\n",
      "type: CDS\n",
      "location: join{[0:91](+), [191:460](+), [560:733](+), [833:966](+), [1066:1138](+), [1238:1314](+), [1410:1493](+), [1593:1644](+), [1744:1801](+), [1901:1994](+), [2094:2139](+), [2239:2294](+), [2394:2471](+)}\n",
      "qualifiers:\n",
      "    Key: codon_start, Value: ['1']\n",
      "    Key: gene, Value: ['crt']\n",
      "    Key: locus_tag, Value: ['PF3D7_0709000']\n",
      "    Key: product, Value: ['chloroquine resistance transporter']\n",
      "    Key: protein_id, Value: ['QEQ91150.1']\n",
      "    Key: translation, Value: ['MKFASKKNNQKNSSKNDERYRELDNLVQEGNGSRLGGGSCLGKCAHVFKLIFKEIKDNIFIYILSIIYLSVCVIETIFAKRTLNKIGNYSFVTSETHNFICMIMFFIVYSLFGNKKGNSKERHRSFNLQFFAISMLDACSVILAFIGLTRTTGNIQSFVLQLSIPINMFFCFLILRYRYHLYNYLGAVIIVVTIALVEMKLSFETQEENSIIFNLVLISSLIPVCFSNMTREIVFKKYKIDILRLNAMVSFFQLFTSCLILPVYTLPFLKELHLPYNEIWTNIKNGFACLFLGRNTVVENCGLGMAKLCDDCDGAWKTFALFSFFSICDNLITSYIIDKFSTMTYTIVSCIQGPATAIAYYFKFLAGDVVIEPRLLDFVTLFGYLFGSIIYRVGNIILERKKMRNEENEDSEGELTNVDSIITQ']\n",
      "\n",
      "not processed:\n",
      "type: gap\n",
      "location: [91:191](+)\n",
      "qualifiers:\n",
      "    Key: estimated_length, Value: ['unknown']\n",
      "\n",
      "not processed:\n",
      "type: gap\n",
      "location: [460:560](+)\n",
      "qualifiers:\n",
      "    Key: estimated_length, Value: ['unknown']\n",
      "\n",
      "not processed:\n",
      "type: gap\n",
      "location: [733:833](+)\n",
      "qualifiers:\n",
      "    Key: estimated_length, Value: ['unknown']\n",
      "\n",
      "not processed:\n",
      "type: gap\n",
      "location: [966:1066](+)\n",
      "qualifiers:\n",
      "    Key: estimated_length, Value: ['unknown']\n",
      "\n",
      "not processed:\n",
      "type: gap\n",
      "location: [1138:1238](+)\n",
      "qualifiers:\n",
      "    Key: estimated_length, Value: ['unknown']\n",
      "\n",
      "not processed:\n",
      "type: gap\n",
      "location: [1493:1593](+)\n",
      "qualifiers:\n",
      "    Key: estimated_length, Value: ['unknown']\n",
      "\n",
      "not processed:\n",
      "type: gap\n",
      "location: [1644:1744](+)\n",
      "qualifiers:\n",
      "    Key: estimated_length, Value: ['unknown']\n",
      "\n",
      "not processed:\n",
      "type: gap\n",
      "location: [1801:1901](+)\n",
      "qualifiers:\n",
      "    Key: estimated_length, Value: ['unknown']\n",
      "\n",
      "not processed:\n",
      "type: gap\n",
      "location: [1994:2094](+)\n",
      "qualifiers:\n",
      "    Key: estimated_length, Value: ['unknown']\n",
      "\n",
      "not processed:\n",
      "type: gap\n",
      "location: [2139:2239](+)\n",
      "qualifiers:\n",
      "    Key: estimated_length, Value: ['unknown']\n",
      "\n",
      "not processed:\n",
      "type: gap\n",
      "location: [2294:2394](+)\n",
      "qualifiers:\n",
      "    Key: estimated_length, Value: ['unknown']\n",
      "\n"
     ]
    }
   ],
   "source": [
    "for feature in rec.features:\n",
    "    if feature.type == 'gene':\n",
    "        print(feature.qualifiers['gene'])\n",
    "    elif feature.type == 'exon':\n",
    "        loc = feature.location\n",
    "        print('Exon', loc.start, loc.end, loc.strand)\n",
    "    else:\n",
    "        print('not processed:\\n%s' % feature)"
   ]
  },
  {
   "cell_type": "code",
   "execution_count": 9,
   "metadata": {},
   "outputs": [
    {
     "name": "stdout",
     "output_type": "stream",
     "text": [
      "molecule_type=DNA\n",
      "topology=linear\n",
      "data_file_division=INV\n",
      "date=25-SEP-2019\n",
      "accessions=['MN419875']\n",
      "sequence_version=1\n",
      "keywords=['']\n",
      "source=Plasmodium falciparum (malaria parasite P. falciparum)\n",
      "organism=Plasmodium falciparum\n",
      "taxonomy=['Eukaryota', 'Alveolata', 'Apicomplexa', 'Aconoidasida', 'Haemosporida', 'Plasmodiidae', 'Plasmodium', 'Plasmodium (Laverania)']\n",
      "references=[Reference(title='Genetic Variations Associated with Drug Resistance Markers in Asymptomatic Plasmodium falciparum Infections in Myanmar', ...), Reference(title='Direct Submission', ...)]\n",
      "structured_comment=OrderedDict([('Assembly-Data', OrderedDict([('Sequencing Technology', 'Sanger dideoxy sequencing')]))])\n"
     ]
    }
   ],
   "source": [
    "for name, value in rec.annotations.items():\n",
    "    print('%s=%s' % (name, value))"
   ]
  },
  {
   "cell_type": "code",
   "execution_count": 10,
   "metadata": {},
   "outputs": [
    {
     "name": "stdout",
     "output_type": "stream",
     "text": [
      "2471\n"
     ]
    }
   ],
   "source": [
    "print(len(rec.seq))"
   ]
  },
  {
   "cell_type": "code",
   "execution_count": 11,
   "metadata": {},
   "outputs": [
    {
     "name": "stdout",
     "output_type": "stream",
     "text": [
      "31505774\n",
      "PMID: 31505774\n",
      "OWN: NLM\n",
      "STAT: MEDLINE\n",
      "DCOM: 20200116\n",
      "LR: 20200116\n",
      "IS: 2073-4425 (Electronic) 2073-4425 (Linking)\n",
      "VI: 10\n",
      "IP: 9\n",
      "DP: 2019 Sep 9\n",
      "TI: Genetic Variations Associated with Drug Resistance Markers in Asymptomatic Plasmodium falciparum Infections in Myanmar.\n",
      "LID: E692 [pii] 10.3390/genes10090692 [doi]\n",
      "AB: The emergence and spread of drug resistance is a problem hindering malaria elimination in Southeast Asia. In this study, genetic variations in drug resistance markers of Plasmodium falciparum were determined in parasites from asymptomatic populations located in three geographically dispersed townships of Myanmar by PCR and sequencing. Mutations in dihydrofolate reductase (pfdhfr), dihydropteroate synthase (pfdhps), chloroquine resistance transporter (pfcrt), multidrug resistance protein 1 (pfmdr1), multidrug resistance-associated protein 1 (pfmrp1), and Kelch protein 13 (k13) were present in 92.3%, 97.6%, 84.0%, 98.8%, and 68.3% of the parasites, respectively. The pfcrt K76T, pfmdr1 N86Y, pfmdr1 I185K, and pfmrp1 I876V mutations were present in 82.7%, 2.5%, 87.5%, and 59.8% isolates, respectively. The most prevalent haplotypes for pfdhfr, pfdhps, pfcrt and pfmdr1 were 51I/59R/108N/164L, 436A/437G/540E/581A, 74I/75E/76T/220S/271E/326N/356T/371I, and 86N/130E/184Y/185K/1225V, respectively. In addition, 57 isolates had three different point mutations (K191T, F446I, and P574L) and three types of N-terminal insertions (N, NN, NNN) in the k13 gene. In total, 43 distinct haplotypes potentially associated with multidrug resistance were identified. These findings demonstrate a high prevalence of multidrug-resistant P. falciparum in asymptomatic infections from diverse townships in Myanmar, emphasizing the importance of targeting asymptomatic infections to prevent the spread of drug-resistant P. falciparum.\n",
      "FAU: ['Zhao, Yan', 'Liu, Ziling', 'Soe, Myat Thu', 'Wang, Lin', 'Soe, Than Naing', 'Wei, Huanping', 'Than, Aye', 'Aung, Pyae Linn', 'Li, Yuling', 'Zhang, Xuexing', 'Hu, Yubing', 'Wei, Haichao', 'Zhang, Yangminghui', 'Burgess, Jessica', 'Siddiqui, Faiza A', 'Menezes, Lynette', 'Wang, Qinghui', 'Kyaw, Myat Phone', 'Cao, Yaming', 'Cui, Liwang']\n",
      "AU: ['Zhao Y', 'Liu Z', 'Soe MT', 'Wang L', 'Soe TN', 'Wei H', 'Than A', 'Aung PL', 'Li Y', 'Zhang X', 'Hu Y', 'Wei H', 'Zhang Y', 'Burgess J', 'Siddiqui FA', 'Menezes L', 'Wang Q', 'Kyaw MP', 'Cao Y', 'Cui L']\n",
      "AD: ['Department of Immunology, College of Basic Medical Sciences, China Medical University, Shenyang 110122, China. yzhao90@cmu.edu.cn.', 'Department of Immunology, College of Basic Medical Sciences, China Medical University, Shenyang 110122, China. zlliu87@cmu.edu.cn.', 'Myanmar Health Network Organization, Yangon 11211, Myanmar. dr.myatthusoe@gmail.com.', 'Department of Immunology, College of Basic Medical Sciences, China Medical University, Shenyang 110122, China. lwang95@cmu.edu.cn.', 'Department of Public Health, Ministry of Health and Sports, Nay Pyi Taw 15011, Myanmar. thannaingsoe@mohs.gov.mm.', 'Department of Immunology, College of Basic Medical Sciences, China Medical University, Shenyang 110122, China. hpwei@cmu.edu.cn.', 'Myanmar Health Network Organization, Yangon 11211, Myanmar. ayethan1957@gmail.com.', 'Myanmar Health Network Organization, Yangon 11211, Myanmar. pyaelinnag@gmail.com.', 'Department of Immunology, College of Basic Medical Sciences, China Medical University, Shenyang 110122, China. ylli88@cmu.edu.cn.', 'Department of Immunology, College of Basic Medical Sciences, China Medical University, Shenyang 110122, China. zhangxuexing@cmu.edu.cn.', 'Department of Immunology, College of Basic Medical Sciences, China Medical University, Shenyang 110122, China. ybhu@cmu.edu.cn.', 'Department of Immunology, College of Basic Medical Sciences, China Medical University, Shenyang 110122, China. hcwei@cmu.edu.cn.', 'Department of Immunology, College of Basic Medical Sciences, China Medical University, Shenyang 110122, China. zymh@cmu.edu.cn.', 'Department of Internal Medicine, Morsani College of Medicine, University of South Florida, 3720 Spectrum Boulevard, Tampa, FL 33612, USA. jessicaburge@health.usf.edu.', 'Department of Internal Medicine, Morsani College of Medicine, University of South Florida, 3720 Spectrum Boulevard, Tampa, FL 33612, USA. faiza@health.usf.edu.', 'Department of Internal Medicine, Morsani College of Medicine, University of South Florida, 3720 Spectrum Boulevard, Tampa, FL 33612, USA. lmenezes@health.usf.edu.', 'Department of Immunology, College of Basic Medical Sciences, China Medical University, Shenyang 110122, China. qhwang@cmu.edu.cn.', 'Myanmar Health Network Organization, Yangon 11211, Myanmar. kyaw606@gmail.com.', 'Department of Immunology, College of Basic Medical Sciences, China Medical University, Shenyang 110122, China. ymcao@cmu.edu.cn.', 'Department of Internal Medicine, Morsani College of Medicine, University of South Florida, 3720 Spectrum Boulevard, Tampa, FL 33612, USA. lcui@health.usf.edu.']\n",
      "AUID: ['ORCID: 0000-0001-9208-929X', 'ORCID: 0000-0003-4635-3701', 'ORCID: 0000-0002-8338-1974']\n",
      "LA: ['eng']\n",
      "GR: ['U19AI089672/National Institute of Allergy and Infectious Diseases/International']\n",
      "PT: ['Journal Article', 'Research Support, N.I.H., Extramural']\n",
      "DEP: 20190909\n",
      "PL: Switzerland\n",
      "TA: Genes (Basel)\n",
      "JT: Genes\n",
      "JID: 101551097\n",
      "RN: ['0 (Antimalarials)', '0 (Multidrug Resistance-Associated Proteins)', '0 (Protozoan Proteins)', 'EC 1.5.1.3 (Tetrahydrofolate Dehydrogenase)', 'EC 2.5.1.15 (Dihydropteroate Synthase)', 'Y49M64GZ4Q (multidrug resistance-associated protein 1)']\n",
      "SB: IM\n",
      "MH: ['Antimalarials/*pharmacology', 'Dihydropteroate Synthase/genetics', '*Drug Resistance, Multiple', 'Humans', 'Malaria/epidemiology/*parasitology', 'Multidrug Resistance-Associated Proteins/genetics', 'Myanmar', 'Plasmodium falciparum/drug effects/*genetics/pathogenicity', '*Polymorphism, Genetic', 'Protozoan Proteins/genetics', 'Tetrahydrofolate Dehydrogenase/genetics']\n",
      "PMC: PMC6770986\n",
      "OTO: ['NOTNLM']\n",
      "OT: ['*Plasmodium falciparum', '*asymptomatic infection', '*drug resistance genes', '*haplotypes', '*multidrug resistance']\n",
      "EDAT: 2019/09/12 06:00\n",
      "MHDA: 2020/01/17 06:00\n",
      "CRDT: ['2019/09/12 06:00']\n",
      "PHST: ['2019/08/02 00:00 [received]', '2019/08/31 00:00 [revised]', '2019/09/04 00:00 [accepted]', '2019/09/12 06:00 [entrez]', '2019/09/12 06:00 [pubmed]', '2020/01/17 06:00 [medline]']\n",
      "AID: ['genes10090692 [pii]', '10.3390/genes10090692 [doi]']\n",
      "PST: epublish\n",
      "SO: Genes (Basel). 2019 Sep 9;10(9). pii: genes10090692. doi: 10.3390/genes10090692.\n"
     ]
    }
   ],
   "source": [
    "refs = rec.annotations['references']\n",
    "\n",
    "for ref in refs:\n",
    "    if ref.pubmed_id != '':\n",
    "        print(ref.pubmed_id)\n",
    "        handle = Entrez.efetch(db=\"pubmed\", id=[ref.pubmed_id],\n",
    "                                rettype=\"medline\", retmode=\"text\")\n",
    "        records = Medline.parse(handle)\n",
    "        for med_rec in records:\n",
    "            for k, v in med_rec.items():\n",
    "                print('%s: %s' % (k, v))"
   ]
  },
  {
   "cell_type": "code",
   "execution_count": null,
   "metadata": {},
   "outputs": [],
   "source": []
  }
 ],
 "metadata": {
  "kernelspec": {
   "display_name": "Python 3",
   "language": "python",
   "name": "python3"
  },
  "language_info": {
   "codemirror_mode": {
    "name": "ipython",
    "version": 3
   },
   "file_extension": ".py",
   "mimetype": "text/x-python",
   "name": "python",
   "nbconvert_exporter": "python",
   "pygments_lexer": "ipython3",
   "version": "3.8.2"
  }
 },
 "nbformat": 4,
 "nbformat_minor": 4
}
