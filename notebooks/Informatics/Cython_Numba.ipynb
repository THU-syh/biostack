{
 "cells": [
  {
   "cell_type": "code",
   "execution_count": 1,
   "metadata": {},
   "outputs": [
    {
     "name": "stderr",
     "output_type": "stream",
     "text": [
      "WARNING: The default download format has changed from PDB to PDBx/mmCif\n"
     ]
    },
    {
     "name": "stdout",
     "output_type": "stream",
     "text": [
      "Structure exists: './1tup.cif' \n"
     ]
    },
    {
     "name": "stderr",
     "output_type": "stream",
     "text": [
      "/home/saams4u/.local/lib/python3.8/site-packages/Bio/PDB/StructureBuilder.py:89: PDBConstructionWarning: WARNING: Chain A is discontinuous at line 6146.\n",
      "  warnings.warn(\n",
      "/home/saams4u/.local/lib/python3.8/site-packages/Bio/PDB/StructureBuilder.py:89: PDBConstructionWarning: WARNING: Chain B is discontinuous at line 6147.\n",
      "  warnings.warn(\n",
      "/home/saams4u/.local/lib/python3.8/site-packages/Bio/PDB/StructureBuilder.py:89: PDBConstructionWarning: WARNING: Chain C is discontinuous at line 6148.\n",
      "  warnings.warn(\n",
      "/home/saams4u/.local/lib/python3.8/site-packages/Bio/PDB/StructureBuilder.py:89: PDBConstructionWarning: WARNING: Chain E is discontinuous at line 6149.\n",
      "  warnings.warn(\n",
      "/home/saams4u/.local/lib/python3.8/site-packages/Bio/PDB/StructureBuilder.py:89: PDBConstructionWarning: WARNING: Chain F is discontinuous at line 6171.\n",
      "  warnings.warn(\n",
      "/home/saams4u/.local/lib/python3.8/site-packages/Bio/PDB/StructureBuilder.py:89: PDBConstructionWarning: WARNING: Chain A is discontinuous at line 6185.\n",
      "  warnings.warn(\n",
      "/home/saams4u/.local/lib/python3.8/site-packages/Bio/PDB/StructureBuilder.py:89: PDBConstructionWarning: WARNING: Chain B is discontinuous at line 6383.\n",
      "  warnings.warn(\n",
      "/home/saams4u/.local/lib/python3.8/site-packages/Bio/PDB/StructureBuilder.py:89: PDBConstructionWarning: WARNING: Chain C is discontinuous at line 6453.\n",
      "  warnings.warn(\n"
     ]
    }
   ],
   "source": [
    "import math\n",
    "\n",
    "%load_ext Cython\n",
    "\n",
    "from Bio import PDB\n",
    "\n",
    "repository = PDB.PDBList()\n",
    "parser = PDB.PDBParser()\n",
    "\n",
    "repository.retrieve_pdb_file('1TUP', pdir='.')\n",
    "p53_1tup = parser.get_structure('P 53', 'pdb1tup.ent')"
   ]
  },
  {
   "cell_type": "code",
   "execution_count": 2,
   "metadata": {},
   "outputs": [],
   "source": [
    "def get_distance(atoms):\n",
    "    atoms = list(atoms)\n",
    "    natoms = len(atoms)\n",
    "    for i in range(natoms - 1):\n",
    "        xi, yi, zi = atoms[i].coord\n",
    "        for j in range(i + 1, natoms):\n",
    "            xj, yj, zj = atoms[j].coord\n",
    "            my_dist = math.sqrt((xi - xj)**2 + (yi - yj)**2 + (zi - zj)**2)"
   ]
  },
  {
   "cell_type": "code",
   "execution_count": 5,
   "metadata": {},
   "outputs": [
    {
     "name": "stdout",
     "output_type": "stream",
     "text": [
      "CPU times: user 3min 29s, sys: 325 ms, total: 3min 30s\n",
      "Wall time: 3min 49s\n"
     ]
    }
   ],
   "source": [
    "%time get_distance(p53_1tup.get_atoms())"
   ]
  },
  {
   "cell_type": "code",
   "execution_count": 4,
   "metadata": {},
   "outputs": [],
   "source": [
    "# %%cython\n",
    "import math\n",
    "\n",
    "def get_distance_cython_0(atoms):\n",
    "    atoms = list(atoms)\n",
    "    natoms = len(atoms)\n",
    "    for i in range(natoms - 1):\n",
    "        xi, yi, zi = atoms[i].coord\n",
    "        for j in range(i + 1, natoms):\n",
    "            xj, yj, zj = atoms[j].coord\n",
    "            my_dist = math.sqrt((xi - xj)**2 + (yi - yj)**2 + (zi - zj)**2)\n",
    "            \n",
    "# %time get_distance_cython_0(p53_1tup.get_atoms())"
   ]
  },
  {
   "cell_type": "code",
   "execution_count": 5,
   "metadata": {},
   "outputs": [],
   "source": [
    "%%cython\n",
    "cimport cython\n",
    "\n",
    "from libc.math cimport sqrt, pow\n",
    "\n",
    "cdef double get_dist_cython(double xi, double yi, double zi, \n",
    "                            double xj, double yj, double zj):\n",
    "    return sqrt(pow(xi - xj, 2) + pow(yi - yj, 2) + pow(zi - zj, 2))\n",
    "\n",
    "def get_distance_cython_1(object atoms):\n",
    "    natoms = len(atoms)\n",
    "    cdef double x1, xj, yi, yj, zi, zj\n",
    "    for i in range(natoms - 1):\n",
    "        xi, yi, zi = atoms[i]\n",
    "        for j in range(i + 1, natoms):\n",
    "            xj, yj, zj = atoms[j]\n",
    "            my_dist = get_dist_cython(xi, yi, zi, xj, yj, zj)\n",
    "            \n",
    "# %timeit get_distance_cython_1([atom.coord for atom in p53_1tup.get_atoms()])"
   ]
  },
  {
   "cell_type": "code",
   "execution_count": 6,
   "metadata": {},
   "outputs": [
    {
     "name": "stderr",
     "output_type": "stream",
     "text": [
      "<ipython-input-6-f6815e8a190b>:2: NumbaDeprecationWarning: \u001b[1mAn import was requested from a module that has moved location.\n",
      "Import requested from: 'numba.decorators', please update to use 'numba.core.decorators' or pin to Numba version 0.48.0. This alias will not be present in Numba version 0.50.0.\u001b[0m\n",
      "  from numba.decorators import jit\n",
      "<ipython-input-6-f6815e8a190b>:2: NumbaDeprecationWarning: \u001b[1mAn import was requested from a module that has moved location.\n",
      "Import of 'jit' requested from: 'numba.decorators', please update to use 'numba.core.decorators' or pin to Numba version 0.48.0. This alias will not be present in Numba version 0.50.0.\u001b[0m\n",
      "  from numba.decorators import jit\n",
      "<ipython-input-2-c5a25c8472f0>:1: NumbaWarning: \u001b[1m\n",
      "Compilation is falling back to object mode WITH looplifting enabled because Function \"get_distance\" failed type inference due to: \u001b[1m\u001b[1mnon-precise type pyobject\u001b[0m\n",
      "\u001b[0m\u001b[1m[1] During: typing of argument at <ipython-input-2-c5a25c8472f0> (2)\u001b[0m\n",
      "\u001b[1m\n",
      "File \"<ipython-input-2-c5a25c8472f0>\", line 2:\u001b[0m\n",
      "\u001b[1mdef get_distance(atoms):\n",
      "\u001b[1m    atoms = list(atoms)\n",
      "\u001b[0m    \u001b[1m^\u001b[0m\u001b[0m\n",
      "\u001b[0m\n",
      "  def get_distance(atoms):\n",
      "<ipython-input-2-c5a25c8472f0>:1: NumbaWarning: \u001b[1m\n",
      "Compilation is falling back to object mode WITHOUT looplifting enabled because Function \"get_distance\" failed type inference due to: \u001b[1m\u001b[1mcannot determine Numba type of <class 'numba.core.dispatcher.LiftedLoop'>\u001b[0m\n",
      "\u001b[1m\n",
      "File \"<ipython-input-2-c5a25c8472f0>\", line 4:\u001b[0m\n",
      "\u001b[1mdef get_distance(atoms):\n",
      "    <source elided>\n",
      "    natoms = len(atoms)\n",
      "\u001b[1m    for i in range(natoms - 1):\n",
      "\u001b[0m    \u001b[1m^\u001b[0m\u001b[0m\n",
      "\u001b[0m\u001b[0m\n",
      "  def get_distance(atoms):\n",
      "/home/saams4u/.local/lib/python3.8/site-packages/numba/core/object_mode_passes.py:177: NumbaWarning: \u001b[1mFunction \"get_distance\" was compiled in object mode without forceobj=True, but has lifted loops.\n",
      "\u001b[1m\n",
      "File \"<ipython-input-2-c5a25c8472f0>\", line 2:\u001b[0m\n",
      "\u001b[1mdef get_distance(atoms):\n",
      "\u001b[1m    atoms = list(atoms)\n",
      "\u001b[0m    \u001b[1m^\u001b[0m\u001b[0m\n",
      "\u001b[0m\n",
      "  warnings.warn(errors.NumbaWarning(warn_msg,\n",
      "/home/saams4u/.local/lib/python3.8/site-packages/numba/core/object_mode_passes.py:187: NumbaDeprecationWarning: \u001b[1m\n",
      "Fall-back from the nopython compilation path to the object mode compilation path has been detected, this is deprecated behaviour.\n",
      "\n",
      "For more information visit http://numba.pydata.org/numba-doc/latest/reference/deprecation.html#deprecation-of-object-mode-fall-back-behaviour-when-using-jit\n",
      "\u001b[1m\n",
      "File \"<ipython-input-2-c5a25c8472f0>\", line 2:\u001b[0m\n",
      "\u001b[1mdef get_distance(atoms):\n",
      "\u001b[1m    atoms = list(atoms)\n",
      "\u001b[0m    \u001b[1m^\u001b[0m\u001b[0m\n",
      "\u001b[0m\n",
      "  warnings.warn(errors.NumbaDeprecationWarning(msg,\n",
      "<ipython-input-2-c5a25c8472f0>:1: NumbaWarning: \u001b[1m\n",
      "Compilation is falling back to object mode WITHOUT looplifting enabled because Function \"get_distance\" failed type inference due to: \u001b[1m\u001b[1mnon-precise type pyobject\u001b[0m\n",
      "\u001b[0m\u001b[1m[1] During: typing of argument at <ipython-input-2-c5a25c8472f0> (4)\u001b[0m\n",
      "\u001b[1m\n",
      "File \"<ipython-input-2-c5a25c8472f0>\", line 4:\u001b[0m\n",
      "\u001b[1mdef get_distance(atoms):\n",
      "    <source elided>\n",
      "    natoms = len(atoms)\n",
      "\u001b[1m    for i in range(natoms - 1):\n",
      "\u001b[0m    \u001b[1m^\u001b[0m\u001b[0m\n",
      "\u001b[0m\n",
      "  def get_distance(atoms):\n",
      "/home/saams4u/.local/lib/python3.8/site-packages/numba/core/object_mode_passes.py:177: NumbaWarning: \u001b[1mFunction \"get_distance\" was compiled in object mode without forceobj=True.\n",
      "\u001b[1m\n",
      "File \"<ipython-input-2-c5a25c8472f0>\", line 4:\u001b[0m\n",
      "\u001b[1mdef get_distance(atoms):\n",
      "    <source elided>\n",
      "    natoms = len(atoms)\n",
      "\u001b[1m    for i in range(natoms - 1):\n",
      "\u001b[0m    \u001b[1m^\u001b[0m\u001b[0m\n",
      "\u001b[0m\n",
      "  warnings.warn(errors.NumbaWarning(warn_msg,\n",
      "/home/saams4u/.local/lib/python3.8/site-packages/numba/core/object_mode_passes.py:187: NumbaDeprecationWarning: \u001b[1m\n",
      "Fall-back from the nopython compilation path to the object mode compilation path has been detected, this is deprecated behaviour.\n",
      "\n",
      "For more information visit http://numba.pydata.org/numba-doc/latest/reference/deprecation.html#deprecation-of-object-mode-fall-back-behaviour-when-using-jit\n",
      "\u001b[1m\n",
      "File \"<ipython-input-2-c5a25c8472f0>\", line 4:\u001b[0m\n",
      "\u001b[1mdef get_distance(atoms):\n",
      "    <source elided>\n",
      "    natoms = len(atoms)\n",
      "\u001b[1m    for i in range(natoms - 1):\n",
      "\u001b[0m    \u001b[1m^\u001b[0m\u001b[0m\n",
      "\u001b[0m\n",
      "  warnings.warn(errors.NumbaDeprecationWarning(msg,\n"
     ]
    },
    {
     "name": "stdout",
     "output_type": "stream",
     "text": [
      "CPU times: user 3min 49s, sys: 586 ms, total: 3min 50s\n",
      "Wall time: 4min 28s\n"
     ]
    }
   ],
   "source": [
    "from numba import float_\n",
    "from numba.decorators import jit\n",
    "\n",
    "get_distance_numba_0 = jit(get_distance)\n",
    "\n",
    "%time get_distance_numba_0(p53_1tup.get_atoms())"
   ]
  },
  {
   "cell_type": "code",
   "execution_count": 7,
   "metadata": {},
   "outputs": [
    {
     "name": "stdout",
     "output_type": "stream",
     "text": [
      "36.2 s ± 466 ms per loop (mean ± std. dev. of 7 runs, 1 loop each)\n"
     ]
    }
   ],
   "source": [
    "@jit \n",
    "def get_dist_numba(xi, yi, zi, xj, yj, zj):\n",
    "    return math.sqrt((xi - xj)**2 + (yi - yj)**2 + (zi - zj)**2)\n",
    "\n",
    "def get_distance_numba_1(atoms):\n",
    "    natoms = len(atoms)\n",
    "    for i in range(natoms - 1):\n",
    "        xi, yi, zi = atoms[i]\n",
    "        for j in range(i + 1, natoms):\n",
    "            xj, yj, zj = atoms[j]\n",
    "            my_dist = get_dist_numba(xi, yi, zi, xj, yj, zj)\n",
    "            \n",
    "%timeit get_distance_numba_1([atom.coord for atom in p53_1tup.get_atoms()])"
   ]
  },
  {
   "cell_type": "code",
   "execution_count": null,
   "metadata": {},
   "outputs": [],
   "source": []
  }
 ],
 "metadata": {
  "kernelspec": {
   "display_name": "Python 3",
   "language": "python",
   "name": "python3"
  },
  "language_info": {
   "codemirror_mode": {
    "name": "ipython",
    "version": 3
   },
   "file_extension": ".py",
   "mimetype": "text/x-python",
   "name": "python",
   "nbconvert_exporter": "python",
   "pygments_lexer": "ipython3",
   "version": "3.8.2"
  }
 },
 "nbformat": 4,
 "nbformat_minor": 4
}
