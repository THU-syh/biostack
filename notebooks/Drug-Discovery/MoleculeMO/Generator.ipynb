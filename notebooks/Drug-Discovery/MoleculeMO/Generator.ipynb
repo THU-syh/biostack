{
 "cells": [
  {
   "cell_type": "code",
   "execution_count": null,
   "metadata": {},
   "outputs": [],
   "source": [
    "import numpy as np\n",
    "import torch\n",
    "import torch.nn as nn\n",
    "import torch.nn.functional as F\n",
    "from torch.autograd import Variable\n",
    "from torch.distributions import Categorical\n",
    "import random\n",
    "import time\n",
    "\n",
    "#Set device\n",
    "USE_CUDA = torch.cuda.is_available()\n",
    "if USE_CUDA:\n",
    "    device = torch.device(\"cuda\")\n",
    "    cuda = True\n",
    "else:\n",
    "    device = torch.device(\"cpu\")\n",
    "    cuda = False\n",
    "    \n",
    "print(\"Device =\", device)\n",
    "gpus = [0]"
   ]
  },
  {
   "cell_type": "code",
   "execution_count": null,
   "metadata": {},
   "outputs": [],
   "source": [
    "def time_elapsed(start_time):\n",
    "    elapsed = time.time() - start_time\n",
    "    hours = int(elapsed/3600)\n",
    "    minutes = int(int(elapsed/60)%60)\n",
    "    seconds = int(elapsed%60)\n",
    "    \n",
    "    return hours, minutes, seconds"
   ]
  },
  {
   "cell_type": "code",
   "execution_count": null,
   "metadata": {},
   "outputs": [],
   "source": [
    "#Load SMILES data as one-hot encoding\n",
    "data = np.load(\"ohesmiles.npz\")\n",
    "data = data[\"arr_0\"]\n",
    "\n",
    "data = torch.from_numpy(data).view(np.shape(data)[0], 1, np.shape(data)[1])\n",
    "\n",
    "print(\"Dataset size: \" + str(data.size()))"
   ]
  },
  {
   "cell_type": "code",
   "execution_count": null,
   "metadata": {},
   "outputs": [],
   "source": [
    "#Load vocab dictionary as numpy object array\n",
    "vocab = np.load(\"vocab.npy\")\n",
    "print(vocab)\n",
    "print(\"Vocab encodings size: \" + str(np.shape(vocab)))"
   ]
  },
  {
   "cell_type": "code",
   "execution_count": null,
   "metadata": {},
   "outputs": [],
   "source": [
    "#Define model\n",
    "class Model(nn.Module):\n",
    "    \n",
    "    def __init__(self, input_size, hidden_size, num_layers, dropout):\n",
    "        super(Model, self).__init__()\n",
    "        \n",
    "        #Model parameters\n",
    "        self.input_size = input_size\n",
    "        self.hidden_size = hidden_size\n",
    "        self.num_layers = num_layers\n",
    "        self.dropout = dropout\n",
    "        \n",
    "        #Model layers\n",
    "        self.lstm = nn.LSTM(input_size = input_size, hidden_size = hidden_size, num_layers = num_layers, dropout = dropout)\n",
    "        self.linear = nn.Linear(hidden_size, input_size)\n",
    "        \n",
    "    #Define initial hidden and cell states\n",
    "    def init_states(self, num_layers, hidden_size):\n",
    "        hidden = [Variable(torch.zeros(num_layers, 1, hidden_size)),\n",
    "                  Variable(torch.zeros(num_layers, 1, hidden_size))]\n",
    "        \n",
    "        return hidden\n",
    "    \n",
    "    #Define forward propagation\n",
    "    def forward(self, inp, hidden):\n",
    "        output, hidden = self.lstm(inp, hidden)\n",
    "        output = self.linear(output)\n",
    "        \n",
    "        return output, hidden"
   ]
  },
  {
   "cell_type": "code",
   "execution_count": null,
   "metadata": {},
   "outputs": [],
   "source": [
    "#Initialize model and generation parameters\n",
    "input_size = np.shape(data)[2]\n",
    "hidden_size = 1024\n",
    "num_layers = 3\n",
    "dropout = .2\n",
    "learning_rate = 0.001\n",
    "seq_length = 75\n",
    "batch_size = 128\n",
    "temperature = 1\n",
    "char_to_gen = 10000\n",
    "runs = 100 #GPU can't handle generating larger amounts of characters at once, so done in a loop\n",
    "prime_string = \"G\""
   ]
  },
  {
   "cell_type": "code",
   "execution_count": null,
   "metadata": {},
   "outputs": [],
   "source": [
    "#Call and load model\n",
    "model = Model(input_size, hidden_size, num_layers, dropout)\n",
    "model.load_state_dict(torch.load(\"network.pth\"))\n",
    "\n",
    "#Run on GPU\n",
    "if cuda:\n",
    "    model = model.cuda()\n",
    "    \n",
    "model.eval();"
   ]
  },
  {
   "cell_type": "code",
   "execution_count": null,
   "metadata": {},
   "outputs": [],
   "source": [
    "def generate(prime_string, char_to_gen, temperature):\n",
    "    \n",
    "    #SMILES character string\n",
    "    mol = \"G\"\n",
    "    \n",
    "    #Get input tensor from prime string\n",
    "    prediction = torch.from_numpy(vocab[np.where(vocab == str(prime_string))[0], :][:, 2:].astype(float)).view(1,1,-1).cuda()\n",
    "    \n",
    "    hidden = model.init_states(num_layers, hidden_size)\n",
    "    if cuda:\n",
    "        hidden = (hidden[0].cuda(), hidden[1].cuda())\n",
    "    \n",
    "    for i in range(char_to_gen):\n",
    "        #Get input tensor\n",
    "        inp = prediction[i,:,:].view(1,1,-1).float()\n",
    "            \n",
    "        #Run on GPU if available\n",
    "        if cuda:\n",
    "            inp = inp.cuda()\n",
    "                \n",
    "        #Run model\n",
    "        output, hidden = model(inp, hidden)\n",
    "        \n",
    "        #Apply softmax to convert output into probabilities\n",
    "        output = F.softmax((output / temperature), dim=2)\n",
    "    \n",
    "        # Sample from the network as a multinomial distribution\n",
    "        output_dist = output.data.view(-1)\n",
    "        top_i = torch.multinomial(output_dist, 1)[0]\n",
    "        char = torch.from_numpy(vocab[top_i,2:].astype(float)).view(1,1,-1).cuda()\n",
    "\n",
    "        #Update total prediction with the new character\n",
    "        prediction = torch.cat((prediction, char), 0)\n",
    "        \n",
    "        #SMILES character predicted\n",
    "        smile = vocab[top_i,0]\n",
    "        \n",
    "        if(smile == \"\\n\"):\n",
    "            hidden = model.init_states(num_layers, hidden_size)\n",
    "            if cuda:\n",
    "                hidden = (hidden[0].cuda(), hidden[1].cuda())\n",
    "        \n",
    "        #Update character string\n",
    "        mol = mol + str(smile)\n",
    "        mol = mol.replace(\"G\", \"\")\n",
    "             \n",
    "    return prediction, mol"
   ]
  },
  {
   "cell_type": "code",
   "execution_count": null,
   "metadata": {
    "scrolled": true
   },
   "outputs": [],
   "source": [
    "start_time = time.time()\n",
    "\n",
    "for i in range(runs):\n",
    "    \n",
    "    #File to save generated molecules in\n",
    "    new = open(\"gen.txt\", \"a\")\n",
    "\n",
    "    #Generate molecules\n",
    "    prediction, mol = generate(prime_string, char_to_gen, temperature)\n",
    "\n",
    "    #Add to file of generated molecules\n",
    "    new.write(mol)\n",
    "\n",
    "    hours, minutes, seconds = time_elapsed(start_time)\n",
    "    print(\"SMILES run: \" + str(i) + \" saved.\" + \" | Time elapsed: {0:02d}\".format(hours) + \"h {0:02d}\".format(minutes) + \" m {0:02d}\".format(seconds) + \" s\")"
   ]
  },
  {
   "cell_type": "code",
   "execution_count": null,
   "metadata": {},
   "outputs": [],
   "source": []
  }
 ],
 "metadata": {
  "kernelspec": {
   "display_name": "Python 3",
   "language": "python",
   "name": "python3"
  },
  "language_info": {
   "codemirror_mode": {
    "name": "ipython",
    "version": 3
   },
   "file_extension": ".py",
   "mimetype": "text/x-python",
   "name": "python",
   "nbconvert_exporter": "python",
   "pygments_lexer": "ipython3",
   "version": "3.6.8"
  }
 },
 "nbformat": 4,
 "nbformat_minor": 2
}
