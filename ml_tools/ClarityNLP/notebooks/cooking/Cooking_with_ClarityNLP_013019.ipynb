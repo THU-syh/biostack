{
 "cells": [
  {
   "cell_type": "markdown",
   "metadata": {},
   "source": [
    "## Cooking with ClarityNLP - Session #9: ClarityNLP on FHIR"
   ]
  },
  {
   "cell_type": "markdown",
   "metadata": {},
   "source": [
    "For today's cooking session, we will be focusing on the integration of ClarityNLP with the rapidly emerging healthcare standard HL7 FHIR.  Specifically today we will be demonstrating how to combine FHIR APIs and the ClarityNLP framework using the following three components:\n",
    "\n",
    "* FHIR\n",
    "* SMART on FHIR\n",
    "* ClarityNLP as a Service\n",
    "\n",
    "For details on installing and using ClarityNLP, please see our [documentation](https://claritynlp.readthedocs.io/en/latest/index.html).  We welcome questions via Slack or on [GitHub](https://github.com/ClarityNLP/ClarityNLP/issues)."
   ]
  },
  {
   "cell_type": "markdown",
   "metadata": {},
   "source": [
    "## FHIR"
   ]
  },
  {
   "cell_type": "markdown",
   "metadata": {},
   "source": [
    "HL7's **Fast Healthcare Interoperability Resources (FHIR)** is a healthcare data communication standard based on RESTful APIs.  The evolution of FHIR, beginning in 2012, represents a significant shift in how data can be moved between health systems and opens up a massive opportunity for integrating 3rd party applications into the clinical environment.  "
   ]
  },
  {
   "cell_type": "markdown",
   "metadata": {},
   "source": [
    "![Postman.png](assets/FHIR_logo.png)"
   ]
  },
  {
   "cell_type": "code",
   "execution_count": 29,
   "metadata": {
    "scrolled": false
   },
   "outputs": [
    {
     "data": {
      "text/html": [
       "\n",
       "        <iframe\n",
       "            width=\"900\"\n",
       "            height=\"580\"\n",
       "            src=\"https://docs.google.com/presentation/d/e/2PACX-1vTWsw-vBYXVgp05_q2fd7muKV0sC5JyXOk8IyC6MegHvqwYf7N3-QExHgJpYh8yCrmZPyA82O789ESj/embed\"\n",
       "            frameborder=\"0\"\n",
       "            allowfullscreen\n",
       "        ></iframe>\n",
       "        "
      ],
      "text/plain": [
       "<IPython.lib.display.IFrame at 0x104c18ef0>"
      ]
     },
     "execution_count": 29,
     "metadata": {},
     "output_type": "execute_result"
    }
   ],
   "source": [
    "from IPython.display import IFrame\n",
    "IFrame('https://docs.google.com/presentation/d/e/2PACX-1vTWsw-vBYXVgp05_q2fd7muKV0sC5JyXOk8IyC6MegHvqwYf7N3-QExHgJpYh8yCrmZPyA82O789ESj/embed', width=900, height=580)"
   ]
  },
  {
   "cell_type": "markdown",
   "metadata": {},
   "source": [
    "*DocumentReference Resource*"
   ]
  },
  {
   "cell_type": "markdown",
   "metadata": {},
   "source": [
    "![Postman.png](assets/FHIR_DocumentReference.png)"
   ]
  },
  {
   "cell_type": "markdown",
   "metadata": {},
   "source": [
    "### Example DocumentReference Bundle"
   ]
  },
  {
   "cell_type": "markdown",
   "metadata": {},
   "source": [
    "```GET https://fhir-open.sandboxcerner.com/dstu2/0b8a0111-e8e6-4c26-a91c-5069cbc6b1ca/DocumentReference?patient=1316024&created=ge2016-01-06&created=le2016-01-07\n",
    "```"
   ]
  },
  {
   "cell_type": "markdown",
   "metadata": {},
   "source": [
    "```json\n",
    "{\n",
    "  \"resourceType\": \"Bundle\",\n",
    "  \"id\": \"1d575f95-dfd5-47b3-a842-ddddd36daec6\",\n",
    "  \"type\": \"searchset\",\n",
    "  \"total\": 4,\n",
    "  \"link\": [\n",
    "    {\n",
    "      \"relation\": \"self\",\n",
    "      \"url\": \"https://fhir-open.sandboxcerner.com/dstu2/0b8a0111-e8e6-4c26-a91c-5069cbc6b1ca/DocumentReference?patient=1316024&created=ge2016-01-06&created=le2016-01-07\"\n",
    "    }\n",
    "  ],\n",
    "  \"entry\": [\n",
    "    {\n",
    "      \"fullUrl\": \"https://fhir-open.sandboxcerner.com/dstu2/0b8a0111-e8e6-4c26-a91c-5069cbc6b1ca/DocumentReference/6589312\",\n",
    "      \"resource\": {\n",
    "        \"resourceType\": \"DocumentReference\",\n",
    "        \"id\": \"6589312\",\n",
    "        \"meta\": {\n",
    "          \"versionId\": \"6589311\",\n",
    "          \"lastUpdated\": \"2016-07-27T18:00:43.000Z\"\n",
    "        },\n",
    "        \"text\": {\n",
    "          \"status\": \"generated\",\n",
    "          \"div\": \"<div><p><b>DocumentReference</b></p><p><b>Patient Name</b>: PETERS, TIMOTHY</p><p><b>Document Type</b>: Rheumatology Consultation</p><p><b>Document Title</b>: Rheumatology Note</p><p><b>Date</b>: 2016-01-06T09:10:14.000Z</p><p><b>Status</b>: Auth (Verified)</p></div>\"\n",
    "        },\n",
    "        \"subject\": {\n",
    "          \"reference\": \"Patient/1316024\",\n",
    "          \"display\": \"PETERS, TIMOTHY\"\n",
    "        },\n",
    "        \"type\": {\n",
    "          \"coding\": [\n",
    "            {\n",
    "              \"system\": \"http://loinc.org\",\n",
    "              \"code\": \"34839-1\"\n",
    "            }\n",
    "          ],\n",
    "          \"text\": \"Rheumatology Consultation\"\n",
    "        },\n",
    "        \"authenticator\": {\n",
    "          \"reference\": \"Practitioner/2044324\"\n",
    "        },\n",
    "        \"created\": \"2016-01-06T09:10:14.000Z\",\n",
    "        \"indexed\": \"2016-01-06T09:10:14.000Z\",\n",
    "        \"status\": \"current\",\n",
    "        \"docStatus\": {\n",
    "          \"coding\": [\n",
    "            {\n",
    "              \"system\": \"http://hl7.org/fhir/composition-status\",\n",
    "              \"code\": \"final\",\n",
    "              \"display\": \"Final\"\n",
    "            }\n",
    "          ],\n",
    "          \"text\": \"Auth (Verified)\"\n",
    "        },\n",
    "        \"description\": \"Rheumatology Note\",\n",
    "        \"content\": [\n",
    "          {\n",
    "            \"attachment\": {\n",
    "              \"contentType\": \"application/pdf\",\n",
    "              \"url\": \"https://fhir-open.sandboxcerner.com/dstu2/0b8a0111-e8e6-4c26-a91c-5069cbc6b1ca/Binary/XR-6589312\"\n",
    "            }\n",
    "          }\n",
    "        ],\n",
    "        \"context\": {\n",
    "          \"encounter\": {\n",
    "            \"reference\": \"Encounter/1309918\"\n",
    "          }\n",
    "        }\n",
    "      }\n",
    "    },\n",
    "    {\n",
    "      \"fullUrl\": \"https://fhir-open.sandboxcerner.com/dstu2/0b8a0111-e8e6-4c26-a91c-5069cbc6b1ca/DocumentReference/6589307\",\n",
    "      \"resource\": {\n",
    "        \"resourceType\": \"DocumentReference\",\n",
    "        \"id\": \"6589307\",\n",
    "        \"meta\": {\n",
    "          \"versionId\": \"6589306\",\n",
    "          \"lastUpdated\": \"2016-07-27T17:38:08.000Z\"\n",
    "        },\n",
    "        \"text\": {\n",
    "          \"status\": \"generated\",\n",
    "          \"div\": \"<div><p><b>DocumentReference</b></p><p><b>Patient Name</b>: PETERS, TIMOTHY</p><p><b>Document Type</b>: Rheumatology Consultation</p><p><b>Document Title</b>: Rheumatology Note</p><p><b>Date</b>: 2016-01-06T09:10:14.000Z</p><p><b>Status</b>: Auth (Verified)</p></div>\"\n",
    "        },\n",
    "        \"subject\": {\n",
    "          \"reference\": \"Patient/1316024\",\n",
    "          \"display\": \"PETERS, TIMOTHY\"\n",
    "        },\n",
    "        \"type\": {\n",
    "          \"coding\": [\n",
    "            {\n",
    "              \"system\": \"http://loinc.org\",\n",
    "              \"code\": \"34839-1\"\n",
    "            }\n",
    "          ],\n",
    "          \"text\": \"Rheumatology Consultation\"\n",
    "        },\n",
    "        \"authenticator\": {\n",
    "          \"reference\": \"Practitioner/2044324\"\n",
    "        },\n",
    "        \"created\": \"2016-01-06T09:10:14.000Z\",\n",
    "        \"indexed\": \"2016-01-06T09:10:14.000Z\",\n",
    "        \"status\": \"current\",\n",
    "        \"docStatus\": {\n",
    "          \"coding\": [\n",
    "            {\n",
    "              \"system\": \"http://hl7.org/fhir/composition-status\",\n",
    "              \"code\": \"final\",\n",
    "              \"display\": \"Final\"\n",
    "            }\n",
    "          ],\n",
    "          \"text\": \"Auth (Verified)\"\n",
    "        },\n",
    "        \"description\": \"Rheumatology Note\",\n",
    "        \"content\": [\n",
    "          {\n",
    "            \"attachment\": {\n",
    "              \"contentType\": \"application/pdf\",\n",
    "              \"url\": \"https://fhir-open.sandboxcerner.com/dstu2/0b8a0111-e8e6-4c26-a91c-5069cbc6b1ca/Binary/XR-6589307\"\n",
    "            }\n",
    "          }\n",
    "        ],\n",
    "        \"context\": {\n",
    "          \"encounter\": {\n",
    "            \"reference\": \"Encounter/1309918\"\n",
    "          }\n",
    "        }\n",
    "      }\n",
    "    },\n",
    "    {\n",
    "      \"fullUrl\": \"https://fhir-open.sandboxcerner.com/dstu2/0b8a0111-e8e6-4c26-a91c-5069cbc6b1ca/DocumentReference/6589287\",\n",
    "      \"resource\": {\n",
    "        \"resourceType\": \"DocumentReference\",\n",
    "        \"id\": \"6589287\",\n",
    "        \"meta\": {\n",
    "          \"versionId\": \"6589286\",\n",
    "          \"lastUpdated\": \"2016-07-27T17:36:32.000Z\"\n",
    "        },\n",
    "        \"text\": {\n",
    "          \"status\": \"generated\",\n",
    "          \"div\": \"<div><p><b>DocumentReference</b></p><p><b>Patient Name</b>: PETERS, TIMOTHY</p><p><b>Document Type</b>: Rheumatology Consultation</p><p><b>Document Title</b>: Rheumatology Note</p><p><b>Date</b>: 2016-01-06T09:10:14.000Z</p><p><b>Status</b>: Auth (Verified)</p></div>\"\n",
    "        },\n",
    "        \"subject\": {\n",
    "          \"reference\": \"Patient/1316024\",\n",
    "          \"display\": \"PETERS, TIMOTHY\"\n",
    "        },\n",
    "        \"type\": {\n",
    "          \"coding\": [\n",
    "            {\n",
    "              \"system\": \"http://loinc.org\",\n",
    "              \"code\": \"34839-1\"\n",
    "            }\n",
    "          ],\n",
    "          \"text\": \"Rheumatology Consultation\"\n",
    "        },\n",
    "        \"authenticator\": {\n",
    "          \"reference\": \"Practitioner/2044324\"\n",
    "        },\n",
    "        \"created\": \"2016-01-06T09:10:14.000Z\",\n",
    "        \"indexed\": \"2016-01-06T09:10:14.000Z\",\n",
    "        \"status\": \"current\",\n",
    "        \"docStatus\": {\n",
    "          \"coding\": [\n",
    "            {\n",
    "              \"system\": \"http://hl7.org/fhir/composition-status\",\n",
    "              \"code\": \"final\",\n",
    "              \"display\": \"Final\"\n",
    "            }\n",
    "          ],\n",
    "          \"text\": \"Auth (Verified)\"\n",
    "        },\n",
    "        \"description\": \"Rheumatology Note\",\n",
    "        \"content\": [\n",
    "          {\n",
    "            \"attachment\": {\n",
    "              \"contentType\": \"application/pdf\",\n",
    "              \"url\": \"https://fhir-open.sandboxcerner.com/dstu2/0b8a0111-e8e6-4c26-a91c-5069cbc6b1ca/Binary/XR-6589287\"\n",
    "            }\n",
    "          }\n",
    "        ],\n",
    "        \"context\": {\n",
    "          \"encounter\": {\n",
    "            \"reference\": \"Encounter/1309918\"\n",
    "          }\n",
    "        }\n",
    "      }\n",
    "    },\n",
    "    {\n",
    "      \"fullUrl\": \"https://fhir-open.sandboxcerner.com/dstu2/0b8a0111-e8e6-4c26-a91c-5069cbc6b1ca/DocumentReference/6589283\",\n",
    "      \"resource\": {\n",
    "        \"resourceType\": \"DocumentReference\",\n",
    "        \"id\": \"6589283\",\n",
    "        \"meta\": {\n",
    "          \"versionId\": \"6589282\",\n",
    "          \"lastUpdated\": \"2016-07-27T17:35:23.000Z\"\n",
    "        },\n",
    "        \"text\": {\n",
    "          \"status\": \"generated\",\n",
    "          \"div\": \"<div><p><b>DocumentReference</b></p><p><b>Patient Name</b>: PETERS, TIMOTHY</p><p><b>Document Type</b>: Rheumatology Consultation</p><p><b>Document Title</b>: Rheumatology Note</p><p><b>Date</b>: 2016-01-06T09:10:14.000Z</p><p><b>Status</b>: Auth (Verified)</p></div>\"\n",
    "        },\n",
    "        \"subject\": {\n",
    "          \"reference\": \"Patient/1316024\",\n",
    "          \"display\": \"PETERS, TIMOTHY\"\n",
    "        },\n",
    "        \"type\": {\n",
    "          \"coding\": [\n",
    "            {\n",
    "              \"system\": \"http://loinc.org\",\n",
    "              \"code\": \"34839-1\"\n",
    "            }\n",
    "          ],\n",
    "          \"text\": \"Rheumatology Consultation\"\n",
    "        },\n",
    "        \"authenticator\": {\n",
    "          \"reference\": \"Practitioner/2044324\"\n",
    "        },\n",
    "        \"created\": \"2016-01-06T09:10:14.000Z\",\n",
    "        \"indexed\": \"2016-01-06T09:10:14.000Z\",\n",
    "        \"status\": \"current\",\n",
    "        \"docStatus\": {\n",
    "          \"coding\": [\n",
    "            {\n",
    "              \"system\": \"http://hl7.org/fhir/composition-status\",\n",
    "              \"code\": \"final\",\n",
    "              \"display\": \"Final\"\n",
    "            }\n",
    "          ],\n",
    "          \"text\": \"Auth (Verified)\"\n",
    "        },\n",
    "        \"description\": \"Rheumatology Note\",\n",
    "        \"content\": [\n",
    "          {\n",
    "            \"attachment\": {\n",
    "              \"contentType\": \"application/pdf\",\n",
    "              \"url\": \"https://fhir-open.sandboxcerner.com/dstu2/0b8a0111-e8e6-4c26-a91c-5069cbc6b1ca/Binary/XR-6589283\"\n",
    "            }\n",
    "          }\n",
    "        ],\n",
    "        \"context\": {\n",
    "          \"encounter\": {\n",
    "            \"reference\": \"Encounter/1309918\"\n",
    "          }\n",
    "        }\n",
    "      }\n",
    "    }\n",
    "  ]\n",
    "}\n",
    "```"
   ]
  },
  {
   "cell_type": "markdown",
   "metadata": {},
   "source": [
    "### An alternate DocumentReference example"
   ]
  },
  {
   "cell_type": "markdown",
   "metadata": {},
   "source": [
    "```GET http://gt-apps.hdap.gatech.edu/gt-fhir/fhir/DocumentReference?patient=8940```"
   ]
  },
  {
   "cell_type": "markdown",
   "metadata": {},
   "source": [
    "```json\n",
    "  \"resourceType\": \"Bundle\",\n",
    "  \"id\": \"ac601722-c382-4c1d-9cc3-098911635474\",\n",
    "  \"meta\": {\n",
    "    \"lastUpdated\": \"2019-01-30T02:33:19.120+00:00\"\n",
    "  },\n",
    "  \"type\": \"searchset\",\n",
    "  \"total\": 1,\n",
    "  \"link\": [\n",
    "    {\n",
    "      \"relation\": \"self\",\n",
    "      \"url\": \"http://gt-apps.hdap.gatech.edu/gt-fhir/fhir/DocumentReference?_pretty=true&patient=8940\"\n",
    "    }\n",
    "  ],\n",
    "  \"entry\": [\n",
    "    {\n",
    "      \"fullUrl\": \"http://gt-apps.hdap.gatech.edu/gt-fhir/fhir/DocumentReference/5\",\n",
    "      \"resource\": {\n",
    "        \"resourceType\": \"DocumentReference\",\n",
    "        \"id\": \"5\",\n",
    "        \"status\": \"current\",\n",
    "        \"type\": {\n",
    "          \"coding\": [\n",
    "            {\n",
    "              \"system\": \"http://loinc.org\",\n",
    "              \"code\": \"18842-5\",\n",
    "              \"display\": \"Discharge summary\"\n",
    "            }\n",
    "          ]\n",
    "        },\n",
    "        \"subject\": {\n",
    "          \"reference\": \"Patient/8940\",\n",
    "          \"display\": \"LANG LEBLANE\"\n",
    "        },\n",
    "        \"created\": \"2190-05-22T00:00:00+00:00\",\n",
    "        \"indexed\": \"2190-05-22T00:00:00.000+00:00\",\n",
    "        \"content\": [\n",
    "          {\n",
    "            \"attachment\": {\n",
    "              \"contentType\": \"text/plain\",\n",
    "              \"language\": \"en-US\",\n",
    "              \"data\": \"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\"\n",
    "            }\n",
    "          }\n",
    "        ]\n",
    "      }\n",
    "    }\n",
    "  ]\n",
    "}\n",
    "```"
   ]
  },
  {
   "cell_type": "markdown",
   "metadata": {},
   "source": [
    "In the above case, a Base64 encoded version of the document is included in the body of the response.  But either way, the DocumentReference provides a pointer to the documents or the actual documents so that they can be analyzed using NLP."
   ]
  },
  {
   "cell_type": "markdown",
   "metadata": {},
   "source": [
    "## SMART on FHIR"
   ]
  },
  {
   "cell_type": "markdown",
   "metadata": {},
   "source": [
    "[SMART on FHIR](https://smarthealthit.org) is an application framework for building FHIR-based applications that are seamlessly integrated into electronic medical record systems."
   ]
  },
  {
   "cell_type": "markdown",
   "metadata": {},
   "source": [
    "![Postman.png](assets/smart_on_fhir.png)"
   ]
  },
  {
   "cell_type": "markdown",
   "metadata": {},
   "source": [
    "SMART provides 1) an authentication layer to enable single sign on from EMR through to third party FHIR apps; 2) context of the patient and FHIR server in order to streamline the retrieval of FHIR data by a web application.  The big deal is that you can make an that is deals with functionality rather than getting hung up on selecting patients, configuring the FHIR server URL etc."
   ]
  },
  {
   "cell_type": "markdown",
   "metadata": {},
   "source": [
    "The SMART community also provides a nice launcher that lets you simulate EMR sytem integration."
   ]
  },
  {
   "cell_type": "markdown",
   "metadata": {},
   "source": [
    "![SMART_Launcher](assets/smart_app_launcher.png)"
   ]
  },
  {
   "cell_type": "markdown",
   "metadata": {},
   "source": [
    "![Postman.png](assets/simulated_ehr.png)"
   ]
  },
  {
   "cell_type": "code",
   "execution_count": 27,
   "metadata": {},
   "outputs": [
    {
     "name": "stdout",
     "output_type": "stream",
     "text": [
      "/bin/sh: -c: line 0: syntax error near unexpected token `('\r\n",
      "/bin/sh: -c: line 0: `[SMART Architecture](assets/smart_flow.png)'\r\n"
     ]
    }
   ],
   "source": [
    "![SMART Architecture](assets/smart_flow.png)"
   ]
  },
  {
   "cell_type": "markdown",
   "metadata": {},
   "source": [
    "\n",
    "**NOTE:**  FHIR applications are are generally focused on individual patients.  This is due to the performance limitations of FHIR servers for bullk querying. Thus, FHIR apps are great for analyzing a particular patient, extracting data, delivering decision support, etc.  But they are not ideally suited for population level analytics.  For population-level analysis, the traditional ClarityNLP engine should be used. We will should examples of this distinction momentarily."
   ]
  },
  {
   "cell_type": "markdown",
   "metadata": {},
   "source": [
    "### NLP as a Service"
   ]
  },
  {
   "cell_type": "markdown",
   "metadata": {},
   "source": [
    "The last piece of the puzzle in order to build a FHIR-based NLP application is the NLP engine itself.  Here we use the ClarityNLP service (of course!).  But you could also build a FHIR-based application using other text analytics APIs such as those from Amazon, Google, IBM, Microsoft, etc. The main thing is that you need a mechanism to take the patient documents you are pulling via FHIR and running an analysis that is relevant to the user.\n",
    "\n",
    "*Clarity's NLPaaS* was designed to support use cases where a small number of documents need to be analyzed but without requiring the overhead of a full ClarityNLP installation.  When running a local instance of ClarityNLP, you can upload thousands or millions of documents and process queries across large populations.  You can run multiple jobs and build upon previous analyses. Most importantly, you pass in the NLPQL which defines the query logic of each job.  Below is an example of a traditional ClarityNLP POST."
   ]
  },
  {
   "cell_type": "markdown",
   "metadata": {},
   "source": [
    "![temp](assets/nlpql_temperature_post.png)"
   ]
  },
  {
   "cell_type": "markdown",
   "metadata": {},
   "source": [
    "In the above example, a document set has been specified (Nursing notes) as well as a set of target terms referencing temperature.  They are combined in a ValueExtraction process along with some additional parameter to define the min and max values to search for.  Finally, the query specifies to return only those patients with a temp > 100.4.  \n",
    "\n",
    "The results in the ClarityNLP UI look like this:"
   ]
  },
  {
   "cell_type": "markdown",
   "metadata": {},
   "source": [
    "![results](assets/matching_patients.png)"
   ]
  },
  {
   "cell_type": "markdown",
   "metadata": {},
   "source": [
    "![results](assets/high_temp.png)"
   ]
  },
  {
   "cell_type": "markdown",
   "metadata": {},
   "source": [
    "In contrast with the above, NLPaaS is conceptually \"stateless\" in that no documents are stored on the system or uploaded to a large database in advance.  Rather, you POST the documents you wish to analyze and they are synchronously processed and results are returned.  Furthermore, you do not need to create your own NLPQL, but rather simply send your documents to an endpoint that specifies the analysis of interest.  For example, a temperature extraction endpoint is provided on the NLPaaS server.  See the example below for how this would be used:"
   ]
  },
  {
   "cell_type": "markdown",
   "metadata": {},
   "source": [
    "![Postman.png](assets/temp_nlpaas.png)"
   ]
  },
  {
   "cell_type": "markdown",
   "metadata": {},
   "source": [
    "The above service performs the same analysis as the previous NLPQL, but instead of searching through Nursing notes in the database, it looks only at those documents provided in the POST."
   ]
  },
  {
   "cell_type": "markdown",
   "metadata": {},
   "source": [
    "So a clear difference is that Clarity's NLPaaS involves passing *dynamic documents* to *static NLPQL* endpoints, whereas regular ClarityNLP involves passing *dynamic NLPQL* to *static documents*.  \n",
    "\n",
    "So how do we add we add new functionality to NLPaaS?  Simply create a new NLPQL and add to the [repo](https://github.com/ClarityNLP/ClarityNLPaaS/tree/master/nlpql)."
   ]
  },
  {
   "cell_type": "markdown",
   "metadata": {},
   "source": [
    "## Putting in All Together to Create ClarityNLP on FHIR"
   ]
  },
  {
   "cell_type": "markdown",
   "metadata": {},
   "source": [
    "Let's [Launch the Application](https://smartlauncher.apps.hdap.gatech.edu/ehr.html?app=https%3A%2F%2Fnlp.hdap.gatech.edu%2Ffhirclient%2F%3Flaunch%3DeyJhIjoiMSIsImYiOiIxIn0%26iss%3Dhttps%253A%252F%252Fsmartlauncher.apps.hdap.gatech.edu%252Fv%252Fr3%252Ffhir&user=) and see how it all works!\n",
    "\n",
    "We can compare this with an [identical analysis](http://18.220.133.76:8200/?job=314) done at the population level."
   ]
  },
  {
   "cell_type": "markdown",
   "metadata": {},
   "source": [
    "![NLPQL_Runner.png](assets/ClarityFHIR_EF.png)"
   ]
  }
 ],
 "metadata": {
  "kernelspec": {
   "display_name": "Python 3",
   "language": "python",
   "name": "python3"
  },
  "language_info": {
   "codemirror_mode": {
    "name": "ipython",
    "version": 3
   },
   "file_extension": ".py",
   "mimetype": "text/x-python",
   "name": "python",
   "nbconvert_exporter": "python",
   "pygments_lexer": "ipython3",
   "version": "3.6.3"
  }
 },
 "nbformat": 4,
 "nbformat_minor": 2
}
